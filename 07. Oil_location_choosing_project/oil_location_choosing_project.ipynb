{
 "cells": [
  {
   "cell_type": "markdown",
   "id": "4ebb0ddb",
   "metadata": {
    "toc": true
   },
   "source": [
    "<h1>Содержание<span class=\"tocSkip\"></span></h1>\n",
    "<div class=\"toc\"><ul class=\"toc-item\"><li><span><a href=\"#Первичный-анализ-данных\" data-toc-modified-id=\"Первичный-анализ-данных-1\"><span class=\"toc-item-num\">1&nbsp;&nbsp;</span>Первичный анализ данных</a></span></li><li><span><a href=\"#Моделирование\" data-toc-modified-id=\"Моделирование-2\"><span class=\"toc-item-num\">2&nbsp;&nbsp;</span>Моделирование</a></span></li><li><span><a href=\"#Подготовка-к-расчёту-прибыли\" data-toc-modified-id=\"Подготовка-к-расчёту-прибыли-3\"><span class=\"toc-item-num\">3&nbsp;&nbsp;</span>Подготовка к расчёту прибыли</a></span></li><li><span><a href=\"#Расчёт-прибыли-и-рисков\" data-toc-modified-id=\"Расчёт-прибыли-и-рисков-4\"><span class=\"toc-item-num\">4&nbsp;&nbsp;</span>Расчёт прибыли и рисков</a></span><ul class=\"toc-item\"><li><span><a href=\"#Расчет-прибыли\" data-toc-modified-id=\"Расчет-прибыли-4.1\"><span class=\"toc-item-num\">4.1&nbsp;&nbsp;</span>Расчет прибыли</a></span></li><li><span><a href=\"#Расчет-прибыли-и-рисков-техникой-Bootstrap\" data-toc-modified-id=\"Расчет-прибыли-и-рисков-техникой-Bootstrap-4.2\"><span class=\"toc-item-num\">4.2&nbsp;&nbsp;</span>Расчет прибыли и рисков техникой Bootstrap</a></span></li></ul></li><li><span><a href=\"#Общий-вывод\" data-toc-modified-id=\"Общий-вывод-5\"><span class=\"toc-item-num\">5&nbsp;&nbsp;</span>Общий вывод</a></span></li></ul></div>"
   ]
  },
  {
   "cell_type": "markdown",
   "id": "ca654133",
   "metadata": {},
   "source": [
    "# Проект: «Выбор локации для скважины»"
   ]
  },
  {
   "cell_type": "markdown",
   "id": "81b2a5fa",
   "metadata": {},
   "source": [
    "Нефтедобывающей компании необходимо определить место бурения новой скважины. В нашем распоряжении пробы нефти в трёх регионах. Характеристики для каждой скважины в регионе уже известны. Необходимо построить модель для определения региона, где добыча принесёт наибольшую прибыль."
   ]
  },
  {
   "cell_type": "markdown",
   "id": "1b274ec8",
   "metadata": {},
   "source": [
    "**Стандартные шаги для выбора локации:**\n",
    "\n",
    "1. В избранном регионе собирают характеристики скважин: качество нефти и объём её запасов.\n",
    "2. Строят модель для предсказания объёма запасов в новых скважинах.\n",
    "3. Выбирают скважины с самыми высокими оценками значений.\n",
    "4. Определяют регион с максимальной суммарной прибылью отобранных скважин."
   ]
  },
  {
   "cell_type": "markdown",
   "id": "59b48f77",
   "metadata": {},
   "source": [
    "**Условия задачи:**\n",
    "- Для обучения модели подходит только линейная регрессия (остальные — недостаточно предсказуемые).\n",
    "- При разведке региона исследуют 500 точек, из которых с помощью машинного обучения выбирают 200 лучших для разработки.\n",
    "- Бюджет на разработку скважин в регионе — 10 млрд рублей.\n",
    "- При нынешних ценах один баррель сырья приносит 450 рублей дохода. Доход с каждой единицы продукта составляет 450 тыс. рублей, поскольку объём указан в тысячах баррелей.\n",
    "\n",
    "**Цели:**\n",
    "- Построить модель машинного обучения, с целью определения наиболее прибыльного региона.\n",
    "- Проанализировать возможную прибыль и провести оценку рисков с использованием техники *Bootstrap*.\n",
    "- Оставить регионы, в которых вероятность убытков меньше 2.5%. \n",
    "- Выбрать регион с наибольшей средней прибылью."
   ]
  },
  {
   "cell_type": "markdown",
   "id": "ec24bdd9",
   "metadata": {},
   "source": [
    "**Описаниме данных:**\n",
    "- `id` — уникальный идентификатор скважины;\n",
    "- `f0`, `f1`, `f2` — три признака точек (неважно, что они означают, но сами признаки значимы);\n",
    "- `product` — объём запасов в скважине (тыс. баррелей)."
   ]
  },
  {
   "cell_type": "markdown",
   "id": "73f4fc5a",
   "metadata": {},
   "source": [
    "## Первичный анализ данных"
   ]
  },
  {
   "cell_type": "code",
   "execution_count": 1,
   "id": "816c247a",
   "metadata": {},
   "outputs": [],
   "source": [
    "import pandas as pd\n",
    "import numpy as np\n",
    "from math import ceil\n",
    "from ipywidgets import widgets, Layout\n",
    "from IPython import display\n",
    "\n",
    "from sklearn.model_selection import train_test_split\n",
    "from sklearn.linear_model import LinearRegression\n",
    "from sklearn.metrics import mean_squared_error, r2_score\n",
    "\n",
    "import matplotlib.pyplot as plt\n",
    "import seaborn as sns\n",
    "\n",
    "%matplotlib inline\n",
    "sns.set_style(\"darkgrid\")\n",
    "random_seed = 17\n",
    "pd.options.display.float_format = '{:.2f}'.format"
   ]
  },
  {
   "cell_type": "code",
   "execution_count": 2,
   "id": "e0995da0",
   "metadata": {},
   "outputs": [],
   "source": [
    "try:\n",
    "    df_1 = pd.read_csv('geo_data_0.csv')\n",
    "    df_2 = pd.read_csv('geo_data_1.csv')\n",
    "    df_3 = pd.read_csv('geo_data_2.csv')\n",
    "    \n",
    "except FileNotFoundError:\n",
    "    df_1 = pd.read_csv('/datasets/geo_data_0.csv')\n",
    "    df_2 = pd.read_csv('/datasets/geo_data_1.csv')\n",
    "    df_3 = pd.read_csv('/datasets/geo_data_2.csv')"
   ]
  },
  {
   "cell_type": "code",
   "execution_count": 3,
   "id": "7d8f9bc4",
   "metadata": {},
   "outputs": [
    {
     "data": {
      "application/vnd.jupyter.widget-view+json": {
       "model_id": "d09fcb4210da441788b15876601f9bcc",
       "version_major": 2,
       "version_minor": 0
      },
      "text/plain": [
       "HBox(children=(Output(), Output(), Output()))"
      ]
     },
     "metadata": {},
     "output_type": "display_data"
    }
   ],
   "source": [
    "widget1 = widgets.Output()\n",
    "widget2 = widgets.Output()\n",
    "widget3 = widgets.Output()\n",
    "\n",
    "with widget1:\n",
    "    display.display(df_1.head(10).style.set_caption('First dataframe'))\n",
    "    df_1.info(memory_usage='deep')\n",
    "with widget2:\n",
    "    display.display(df_2.head(10).style.set_caption('Second dataframe'))\n",
    "    df_2.info(memory_usage='deep')\n",
    "with widget3:\n",
    "    display.display(df_3.head(10).style.set_caption('Third dataframe'))\n",
    "    df_3.info(memory_usage='deep')\n",
    "\n",
    "hbox = widgets.HBox([widget1, widget2, widget3])\n",
    "\n",
    "hbox"
   ]
  },
  {
   "cell_type": "code",
   "execution_count": 4,
   "id": "00245825",
   "metadata": {},
   "outputs": [
    {
     "name": "stdout",
     "output_type": "stream",
     "text": [
      "Число дубликатов в датафрейме 1: 0\n",
      "Число дубликатов в датафрейме 2: 0\n",
      "Число дубликатов в датафрейме 3: 0\n"
     ]
    }
   ],
   "source": [
    "for i, df in enumerate([df_1, df_2, df_3]):\n",
    "    print(f'Число дубликатов в датафрейме {i+1}: {df.duplicated().sum()}')"
   ]
  },
  {
   "cell_type": "code",
   "execution_count": 5,
   "id": "05ad5c2d",
   "metadata": {},
   "outputs": [
    {
     "data": {
      "application/vnd.jupyter.widget-view+json": {
       "model_id": "699370eab56f43b89752bdffbca25a8d",
       "version_major": 2,
       "version_minor": 0
      },
      "text/plain": [
       "HBox(children=(Output(), Output(), Output()))"
      ]
     },
     "metadata": {},
     "output_type": "display_data"
    }
   ],
   "source": [
    "widget1 = widgets.Output()\n",
    "widget2 = widgets.Output()\n",
    "widget3 = widgets.Output()\n",
    "\n",
    "with widget1:\n",
    "    display.display(df_1.describe().style.set_caption('First dataframe'))\n",
    "with widget2:\n",
    "    display.display(df_2.describe().style.set_caption('Second dataframe'))\n",
    "with widget3:\n",
    "    display.display(df_3.describe().style.set_caption('Third dataframe'))\n",
    "\n",
    "hbox = widgets.HBox([widget1, widget2, widget3])\n",
    "\n",
    "hbox"
   ]
  },
  {
   "cell_type": "code",
   "execution_count": 6,
   "id": "dd392427",
   "metadata": {
    "scrolled": true
   },
   "outputs": [
    {
     "data": {
      "image/png": "[encoded data removed]",
      "text/plain": [
       "<Figure size 1080x1080 with 3 Axes>"
      ]
     },
     "metadata": {},
     "output_type": "display_data"
    }
   ],
   "source": [
    "fig, axes = plt.subplots(nrows=1, ncols=3, figsize=(15, 15))\n",
    "\n",
    "ax = sns.heatmap(df_1.corr(), \n",
    "            cmap='coolwarm', linewidths=1, linecolor='black', square=True,\n",
    "            annot=True, fmt='.2f', annot_kws={'size':12}, ax=axes[0], cbar=False);\n",
    "\n",
    "ax = sns.heatmap(df_2.corr(), \n",
    "            cmap='coolwarm', linewidths=1, linecolor='black', square=True,\n",
    "            annot=True, fmt='.2f', annot_kws={'size':12}, ax=axes[1], cbar=False);\n",
    "\n",
    "ax = sns.heatmap(df_3.corr(), \n",
    "            cmap='coolwarm', linewidths=1, linecolor='black', square=True,\n",
    "            annot=True, fmt='.2f', annot_kws={'size':12}, ax=axes[2], cbar=False);"
   ]
  },
  {
   "cell_type": "markdown",
   "id": "2cc69028",
   "metadata": {},
   "source": [
    "**Выводы:**\n",
    "\n",
    "1. Пространство признаков состоит из *3* числовых признаков.\n",
    "2. Исходные таблицы не содержат пропущенных и повторяющихся значений.\n",
    "3. Опираясь на описательнаю статистику количественных признаков обнаружено присутствие экстремальных значений, однако не имея представления о значении признаков сложно оценить адекватность распределения и выбросов.\n",
    "4. Целевой признак `product` не содержит отрицательных значений.\n",
    "5. Значения признаков лежат в одном числовом диапазоне, таким образом в масштабировании данных нет необходимости.\n",
    "6. Мультиколлинеарность между независимыми признаками не обнаружена. Однако стоит отметить следующее:\n",
    "    - `df_1` — коэффициент корреляции между признаками `f0` и `f1` *-0.44*;\n",
    "    - `df_1` — коэффициент корреляции между признаком `f2` и целевым признаком `product` *0.48*;\n",
    "    - `df_2` — коэффициент корреляции между признаком `f2` и целевым признаком `product` *1*;\n",
    "    - `df_3` — коэффициент корреляции между признаком `f2` и целевым признаком `product` *0.45*."
   ]
  },
  {
   "cell_type": "markdown",
   "id": "d4fea483",
   "metadata": {},
   "source": [
    "## Моделирование"
   ]
  },
  {
   "cell_type": "markdown",
   "id": "a0c86461",
   "metadata": {},
   "source": [
    "**Необходимо** обучить и проверить модель линейной регрессии для каждого региона."
   ]
  },
  {
   "cell_type": "code",
   "execution_count": 7,
   "id": "4af8de72",
   "metadata": {},
   "outputs": [],
   "source": [
    "def modeling(df):\n",
    "    \n",
    "    features = df[['f0', 'f1', 'f2']]\n",
    "    target = df['product']\n",
    "    features_train, features_test, target_train, target_test = train_test_split(features, target, \n",
    "                                                                                test_size = 0.25, random_state=random_seed)\n",
    "    print(f'Размер обучающей выборки: {features_train.shape[0]}')\n",
    "    print(f'Размер тестовой выборки: {features_test.shape[0]}')\n",
    "    \n",
    "    model = LinearRegression()\n",
    "    model.fit(features_train, target_train)\n",
    "    predictions = model.predict(features_test)\n",
    "\n",
    "    return target_test, pd.Series(predictions)"
   ]
  },
  {
   "cell_type": "code",
   "execution_count": 8,
   "id": "650fe3dd",
   "metadata": {},
   "outputs": [],
   "source": [
    "def score(target, predictions):\n",
    "    \n",
    "    rmse = mean_squared_error(target, predictions)**.5\n",
    "    r2 = r2_score(target, predictions)\n",
    "    print(f'Запас предсказанного сырья: {round(predictions.mean(), 4)}')\n",
    "    print(f'RMSE: {round(rmse, 4)}')\n",
    "    print(f'R2-score: {round(r2, 4)}')"
   ]
  },
  {
   "cell_type": "code",
   "execution_count": 9,
   "id": "37012a05",
   "metadata": {},
   "outputs": [
    {
     "name": "stdout",
     "output_type": "stream",
     "text": [
      "Размер обучающей выборки: 75000\n",
      "Размер тестовой выборки: 25000\n",
      "Запас предсказанного сырья: 92.3906\n",
      "RMSE: 37.786\n",
      "R2-score: 0.273\n"
     ]
    }
   ],
   "source": [
    "target_1, predictions_1 = modeling(df_1)\n",
    "score(target_1, predictions_1)"
   ]
  },
  {
   "cell_type": "code",
   "execution_count": 10,
   "id": "d498c2b4",
   "metadata": {},
   "outputs": [
    {
     "name": "stdout",
     "output_type": "stream",
     "text": [
      "Размер обучающей выборки: 75000\n",
      "Размер тестовой выборки: 25000\n",
      "Запас предсказанного сырья: 68.8194\n",
      "RMSE: 0.8868\n",
      "R2-score: 0.9996\n"
     ]
    }
   ],
   "source": [
    "target_2, predictions_2 = modeling(df_2)\n",
    "score(target_2, predictions_2)"
   ]
  },
  {
   "cell_type": "code",
   "execution_count": 11,
   "id": "0a04b16f",
   "metadata": {},
   "outputs": [
    {
     "name": "stdout",
     "output_type": "stream",
     "text": [
      "Размер обучающей выборки: 75000\n",
      "Размер тестовой выборки: 25000\n",
      "Запас предсказанного сырья: 95.0858\n",
      "RMSE: 40.143\n",
      "R2-score: 0.1978\n"
     ]
    }
   ],
   "source": [
    "target_3, predictions_3 = modeling(df_3)\n",
    "score(target_3, predictions_3)"
   ]
  },
  {
   "cell_type": "markdown",
   "id": "3b53c37c",
   "metadata": {},
   "source": [
    "**Выводы:**\n",
    "\n",
    "- Запасы предсказанного сырья по регионам 1, 2 и 3, *92.39*, *68.82* и *95.09 тыс. баррелей*, соответственно. Полученные моделированием данные соответствуют средним значениям запасов сырья всех скважин в разрезе каждого региона.\n",
    "- *RMSE* и *R2-score* моделей обученных на характеристиках скважин регионов 1, 2 и 3 следующие: *37.79 тыс. баррелей* и *0.273*, *0.887 тыс. баррелей* и *0.9996*, *40.14 тыс. баррелей* и *0.198*.\n",
    "- Таким образом линейная модель регрессии, обученная на признаках, отражающих характеристики скважин во втором регионе, обладает наибольшей точностью, что является следствием сильной корреляции признака `f2`и целевой переменной."
   ]
  },
  {
   "cell_type": "markdown",
   "id": "8885d6bf",
   "metadata": {},
   "source": [
    "## Подготовка к расчёту прибыли"
   ]
  },
  {
   "cell_type": "markdown",
   "id": "e9978d0d",
   "metadata": {},
   "source": [
    "**Необходимо:** \n",
    "1. Рассчитать достаточный объём сырья для безубыточной разработки новой скважины. \n",
    "2. Сравнить полученный объём сырья со средним запасом в каждом регионе."
   ]
  },
  {
   "cell_type": "markdown",
   "id": "ce7ca914",
   "metadata": {},
   "source": [
    "- бюджет на разработку скважин в регионе — 10 млрд рублей;\n",
    "- количество потенциальных скважин на разработку — 200;\n",
    "- цена одного барреля нефти 450 рублей — таким образом с каждой единицы продукта доход составляет 450 тыс. рублей."
   ]
  },
  {
   "cell_type": "code",
   "execution_count": 12,
   "id": "410f7acf",
   "metadata": {},
   "outputs": [
    {
     "name": "stdout",
     "output_type": "stream",
     "text": [
      "Минимальный необходимый объём сырья с одной скважины для безубыточной разработки: 112 тыс. баррелей\n"
     ]
    }
   ],
   "source": [
    "BUDGET = 1e10\n",
    "PRICE = 450e3\n",
    "POINTS = 200\n",
    "result = ceil((BUDGET/POINTS)/PRICE)\n",
    "print(f'Минимальный необходимый объём сырья с одной скважины для безубыточной разработки: {result} тыс. баррелей')"
   ]
  },
  {
   "cell_type": "code",
   "execution_count": 13,
   "id": "d25343b1",
   "metadata": {},
   "outputs": [
    {
     "name": "stdout",
     "output_type": "stream",
     "text": [
      "Средний объем сырья в регионе 1 равен 92, что меньше  минимального необходимого объёма\n",
      "Средний объем сырья в регионе 2 равен 68, что меньше  минимального необходимого объёма\n",
      "Средний объем сырья в регионе 3 равен 95, что меньше  минимального необходимого объёма\n"
     ]
    }
   ],
   "source": [
    "for i, df in enumerate([df_1, df_2, df_3]):\n",
    "    if df['product'].mean() >= result:\n",
    "        print(f\"Средний объем сырья в регионе {i+1} равен {int(df['product'].mean())}, что больше  минимального необходимого объёма\")\n",
    "    else:\n",
    "        print(f\"Средний объем сырья в регионе {i+1} равен {int(df['product'].mean())}, что меньше  минимального необходимого объёма\")"
   ]
  },
  {
   "cell_type": "markdown",
   "id": "d084ee4d",
   "metadata": {},
   "source": [
    "**Выводы:**\n",
    "1. Минимальный объём сырья для безубыточной разработки составляет *112 тыс. баррелей*.\n",
    "2. Среднего объема сырья по всем скважинам в разрезе каждого региона недостаточно для безубыточной разработки новых скважин."
   ]
  },
  {
   "cell_type": "markdown",
   "id": "064680ef",
   "metadata": {},
   "source": [
    "## Расчёт прибыли и рисков"
   ]
  },
  {
   "cell_type": "markdown",
   "id": "ef6ac420",
   "metadata": {},
   "source": [
    "### Расчет прибыли"
   ]
  },
  {
   "cell_type": "markdown",
   "id": "4923f247",
   "metadata": {},
   "source": [
    "**Необходимо:**\n",
    "1. Выбрать скважины с максимальными значениями предсказаний.\n",
    "2. Просуммировать целевое значение объёма сырья, соответствующее этим предсказаниям.\n",
    "3. Рассчитать прибыль для полученного объёма сырья."
   ]
  },
  {
   "cell_type": "code",
   "execution_count": 14,
   "id": "56509b1e",
   "metadata": {},
   "outputs": [],
   "source": [
    "def profit(target, predictions):\n",
    "    predictions = predictions.reset_index(drop=True).sort_values(ascending=False)[:POINTS]\n",
    "    target = target.reset_index(drop=True).loc[predictions.index]\n",
    "    print(f'Средний объем сырья 200 выбраных скважин: {round(target.mean(), 2)} тыс. баррелей')\n",
    "    print(f'Суммарный объем сырья 200 выбраных скважин: {round(target.sum(), 2)} тыс. баррелей')\n",
    "    print(f'Потенциальная прибыль: {round((target.sum()*PRICE-BUDGET)/1e9, 2)} млрд. руб.')"
   ]
  },
  {
   "cell_type": "code",
   "execution_count": 15,
   "id": "7b01f451",
   "metadata": {},
   "outputs": [
    {
     "name": "stdout",
     "output_type": "stream",
     "text": [
      "Регион 1\n",
      "______________________________________________________________________\n",
      "\n",
      "Средний объем сырья 200 выбраных скважин: 147.23 тыс. баррелей\n",
      "Суммарный объем сырья 200 выбраных скважин: 29446.29 тыс. баррелей\n",
      "Потенциальная прибыль: 3.25 млрд. руб.\n"
     ]
    }
   ],
   "source": [
    "print('Регион 1')\n",
    "print('_'*70, end='\\n\\n')\n",
    "profit(target_1, predictions_1)"
   ]
  },
  {
   "cell_type": "code",
   "execution_count": 16,
   "id": "768a16be",
   "metadata": {},
   "outputs": [
    {
     "name": "stdout",
     "output_type": "stream",
     "text": [
      "Регион 2\n",
      "______________________________________________________________________\n",
      "\n",
      "Средний объем сырья 200 выбраных скважин: 137.95 тыс. баррелей\n",
      "Суммарный объем сырья 200 выбраных скважин: 27589.08 тыс. баррелей\n",
      "Потенциальная прибыль: 2.42 млрд. руб.\n"
     ]
    }
   ],
   "source": [
    "print('Регион 2')\n",
    "print('_'*70, end='\\n\\n')\n",
    "profit(target_2, predictions_2)"
   ]
  },
  {
   "cell_type": "code",
   "execution_count": 17,
   "id": "a6308b61",
   "metadata": {},
   "outputs": [
    {
     "name": "stdout",
     "output_type": "stream",
     "text": [
      "Регион 3\n",
      "______________________________________________________________________\n",
      "\n",
      "Средний объем сырья 200 выбраных скважин: 136.67 тыс. баррелей\n",
      "Суммарный объем сырья 200 выбраных скважин: 27334.65 тыс. баррелей\n",
      "Потенциальная прибыль: 2.3 млрд. руб.\n"
     ]
    }
   ],
   "source": [
    "print('Регион 3')\n",
    "print('_'*70, end='\\n\\n')\n",
    "profit(target_3, predictions_3)"
   ]
  },
  {
   "cell_type": "markdown",
   "id": "bf7364b5",
   "metadata": {},
   "source": [
    "### Расчет прибыли и рисков техникой Bootstrap"
   ]
  },
  {
   "cell_type": "markdown",
   "id": "5268af69",
   "metadata": {},
   "source": [
    "**Необходимо:**\n",
    "1. Применить технику Bootstrap с 1000 выборок, с целью смоделировать распределение выборочных средних прибыли.\n",
    "2. Найти среднюю прибыль, 95%-й доверительный интервал и риск убытков."
   ]
  },
  {
   "cell_type": "code",
   "execution_count": 18,
   "id": "10ccaee4",
   "metadata": {},
   "outputs": [],
   "source": [
    "def profit_boot(target, predictions):\n",
    "    \n",
    "    predictions = predictions.reset_index(drop=True).sort_values(ascending=False)[:POINTS]\n",
    "    target = target.reset_index(drop=True).loc[predictions.index]\n",
    "    return (target.sum() * PRICE - BUDGET)/1e9\n",
    "            \n",
    "def bootstrap(target, predictions):\n",
    "    \n",
    "    state = np.random.RandomState(random_seed)\n",
    "    \n",
    "    bootstrap_samples = 1000\n",
    "    values = []\n",
    "    \n",
    "    for _ in range(bootstrap_samples):\n",
    "        \n",
    "        target_subsample = target.reset_index(drop=True).sample(n=500, replace=True, random_state=state)\n",
    "        predictions_subsample = predictions.loc[target_subsample.index]\n",
    "        \n",
    "        result = profit_boot(target_subsample, predictions_subsample)\n",
    "        values.append(result)\n",
    "    \n",
    "    values = pd.Series(values)\n",
    "    \n",
    "    print(f'Средняя прогнозируемая прибыль: {round(values.mean(), 2)} млрд. руб.')\n",
    "    print(f'Доверительный интервал: {round(values.quantile(0.025), 2)} — {round(values.quantile(0.975), 2)} млрд. руб.')\n",
    "    print(f'Риск убытков: {round((values < 0).mean()*100, 2)}%')"
   ]
  },
  {
   "cell_type": "code",
   "execution_count": 19,
   "id": "ebe87a2f",
   "metadata": {},
   "outputs": [
    {
     "name": "stdout",
     "output_type": "stream",
     "text": [
      "Регион 1\n",
      "__________________________________________________\n",
      "\n",
      "Средняя прогнозируемая прибыль: 0.44 млрд. руб.\n",
      "Доверительный интервал: -0.08 — 0.94 млрд. руб.\n",
      "Риск убытков: 5.1%\n"
     ]
    }
   ],
   "source": [
    "print('Регион 1')\n",
    "print('_'*50, end='\\n\\n')\n",
    "bootstrap(target_1, predictions_1)"
   ]
  },
  {
   "cell_type": "code",
   "execution_count": 20,
   "id": "2156eb45",
   "metadata": {},
   "outputs": [
    {
     "name": "stdout",
     "output_type": "stream",
     "text": [
      "Регион 2\n",
      "__________________________________________________\n",
      "\n",
      "Средняя прогнозируемая прибыль: 0.43 млрд. руб.\n",
      "Доверительный интервал: 0.01 — 0.85 млрд. руб.\n",
      "Риск убытков: 2.2%\n"
     ]
    }
   ],
   "source": [
    "print('Регион 2')\n",
    "print('_'*50, end='\\n\\n')\n",
    "bootstrap(target_2, predictions_2)"
   ]
  },
  {
   "cell_type": "code",
   "execution_count": 21,
   "id": "071e64fa",
   "metadata": {},
   "outputs": [
    {
     "name": "stdout",
     "output_type": "stream",
     "text": [
      "Регион 3\n",
      "__________________________________________________\n",
      "\n",
      "Средняя прогнозируемая прибыль: 0.33 млрд. руб.\n",
      "Доверительный интервал: -0.21 — 0.87 млрд. руб.\n",
      "Риск убытков: 12.1%\n"
     ]
    }
   ],
   "source": [
    "print('Регион 3')\n",
    "print('_'*50, end='\\n\\n')\n",
    "bootstrap(target_3, predictions_3)"
   ]
  },
  {
   "cell_type": "markdown",
   "id": "2601b88c",
   "metadata": {},
   "source": [
    "## Общий вывод"
   ]
  },
  {
   "cell_type": "markdown",
   "id": "22241e8a",
   "metadata": {},
   "source": [
    "Перед нами стояла задача построить модель для нефтедобывающей компании с целью определения региона, в котором добыча принесёт наибольшую прибыль, а также проанализировать возможную прибыль и риски техникой Bootstrap.\n",
    "\n",
    "\n",
    "1. При проведении первичного анализа данных было обнаружено, что независимый признак `f2` коррелирует с целевой переменной:\n",
    "    - Регион 1 — коэффициент корреляции между признаком `f2` и целевым признаком `product` *0.48*;\n",
    "    - Регион 2 — коэффициент корреляции между признаком `f2` и целевым признаком `product` *1*;\n",
    "    - Регион 3 — коэффициент корреляции между признаком `f2` и целевым признаком `product` *0.45*.\n",
    "    \n",
    "    \n",
    "2. *RMSE* и *R2-score* моделей обученных на характеристиках скважин регионов 1, 2 и 3 были следующими: \n",
    "\n",
    "    - 37.79 тыс. баррелей и 0.273; \n",
    "    - 0.887 тыс. баррелей и 0.9996; \n",
    "    - 40.14 тыс. баррелей и 0.198. \n",
    "    \n",
    "    Таким образом линейная модель регрессии, обученная на признаках, отражающих характеристики скважин в регионе 2, обладает наибольшей точностью, что является следствием сильной корреляции признака `f2` и целевой переменной.\n",
    "    \n",
    "    \n",
    "3. Расчитанный минимальный необходимый объём сырья с одной скважины для безубыточной разработки: *112 тыс. баррелей*.\n",
    "\n",
    "\n",
    "4. Моделирование распределения выборочных средних прибыли техникой Bootstrap дало следующие результаты:\n",
    "    - *Регион 1*\n",
    "        - Средняя прогнозируемая прибыль: 0.44 млрд. руб.\n",
    "        - Доверительный интервал: -0.08 — 0.94 млрд. руб.\n",
    "        - Риск убытков: 5.1%\n",
    "    - *Регион 2*\n",
    "        - Средняя прогнозируемая прибыль: 0.43 млрд. руб.\n",
    "        - Доверительный интервал: 0.01 — 0.85 млрд. руб.\n",
    "        - Риск убытков: 2.2%\n",
    "    - *Регион 3*\n",
    "        - Средняя прогнозируемая прибыль: 0.33 млрд. руб.\n",
    "        - Доверительный интервал: -0.21 — 0.87 млрд. руб.\n",
    "        - Риск убытков: 12.1%\n",
    "        \n",
    "        \n",
    "5. С учетом полученных результатов наиболее перспективным регионом для разработки скважин является *Регион 2*."
   ]
  }
 ],
 "metadata": {
  "kernelspec": {
   "display_name": "Python 3",
   "language": "python",
   "name": "python3"
  },
  "language_info": {
   "codemirror_mode": {
    "name": "ipython",
    "version": 3
   },
   "file_extension": ".py",
   "mimetype": "text/x-python",
   "name": "python",
   "nbconvert_exporter": "python",
   "pygments_lexer": "ipython3",
   "version": "3.8.8"
  },
  "toc": {
   "base_numbering": 1,
   "nav_menu": {},
   "number_sections": true,
   "sideBar": true,
   "skip_h1_title": true,
   "title_cell": "Содержание",
   "title_sidebar": "Contents",
   "toc_cell": true,
   "toc_position": {
    "height": "541.6px",
    "left": "65px",
    "top": "111.125px",
    "width": "303.837px"
   },
   "toc_section_display": true,
   "toc_window_display": false
  }
 },
 "nbformat": 4,
 "nbformat_minor": 5
}
