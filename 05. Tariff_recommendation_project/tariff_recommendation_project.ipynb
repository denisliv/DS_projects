{
 "cells": [
  {
   "cell_type": "markdown",
   "id": "68de90d1",
   "metadata": {
    "toc": true
   },
   "source": [
    "<h1>Содержание<span class=\"tocSkip\"></span></h1>\n",
    "<div class=\"toc\"><ul class=\"toc-item\"><li><span><a href=\"#Первичный-анализ-данных\" data-toc-modified-id=\"Первичный-анализ-данных-1\"><span class=\"toc-item-num\">1&nbsp;&nbsp;</span>Первичный анализ данных</a></span></li><li><span><a href=\"#Предобработка-данных\" data-toc-modified-id=\"Предобработка-данных-2\"><span class=\"toc-item-num\">2&nbsp;&nbsp;</span>Предобработка данных</a></span></li><li><span><a href=\"#Подготовка-обучающей,-валидационной-и-тестовой-выборок\" data-toc-modified-id=\"Подготовка-обучающей,-валидационной-и-тестовой-выборок-3\"><span class=\"toc-item-num\">3&nbsp;&nbsp;</span>Подготовка обучающей, валидационной и тестовой выборок</a></span></li><li><span><a href=\"#Моделирование\" data-toc-modified-id=\"Моделирование-4\"><span class=\"toc-item-num\">4&nbsp;&nbsp;</span>Моделирование</a></span><ul class=\"toc-item\"><li><span><a href=\"#Decision-Tree\" data-toc-modified-id=\"Decision-Tree-4.1\"><span class=\"toc-item-num\">4.1&nbsp;&nbsp;</span>Decision Tree</a></span></li><li><span><a href=\"#Random-Forest\" data-toc-modified-id=\"Random-Forest-4.2\"><span class=\"toc-item-num\">4.2&nbsp;&nbsp;</span>Random Forest</a></span></li><li><span><a href=\"#LogisticRegression\" data-toc-modified-id=\"LogisticRegression-4.3\"><span class=\"toc-item-num\">4.3&nbsp;&nbsp;</span>LogisticRegression</a></span></li></ul></li><li><span><a href=\"#Проверка-модели-на-тестовой-выборке\" data-toc-modified-id=\"Проверка-модели-на-тестовой-выборке-5\"><span class=\"toc-item-num\">5&nbsp;&nbsp;</span>Проверка модели на тестовой выборке</a></span></li><li><span><a href=\"#Проверка-модели-на-вменяемость\" data-toc-modified-id=\"Проверка-модели-на-вменяемость-6\"><span class=\"toc-item-num\">6&nbsp;&nbsp;</span>Проверка модели на вменяемость</a></span></li><li><span><a href=\"#Общий-вывод\" data-toc-modified-id=\"Общий-вывод-7\"><span class=\"toc-item-num\">7&nbsp;&nbsp;</span>Общий вывод</a></span></li></ul></div>"
   ]
  },
  {
   "cell_type": "markdown",
   "id": "e7a9d1f3",
   "metadata": {},
   "source": [
    "# Проект: «Рекомендация тарифов»"
   ]
  },
  {
   "cell_type": "markdown",
   "id": "f49affda",
   "metadata": {},
   "source": [
    "Оператор мобильной связи «Мегалайн» выяснил: многие клиенты пользуются архивными тарифами. Они хотят построить систему, способную проанализировать поведение клиентов и предложить пользователям новый тариф: «Смарт» или «Ультра».\n",
    "\n",
    "В нашем распоряжении данные о поведении клиентов, которые уже перешли на эти тарифы. Необходимо построить модель для задачи классификации, которая выберет подходящий тариф."
   ]
  },
  {
   "cell_type": "markdown",
   "id": "91f449bf",
   "metadata": {},
   "source": [
    "**Цели:**\n",
    "1. Построить модель с максимально большим значением *accuracy* (>=0.75).\n",
    "2. Проверить *accuracy* на тестовой выборке.\n",
    "3. Проверить модель на вменяемость."
   ]
  },
  {
   "cell_type": "markdown",
   "id": "40325c8b",
   "metadata": {},
   "source": [
    "**Описание данных:**\n",
    "- сalls — количество звонков,\n",
    "- minutes — суммарная длительность звонков в минутах,\n",
    "- messages — количество sms-сообщений,\n",
    "- mb_used — израсходованный интернет-трафик в Мб,\n",
    "- is_ultra — каким тарифом пользовался в течение месяца («Ультра» — 1, «Смарт» — 0)."
   ]
  },
  {
   "cell_type": "markdown",
   "id": "1c884abf",
   "metadata": {},
   "source": [
    "## Первичный анализ данных"
   ]
  },
  {
   "cell_type": "code",
   "execution_count": 1,
   "id": "b999722b",
   "metadata": {},
   "outputs": [],
   "source": [
    "import pandas as pd\n",
    "import numpy as np\n",
    "import matplotlib.pyplot as plt\n",
    "from matplotlib.offsetbox import AnchoredText\n",
    "import seaborn as sns\n",
    "from tqdm import tqdm\n",
    "\n",
    "from sklearn.model_selection import train_test_split\n",
    "from sklearn.tree import DecisionTreeClassifier\n",
    "from sklearn.ensemble import RandomForestClassifier\n",
    "from sklearn.linear_model import LogisticRegression\n",
    "from sklearn.dummy import DummyClassifier\n",
    "from sklearn.metrics import accuracy_score\n",
    "\n",
    "%matplotlib inline\n",
    "sns.set_style(\"darkgrid\")\n",
    "random_seed = 17"
   ]
  },
  {
   "cell_type": "code",
   "execution_count": 2,
   "id": "6558c2ae",
   "metadata": {},
   "outputs": [],
   "source": [
    "try:\n",
    "    df = pd.read_csv('users_behavior.csv')\n",
    "except FileNotFoundError:\n",
    "    df = pd.read_csv('/datasets/users_behavior.csv')"
   ]
  },
  {
   "cell_type": "code",
   "execution_count": 3,
   "id": "0f1f75a1",
   "metadata": {},
   "outputs": [
    {
     "data": {
      "text/html": [
       "<div>\n",
       "<style scoped>\n",
       "    .dataframe tbody tr th:only-of-type {\n",
       "        vertical-align: middle;\n",
       "    }\n",
       "\n",
       "    .dataframe tbody tr th {\n",
       "        vertical-align: top;\n",
       "    }\n",
       "\n",
       "    .dataframe thead th {\n",
       "        text-align: right;\n",
       "    }\n",
       "</style>\n",
       "<table border=\"1\" class=\"dataframe\">\n",
       "  <thead>\n",
       "    <tr style=\"text-align: right;\">\n",
       "      <th></th>\n",
       "      <th>calls</th>\n",
       "      <th>minutes</th>\n",
       "      <th>messages</th>\n",
       "      <th>mb_used</th>\n",
       "      <th>is_ultra</th>\n",
       "    </tr>\n",
       "  </thead>\n",
       "  <tbody>\n",
       "    <tr>\n",
       "      <th>0</th>\n",
       "      <td>40.0</td>\n",
       "      <td>311.90</td>\n",
       "      <td>83.0</td>\n",
       "      <td>19915.42</td>\n",
       "      <td>0</td>\n",
       "    </tr>\n",
       "    <tr>\n",
       "      <th>1</th>\n",
       "      <td>85.0</td>\n",
       "      <td>516.75</td>\n",
       "      <td>56.0</td>\n",
       "      <td>22696.96</td>\n",
       "      <td>0</td>\n",
       "    </tr>\n",
       "    <tr>\n",
       "      <th>2</th>\n",
       "      <td>77.0</td>\n",
       "      <td>467.66</td>\n",
       "      <td>86.0</td>\n",
       "      <td>21060.45</td>\n",
       "      <td>0</td>\n",
       "    </tr>\n",
       "    <tr>\n",
       "      <th>3</th>\n",
       "      <td>106.0</td>\n",
       "      <td>745.53</td>\n",
       "      <td>81.0</td>\n",
       "      <td>8437.39</td>\n",
       "      <td>1</td>\n",
       "    </tr>\n",
       "    <tr>\n",
       "      <th>4</th>\n",
       "      <td>66.0</td>\n",
       "      <td>418.74</td>\n",
       "      <td>1.0</td>\n",
       "      <td>14502.75</td>\n",
       "      <td>0</td>\n",
       "    </tr>\n",
       "    <tr>\n",
       "      <th>5</th>\n",
       "      <td>58.0</td>\n",
       "      <td>344.56</td>\n",
       "      <td>21.0</td>\n",
       "      <td>15823.37</td>\n",
       "      <td>0</td>\n",
       "    </tr>\n",
       "    <tr>\n",
       "      <th>6</th>\n",
       "      <td>57.0</td>\n",
       "      <td>431.64</td>\n",
       "      <td>20.0</td>\n",
       "      <td>3738.90</td>\n",
       "      <td>1</td>\n",
       "    </tr>\n",
       "    <tr>\n",
       "      <th>7</th>\n",
       "      <td>15.0</td>\n",
       "      <td>132.40</td>\n",
       "      <td>6.0</td>\n",
       "      <td>21911.60</td>\n",
       "      <td>0</td>\n",
       "    </tr>\n",
       "    <tr>\n",
       "      <th>8</th>\n",
       "      <td>7.0</td>\n",
       "      <td>43.39</td>\n",
       "      <td>3.0</td>\n",
       "      <td>2538.67</td>\n",
       "      <td>1</td>\n",
       "    </tr>\n",
       "    <tr>\n",
       "      <th>9</th>\n",
       "      <td>90.0</td>\n",
       "      <td>665.41</td>\n",
       "      <td>38.0</td>\n",
       "      <td>17358.61</td>\n",
       "      <td>0</td>\n",
       "    </tr>\n",
       "  </tbody>\n",
       "</table>\n",
       "</div>"
      ],
      "text/plain": [
       "   calls  minutes  messages   mb_used  is_ultra\n",
       "0   40.0   311.90      83.0  19915.42         0\n",
       "1   85.0   516.75      56.0  22696.96         0\n",
       "2   77.0   467.66      86.0  21060.45         0\n",
       "3  106.0   745.53      81.0   8437.39         1\n",
       "4   66.0   418.74       1.0  14502.75         0\n",
       "5   58.0   344.56      21.0  15823.37         0\n",
       "6   57.0   431.64      20.0   3738.90         1\n",
       "7   15.0   132.40       6.0  21911.60         0\n",
       "8    7.0    43.39       3.0   2538.67         1\n",
       "9   90.0   665.41      38.0  17358.61         0"
      ]
     },
     "execution_count": 3,
     "metadata": {},
     "output_type": "execute_result"
    }
   ],
   "source": [
    "df.head(10)"
   ]
  },
  {
   "cell_type": "code",
   "execution_count": 4,
   "id": "4d2c8c0b",
   "metadata": {},
   "outputs": [
    {
     "name": "stdout",
     "output_type": "stream",
     "text": [
      "<class 'pandas.core.frame.DataFrame'>\n",
      "RangeIndex: 3214 entries, 0 to 3213\n",
      "Data columns (total 5 columns):\n",
      " #   Column    Non-Null Count  Dtype  \n",
      "---  ------    --------------  -----  \n",
      " 0   calls     3214 non-null   float64\n",
      " 1   minutes   3214 non-null   float64\n",
      " 2   messages  3214 non-null   float64\n",
      " 3   mb_used   3214 non-null   float64\n",
      " 4   is_ultra  3214 non-null   int64  \n",
      "dtypes: float64(4), int64(1)\n",
      "memory usage: 125.7 KB\n"
     ]
    }
   ],
   "source": [
    "df.info(memory_usage='deep')"
   ]
  },
  {
   "cell_type": "code",
   "execution_count": 5,
   "id": "fe16fb3b",
   "metadata": {},
   "outputs": [
    {
     "data": {
      "text/html": [
       "<div>\n",
       "<style scoped>\n",
       "    .dataframe tbody tr th:only-of-type {\n",
       "        vertical-align: middle;\n",
       "    }\n",
       "\n",
       "    .dataframe tbody tr th {\n",
       "        vertical-align: top;\n",
       "    }\n",
       "\n",
       "    .dataframe thead th {\n",
       "        text-align: right;\n",
       "    }\n",
       "</style>\n",
       "<table border=\"1\" class=\"dataframe\">\n",
       "  <thead>\n",
       "    <tr style=\"text-align: right;\">\n",
       "      <th></th>\n",
       "      <th>calls</th>\n",
       "      <th>minutes</th>\n",
       "      <th>messages</th>\n",
       "      <th>mb_used</th>\n",
       "      <th>is_ultra</th>\n",
       "    </tr>\n",
       "  </thead>\n",
       "  <tbody>\n",
       "    <tr>\n",
       "      <th>count</th>\n",
       "      <td>3214.000000</td>\n",
       "      <td>3214.000000</td>\n",
       "      <td>3214.000000</td>\n",
       "      <td>3214.000000</td>\n",
       "      <td>3214.000000</td>\n",
       "    </tr>\n",
       "    <tr>\n",
       "      <th>mean</th>\n",
       "      <td>63.038892</td>\n",
       "      <td>438.208787</td>\n",
       "      <td>38.281269</td>\n",
       "      <td>17207.673836</td>\n",
       "      <td>0.306472</td>\n",
       "    </tr>\n",
       "    <tr>\n",
       "      <th>std</th>\n",
       "      <td>33.236368</td>\n",
       "      <td>234.569872</td>\n",
       "      <td>36.148326</td>\n",
       "      <td>7570.968246</td>\n",
       "      <td>0.461100</td>\n",
       "    </tr>\n",
       "    <tr>\n",
       "      <th>min</th>\n",
       "      <td>0.000000</td>\n",
       "      <td>0.000000</td>\n",
       "      <td>0.000000</td>\n",
       "      <td>0.000000</td>\n",
       "      <td>0.000000</td>\n",
       "    </tr>\n",
       "    <tr>\n",
       "      <th>25%</th>\n",
       "      <td>40.000000</td>\n",
       "      <td>274.575000</td>\n",
       "      <td>9.000000</td>\n",
       "      <td>12491.902500</td>\n",
       "      <td>0.000000</td>\n",
       "    </tr>\n",
       "    <tr>\n",
       "      <th>50%</th>\n",
       "      <td>62.000000</td>\n",
       "      <td>430.600000</td>\n",
       "      <td>30.000000</td>\n",
       "      <td>16943.235000</td>\n",
       "      <td>0.000000</td>\n",
       "    </tr>\n",
       "    <tr>\n",
       "      <th>75%</th>\n",
       "      <td>82.000000</td>\n",
       "      <td>571.927500</td>\n",
       "      <td>57.000000</td>\n",
       "      <td>21424.700000</td>\n",
       "      <td>1.000000</td>\n",
       "    </tr>\n",
       "    <tr>\n",
       "      <th>max</th>\n",
       "      <td>244.000000</td>\n",
       "      <td>1632.060000</td>\n",
       "      <td>224.000000</td>\n",
       "      <td>49745.730000</td>\n",
       "      <td>1.000000</td>\n",
       "    </tr>\n",
       "  </tbody>\n",
       "</table>\n",
       "</div>"
      ],
      "text/plain": [
       "             calls      minutes     messages       mb_used     is_ultra\n",
       "count  3214.000000  3214.000000  3214.000000   3214.000000  3214.000000\n",
       "mean     63.038892   438.208787    38.281269  17207.673836     0.306472\n",
       "std      33.236368   234.569872    36.148326   7570.968246     0.461100\n",
       "min       0.000000     0.000000     0.000000      0.000000     0.000000\n",
       "25%      40.000000   274.575000     9.000000  12491.902500     0.000000\n",
       "50%      62.000000   430.600000    30.000000  16943.235000     0.000000\n",
       "75%      82.000000   571.927500    57.000000  21424.700000     1.000000\n",
       "max     244.000000  1632.060000   224.000000  49745.730000     1.000000"
      ]
     },
     "execution_count": 5,
     "metadata": {},
     "output_type": "execute_result"
    }
   ],
   "source": [
    "df.describe()"
   ]
  },
  {
   "cell_type": "code",
   "execution_count": 6,
   "id": "8c53f9ff",
   "metadata": {},
   "outputs": [
    {
     "name": "stdout",
     "output_type": "stream",
     "text": [
      "Число дубликатов: 0\n"
     ]
    }
   ],
   "source": [
    "print(f'Число дубликатов: {df.duplicated().sum()}')"
   ]
  },
  {
   "cell_type": "code",
   "execution_count": 7,
   "id": "02138a21",
   "metadata": {},
   "outputs": [
    {
     "data": {
      "image/png": "[encoded data removed]",
      "text/plain": [
       "<Figure size 576x576 with 2 Axes>"
      ]
     },
     "metadata": {},
     "output_type": "display_data"
    }
   ],
   "source": [
    "plt.figure(figsize=(8, 8))\n",
    "sns.heatmap(df[['calls', 'minutes', 'messages', 'mb_used']].corr(), \n",
    "            cmap='coolwarm', linewidths=1, linecolor='black', square=True,\n",
    "            annot=True, fmt='.2f', annot_kws={'size':12});"
   ]
  },
  {
   "cell_type": "code",
   "execution_count": 8,
   "id": "c7d0c2e2",
   "metadata": {},
   "outputs": [
    {
     "data": {
      "image/png": "[encoded data removed]",
      "text/plain": [
       "<Figure size 648x360 with 1 Axes>"
      ]
     },
     "metadata": {},
     "output_type": "display_data"
    }
   ],
   "source": [
    "ax = df.plot(x = 'calls', y = 'minutes', \n",
    "            kind ='scatter', ec='black', figsize=(9, 5), \n",
    "            c=np.array([0.5, 0.5, 0.5]).reshape(1,-1))\n",
    "\n",
    "Mytext = 'r = ' + str(round(df['calls'].corr(df['minutes']), 2))\n",
    "txt = AnchoredText(Mytext, loc=\"upper left\")                    \n",
    "ax.add_artist(txt)\n",
    "ax.set_title('Диаграмма рассеяния. Взаимосвязь между признаками calls и minutes', fontsize=15);"
   ]
  },
  {
   "cell_type": "markdown",
   "id": "94422a33",
   "metadata": {},
   "source": [
    "**Выводы:**\n",
    "1. Стоит оптимизировать типы данных, а именно:\n",
    "    - целевой признак `is_ultra` приведем к *category*;\n",
    "    - признаки `calls`,  `messages` — к целочисленному типу данных;\n",
    "2. Исходная таблица не содержит пропущенных и повторяющихся значений.\n",
    "3. Описательная статистика числовых признаков в пределах нормы, отрицательных либо невероятных экстремальных значений не обнаружено.\n",
    "4. Обнаружена мультиколлинеарность между признаками `calls` и `minutes`. Коэффициент корреляции пирсона составляет *0.98*."
   ]
  },
  {
   "cell_type": "markdown",
   "id": "79522129",
   "metadata": {},
   "source": [
    "## Предобработка данных"
   ]
  },
  {
   "cell_type": "code",
   "execution_count": 9,
   "id": "72f8b0e3",
   "metadata": {},
   "outputs": [],
   "source": [
    "df['calls'] = df['calls'].astype('uint')\n",
    "df['messages'] = df['messages'].astype('uint')\n",
    "df['is_ultra'] = df['is_ultra'].astype('category')\n",
    "\n",
    "converted_float = df.select_dtypes(include=['float64']).apply(pd.to_numeric, downcast='float')\n",
    "for column in converted_float.columns:\n",
    "    df[column] = converted_float[column]"
   ]
  },
  {
   "cell_type": "code",
   "execution_count": 10,
   "id": "ec486190",
   "metadata": {},
   "outputs": [
    {
     "name": "stdout",
     "output_type": "stream",
     "text": [
      "<class 'pandas.core.frame.DataFrame'>\n",
      "RangeIndex: 3214 entries, 0 to 3213\n",
      "Data columns (total 5 columns):\n",
      " #   Column    Non-Null Count  Dtype   \n",
      "---  ------    --------------  -----   \n",
      " 0   calls     3214 non-null   uint32  \n",
      " 1   minutes   3214 non-null   float32 \n",
      " 2   messages  3214 non-null   uint32  \n",
      " 3   mb_used   3214 non-null   float32 \n",
      " 4   is_ultra  3214 non-null   category\n",
      "dtypes: category(1), float32(2), uint32(2)\n",
      "memory usage: 53.6 KB\n"
     ]
    }
   ],
   "source": [
    "df.info(memory_usage='deep')"
   ]
  },
  {
   "cell_type": "markdown",
   "id": "f84fabbd",
   "metadata": {},
   "source": [
    "## Подготовка обучающей, валидационной и тестовой выборок"
   ]
  },
  {
   "cell_type": "markdown",
   "id": "9be05a11",
   "metadata": {},
   "source": [
    "Для дальнейшей работы данные необходимо разбить на три части: обучающую, валидационную и тестовую. Размеры\n",
    "тестового и валидационного наборов обычно равны. Оптимальным считается разбиение в соотношении 3:1:1."
   ]
  },
  {
   "cell_type": "code",
   "execution_count": 11,
   "id": "07a2a0bb",
   "metadata": {},
   "outputs": [],
   "source": [
    "features = df.drop(['is_ultra', 'minutes'], axis=1)\n",
    "target = df['is_ultra']"
   ]
  },
  {
   "cell_type": "code",
   "execution_count": 12,
   "id": "5dcd769c",
   "metadata": {},
   "outputs": [
    {
     "name": "stdout",
     "output_type": "stream",
     "text": [
      "Размер обучающей выборки: 1928 объектов\n",
      "Размер валидационной выборки: 643 объекта\n",
      "Размер тестовой выборки: 643 объекта\n"
     ]
    }
   ],
   "source": [
    "features_train, features_test, target_train, target_test = train_test_split(features, target, \n",
    "                                                                            test_size = 0.4, random_state=random_seed)\n",
    "features_valid, features_test, target_valid, target_test = train_test_split(features_test, target_test,\n",
    "                                                                            test_size = 0.5, random_state=random_seed)\n",
    "print(f'Размер обучающей выборки: {features_train.shape[0]} объектов')\n",
    "print(f'Размер валидационной выборки: {features_valid.shape[0]} объекта')\n",
    "print(f'Размер тестовой выборки: {features_test.shape[0]} объекта')"
   ]
  },
  {
   "cell_type": "markdown",
   "id": "6bf91d5e",
   "metadata": {},
   "source": [
    "## Моделирование"
   ]
  },
  {
   "cell_type": "markdown",
   "id": "d665787e",
   "metadata": {},
   "source": [
    "### Decision Tree"
   ]
  },
  {
   "cell_type": "markdown",
   "id": "152279c0",
   "metadata": {},
   "source": [
    "**На практике к наиболее распространенным гиперпараметрам *Дерева решений* относятся:**\n",
    "\n",
    "- **criterion** — *entropy* или *gini*. Критерий неопределенности Джини быстрее, потому что он требует меньших вычислительных затрат. С другой стороны, результаты, полученные с использованием энтропийного критерия (прирост информации), несколько лучше. \n",
    "- **max_depth** — максимальная глубина дерева. При увеличении параметра резко возрастает качество на обучении, что, в итоге, может негативно сказываться на тестовой выборке ввиду переобучения;\n",
    "- **min_samples_leaf** — минимальное число объектов в листе;\n",
    "- **max_features** — максимальное число признаков, по которым ищется лучшее разбиение в дереве."
   ]
  },
  {
   "cell_type": "code",
   "execution_count": 13,
   "id": "23f44734",
   "metadata": {},
   "outputs": [
    {
     "name": "stderr",
     "output_type": "stream",
     "text": [
      "100%|██████████████████████████████████████████████████████████████████████████████████| 30/30 [00:18<00:00,  1.64it/s]"
     ]
    },
    {
     "name": "stdout",
     "output_type": "stream",
     "text": [
      "Accuracy: 0.8180404354587869\n",
      "\n",
      "Гиперпараметры лучшей модели:\n",
      "\n",
      "criterion - gini\n",
      "max_depth - 7\n",
      "max_features - 3\n",
      "min_samples_leaf - 16\n"
     ]
    },
    {
     "name": "stderr",
     "output_type": "stream",
     "text": [
      "\n"
     ]
    }
   ],
   "source": [
    "best_model_dt = None\n",
    "best_accuracy_dt = float('-inf')\n",
    "criterions = ['gini', 'entropy']\n",
    "for depth in tqdm(range(1, 31)):\n",
    "    for criterion in criterions:\n",
    "        for max_feature in ['sqrt', 2, 3]:\n",
    "            for leaf in range(2, 21):\n",
    "                model = DecisionTreeClassifier(criterion=criterion, \n",
    "                                               max_depth=depth, \n",
    "                                               max_features=max_feature,\n",
    "                                               min_samples_leaf=leaf,\n",
    "                                               random_state=random_seed)\n",
    "                \n",
    "                model.fit(features_train, target_train)\n",
    "                predictions = model.predict(features_valid)\n",
    "                accuracy = accuracy_score(target_valid, predictions)\n",
    "                if accuracy > best_accuracy_dt:\n",
    "                    best_model_dt = model\n",
    "                    best_accuracy_dt = accuracy\n",
    "\n",
    "print(f'Accuracy: {best_accuracy_dt}', end='\\n\\n')\n",
    "print('Гиперпараметры лучшей модели:', end='\\n\\n')\n",
    "for k, v in best_model_dt.get_params(deep=True).items():\n",
    "    if k in ('criterion', 'max_depth', 'max_features', 'min_samples_leaf'):\n",
    "        print(f'{k} - {v}')"
   ]
  },
  {
   "cell_type": "markdown",
   "id": "e8a57b4c",
   "metadata": {},
   "source": [
    "### Random Forest"
   ]
  },
  {
   "cell_type": "markdown",
   "id": "9f0d7d3e",
   "metadata": {},
   "source": [
    "**На практике к наиболее распространенным гиперпараметрам *Cлучайного леса* относятся:**\n",
    "- **n_estimators** — количество деревьев. При увеличении параметра качество на обучении повышается, в свою очередь качество на тестовой выборке в определенный момент выходит на асимптоту;\n",
    "- **criterion** — *entropy* или *gini*. Критерий неопределенности Джини быстрее, потому что он требует меньших вычислительных затрат. С другой стороны, результаты, полученные с использованием энтропийного критерия (прирост информации), несколько лучше. \n",
    "- **max_depth** — максимальная глубина дерева. При увеличении параметра резко возрастает качество на обучении, что, в итоге, может негативно сказываться на тестовой выборке ввиду переобучения;\n",
    "- **min_samples_leaf** — минимальное число объектов в листе. Ввиду небольшого потенциального прироста *accuracy*, но значительного замедления обучения, в данном случае параметр стоит опустить;\n",
    "- **max_features** — максимальное число признаков, по которым ищется лучшее разбиение в дереве."
   ]
  },
  {
   "cell_type": "code",
   "execution_count": 14,
   "id": "e0da3dd7",
   "metadata": {},
   "outputs": [
    {
     "name": "stderr",
     "output_type": "stream",
     "text": [
      "100%|██████████████████████████████████████████████████████████████████████████████████| 59/59 [04:38<00:00,  4.73s/it]"
     ]
    },
    {
     "name": "stdout",
     "output_type": "stream",
     "text": [
      "Accuracy: 0.8242612752721618\n",
      "\n",
      "Гиперпараметры лучшей модели:\n",
      "\n",
      "criterion - entropy\n",
      "max_depth - 15\n",
      "max_features - sqrt\n",
      "min_samples_leaf - 1\n",
      "n_estimators - 22\n"
     ]
    },
    {
     "name": "stderr",
     "output_type": "stream",
     "text": [
      "\n"
     ]
    }
   ],
   "source": [
    "best_model_rf = None\n",
    "best_accuracy_rf = float('-inf')\n",
    "for est in tqdm(range(2, 61)):\n",
    "    for depth in range(1, 21):\n",
    "        for max_feature in ['sqrt', 2, 3]:\n",
    "            model = RandomForestClassifier(n_estimators = est,\n",
    "                                           criterion='entropy', \n",
    "                                           max_depth=depth, \n",
    "                                           max_features=max_feature,\n",
    "                                           #min_samples_leaf=leaf,\n",
    "                                           random_state=random_seed,\n",
    "                                           n_jobs=-1)\n",
    "                \n",
    "            model.fit(features_train, target_train)\n",
    "            predictions = model.predict(features_valid)\n",
    "            accuracy = accuracy_score(target_valid, predictions)\n",
    "            if accuracy > best_accuracy_rf:\n",
    "                best_model_rf = model\n",
    "                best_accuracy_rf = accuracy\n",
    "\n",
    "print(f'Accuracy: {best_accuracy_rf}', end='\\n\\n')\n",
    "print('Гиперпараметры лучшей модели:', end='\\n\\n')\n",
    "for k, v in best_model_rf.get_params(deep=True).items():\n",
    "    if k in ('n_estimators', 'criterion', 'max_depth', 'max_features', 'min_samples_leaf'):\n",
    "        print(f'{k} - {v}')"
   ]
  },
  {
   "cell_type": "markdown",
   "id": "7562b339",
   "metadata": {},
   "source": [
    "### LogisticRegression"
   ]
  },
  {
   "cell_type": "markdown",
   "id": "06a35cfd",
   "metadata": {},
   "source": [
    "**На практике к наиболее распространенным гиперпараметрам *Логистической регрессии* относятся:**\n",
    "- **penalty** — метод регуляризации. Для выбора метода регуляризации между *L1* и *L2* необходимо учитывать объем данных. *L1* подходит в случаях небольшого количества объектов;\n",
    "- **параметр регуляризации C** — чем меньше значение, тем сильнее регуляризация;\n",
    "- **solver** — алгоритм, использующийся для оптимизации. Для небольшой обучающей выборки вместе с *L1* регуляризацией оптимальным будет *liblinear*."
   ]
  },
  {
   "cell_type": "code",
   "execution_count": 15,
   "id": "393120a2",
   "metadata": {},
   "outputs": [
    {
     "name": "stderr",
     "output_type": "stream",
     "text": [
      "100%|███████████████████████████████████████████████████████████████████████████████| 500/500 [00:02<00:00, 168.47it/s]"
     ]
    },
    {
     "name": "stdout",
     "output_type": "stream",
     "text": [
      "Accuracy: 0.7589424572317263\n",
      "\n",
      "Гиперпараметры лучшей модели:\n",
      "\n",
      "C - 0.10766241770454933\n",
      "penalty - l1\n",
      "solver - liblinear\n"
     ]
    },
    {
     "name": "stderr",
     "output_type": "stream",
     "text": [
      "\n"
     ]
    }
   ],
   "source": [
    "best_model_lr = None\n",
    "best_accuracy_lr = float('-inf')\n",
    "for c in tqdm(np.logspace(-2, 3, 500)):\n",
    "    model = LogisticRegression(C=c,\n",
    "                               penalty='l1',\n",
    "                               max_iter=1e5,\n",
    "                               solver='liblinear',\n",
    "                               random_state=random_seed)\n",
    "                \n",
    "    model.fit(features_train, target_train)\n",
    "    predictions = model.predict(features_valid)\n",
    "    accuracy = accuracy_score(target_valid, predictions)\n",
    "    if accuracy > best_accuracy_lr:\n",
    "        best_model_lr = model\n",
    "        best_accuracy_lr = accuracy\n",
    "\n",
    "print(f'Accuracy: {best_accuracy_lr}', end='\\n\\n')\n",
    "print('Гиперпараметры лучшей модели:', end='\\n\\n')\n",
    "for k, v in best_model_lr.get_params(deep=True).items():\n",
    "    if k in ('penalty', 'C', 'solver'):\n",
    "        print(f'{k} - {v}')"
   ]
  },
  {
   "cell_type": "code",
   "execution_count": 20,
   "id": "7a8b4a1d",
   "metadata": {},
   "outputs": [],
   "source": [
    "accuracy_df = pd.DataFrame(index=['DecisionTree', 'RandomForest', 'LogisticRegression'], \n",
    "                           data = [best_accuracy_dt, best_accuracy_rf, best_accuracy_lr],\n",
    "                           columns=['Accuracy']).sort_values('Accuracy', ascending=False).style.background_gradient('coolwarm')"
   ]
  },
  {
   "cell_type": "code",
   "execution_count": 21,
   "id": "969e347d",
   "metadata": {},
   "outputs": [
    {
     "data": {
      "text/html": [
       "<style  type=\"text/css\" >\n",
       "#T_12a59_row0_col0{\n",
       "            background-color:  #b40426;\n",
       "            color:  #f1f1f1;\n",
       "        }#T_12a59_row1_col0{\n",
       "            background-color:  #d55042;\n",
       "            color:  #000000;\n",
       "        }#T_12a59_row2_col0{\n",
       "            background-color:  #3b4cc0;\n",
       "            color:  #f1f1f1;\n",
       "        }</style><table id=\"T_12a59_\" ><thead>    <tr>        <th class=\"blank level0\" ></th>        <th class=\"col_heading level0 col0\" >Accuracy</th>    </tr></thead><tbody>\n",
       "                <tr>\n",
       "                        <th id=\"T_12a59_level0_row0\" class=\"row_heading level0 row0\" >RandomForest</th>\n",
       "                        <td id=\"T_12a59_row0_col0\" class=\"data row0 col0\" >0.824261</td>\n",
       "            </tr>\n",
       "            <tr>\n",
       "                        <th id=\"T_12a59_level0_row1\" class=\"row_heading level0 row1\" >DecisionTree</th>\n",
       "                        <td id=\"T_12a59_row1_col0\" class=\"data row1 col0\" >0.818040</td>\n",
       "            </tr>\n",
       "            <tr>\n",
       "                        <th id=\"T_12a59_level0_row2\" class=\"row_heading level0 row2\" >LogisticRegression</th>\n",
       "                        <td id=\"T_12a59_row2_col0\" class=\"data row2 col0\" >0.758942</td>\n",
       "            </tr>\n",
       "    </tbody></table>"
      ],
      "text/plain": [
       "<pandas.io.formats.style.Styler at 0x1532604b790>"
      ]
     },
     "execution_count": 21,
     "metadata": {},
     "output_type": "execute_result"
    }
   ],
   "source": [
    "accuracy_df"
   ]
  },
  {
   "cell_type": "markdown",
   "id": "67b9cdf5",
   "metadata": {},
   "source": [
    "**Выводы:** \n",
    "\n",
    "В результате проведенного исследования лучший результат *0.8243* показала модель *Random Forest* со следущими параметрами:\n",
    "- criterion — entropy;\n",
    "- max_depth — 15;\n",
    "- max_features — sqrt;\n",
    "- n_estimators — 22."
   ]
  },
  {
   "cell_type": "markdown",
   "id": "5256de4a",
   "metadata": {},
   "source": [
    "## Проверка модели на тестовой выборке"
   ]
  },
  {
   "cell_type": "code",
   "execution_count": 18,
   "id": "8fdadd4a",
   "metadata": {},
   "outputs": [
    {
     "name": "stdout",
     "output_type": "stream",
     "text": [
      "Accuracy модели Random Forest на тестовой выборке: 0.8118195956454122\n"
     ]
    }
   ],
   "source": [
    "predictions = best_model_rf.predict(features_test)\n",
    "accuracy = accuracy_score(target_test, predictions)\n",
    "print(f'Accuracy модели Random Forest на тестовой выборке: {accuracy}')"
   ]
  },
  {
   "cell_type": "markdown",
   "id": "9750c2d7",
   "metadata": {},
   "source": [
    "## Проверка модели на вменяемость"
   ]
  },
  {
   "cell_type": "markdown",
   "id": "4071ac5c",
   "metadata": {},
   "source": [
    "Проверка модели на адекватность с использованием простого классификатора `DummyClassifier`:\n",
    "- strategy «most_frequent» генерирует наиболее частую метку в обучающем наборе."
   ]
  },
  {
   "cell_type": "code",
   "execution_count": 19,
   "id": "4a92d5df",
   "metadata": {},
   "outputs": [
    {
     "name": "stdout",
     "output_type": "stream",
     "text": [
      "Accuracy DummyClassifier на тестовой выборке: 0.6982892690513219\n"
     ]
    }
   ],
   "source": [
    "dummy_model = DummyClassifier(strategy='most_frequent').fit(features_train, target_train)\n",
    "dummy_predictions = dummy_model.predict(features_test)\n",
    "dummy_accuracy = accuracy_score(target_test, dummy_predictions)\n",
    "print(f'Accuracy DummyClassifier на тестовой выборке: {dummy_accuracy}')"
   ]
  },
  {
   "cell_type": "markdown",
   "id": "1b894768",
   "metadata": {},
   "source": [
    "**Выводы:** при сравнении обученной модели со случайной можно сказать, что модель *Random Forest* предсказывает адекватные значения для тестовой выборки."
   ]
  },
  {
   "cell_type": "markdown",
   "id": "a692390b",
   "metadata": {},
   "source": [
    "## Общий вывод"
   ]
  },
  {
   "cell_type": "markdown",
   "id": "768c5c60",
   "metadata": {},
   "source": [
    "Перед нами стояла задача построить модель для бинарной классификации, которая предскажет подходящий тариф для пользователей оператора связи «Мегалайн».\n",
    "\n",
    "Для достижения поставленной цели было изучено и смоделировано три алгоритма классификации:\n",
    "   - Decision Tree;\n",
    "   - Random Forest;\n",
    "   - Logistic Regression.\n",
    "\n",
    "В качестве метрики оценки производительности алгоритма была выбрана самая простая метрика качества алгоритма, решающего задачу классификации – это доля правильных ответов или *accuracy*.\n",
    "\n",
    "В результате проведенного исследования лучший результат *accuracy* *0.8243* показала модель *Random Forest* со следущими параметрами:\n",
    "   - criterion — entropy;\n",
    "   - max_depth — 15;\n",
    "   - max_features — sqrt;\n",
    "   - n_estimators — 22."
   ]
  }
 ],
 "metadata": {
  "ExecuteTimeLog": [
   {
    "duration": 1083,
    "start_time": "2021-11-13T23:28:06.502Z"
   },
   {
    "duration": 199,
    "start_time": "2021-11-13T23:28:07.586Z"
   },
   {
    "duration": 16,
    "start_time": "2021-11-13T23:28:07.787Z"
   },
   {
    "duration": 6,
    "start_time": "2021-11-13T23:28:08.007Z"
   },
   {
    "duration": 22,
    "start_time": "2021-11-13T23:28:08.603Z"
   },
   {
    "duration": 6,
    "start_time": "2021-11-13T23:28:09.282Z"
   },
   {
    "duration": 4,
    "start_time": "2021-11-13T23:29:00.070Z"
   },
   {
    "duration": 8,
    "start_time": "2021-11-13T23:29:01.098Z"
   },
   {
    "duration": 12,
    "start_time": "2021-11-13T23:29:06.110Z"
   },
   {
    "duration": 8,
    "start_time": "2021-11-13T23:29:06.753Z"
   },
   {
    "duration": 5,
    "start_time": "2021-11-13T23:29:11.068Z"
   },
   {
    "duration": 9,
    "start_time": "2021-11-13T23:29:11.669Z"
   },
   {
    "duration": 21084,
    "start_time": "2021-11-13T23:29:41.609Z"
   },
   {
    "duration": 465204,
    "start_time": "2021-11-13T23:30:02.695Z"
   },
   {
    "duration": 4700,
    "start_time": "2021-11-13T23:37:47.900Z"
   },
   {
    "duration": 73941,
    "start_time": "2021-11-13T23:37:52.602Z"
   },
   {
    "duration": 26,
    "start_time": "2021-11-13T23:39:06.545Z"
   },
   {
    "duration": 20,
    "start_time": "2021-11-13T23:39:06.573Z"
   },
   {
    "duration": 7,
    "start_time": "2021-11-13T23:39:06.595Z"
   }
  ],
  "kernelspec": {
   "display_name": "Python 3",
   "language": "python",
   "name": "python3"
  },
  "language_info": {
   "codemirror_mode": {
    "name": "ipython",
    "version": 3
   },
   "file_extension": ".py",
   "mimetype": "text/x-python",
   "name": "python",
   "nbconvert_exporter": "python",
   "pygments_lexer": "ipython3",
   "version": "3.8.8"
  },
  "toc": {
   "base_numbering": 1,
   "nav_menu": {},
   "number_sections": true,
   "sideBar": true,
   "skip_h1_title": true,
   "title_cell": "Содержание",
   "title_sidebar": "Contents",
   "toc_cell": true,
   "toc_position": {},
   "toc_section_display": true,
   "toc_window_display": false
  }
 },
 "nbformat": 4,
 "nbformat_minor": 5
}
