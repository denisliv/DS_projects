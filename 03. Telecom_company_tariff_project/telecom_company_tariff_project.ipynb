{
 "cells": [
  {
   "cell_type": "markdown",
   "id": "0f135665",
   "metadata": {
    "toc": true
   },
   "source": [
    "<h1>Содержание<span class=\"tocSkip\"></span></h1>\n",
    "<div class=\"toc\"><ul class=\"toc-item\"><li><span><a href=\"#Первичный-анализ-данных\" data-toc-modified-id=\"Первичный-анализ-данных-1\"><span class=\"toc-item-num\">1&nbsp;&nbsp;</span>Первичный анализ данных</a></span><ul class=\"toc-item\"><li><span><a href=\"#Датафрейм-df_users\" data-toc-modified-id=\"Датафрейм-df_users-1.1\"><span class=\"toc-item-num\">1.1&nbsp;&nbsp;</span>Датафрейм df_users</a></span></li><li><span><a href=\"#Датафрейм-df_calls\" data-toc-modified-id=\"Датафрейм-df_calls-1.2\"><span class=\"toc-item-num\">1.2&nbsp;&nbsp;</span>Датафрейм df_calls</a></span></li><li><span><a href=\"#Датафрейм-df_messages\" data-toc-modified-id=\"Датафрейм-df_messages-1.3\"><span class=\"toc-item-num\">1.3&nbsp;&nbsp;</span>Датафрейм df_messages</a></span></li><li><span><a href=\"#Датафрейм-df_internet\" data-toc-modified-id=\"Датафрейм-df_internet-1.4\"><span class=\"toc-item-num\">1.4&nbsp;&nbsp;</span>Датафрейм df_internet</a></span></li><li><span><a href=\"#Датафрейм-df_tariffs\" data-toc-modified-id=\"Датафрейм-df_tariffs-1.5\"><span class=\"toc-item-num\">1.5&nbsp;&nbsp;</span>Датафрейм df_tariffs</a></span></li></ul></li><li><span><a href=\"#Предобработка-данных\" data-toc-modified-id=\"Предобработка-данных-2\"><span class=\"toc-item-num\">2&nbsp;&nbsp;</span>Предобработка данных</a></span><ul class=\"toc-item\"><li><span><a href=\"#Изменение-типа-данных-и-добавление-нового-признака\" data-toc-modified-id=\"Изменение-типа-данных-и-добавление-нового-признака-2.1\"><span class=\"toc-item-num\">2.1&nbsp;&nbsp;</span>Изменение типа данных и добавление нового признака</a></span></li><li><span><a href=\"#Агрегирование-данных\" data-toc-modified-id=\"Агрегирование-данных-2.2\"><span class=\"toc-item-num\">2.2&nbsp;&nbsp;</span>Агрегирование данных</a></span></li></ul></li><li><span><a href=\"#Исследовательский-анализ-данных\" data-toc-modified-id=\"Исследовательский-анализ-данных-3\"><span class=\"toc-item-num\">3&nbsp;&nbsp;</span>Исследовательский анализ данных</a></span></li><li><span><a href=\"#Проверка-гипотез\" data-toc-modified-id=\"Проверка-гипотез-4\"><span class=\"toc-item-num\">4&nbsp;&nbsp;</span>Проверка гипотез</a></span><ul class=\"toc-item\"><li><span><a href=\"#Гипотеза-№-1\" data-toc-modified-id=\"Гипотеза-№-1-4.1\"><span class=\"toc-item-num\">4.1&nbsp;&nbsp;</span>Гипотеза № 1</a></span></li><li><span><a href=\"#Гипотеза-№2\" data-toc-modified-id=\"Гипотеза-№2-4.2\"><span class=\"toc-item-num\">4.2&nbsp;&nbsp;</span>Гипотеза №2</a></span></li></ul></li><li><span><a href=\"#Общий-вывод\" data-toc-modified-id=\"Общий-вывод-5\"><span class=\"toc-item-num\">5&nbsp;&nbsp;</span>Общий вывод</a></span></li></ul></div>"
   ]
  },
  {
   "cell_type": "markdown",
   "id": "da4b9ea7",
   "metadata": {},
   "source": [
    "# Проект «Определение перспективного тарифа для телеком-компании»"
   ]
  },
  {
   "cell_type": "markdown",
   "id": "1191eadb",
   "metadata": {},
   "source": [
    "В нашем распоряжении данные по тарифам компании «Мегалайн» — федерального оператора сотовой связи. Клиентам предлагают два тарифных плана: «Смарт» и «Ультра». Чтобы скорректировать рекламный бюджет, коммерческий департамент хочет понять, какой тариф приносит больше денег."
   ]
  },
  {
   "cell_type": "markdown",
   "id": "420b5ce8",
   "metadata": {},
   "source": [
    "**Описание тарифов**:\n",
    "\n",
    "**1. Тариф «Смарт»**\n",
    "- Ежемесячная плата: 550 рублей.\n",
    "- Включено 500 минут разговора, 50 сообщений и 15 Гб интернет-трафика.\n",
    "- Стоимость услуг сверх тарифного пакета: 1. минута разговора: 3 рубля («Мегалайн» всегда округляет вверх значения минут и мегабайтов. Если пользователь проговорил всего 1 секунду, в тарифе засчитывается целая минута); 2. сообщение: 3 рубля; 3. 1 Гб интернет-трафика: 200 рублей.\n",
    "\n",
    "**2. Тариф «Ультра»**\n",
    "- Ежемесячная плата: 1950 рублей.\n",
    "- Включено 3000 минут разговора, 1000 сообщений и 30 Гб интернет-трафика.\n",
    "- Стоимость услуг сверх тарифного пакета: 1. минута разговора: 1 рубль; 2. сообщение: 1 рубль; 3. 1 Гб интернет-трафика: 150 рублей."
   ]
  },
  {
   "cell_type": "markdown",
   "id": "a67a0ea4",
   "metadata": {},
   "source": [
    "**Цели:**\n",
    "1. Провести предварительный анализ тарифов на небольшой выборке клиентов — 500 пользователей «Мегалайна»: кто они, откуда, каким тарифом пользуются, сколько звонков и сообщений каждый отправил за 2018 год. \n",
    "2. Провести исследование поведения клиентов и сделать вывод — какой тариф лучше."
   ]
  },
  {
   "cell_type": "markdown",
   "id": "0698b1ef",
   "metadata": {},
   "source": [
    "**Описание данных:**\n",
    "\n",
    "**Таблица `users` (информация о пользователях):**\n",
    "- user_id — уникальный идентификатор пользователя\n",
    "- first_name — имя пользователя\n",
    "- last_name — фамилия пользователя\n",
    "- age — возраст пользователя (годы)\n",
    "- reg_date — дата подключения тарифа (день, месяц, год)\n",
    "- churn_date — дата прекращения пользования тарифом (если значение пропущено, то тариф ещё действовал на момент выгрузки данных)\n",
    "- city — город проживания пользователя\n",
    "- tariff — название тарифного плана\n",
    "\n",
    "**Таблица `calls` (информация о звонках):**\n",
    "- id — уникальный номер звонка\n",
    "- call_date — дата звонка\n",
    "- duration — длительность звонка в минутах\n",
    "- user_id — идентификатор пользователя, сделавшего звонок\n",
    "\n",
    "**Таблица `messages` (информация о сообщениях):**\n",
    "- id — уникальный номер сообщения\n",
    "- message_date — дата сообщения\n",
    "- user_id — идентификатор пользователя, отправившего сообщение\n",
    "\n",
    "**Таблица `internet` (информация об интернет-сессиях):**\n",
    "- id — уникальный номер сессии\n",
    "- mb_used — объём потраченного за сессию интернет-трафика (в мегабайтах)\n",
    "- session_date — дата интернет-сессии\n",
    "- user_id — идентификатор пользователя\n",
    "\n",
    "**Таблица `tariffs` (информация о тарифах):**\n",
    "- tariff_name — название тарифа\n",
    "- rub_monthly_fee — ежемесячная абонентская плата в рублях\n",
    "- minutes_included — количество минут разговора в месяц, включённых в абонентскую плату\n",
    "- messages_included — количество сообщений в месяц, включённых в абонентскую плату\n",
    "- mb_per_month_included — объём интернет-трафика, включённого в абонентскую плату (в мегабайтах)\n",
    "- rub_per_minute — стоимость минуты разговора сверх тарифного пакета (например, если в тарифе 100 минут разговора в месяц, то со 101 минуты будет взиматься плата)\n",
    "- rub_per_message — стоимость отправки сообщения сверх тарифного пакета\n",
    "- rub_per_gb — стоимость дополнительного гигабайта интернет-трафика сверх тарифного пакета (1 гигабайт = 1024 мегабайта)"
   ]
  },
  {
   "cell_type": "markdown",
   "id": "324ab6f5",
   "metadata": {},
   "source": [
    "## Первичный анализ данных"
   ]
  },
  {
   "cell_type": "code",
   "execution_count": 1,
   "id": "faba17f1",
   "metadata": {},
   "outputs": [],
   "source": [
    "import pandas as pd\n",
    "import matplotlib.pyplot as plt\n",
    "import seaborn as sns\n",
    "import numpy as np\n",
    "from scipy import stats as st\n",
    "%matplotlib inline\n",
    "sns.set_style(\"darkgrid\")\n",
    "pd.options.display.float_format = '{:.2f}'.format"
   ]
  },
  {
   "cell_type": "code",
   "execution_count": 2,
   "id": "feecb6f1",
   "metadata": {},
   "outputs": [],
   "source": [
    "try:\n",
    "    df_users = pd.read_csv('users.csv')\n",
    "    df_calls = pd.read_csv('calls.csv')\n",
    "    df_messages = pd.read_csv('messages.csv')\n",
    "    df_internet = pd.read_csv('internet.csv')\n",
    "    df_tariffs = pd.read_csv('tariffs.csv')\n",
    "except FileNotFoundError:\n",
    "    df_users = pd.read_csv('/datasets/users.csv')\n",
    "    df_calls = pd.read_csv('/datasets/calls.csv')\n",
    "    df_messages = pd.read_csv('/datasets/messages.csv')\n",
    "    df_internet = pd.read_csv('/datasets/internet.csv')\n",
    "    df_tariffs = pd.read_csv('/datasets/tariffs.csv')"
   ]
  },
  {
   "cell_type": "markdown",
   "id": "70f1eb28",
   "metadata": {},
   "source": [
    "### Датафрейм df_users"
   ]
  },
  {
   "cell_type": "code",
   "execution_count": 3,
   "id": "6fb9ef3d",
   "metadata": {},
   "outputs": [
    {
     "data": {
      "text/html": [
       "<div>\n",
       "<style scoped>\n",
       "    .dataframe tbody tr th:only-of-type {\n",
       "        vertical-align: middle;\n",
       "    }\n",
       "\n",
       "    .dataframe tbody tr th {\n",
       "        vertical-align: top;\n",
       "    }\n",
       "\n",
       "    .dataframe thead th {\n",
       "        text-align: right;\n",
       "    }\n",
       "</style>\n",
       "<table border=\"1\" class=\"dataframe\">\n",
       "  <thead>\n",
       "    <tr style=\"text-align: right;\">\n",
       "      <th></th>\n",
       "      <th>user_id</th>\n",
       "      <th>age</th>\n",
       "      <th>churn_date</th>\n",
       "      <th>city</th>\n",
       "      <th>first_name</th>\n",
       "      <th>last_name</th>\n",
       "      <th>reg_date</th>\n",
       "      <th>tariff</th>\n",
       "    </tr>\n",
       "  </thead>\n",
       "  <tbody>\n",
       "    <tr>\n",
       "      <th>0</th>\n",
       "      <td>1000</td>\n",
       "      <td>52</td>\n",
       "      <td>NaN</td>\n",
       "      <td>Краснодар</td>\n",
       "      <td>Рафаил</td>\n",
       "      <td>Верещагин</td>\n",
       "      <td>2018-05-25</td>\n",
       "      <td>ultra</td>\n",
       "    </tr>\n",
       "    <tr>\n",
       "      <th>1</th>\n",
       "      <td>1001</td>\n",
       "      <td>41</td>\n",
       "      <td>NaN</td>\n",
       "      <td>Москва</td>\n",
       "      <td>Иван</td>\n",
       "      <td>Ежов</td>\n",
       "      <td>2018-11-01</td>\n",
       "      <td>smart</td>\n",
       "    </tr>\n",
       "    <tr>\n",
       "      <th>2</th>\n",
       "      <td>1002</td>\n",
       "      <td>59</td>\n",
       "      <td>NaN</td>\n",
       "      <td>Стерлитамак</td>\n",
       "      <td>Евгений</td>\n",
       "      <td>Абрамович</td>\n",
       "      <td>2018-06-17</td>\n",
       "      <td>smart</td>\n",
       "    </tr>\n",
       "    <tr>\n",
       "      <th>3</th>\n",
       "      <td>1003</td>\n",
       "      <td>23</td>\n",
       "      <td>NaN</td>\n",
       "      <td>Москва</td>\n",
       "      <td>Белла</td>\n",
       "      <td>Белякова</td>\n",
       "      <td>2018-08-17</td>\n",
       "      <td>ultra</td>\n",
       "    </tr>\n",
       "    <tr>\n",
       "      <th>4</th>\n",
       "      <td>1004</td>\n",
       "      <td>68</td>\n",
       "      <td>NaN</td>\n",
       "      <td>Новокузнецк</td>\n",
       "      <td>Татьяна</td>\n",
       "      <td>Авдеенко</td>\n",
       "      <td>2018-05-14</td>\n",
       "      <td>ultra</td>\n",
       "    </tr>\n",
       "    <tr>\n",
       "      <th>5</th>\n",
       "      <td>1005</td>\n",
       "      <td>67</td>\n",
       "      <td>NaN</td>\n",
       "      <td>Набережные Челны</td>\n",
       "      <td>Афанасий</td>\n",
       "      <td>Горлов</td>\n",
       "      <td>2018-01-25</td>\n",
       "      <td>smart</td>\n",
       "    </tr>\n",
       "    <tr>\n",
       "      <th>6</th>\n",
       "      <td>1006</td>\n",
       "      <td>21</td>\n",
       "      <td>NaN</td>\n",
       "      <td>Ульяновск</td>\n",
       "      <td>Леонид</td>\n",
       "      <td>Ермолаев</td>\n",
       "      <td>2018-02-26</td>\n",
       "      <td>smart</td>\n",
       "    </tr>\n",
       "    <tr>\n",
       "      <th>7</th>\n",
       "      <td>1007</td>\n",
       "      <td>65</td>\n",
       "      <td>NaN</td>\n",
       "      <td>Москва</td>\n",
       "      <td>Юна</td>\n",
       "      <td>Березина</td>\n",
       "      <td>2018-04-19</td>\n",
       "      <td>smart</td>\n",
       "    </tr>\n",
       "    <tr>\n",
       "      <th>8</th>\n",
       "      <td>1008</td>\n",
       "      <td>63</td>\n",
       "      <td>NaN</td>\n",
       "      <td>Челябинск</td>\n",
       "      <td>Рустэм</td>\n",
       "      <td>Пономарёв</td>\n",
       "      <td>2018-12-19</td>\n",
       "      <td>smart</td>\n",
       "    </tr>\n",
       "    <tr>\n",
       "      <th>9</th>\n",
       "      <td>1009</td>\n",
       "      <td>24</td>\n",
       "      <td>NaN</td>\n",
       "      <td>Пермь</td>\n",
       "      <td>Василиса</td>\n",
       "      <td>Блинова</td>\n",
       "      <td>2018-03-22</td>\n",
       "      <td>smart</td>\n",
       "    </tr>\n",
       "  </tbody>\n",
       "</table>\n",
       "</div>"
      ],
      "text/plain": [
       "   user_id  age churn_date              city first_name  last_name  \\\n",
       "0     1000   52        NaN         Краснодар     Рафаил  Верещагин   \n",
       "1     1001   41        NaN            Москва       Иван       Ежов   \n",
       "2     1002   59        NaN       Стерлитамак    Евгений  Абрамович   \n",
       "3     1003   23        NaN            Москва      Белла   Белякова   \n",
       "4     1004   68        NaN       Новокузнецк    Татьяна   Авдеенко   \n",
       "5     1005   67        NaN  Набережные Челны   Афанасий     Горлов   \n",
       "6     1006   21        NaN         Ульяновск     Леонид   Ермолаев   \n",
       "7     1007   65        NaN            Москва        Юна   Березина   \n",
       "8     1008   63        NaN         Челябинск     Рустэм  Пономарёв   \n",
       "9     1009   24        NaN             Пермь   Василиса    Блинова   \n",
       "\n",
       "     reg_date tariff  \n",
       "0  2018-05-25  ultra  \n",
       "1  2018-11-01  smart  \n",
       "2  2018-06-17  smart  \n",
       "3  2018-08-17  ultra  \n",
       "4  2018-05-14  ultra  \n",
       "5  2018-01-25  smart  \n",
       "6  2018-02-26  smart  \n",
       "7  2018-04-19  smart  \n",
       "8  2018-12-19  smart  \n",
       "9  2018-03-22  smart  "
      ]
     },
     "execution_count": 3,
     "metadata": {},
     "output_type": "execute_result"
    }
   ],
   "source": [
    "df_users.head(10)"
   ]
  },
  {
   "cell_type": "code",
   "execution_count": 4,
   "id": "71b61fdc",
   "metadata": {},
   "outputs": [
    {
     "name": "stdout",
     "output_type": "stream",
     "text": [
      "<class 'pandas.core.frame.DataFrame'>\n",
      "RangeIndex: 500 entries, 0 to 499\n",
      "Data columns (total 8 columns):\n",
      " #   Column      Non-Null Count  Dtype \n",
      "---  ------      --------------  ----- \n",
      " 0   user_id     500 non-null    int64 \n",
      " 1   age         500 non-null    int64 \n",
      " 2   churn_date  38 non-null     object\n",
      " 3   city        500 non-null    object\n",
      " 4   first_name  500 non-null    object\n",
      " 5   last_name   500 non-null    object\n",
      " 6   reg_date    500 non-null    object\n",
      " 7   tariff      500 non-null    object\n",
      "dtypes: int64(2), object(6)\n",
      "memory usage: 229.6 KB\n"
     ]
    }
   ],
   "source": [
    "df_users.info(memory_usage='deep')"
   ]
  },
  {
   "cell_type": "code",
   "execution_count": 5,
   "id": "21a84d8d",
   "metadata": {},
   "outputs": [
    {
     "name": "stdout",
     "output_type": "stream",
     "text": [
      "Число дубликатов: 0\n"
     ]
    }
   ],
   "source": [
    "print(f'Число дубликатов: {df_users.duplicated().sum()}')"
   ]
  },
  {
   "cell_type": "code",
   "execution_count": 6,
   "id": "e5297cae",
   "metadata": {},
   "outputs": [
    {
     "data": {
      "text/plain": [
       "count   500.00\n",
       "mean     46.59\n",
       "std      16.67\n",
       "min      18.00\n",
       "25%      32.00\n",
       "50%      46.00\n",
       "75%      62.00\n",
       "max      75.00\n",
       "Name: age, dtype: float64"
      ]
     },
     "execution_count": 6,
     "metadata": {},
     "output_type": "execute_result"
    }
   ],
   "source": [
    "df_users['age'].describe()"
   ]
  },
  {
   "cell_type": "code",
   "execution_count": 7,
   "id": "69da675e",
   "metadata": {},
   "outputs": [
    {
     "data": {
      "text/html": [
       "<div>\n",
       "<style scoped>\n",
       "    .dataframe tbody tr th:only-of-type {\n",
       "        vertical-align: middle;\n",
       "    }\n",
       "\n",
       "    .dataframe tbody tr th {\n",
       "        vertical-align: top;\n",
       "    }\n",
       "\n",
       "    .dataframe thead th {\n",
       "        text-align: right;\n",
       "    }\n",
       "</style>\n",
       "<table border=\"1\" class=\"dataframe\">\n",
       "  <thead>\n",
       "    <tr style=\"text-align: right;\">\n",
       "      <th></th>\n",
       "      <th>churn_date</th>\n",
       "      <th>city</th>\n",
       "      <th>first_name</th>\n",
       "      <th>last_name</th>\n",
       "      <th>reg_date</th>\n",
       "      <th>tariff</th>\n",
       "    </tr>\n",
       "  </thead>\n",
       "  <tbody>\n",
       "    <tr>\n",
       "      <th>count</th>\n",
       "      <td>38</td>\n",
       "      <td>500</td>\n",
       "      <td>500</td>\n",
       "      <td>500</td>\n",
       "      <td>500</td>\n",
       "      <td>500</td>\n",
       "    </tr>\n",
       "    <tr>\n",
       "      <th>unique</th>\n",
       "      <td>33</td>\n",
       "      <td>76</td>\n",
       "      <td>246</td>\n",
       "      <td>419</td>\n",
       "      <td>270</td>\n",
       "      <td>2</td>\n",
       "    </tr>\n",
       "    <tr>\n",
       "      <th>top</th>\n",
       "      <td>2018-10-14</td>\n",
       "      <td>Москва</td>\n",
       "      <td>Радим</td>\n",
       "      <td>Андреенко</td>\n",
       "      <td>2018-05-28</td>\n",
       "      <td>smart</td>\n",
       "    </tr>\n",
       "    <tr>\n",
       "      <th>freq</th>\n",
       "      <td>2</td>\n",
       "      <td>99</td>\n",
       "      <td>6</td>\n",
       "      <td>5</td>\n",
       "      <td>8</td>\n",
       "      <td>351</td>\n",
       "    </tr>\n",
       "  </tbody>\n",
       "</table>\n",
       "</div>"
      ],
      "text/plain": [
       "        churn_date    city first_name  last_name    reg_date tariff\n",
       "count           38     500        500        500         500    500\n",
       "unique          33      76        246        419         270      2\n",
       "top     2018-10-14  Москва      Радим  Андреенко  2018-05-28  smart\n",
       "freq             2      99          6          5           8    351"
      ]
     },
     "execution_count": 7,
     "metadata": {},
     "output_type": "execute_result"
    }
   ],
   "source": [
    "df_users.describe(include=['object'])"
   ]
  },
  {
   "cell_type": "markdown",
   "id": "d6ad1189",
   "metadata": {},
   "source": [
    "**Вывод по датафрейму `df_users`**:\n",
    "\n",
    "1. Стоит оптимизировать хранение числовых и качественных данных.\n",
    "2. Данные столбцов `reg_date` и `churn_date`, дата подключения тарифа, дата прекращения пользования тарифом, соответственно, стоит привести к более удобному для работы типу *datetime64*.\n",
    "3. Пропущенные значения признака `churn_date` не являются ошибкой, а следствие продолжения клиентом использования тарифа.\n",
    "4. Исходная таблица не содержит повторяющихся значений.\n",
    "5. Экстремальные значения признака `age` отсутствуют, количество уникальных значений тарифа соответствует действительности."
   ]
  },
  {
   "cell_type": "markdown",
   "id": "2bfffdc0",
   "metadata": {},
   "source": [
    "### Датафрейм df_calls"
   ]
  },
  {
   "cell_type": "code",
   "execution_count": 8,
   "id": "a8732d61",
   "metadata": {},
   "outputs": [
    {
     "data": {
      "text/html": [
       "<div>\n",
       "<style scoped>\n",
       "    .dataframe tbody tr th:only-of-type {\n",
       "        vertical-align: middle;\n",
       "    }\n",
       "\n",
       "    .dataframe tbody tr th {\n",
       "        vertical-align: top;\n",
       "    }\n",
       "\n",
       "    .dataframe thead th {\n",
       "        text-align: right;\n",
       "    }\n",
       "</style>\n",
       "<table border=\"1\" class=\"dataframe\">\n",
       "  <thead>\n",
       "    <tr style=\"text-align: right;\">\n",
       "      <th></th>\n",
       "      <th>id</th>\n",
       "      <th>call_date</th>\n",
       "      <th>duration</th>\n",
       "      <th>user_id</th>\n",
       "    </tr>\n",
       "  </thead>\n",
       "  <tbody>\n",
       "    <tr>\n",
       "      <th>0</th>\n",
       "      <td>1000_0</td>\n",
       "      <td>2018-07-25</td>\n",
       "      <td>0.00</td>\n",
       "      <td>1000</td>\n",
       "    </tr>\n",
       "    <tr>\n",
       "      <th>1</th>\n",
       "      <td>1000_1</td>\n",
       "      <td>2018-08-17</td>\n",
       "      <td>0.00</td>\n",
       "      <td>1000</td>\n",
       "    </tr>\n",
       "    <tr>\n",
       "      <th>2</th>\n",
       "      <td>1000_2</td>\n",
       "      <td>2018-06-11</td>\n",
       "      <td>2.85</td>\n",
       "      <td>1000</td>\n",
       "    </tr>\n",
       "    <tr>\n",
       "      <th>3</th>\n",
       "      <td>1000_3</td>\n",
       "      <td>2018-09-21</td>\n",
       "      <td>13.80</td>\n",
       "      <td>1000</td>\n",
       "    </tr>\n",
       "    <tr>\n",
       "      <th>4</th>\n",
       "      <td>1000_4</td>\n",
       "      <td>2018-12-15</td>\n",
       "      <td>5.18</td>\n",
       "      <td>1000</td>\n",
       "    </tr>\n",
       "    <tr>\n",
       "      <th>5</th>\n",
       "      <td>1000_5</td>\n",
       "      <td>2018-11-02</td>\n",
       "      <td>0.00</td>\n",
       "      <td>1000</td>\n",
       "    </tr>\n",
       "    <tr>\n",
       "      <th>6</th>\n",
       "      <td>1000_6</td>\n",
       "      <td>2018-10-18</td>\n",
       "      <td>0.00</td>\n",
       "      <td>1000</td>\n",
       "    </tr>\n",
       "    <tr>\n",
       "      <th>7</th>\n",
       "      <td>1000_7</td>\n",
       "      <td>2018-08-22</td>\n",
       "      <td>18.31</td>\n",
       "      <td>1000</td>\n",
       "    </tr>\n",
       "    <tr>\n",
       "      <th>8</th>\n",
       "      <td>1000_8</td>\n",
       "      <td>2018-09-15</td>\n",
       "      <td>18.44</td>\n",
       "      <td>1000</td>\n",
       "    </tr>\n",
       "    <tr>\n",
       "      <th>9</th>\n",
       "      <td>1000_9</td>\n",
       "      <td>2018-08-15</td>\n",
       "      <td>0.00</td>\n",
       "      <td>1000</td>\n",
       "    </tr>\n",
       "  </tbody>\n",
       "</table>\n",
       "</div>"
      ],
      "text/plain": [
       "       id   call_date  duration  user_id\n",
       "0  1000_0  2018-07-25      0.00     1000\n",
       "1  1000_1  2018-08-17      0.00     1000\n",
       "2  1000_2  2018-06-11      2.85     1000\n",
       "3  1000_3  2018-09-21     13.80     1000\n",
       "4  1000_4  2018-12-15      5.18     1000\n",
       "5  1000_5  2018-11-02      0.00     1000\n",
       "6  1000_6  2018-10-18      0.00     1000\n",
       "7  1000_7  2018-08-22     18.31     1000\n",
       "8  1000_8  2018-09-15     18.44     1000\n",
       "9  1000_9  2018-08-15      0.00     1000"
      ]
     },
     "execution_count": 8,
     "metadata": {},
     "output_type": "execute_result"
    }
   ],
   "source": [
    "df_calls.head(10)"
   ]
  },
  {
   "cell_type": "code",
   "execution_count": 9,
   "id": "b76c7ea4",
   "metadata": {},
   "outputs": [
    {
     "name": "stdout",
     "output_type": "stream",
     "text": [
      "<class 'pandas.core.frame.DataFrame'>\n",
      "RangeIndex: 202607 entries, 0 to 202606\n",
      "Data columns (total 4 columns):\n",
      " #   Column     Non-Null Count   Dtype  \n",
      "---  ------     --------------   -----  \n",
      " 0   id         202607 non-null  object \n",
      " 1   call_date  202607 non-null  object \n",
      " 2   duration   202607 non-null  float64\n",
      " 3   user_id    202607 non-null  int64  \n",
      "dtypes: float64(1), int64(1), object(2)\n",
      "memory usage: 28.6 MB\n"
     ]
    }
   ],
   "source": [
    "df_calls.info(memory_usage='deep')"
   ]
  },
  {
   "cell_type": "code",
   "execution_count": 10,
   "id": "8a9ed6f0",
   "metadata": {},
   "outputs": [
    {
     "name": "stdout",
     "output_type": "stream",
     "text": [
      "Число дубликатов: 0\n"
     ]
    }
   ],
   "source": [
    "print(f'Число дубликатов: {df_calls.duplicated().sum()}')"
   ]
  },
  {
   "cell_type": "code",
   "execution_count": 11,
   "id": "56e18cc8",
   "metadata": {},
   "outputs": [
    {
     "data": {
      "text/html": [
       "<div>\n",
       "<style scoped>\n",
       "    .dataframe tbody tr th:only-of-type {\n",
       "        vertical-align: middle;\n",
       "    }\n",
       "\n",
       "    .dataframe tbody tr th {\n",
       "        vertical-align: top;\n",
       "    }\n",
       "\n",
       "    .dataframe thead th {\n",
       "        text-align: right;\n",
       "    }\n",
       "</style>\n",
       "<table border=\"1\" class=\"dataframe\">\n",
       "  <thead>\n",
       "    <tr style=\"text-align: right;\">\n",
       "      <th></th>\n",
       "      <th>duration</th>\n",
       "      <th>user_id</th>\n",
       "    </tr>\n",
       "  </thead>\n",
       "  <tbody>\n",
       "    <tr>\n",
       "      <th>count</th>\n",
       "      <td>202607.00</td>\n",
       "      <td>202607.00</td>\n",
       "    </tr>\n",
       "    <tr>\n",
       "      <th>mean</th>\n",
       "      <td>6.76</td>\n",
       "      <td>1253.94</td>\n",
       "    </tr>\n",
       "    <tr>\n",
       "      <th>std</th>\n",
       "      <td>5.84</td>\n",
       "      <td>144.72</td>\n",
       "    </tr>\n",
       "    <tr>\n",
       "      <th>min</th>\n",
       "      <td>0.00</td>\n",
       "      <td>1000.00</td>\n",
       "    </tr>\n",
       "    <tr>\n",
       "      <th>25%</th>\n",
       "      <td>1.30</td>\n",
       "      <td>1126.00</td>\n",
       "    </tr>\n",
       "    <tr>\n",
       "      <th>50%</th>\n",
       "      <td>6.00</td>\n",
       "      <td>1260.00</td>\n",
       "    </tr>\n",
       "    <tr>\n",
       "      <th>75%</th>\n",
       "      <td>10.70</td>\n",
       "      <td>1379.00</td>\n",
       "    </tr>\n",
       "    <tr>\n",
       "      <th>max</th>\n",
       "      <td>38.00</td>\n",
       "      <td>1499.00</td>\n",
       "    </tr>\n",
       "  </tbody>\n",
       "</table>\n",
       "</div>"
      ],
      "text/plain": [
       "       duration   user_id\n",
       "count 202607.00 202607.00\n",
       "mean       6.76   1253.94\n",
       "std        5.84    144.72\n",
       "min        0.00   1000.00\n",
       "25%        1.30   1126.00\n",
       "50%        6.00   1260.00\n",
       "75%       10.70   1379.00\n",
       "max       38.00   1499.00"
      ]
     },
     "execution_count": 11,
     "metadata": {},
     "output_type": "execute_result"
    }
   ],
   "source": [
    "df_calls.describe()"
   ]
  },
  {
   "cell_type": "markdown",
   "id": "329e833a",
   "metadata": {},
   "source": [
    "**Вывод по датафрейму `df_calls`**:\n",
    "\n",
    "1. Стоит оптимизировать хранение числовых данных.\n",
    "2. С учетом того, что «Мегалайн» всегда округляет секунды до минут, необходимо округлить в большую сторону значения признака `duration`.\n",
    "3. Данные столбца `call_date`, дата звонка, стоит привести к более удобному для работы типу *datetime64*.\n",
    "4. Нулевые значения признака `duration` не являются ошибкой: нулями обозначены пропущенные звонки.\n",
    "5. Исходная таблица не содержит повторяющихся и пропущенных значений."
   ]
  },
  {
   "cell_type": "markdown",
   "id": "3d3e2915",
   "metadata": {},
   "source": [
    "### Датафрейм df_messages"
   ]
  },
  {
   "cell_type": "code",
   "execution_count": 12,
   "id": "75861125",
   "metadata": {},
   "outputs": [
    {
     "data": {
      "text/html": [
       "<div>\n",
       "<style scoped>\n",
       "    .dataframe tbody tr th:only-of-type {\n",
       "        vertical-align: middle;\n",
       "    }\n",
       "\n",
       "    .dataframe tbody tr th {\n",
       "        vertical-align: top;\n",
       "    }\n",
       "\n",
       "    .dataframe thead th {\n",
       "        text-align: right;\n",
       "    }\n",
       "</style>\n",
       "<table border=\"1\" class=\"dataframe\">\n",
       "  <thead>\n",
       "    <tr style=\"text-align: right;\">\n",
       "      <th></th>\n",
       "      <th>id</th>\n",
       "      <th>message_date</th>\n",
       "      <th>user_id</th>\n",
       "    </tr>\n",
       "  </thead>\n",
       "  <tbody>\n",
       "    <tr>\n",
       "      <th>0</th>\n",
       "      <td>1000_0</td>\n",
       "      <td>2018-06-27</td>\n",
       "      <td>1000</td>\n",
       "    </tr>\n",
       "    <tr>\n",
       "      <th>1</th>\n",
       "      <td>1000_1</td>\n",
       "      <td>2018-10-08</td>\n",
       "      <td>1000</td>\n",
       "    </tr>\n",
       "    <tr>\n",
       "      <th>2</th>\n",
       "      <td>1000_2</td>\n",
       "      <td>2018-08-04</td>\n",
       "      <td>1000</td>\n",
       "    </tr>\n",
       "    <tr>\n",
       "      <th>3</th>\n",
       "      <td>1000_3</td>\n",
       "      <td>2018-06-16</td>\n",
       "      <td>1000</td>\n",
       "    </tr>\n",
       "    <tr>\n",
       "      <th>4</th>\n",
       "      <td>1000_4</td>\n",
       "      <td>2018-12-05</td>\n",
       "      <td>1000</td>\n",
       "    </tr>\n",
       "    <tr>\n",
       "      <th>5</th>\n",
       "      <td>1000_5</td>\n",
       "      <td>2018-06-20</td>\n",
       "      <td>1000</td>\n",
       "    </tr>\n",
       "    <tr>\n",
       "      <th>6</th>\n",
       "      <td>1000_6</td>\n",
       "      <td>2018-11-19</td>\n",
       "      <td>1000</td>\n",
       "    </tr>\n",
       "    <tr>\n",
       "      <th>7</th>\n",
       "      <td>1000_7</td>\n",
       "      <td>2018-10-29</td>\n",
       "      <td>1000</td>\n",
       "    </tr>\n",
       "    <tr>\n",
       "      <th>8</th>\n",
       "      <td>1000_8</td>\n",
       "      <td>2018-06-25</td>\n",
       "      <td>1000</td>\n",
       "    </tr>\n",
       "    <tr>\n",
       "      <th>9</th>\n",
       "      <td>1000_9</td>\n",
       "      <td>2018-12-18</td>\n",
       "      <td>1000</td>\n",
       "    </tr>\n",
       "  </tbody>\n",
       "</table>\n",
       "</div>"
      ],
      "text/plain": [
       "       id message_date  user_id\n",
       "0  1000_0   2018-06-27     1000\n",
       "1  1000_1   2018-10-08     1000\n",
       "2  1000_2   2018-08-04     1000\n",
       "3  1000_3   2018-06-16     1000\n",
       "4  1000_4   2018-12-05     1000\n",
       "5  1000_5   2018-06-20     1000\n",
       "6  1000_6   2018-11-19     1000\n",
       "7  1000_7   2018-10-29     1000\n",
       "8  1000_8   2018-06-25     1000\n",
       "9  1000_9   2018-12-18     1000"
      ]
     },
     "execution_count": 12,
     "metadata": {},
     "output_type": "execute_result"
    }
   ],
   "source": [
    "df_messages.head(10)"
   ]
  },
  {
   "cell_type": "code",
   "execution_count": 13,
   "id": "9164e581",
   "metadata": {},
   "outputs": [
    {
     "name": "stdout",
     "output_type": "stream",
     "text": [
      "<class 'pandas.core.frame.DataFrame'>\n",
      "RangeIndex: 123036 entries, 0 to 123035\n",
      "Data columns (total 3 columns):\n",
      " #   Column        Non-Null Count   Dtype \n",
      "---  ------        --------------   ----- \n",
      " 0   id            123036 non-null  object\n",
      " 1   message_date  123036 non-null  object\n",
      " 2   user_id       123036 non-null  int64 \n",
      "dtypes: int64(1), object(2)\n",
      "memory usage: 16.4 MB\n"
     ]
    }
   ],
   "source": [
    "df_messages.info(memory_usage='deep')"
   ]
  },
  {
   "cell_type": "code",
   "execution_count": 14,
   "id": "e7dacd52",
   "metadata": {},
   "outputs": [
    {
     "name": "stdout",
     "output_type": "stream",
     "text": [
      "Число дубликатов: 0\n"
     ]
    }
   ],
   "source": [
    "print(f'Число дубликатов: {df_messages.duplicated().sum()}')"
   ]
  },
  {
   "cell_type": "markdown",
   "id": "7c6078ff",
   "metadata": {},
   "source": [
    "**Вывод по датафрейму `df_messages`**:\n",
    "\n",
    "1. Стоит оптимизировать хранение числовых данных.\n",
    "2. Данные столбца `message_date`, дата звонка, стоит привести к более удобному для работы типу *datetime64*.\n",
    "3. Исходная таблица не содержит повторяющихся и пропущенных значений."
   ]
  },
  {
   "cell_type": "markdown",
   "id": "fbf2976f",
   "metadata": {},
   "source": [
    "### Датафрейм df_internet"
   ]
  },
  {
   "cell_type": "code",
   "execution_count": 15,
   "id": "63496460",
   "metadata": {},
   "outputs": [
    {
     "data": {
      "text/html": [
       "<div>\n",
       "<style scoped>\n",
       "    .dataframe tbody tr th:only-of-type {\n",
       "        vertical-align: middle;\n",
       "    }\n",
       "\n",
       "    .dataframe tbody tr th {\n",
       "        vertical-align: top;\n",
       "    }\n",
       "\n",
       "    .dataframe thead th {\n",
       "        text-align: right;\n",
       "    }\n",
       "</style>\n",
       "<table border=\"1\" class=\"dataframe\">\n",
       "  <thead>\n",
       "    <tr style=\"text-align: right;\">\n",
       "      <th></th>\n",
       "      <th>Unnamed: 0</th>\n",
       "      <th>id</th>\n",
       "      <th>mb_used</th>\n",
       "      <th>session_date</th>\n",
       "      <th>user_id</th>\n",
       "    </tr>\n",
       "  </thead>\n",
       "  <tbody>\n",
       "    <tr>\n",
       "      <th>0</th>\n",
       "      <td>0</td>\n",
       "      <td>1000_0</td>\n",
       "      <td>112.95</td>\n",
       "      <td>2018-11-25</td>\n",
       "      <td>1000</td>\n",
       "    </tr>\n",
       "    <tr>\n",
       "      <th>1</th>\n",
       "      <td>1</td>\n",
       "      <td>1000_1</td>\n",
       "      <td>1052.81</td>\n",
       "      <td>2018-09-07</td>\n",
       "      <td>1000</td>\n",
       "    </tr>\n",
       "    <tr>\n",
       "      <th>2</th>\n",
       "      <td>2</td>\n",
       "      <td>1000_2</td>\n",
       "      <td>1197.26</td>\n",
       "      <td>2018-06-25</td>\n",
       "      <td>1000</td>\n",
       "    </tr>\n",
       "    <tr>\n",
       "      <th>3</th>\n",
       "      <td>3</td>\n",
       "      <td>1000_3</td>\n",
       "      <td>550.27</td>\n",
       "      <td>2018-08-22</td>\n",
       "      <td>1000</td>\n",
       "    </tr>\n",
       "    <tr>\n",
       "      <th>4</th>\n",
       "      <td>4</td>\n",
       "      <td>1000_4</td>\n",
       "      <td>302.56</td>\n",
       "      <td>2018-09-24</td>\n",
       "      <td>1000</td>\n",
       "    </tr>\n",
       "    <tr>\n",
       "      <th>5</th>\n",
       "      <td>5</td>\n",
       "      <td>1000_5</td>\n",
       "      <td>399.97</td>\n",
       "      <td>2018-10-02</td>\n",
       "      <td>1000</td>\n",
       "    </tr>\n",
       "    <tr>\n",
       "      <th>6</th>\n",
       "      <td>6</td>\n",
       "      <td>1000_6</td>\n",
       "      <td>540.08</td>\n",
       "      <td>2018-09-07</td>\n",
       "      <td>1000</td>\n",
       "    </tr>\n",
       "    <tr>\n",
       "      <th>7</th>\n",
       "      <td>7</td>\n",
       "      <td>1000_7</td>\n",
       "      <td>415.70</td>\n",
       "      <td>2018-07-11</td>\n",
       "      <td>1000</td>\n",
       "    </tr>\n",
       "    <tr>\n",
       "      <th>8</th>\n",
       "      <td>8</td>\n",
       "      <td>1000_8</td>\n",
       "      <td>505.40</td>\n",
       "      <td>2018-10-08</td>\n",
       "      <td>1000</td>\n",
       "    </tr>\n",
       "    <tr>\n",
       "      <th>9</th>\n",
       "      <td>9</td>\n",
       "      <td>1000_9</td>\n",
       "      <td>345.54</td>\n",
       "      <td>2018-09-03</td>\n",
       "      <td>1000</td>\n",
       "    </tr>\n",
       "  </tbody>\n",
       "</table>\n",
       "</div>"
      ],
      "text/plain": [
       "   Unnamed: 0      id  mb_used session_date  user_id\n",
       "0           0  1000_0   112.95   2018-11-25     1000\n",
       "1           1  1000_1  1052.81   2018-09-07     1000\n",
       "2           2  1000_2  1197.26   2018-06-25     1000\n",
       "3           3  1000_3   550.27   2018-08-22     1000\n",
       "4           4  1000_4   302.56   2018-09-24     1000\n",
       "5           5  1000_5   399.97   2018-10-02     1000\n",
       "6           6  1000_6   540.08   2018-09-07     1000\n",
       "7           7  1000_7   415.70   2018-07-11     1000\n",
       "8           8  1000_8   505.40   2018-10-08     1000\n",
       "9           9  1000_9   345.54   2018-09-03     1000"
      ]
     },
     "execution_count": 15,
     "metadata": {},
     "output_type": "execute_result"
    }
   ],
   "source": [
    "df_internet.head(10)"
   ]
  },
  {
   "cell_type": "code",
   "execution_count": 16,
   "id": "898f797b",
   "metadata": {},
   "outputs": [
    {
     "name": "stdout",
     "output_type": "stream",
     "text": [
      "<class 'pandas.core.frame.DataFrame'>\n",
      "RangeIndex: 149396 entries, 0 to 149395\n",
      "Data columns (total 5 columns):\n",
      " #   Column        Non-Null Count   Dtype  \n",
      "---  ------        --------------   -----  \n",
      " 0   Unnamed: 0    149396 non-null  int64  \n",
      " 1   id            149396 non-null  object \n",
      " 2   mb_used       149396 non-null  float64\n",
      " 3   session_date  149396 non-null  object \n",
      " 4   user_id       149396 non-null  int64  \n",
      "dtypes: float64(1), int64(2), object(2)\n",
      "memory usage: 22.2 MB\n"
     ]
    }
   ],
   "source": [
    "df_internet.info(memory_usage='deep')"
   ]
  },
  {
   "cell_type": "code",
   "execution_count": 17,
   "id": "461fb34d",
   "metadata": {},
   "outputs": [
    {
     "name": "stdout",
     "output_type": "stream",
     "text": [
      "Число дубликатов: 0\n"
     ]
    }
   ],
   "source": [
    "print(f'Число дубликатов: {df_internet.duplicated().sum()}')"
   ]
  },
  {
   "cell_type": "code",
   "execution_count": 18,
   "id": "353f3daa",
   "metadata": {},
   "outputs": [
    {
     "data": {
      "text/html": [
       "<div>\n",
       "<style scoped>\n",
       "    .dataframe tbody tr th:only-of-type {\n",
       "        vertical-align: middle;\n",
       "    }\n",
       "\n",
       "    .dataframe tbody tr th {\n",
       "        vertical-align: top;\n",
       "    }\n",
       "\n",
       "    .dataframe thead th {\n",
       "        text-align: right;\n",
       "    }\n",
       "</style>\n",
       "<table border=\"1\" class=\"dataframe\">\n",
       "  <thead>\n",
       "    <tr style=\"text-align: right;\">\n",
       "      <th></th>\n",
       "      <th>Unnamed: 0</th>\n",
       "      <th>mb_used</th>\n",
       "      <th>user_id</th>\n",
       "    </tr>\n",
       "  </thead>\n",
       "  <tbody>\n",
       "    <tr>\n",
       "      <th>count</th>\n",
       "      <td>149396.00</td>\n",
       "      <td>149396.00</td>\n",
       "      <td>149396.00</td>\n",
       "    </tr>\n",
       "    <tr>\n",
       "      <th>mean</th>\n",
       "      <td>74697.50</td>\n",
       "      <td>370.19</td>\n",
       "      <td>1252.10</td>\n",
       "    </tr>\n",
       "    <tr>\n",
       "      <th>std</th>\n",
       "      <td>43127.05</td>\n",
       "      <td>278.30</td>\n",
       "      <td>144.05</td>\n",
       "    </tr>\n",
       "    <tr>\n",
       "      <th>min</th>\n",
       "      <td>0.00</td>\n",
       "      <td>0.00</td>\n",
       "      <td>1000.00</td>\n",
       "    </tr>\n",
       "    <tr>\n",
       "      <th>25%</th>\n",
       "      <td>37348.75</td>\n",
       "      <td>138.19</td>\n",
       "      <td>1130.00</td>\n",
       "    </tr>\n",
       "    <tr>\n",
       "      <th>50%</th>\n",
       "      <td>74697.50</td>\n",
       "      <td>348.01</td>\n",
       "      <td>1251.00</td>\n",
       "    </tr>\n",
       "    <tr>\n",
       "      <th>75%</th>\n",
       "      <td>112046.25</td>\n",
       "      <td>559.55</td>\n",
       "      <td>1380.00</td>\n",
       "    </tr>\n",
       "    <tr>\n",
       "      <th>max</th>\n",
       "      <td>149395.00</td>\n",
       "      <td>1724.83</td>\n",
       "      <td>1499.00</td>\n",
       "    </tr>\n",
       "  </tbody>\n",
       "</table>\n",
       "</div>"
      ],
      "text/plain": [
       "       Unnamed: 0   mb_used   user_id\n",
       "count   149396.00 149396.00 149396.00\n",
       "mean     74697.50    370.19   1252.10\n",
       "std      43127.05    278.30    144.05\n",
       "min          0.00      0.00   1000.00\n",
       "25%      37348.75    138.19   1130.00\n",
       "50%      74697.50    348.01   1251.00\n",
       "75%     112046.25    559.55   1380.00\n",
       "max     149395.00   1724.83   1499.00"
      ]
     },
     "execution_count": 18,
     "metadata": {},
     "output_type": "execute_result"
    }
   ],
   "source": [
    "df_internet.describe()"
   ]
  },
  {
   "cell_type": "markdown",
   "id": "216c1dab",
   "metadata": {},
   "source": [
    "**Вывод по датафрейму `df_internet`**:\n",
    "\n",
    "1. Стоит удалить столбец `Unnamed: 0`, так как он дублирует индексы.\n",
    "2. Стоит оптимизировать хранение числовых данных.\n",
    "3. Данные столбца `session_date`, дата звонка, стоит привести к более удобному для работы типу *datetime64*.\n",
    "4. Исходная таблица не содержит повторяющихся и пропущенных значений."
   ]
  },
  {
   "cell_type": "markdown",
   "id": "45a456b3",
   "metadata": {},
   "source": [
    "### Датафрейм df_tariffs"
   ]
  },
  {
   "cell_type": "code",
   "execution_count": 19,
   "id": "774b2143",
   "metadata": {},
   "outputs": [
    {
     "data": {
      "text/html": [
       "<div>\n",
       "<style scoped>\n",
       "    .dataframe tbody tr th:only-of-type {\n",
       "        vertical-align: middle;\n",
       "    }\n",
       "\n",
       "    .dataframe tbody tr th {\n",
       "        vertical-align: top;\n",
       "    }\n",
       "\n",
       "    .dataframe thead th {\n",
       "        text-align: right;\n",
       "    }\n",
       "</style>\n",
       "<table border=\"1\" class=\"dataframe\">\n",
       "  <thead>\n",
       "    <tr style=\"text-align: right;\">\n",
       "      <th></th>\n",
       "      <th>messages_included</th>\n",
       "      <th>mb_per_month_included</th>\n",
       "      <th>minutes_included</th>\n",
       "      <th>rub_monthly_fee</th>\n",
       "      <th>rub_per_gb</th>\n",
       "      <th>rub_per_message</th>\n",
       "      <th>rub_per_minute</th>\n",
       "      <th>tariff_name</th>\n",
       "    </tr>\n",
       "  </thead>\n",
       "  <tbody>\n",
       "    <tr>\n",
       "      <th>0</th>\n",
       "      <td>50</td>\n",
       "      <td>15360</td>\n",
       "      <td>500</td>\n",
       "      <td>550</td>\n",
       "      <td>200</td>\n",
       "      <td>3</td>\n",
       "      <td>3</td>\n",
       "      <td>smart</td>\n",
       "    </tr>\n",
       "    <tr>\n",
       "      <th>1</th>\n",
       "      <td>1000</td>\n",
       "      <td>30720</td>\n",
       "      <td>3000</td>\n",
       "      <td>1950</td>\n",
       "      <td>150</td>\n",
       "      <td>1</td>\n",
       "      <td>1</td>\n",
       "      <td>ultra</td>\n",
       "    </tr>\n",
       "  </tbody>\n",
       "</table>\n",
       "</div>"
      ],
      "text/plain": [
       "   messages_included  mb_per_month_included  minutes_included  \\\n",
       "0                 50                  15360               500   \n",
       "1               1000                  30720              3000   \n",
       "\n",
       "   rub_monthly_fee  rub_per_gb  rub_per_message  rub_per_minute tariff_name  \n",
       "0              550         200                3               3       smart  \n",
       "1             1950         150                1               1       ultra  "
      ]
     },
     "execution_count": 19,
     "metadata": {},
     "output_type": "execute_result"
    }
   ],
   "source": [
    "df_tariffs.head()"
   ]
  },
  {
   "cell_type": "code",
   "execution_count": 20,
   "id": "786d3022",
   "metadata": {},
   "outputs": [
    {
     "name": "stdout",
     "output_type": "stream",
     "text": [
      "<class 'pandas.core.frame.DataFrame'>\n",
      "RangeIndex: 2 entries, 0 to 1\n",
      "Data columns (total 8 columns):\n",
      " #   Column                 Non-Null Count  Dtype \n",
      "---  ------                 --------------  ----- \n",
      " 0   messages_included      2 non-null      int64 \n",
      " 1   mb_per_month_included  2 non-null      int64 \n",
      " 2   minutes_included       2 non-null      int64 \n",
      " 3   rub_monthly_fee        2 non-null      int64 \n",
      " 4   rub_per_gb             2 non-null      int64 \n",
      " 5   rub_per_message        2 non-null      int64 \n",
      " 6   rub_per_minute         2 non-null      int64 \n",
      " 7   tariff_name            2 non-null      object\n",
      "dtypes: int64(7), object(1)\n",
      "memory usage: 364.0 bytes\n"
     ]
    }
   ],
   "source": [
    "df_tariffs.info(memory_usage='deep')"
   ]
  },
  {
   "cell_type": "markdown",
   "id": "0dcf6924",
   "metadata": {},
   "source": [
    "**Вывод по датафрейму `df_tariffs`:**\n",
    "\n",
    "1. Справочная таблица. Содержит в себе информацию об исследуемых тарифах."
   ]
  },
  {
   "cell_type": "markdown",
   "id": "537b42bc",
   "metadata": {},
   "source": [
    "## Предобработка данных"
   ]
  },
  {
   "cell_type": "markdown",
   "id": "539dce0d",
   "metadata": {},
   "source": [
    "### Изменение типа данных и добавление нового признака"
   ]
  },
  {
   "cell_type": "markdown",
   "id": "19695707",
   "metadata": {},
   "source": [
    "Проведем предобработку данных, согласно выводам по каждому датафрейму, указанным в *п.1*. Также для датафреймов `df_calls`, `df_messages`, `df_internet` добавим признак `month`, месяц соответствующей операции."
   ]
  },
  {
   "cell_type": "code",
   "execution_count": 21,
   "id": "43968a4e",
   "metadata": {},
   "outputs": [],
   "source": [
    "df_internet = df_internet.drop('Unnamed: 0', axis=1)"
   ]
  },
  {
   "cell_type": "code",
   "execution_count": 22,
   "id": "16a4f6c8",
   "metadata": {},
   "outputs": [],
   "source": [
    "df_calls['duration'] = np.ceil(df_calls['duration'])\n",
    "df_calls['duration'] = np.ceil(df_calls['duration'])"
   ]
  },
  {
   "cell_type": "code",
   "execution_count": 23,
   "id": "e7a0aa05",
   "metadata": {},
   "outputs": [
    {
     "name": "stdout",
     "output_type": "stream",
     "text": [
      "<class 'pandas.core.frame.DataFrame'>\n",
      "RangeIndex: 500 entries, 0 to 499\n",
      "Data columns (total 8 columns):\n",
      " #   Column      Non-Null Count  Dtype         \n",
      "---  ------      --------------  -----         \n",
      " 0   user_id     500 non-null    uint16        \n",
      " 1   age         500 non-null    uint8         \n",
      " 2   churn_date  38 non-null     datetime64[ns]\n",
      " 3   city        500 non-null    category      \n",
      " 4   first_name  500 non-null    object        \n",
      " 5   last_name   500 non-null    object        \n",
      " 6   reg_date    500 non-null    datetime64[ns]\n",
      " 7   tariff      500 non-null    category      \n",
      "dtypes: category(2), datetime64[ns](2), object(2), uint16(1), uint8(1)\n",
      "memory usage: 129.4 KB\n",
      "\n",
      "<class 'pandas.core.frame.DataFrame'>\n",
      "RangeIndex: 202607 entries, 0 to 202606\n",
      "Data columns (total 5 columns):\n",
      " #   Column     Non-Null Count   Dtype         \n",
      "---  ------     --------------   -----         \n",
      " 0   id         202607 non-null  object        \n",
      " 1   call_date  202607 non-null  datetime64[ns]\n",
      " 2   duration   202607 non-null  float32       \n",
      " 3   user_id    202607 non-null  uint16        \n",
      " 4   month      202607 non-null  uint8         \n",
      "dtypes: datetime64[ns](1), float32(1), object(1), uint16(1), uint8(1)\n",
      "memory usage: 15.4 MB\n",
      "\n",
      "<class 'pandas.core.frame.DataFrame'>\n",
      "RangeIndex: 123036 entries, 0 to 123035\n",
      "Data columns (total 4 columns):\n",
      " #   Column        Non-Null Count   Dtype         \n",
      "---  ------        --------------   -----         \n",
      " 0   id            123036 non-null  object        \n",
      " 1   message_date  123036 non-null  datetime64[ns]\n",
      " 2   user_id       123036 non-null  uint16        \n",
      " 3   month         123036 non-null  uint8         \n",
      "dtypes: datetime64[ns](1), object(1), uint16(1), uint8(1)\n",
      "memory usage: 8.9 MB\n",
      "\n",
      "<class 'pandas.core.frame.DataFrame'>\n",
      "RangeIndex: 149396 entries, 0 to 149395\n",
      "Data columns (total 5 columns):\n",
      " #   Column        Non-Null Count   Dtype         \n",
      "---  ------        --------------   -----         \n",
      " 0   id            149396 non-null  object        \n",
      " 1   mb_used       149396 non-null  float32       \n",
      " 2   session_date  149396 non-null  datetime64[ns]\n",
      " 3   user_id       149396 non-null  uint16        \n",
      " 4   month         149396 non-null  uint8         \n",
      "dtypes: datetime64[ns](1), float32(1), object(1), uint16(1), uint8(1)\n",
      "memory usage: 11.3 MB\n",
      "\n"
     ]
    }
   ],
   "source": [
    "for df in [df_users, df_calls, df_messages, df_internet]:\n",
    "    \n",
    "    for column in df.columns:\n",
    "        \n",
    "# работа с датой     \n",
    "\n",
    "        if '_date' in column: \n",
    "            if column not in ('churn_date', 'reg_date'):\n",
    "                df[column] = pd.to_datetime(df[column], format='%Y-%m-%d')\n",
    "                df['month'] = df[column].dt.month\n",
    "            else:\n",
    "                df[column] = pd.to_datetime(df[column], format='%Y-%m-%d')\n",
    "                \n",
    "# работа с категориальными признаками \n",
    "\n",
    "        elif column in ('tariff', 'city'):\n",
    "            if len(df[column].unique()) / len(df[column]) < 0.5:\n",
    "                df[column] = df[column].astype('category')\n",
    "    \n",
    "# работа с количественными признаками типа int\n",
    "\n",
    "    converted_unsigned = df.select_dtypes(include=['int64']).apply(pd.to_numeric, downcast='unsigned')\n",
    "    for column in converted_unsigned.columns:\n",
    "        df[column] = converted_unsigned[column]\n",
    "        \n",
    "# работа с количественными признаками типа float\n",
    "\n",
    "    converted_float = df.select_dtypes(include=['float64']).apply(pd.to_numeric, downcast='float')\n",
    "    for column in converted_float.columns:\n",
    "        df[column] = converted_float[column]\n",
    "              \n",
    "    df.info(memory_usage='deep')\n",
    "    print()"
   ]
  },
  {
   "cell_type": "markdown",
   "id": "fb9aed3d",
   "metadata": {},
   "source": [
    "**Вывод:** проведена оптимизация хранения количественных и качественных данных, добавлен новый признак `month`, вычисленный на основе даты проведения соотвествующей операции."
   ]
  },
  {
   "cell_type": "markdown",
   "id": "46b462fb",
   "metadata": {},
   "source": [
    "### Агрегирование данных"
   ]
  },
  {
   "cell_type": "markdown",
   "id": "24a9079b",
   "metadata": {},
   "source": [
    "**Необходимо посчитать для каждого пользователя:**\n",
    "- количество сделанных звонков и израсходованных минут разговора по месяцам;\n",
    "- количество отправленных сообщений по месяцам;\n",
    "- объем израсходованного интернет-трафика по месяцам;\n",
    "- помесячную выручку с каждого пользователя."
   ]
  },
  {
   "cell_type": "markdown",
   "id": "ec473560",
   "metadata": {},
   "source": [
    "Для проведения дальнейшего исследования необходимо собрать релевантные для анализа данные в разрезе пользователь/месяц в общую сводную таблицу."
   ]
  },
  {
   "cell_type": "code",
   "execution_count": 24,
   "id": "4850abc7",
   "metadata": {},
   "outputs": [
    {
     "name": "stdout",
     "output_type": "stream",
     "text": [
      "Количество пропущенных значений: 588\n"
     ]
    }
   ],
   "source": [
    "df_calls_pv = df_calls.pivot_table(index=['user_id', 'month'], \n",
    "                                   values='duration', \n",
    "                                   aggfunc=['count', 'sum'])\n",
    "df_messages_pv = df_messages.pivot_table(index=['user_id', 'month'], \n",
    "                                         values='id', \n",
    "                                         aggfunc=['count'])\n",
    "df_internet_pv = df_internet.pivot_table(index=['user_id', 'month'], \n",
    "                                         values='mb_used', \n",
    "                                         aggfunc=['sum'])\n",
    "\n",
    "df = df_calls_pv.merge(df_messages_pv, on=['user_id', 'month'], how='outer')\n",
    "df = df.merge(df_internet_pv, on=['user_id', 'month'], how='outer')\n",
    "df = df.reset_index()\n",
    "print(f'Количество пропущенных значений: {df.isna().sum().sum()}')"
   ]
  },
  {
   "cell_type": "markdown",
   "id": "8f4f54ff",
   "metadata": {},
   "source": [
    "Так как не все пользователи используют полный набор услуг, то в общей сводной таблице присутствуют пропущенные значения. Их стоит заменить на *0*"
   ]
  },
  {
   "cell_type": "code",
   "execution_count": 25,
   "id": "19b52ebb",
   "metadata": {},
   "outputs": [],
   "source": [
    "df.columns = ['user_id', 'month', 'calls_counts', 'minutes_used', 'messages_used', 'mb_used']\n",
    "df = df.fillna(0)"
   ]
  },
  {
   "cell_type": "code",
   "execution_count": 26,
   "id": "d9ddf71f",
   "metadata": {},
   "outputs": [],
   "source": [
    "map_to_fill_tariff = dict(pd.Series(df_users['tariff'].values, index=df_users['user_id']))\n",
    "df['tariff'] = df['user_id'].map(map_to_fill_tariff)\n",
    "\n",
    "map_to_fill_city = dict(pd.Series(df_users['city'].values, index=df_users['user_id']))\n",
    "df['city'] = df['user_id'].map(map_to_fill_city)"
   ]
  },
  {
   "cell_type": "code",
   "execution_count": 27,
   "id": "dcbe8721",
   "metadata": {},
   "outputs": [
    {
     "data": {
      "text/html": [
       "<div>\n",
       "<style scoped>\n",
       "    .dataframe tbody tr th:only-of-type {\n",
       "        vertical-align: middle;\n",
       "    }\n",
       "\n",
       "    .dataframe tbody tr th {\n",
       "        vertical-align: top;\n",
       "    }\n",
       "\n",
       "    .dataframe thead th {\n",
       "        text-align: right;\n",
       "    }\n",
       "</style>\n",
       "<table border=\"1\" class=\"dataframe\">\n",
       "  <thead>\n",
       "    <tr style=\"text-align: right;\">\n",
       "      <th></th>\n",
       "      <th>user_id</th>\n",
       "      <th>month</th>\n",
       "      <th>calls_counts</th>\n",
       "      <th>minutes_used</th>\n",
       "      <th>messages_used</th>\n",
       "      <th>mb_used</th>\n",
       "      <th>tariff</th>\n",
       "      <th>city</th>\n",
       "    </tr>\n",
       "  </thead>\n",
       "  <tbody>\n",
       "    <tr>\n",
       "      <th>1528</th>\n",
       "      <td>1244</td>\n",
       "      <td>12</td>\n",
       "      <td>44.00</td>\n",
       "      <td>272.00</td>\n",
       "      <td>97.00</td>\n",
       "      <td>22786.67</td>\n",
       "      <td>smart</td>\n",
       "      <td>Москва</td>\n",
       "    </tr>\n",
       "    <tr>\n",
       "      <th>1330</th>\n",
       "      <td>1210</td>\n",
       "      <td>10</td>\n",
       "      <td>84.00</td>\n",
       "      <td>602.00</td>\n",
       "      <td>0.00</td>\n",
       "      <td>21818.17</td>\n",
       "      <td>smart</td>\n",
       "      <td>Севастополь</td>\n",
       "    </tr>\n",
       "    <tr>\n",
       "      <th>1945</th>\n",
       "      <td>1310</td>\n",
       "      <td>10</td>\n",
       "      <td>63.00</td>\n",
       "      <td>469.00</td>\n",
       "      <td>56.00</td>\n",
       "      <td>16211.96</td>\n",
       "      <td>ultra</td>\n",
       "      <td>Уфа</td>\n",
       "    </tr>\n",
       "    <tr>\n",
       "      <th>488</th>\n",
       "      <td>1078</td>\n",
       "      <td>7</td>\n",
       "      <td>167.00</td>\n",
       "      <td>1075.00</td>\n",
       "      <td>0.00</td>\n",
       "      <td>22432.58</td>\n",
       "      <td>ultra</td>\n",
       "      <td>Волгоград</td>\n",
       "    </tr>\n",
       "    <tr>\n",
       "      <th>2760</th>\n",
       "      <td>1432</td>\n",
       "      <td>11</td>\n",
       "      <td>90.00</td>\n",
       "      <td>650.00</td>\n",
       "      <td>61.00</td>\n",
       "      <td>21561.41</td>\n",
       "      <td>smart</td>\n",
       "      <td>Улан-Удэ</td>\n",
       "    </tr>\n",
       "    <tr>\n",
       "      <th>2662</th>\n",
       "      <td>1420</td>\n",
       "      <td>11</td>\n",
       "      <td>33.00</td>\n",
       "      <td>199.00</td>\n",
       "      <td>18.00</td>\n",
       "      <td>25160.50</td>\n",
       "      <td>smart</td>\n",
       "      <td>Сочи</td>\n",
       "    </tr>\n",
       "    <tr>\n",
       "      <th>3049</th>\n",
       "      <td>1478</td>\n",
       "      <td>9</td>\n",
       "      <td>27.00</td>\n",
       "      <td>187.00</td>\n",
       "      <td>86.00</td>\n",
       "      <td>15802.16</td>\n",
       "      <td>smart</td>\n",
       "      <td>Грозный</td>\n",
       "    </tr>\n",
       "    <tr>\n",
       "      <th>1662</th>\n",
       "      <td>1267</td>\n",
       "      <td>8</td>\n",
       "      <td>69.00</td>\n",
       "      <td>535.00</td>\n",
       "      <td>14.00</td>\n",
       "      <td>14603.90</td>\n",
       "      <td>smart</td>\n",
       "      <td>Екатеринбург</td>\n",
       "    </tr>\n",
       "    <tr>\n",
       "      <th>3190</th>\n",
       "      <td>1106</td>\n",
       "      <td>12</td>\n",
       "      <td>0.00</td>\n",
       "      <td>0.00</td>\n",
       "      <td>24.00</td>\n",
       "      <td>18701.51</td>\n",
       "      <td>ultra</td>\n",
       "      <td>Калуга</td>\n",
       "    </tr>\n",
       "    <tr>\n",
       "      <th>1672</th>\n",
       "      <td>1268</td>\n",
       "      <td>10</td>\n",
       "      <td>37.00</td>\n",
       "      <td>294.00</td>\n",
       "      <td>45.00</td>\n",
       "      <td>19232.49</td>\n",
       "      <td>smart</td>\n",
       "      <td>Москва</td>\n",
       "    </tr>\n",
       "  </tbody>\n",
       "</table>\n",
       "</div>"
      ],
      "text/plain": [
       "      user_id  month  calls_counts  minutes_used  messages_used  mb_used  \\\n",
       "1528     1244     12         44.00        272.00          97.00 22786.67   \n",
       "1330     1210     10         84.00        602.00           0.00 21818.17   \n",
       "1945     1310     10         63.00        469.00          56.00 16211.96   \n",
       "488      1078      7        167.00       1075.00           0.00 22432.58   \n",
       "2760     1432     11         90.00        650.00          61.00 21561.41   \n",
       "2662     1420     11         33.00        199.00          18.00 25160.50   \n",
       "3049     1478      9         27.00        187.00          86.00 15802.16   \n",
       "1662     1267      8         69.00        535.00          14.00 14603.90   \n",
       "3190     1106     12          0.00          0.00          24.00 18701.51   \n",
       "1672     1268     10         37.00        294.00          45.00 19232.49   \n",
       "\n",
       "     tariff          city  \n",
       "1528  smart        Москва  \n",
       "1330  smart   Севастополь  \n",
       "1945  ultra           Уфа  \n",
       "488   ultra     Волгоград  \n",
       "2760  smart      Улан-Удэ  \n",
       "2662  smart          Сочи  \n",
       "3049  smart       Грозный  \n",
       "1662  smart  Екатеринбург  \n",
       "3190  ultra        Калуга  \n",
       "1672  smart        Москва  "
      ]
     },
     "execution_count": 27,
     "metadata": {},
     "output_type": "execute_result"
    }
   ],
   "source": [
    "df.sample(10, random_state=17)"
   ]
  },
  {
   "cell_type": "code",
   "execution_count": 28,
   "id": "fc5cc60c",
   "metadata": {},
   "outputs": [],
   "source": [
    "# определение функции для расчета помесячной выручки с каждого пользователя\n",
    "\n",
    "def proceeds(row):\n",
    "    minutes_used = row['minutes_used']\n",
    "    messages_used = row['messages_used']\n",
    "    mb_used = row['mb_used']\n",
    "    tariff = row['tariff']\n",
    "    \n",
    "    if tariff == 'smart':\n",
    "        extra_min = minutes_used - df_tariffs.loc[0, 'minutes_included']\n",
    "        extra_mess = messages_used - df_tariffs.loc[0, 'messages_included']\n",
    "        extra_mb = mb_used - df_tariffs.loc[0, 'mb_per_month_included']\n",
    "        \n",
    "        if extra_min > 0:\n",
    "            extra_min *= df_tariffs.loc[0, 'rub_per_minute']\n",
    "        else:\n",
    "            extra_min = 0      \n",
    "        if extra_mess > 0:\n",
    "            extra_mess *= df_tariffs.loc[0, 'rub_per_message']\n",
    "        else:\n",
    "            extra_mess = 0\n",
    "        if extra_mb > 0:\n",
    "            extra_mb = np.ceil(extra_mb / 1024)\n",
    "            extra_mb *= df_tariffs.loc[0, 'rub_per_gb']\n",
    "        else:\n",
    "            extra_mb = 0\n",
    "            \n",
    "        return extra_min + extra_mess + extra_mb + df_tariffs.loc[0, 'rub_monthly_fee']\n",
    "    \n",
    "    else:\n",
    "        extra_min = minutes_used - df_tariffs.loc[1, 'minutes_included']\n",
    "        extra_mess = messages_used - df_tariffs.loc[1, 'messages_included']\n",
    "        extra_mb = mb_used - df_tariffs.loc[1, 'mb_per_month_included']\n",
    "        \n",
    "        if extra_min > 0:\n",
    "            extra_min *= df_tariffs.loc[1, 'rub_per_minute']\n",
    "        else:\n",
    "            extra_min = 0      \n",
    "        if extra_mess > 0:\n",
    "            extra_mess *= df_tariffs.loc[1, 'rub_per_message']\n",
    "        else:\n",
    "            extra_mess = 0\n",
    "        if extra_mb > 0:\n",
    "            extra_mb = np.ceil(extra_mb / 1024)\n",
    "            extra_mb *= df_tariffs.loc[1, 'rub_per_gb']\n",
    "        else:\n",
    "            extra_mb = 0\n",
    "            \n",
    "        return extra_min + extra_mess + extra_mb + df_tariffs.loc[1, 'rub_monthly_fee']"
   ]
  },
  {
   "cell_type": "code",
   "execution_count": 29,
   "id": "1476b093",
   "metadata": {},
   "outputs": [],
   "source": [
    "df['proceeds'] = df.apply(proceeds, axis=1)\n",
    "df['proceeds'] = df['proceeds'].astype('uint16')"
   ]
  },
  {
   "cell_type": "code",
   "execution_count": 30,
   "id": "50b1bb1c",
   "metadata": {},
   "outputs": [
    {
     "name": "stdout",
     "output_type": "stream",
     "text": [
      "<class 'pandas.core.frame.DataFrame'>\n",
      "RangeIndex: 3214 entries, 0 to 3213\n",
      "Data columns (total 9 columns):\n",
      " #   Column         Non-Null Count  Dtype  \n",
      "---  ------         --------------  -----  \n",
      " 0   user_id        3214 non-null   uint64 \n",
      " 1   month          3214 non-null   uint64 \n",
      " 2   calls_counts   3214 non-null   float64\n",
      " 3   minutes_used   3214 non-null   float32\n",
      " 4   messages_used  3214 non-null   float64\n",
      " 5   mb_used        3214 non-null   float32\n",
      " 6   tariff         3214 non-null   object \n",
      " 7   city           3214 non-null   object \n",
      " 8   proceeds       3214 non-null   uint16 \n",
      "dtypes: float32(2), float64(2), object(2), uint16(1), uint64(2)\n",
      "memory usage: 690.9 KB\n"
     ]
    }
   ],
   "source": [
    "df.info(memory_usage='deep')"
   ]
  },
  {
   "cell_type": "code",
   "execution_count": 31,
   "id": "280d633a",
   "metadata": {},
   "outputs": [
    {
     "data": {
      "text/html": [
       "<div>\n",
       "<style scoped>\n",
       "    .dataframe tbody tr th:only-of-type {\n",
       "        vertical-align: middle;\n",
       "    }\n",
       "\n",
       "    .dataframe tbody tr th {\n",
       "        vertical-align: top;\n",
       "    }\n",
       "\n",
       "    .dataframe thead th {\n",
       "        text-align: right;\n",
       "    }\n",
       "</style>\n",
       "<table border=\"1\" class=\"dataframe\">\n",
       "  <thead>\n",
       "    <tr style=\"text-align: right;\">\n",
       "      <th></th>\n",
       "      <th>user_id</th>\n",
       "      <th>month</th>\n",
       "      <th>calls_counts</th>\n",
       "      <th>minutes_used</th>\n",
       "      <th>messages_used</th>\n",
       "      <th>mb_used</th>\n",
       "      <th>tariff</th>\n",
       "      <th>city</th>\n",
       "      <th>proceeds</th>\n",
       "    </tr>\n",
       "  </thead>\n",
       "  <tbody>\n",
       "    <tr>\n",
       "      <th>1528</th>\n",
       "      <td>1244</td>\n",
       "      <td>12</td>\n",
       "      <td>44.00</td>\n",
       "      <td>272.00</td>\n",
       "      <td>97.00</td>\n",
       "      <td>22786.67</td>\n",
       "      <td>smart</td>\n",
       "      <td>Москва</td>\n",
       "      <td>2291</td>\n",
       "    </tr>\n",
       "    <tr>\n",
       "      <th>1330</th>\n",
       "      <td>1210</td>\n",
       "      <td>10</td>\n",
       "      <td>84.00</td>\n",
       "      <td>602.00</td>\n",
       "      <td>0.00</td>\n",
       "      <td>21818.17</td>\n",
       "      <td>smart</td>\n",
       "      <td>Севастополь</td>\n",
       "      <td>2256</td>\n",
       "    </tr>\n",
       "    <tr>\n",
       "      <th>1945</th>\n",
       "      <td>1310</td>\n",
       "      <td>10</td>\n",
       "      <td>63.00</td>\n",
       "      <td>469.00</td>\n",
       "      <td>56.00</td>\n",
       "      <td>16211.96</td>\n",
       "      <td>ultra</td>\n",
       "      <td>Уфа</td>\n",
       "      <td>1950</td>\n",
       "    </tr>\n",
       "    <tr>\n",
       "      <th>488</th>\n",
       "      <td>1078</td>\n",
       "      <td>7</td>\n",
       "      <td>167.00</td>\n",
       "      <td>1075.00</td>\n",
       "      <td>0.00</td>\n",
       "      <td>22432.58</td>\n",
       "      <td>ultra</td>\n",
       "      <td>Волгоград</td>\n",
       "      <td>1950</td>\n",
       "    </tr>\n",
       "    <tr>\n",
       "      <th>2760</th>\n",
       "      <td>1432</td>\n",
       "      <td>11</td>\n",
       "      <td>90.00</td>\n",
       "      <td>650.00</td>\n",
       "      <td>61.00</td>\n",
       "      <td>21561.41</td>\n",
       "      <td>smart</td>\n",
       "      <td>Улан-Удэ</td>\n",
       "      <td>2433</td>\n",
       "    </tr>\n",
       "    <tr>\n",
       "      <th>2662</th>\n",
       "      <td>1420</td>\n",
       "      <td>11</td>\n",
       "      <td>33.00</td>\n",
       "      <td>199.00</td>\n",
       "      <td>18.00</td>\n",
       "      <td>25160.50</td>\n",
       "      <td>smart</td>\n",
       "      <td>Сочи</td>\n",
       "      <td>2550</td>\n",
       "    </tr>\n",
       "    <tr>\n",
       "      <th>3049</th>\n",
       "      <td>1478</td>\n",
       "      <td>9</td>\n",
       "      <td>27.00</td>\n",
       "      <td>187.00</td>\n",
       "      <td>86.00</td>\n",
       "      <td>15802.16</td>\n",
       "      <td>smart</td>\n",
       "      <td>Грозный</td>\n",
       "      <td>858</td>\n",
       "    </tr>\n",
       "    <tr>\n",
       "      <th>1662</th>\n",
       "      <td>1267</td>\n",
       "      <td>8</td>\n",
       "      <td>69.00</td>\n",
       "      <td>535.00</td>\n",
       "      <td>14.00</td>\n",
       "      <td>14603.90</td>\n",
       "      <td>smart</td>\n",
       "      <td>Екатеринбург</td>\n",
       "      <td>655</td>\n",
       "    </tr>\n",
       "    <tr>\n",
       "      <th>3190</th>\n",
       "      <td>1106</td>\n",
       "      <td>12</td>\n",
       "      <td>0.00</td>\n",
       "      <td>0.00</td>\n",
       "      <td>24.00</td>\n",
       "      <td>18701.51</td>\n",
       "      <td>ultra</td>\n",
       "      <td>Калуга</td>\n",
       "      <td>1950</td>\n",
       "    </tr>\n",
       "    <tr>\n",
       "      <th>1672</th>\n",
       "      <td>1268</td>\n",
       "      <td>10</td>\n",
       "      <td>37.00</td>\n",
       "      <td>294.00</td>\n",
       "      <td>45.00</td>\n",
       "      <td>19232.49</td>\n",
       "      <td>smart</td>\n",
       "      <td>Москва</td>\n",
       "      <td>1350</td>\n",
       "    </tr>\n",
       "  </tbody>\n",
       "</table>\n",
       "</div>"
      ],
      "text/plain": [
       "      user_id  month  calls_counts  minutes_used  messages_used  mb_used  \\\n",
       "1528     1244     12         44.00        272.00          97.00 22786.67   \n",
       "1330     1210     10         84.00        602.00           0.00 21818.17   \n",
       "1945     1310     10         63.00        469.00          56.00 16211.96   \n",
       "488      1078      7        167.00       1075.00           0.00 22432.58   \n",
       "2760     1432     11         90.00        650.00          61.00 21561.41   \n",
       "2662     1420     11         33.00        199.00          18.00 25160.50   \n",
       "3049     1478      9         27.00        187.00          86.00 15802.16   \n",
       "1662     1267      8         69.00        535.00          14.00 14603.90   \n",
       "3190     1106     12          0.00          0.00          24.00 18701.51   \n",
       "1672     1268     10         37.00        294.00          45.00 19232.49   \n",
       "\n",
       "     tariff          city  proceeds  \n",
       "1528  smart        Москва      2291  \n",
       "1330  smart   Севастополь      2256  \n",
       "1945  ultra           Уфа      1950  \n",
       "488   ultra     Волгоград      1950  \n",
       "2760  smart      Улан-Удэ      2433  \n",
       "2662  smart          Сочи      2550  \n",
       "3049  smart       Грозный       858  \n",
       "1662  smart  Екатеринбург       655  \n",
       "3190  ultra        Калуга      1950  \n",
       "1672  smart        Москва      1350  "
      ]
     },
     "execution_count": 31,
     "metadata": {},
     "output_type": "execute_result"
    }
   ],
   "source": [
    "df.sample(10, random_state=17)"
   ]
  },
  {
   "cell_type": "markdown",
   "id": "31f44040",
   "metadata": {},
   "source": [
    "**Вывод:** с целью повышения эффективности дальнейшего исследования тарифов телеком-компании, данные по использованию минут, сообщений и интернет-трафика были аггрегированы и собраны в общую сводную таблицу. Также была рассчитана ежемесячная выручка с каждого пользователя."
   ]
  },
  {
   "cell_type": "markdown",
   "id": "067af7cf",
   "metadata": {},
   "source": [
    "## Исследовательский анализ данных"
   ]
  },
  {
   "cell_type": "markdown",
   "id": "46bad25e",
   "metadata": {},
   "source": [
    "**Необходимо проанализировать поведение клиентов оператора:** \n",
    "- количество минут разговора необходимое пользователям каждого тарифа в месяц;\n",
    "- количество сообщений необходимое пользователям каждого тарифа в месяц;\n",
    "- объем интернет-трафика необходимый пользователям каждого тарифа в месяц."
   ]
  },
  {
   "cell_type": "code",
   "execution_count": 32,
   "id": "5e38cdd3",
   "metadata": {},
   "outputs": [],
   "source": [
    "df_pv = df.pivot_table(index=['user_id', 'tariff'], \n",
    "                       values=['minutes_used', 'messages_used', 'mb_used', 'proceeds'], \n",
    "                       aggfunc='mean')\n",
    "\n",
    "df_pv = df_pv.reset_index()"
   ]
  },
  {
   "cell_type": "code",
   "execution_count": 33,
   "id": "798bfcd3",
   "metadata": {},
   "outputs": [
    {
     "data": {
      "image/png": "[encoded data removed]",
      "text/plain": [
       "<Figure size 1080x648 with 4 Axes>"
      ]
     },
     "metadata": {},
     "output_type": "display_data"
    }
   ],
   "source": [
    "smart = df_pv.query('tariff == \"smart\"')['minutes_used']\n",
    "ultra = df_pv.query('tariff == \"ultra\"')['minutes_used']\n",
    "\n",
    "fig, axes = plt.subplots(nrows=2, ncols=2, figsize=(200, 100))\n",
    "\n",
    "ax = smart.plot(kind='hist', bins=20, alpha=0.6, ax=axes[0, 0], \n",
    "                figsize=(15, 9), ec='black', \n",
    "                label='Тариф Smart',\n",
    "                legend=True\n",
    ")\n",
    "ultra.plot(kind='hist', bins=20, alpha=0.6, ax=ax, \n",
    "           figsize=(15, 9), ec='black',\n",
    "           label='Тариф Ultra', \n",
    "           legend=True\n",
    ")\n",
    "\n",
    "ax.set_title('Гистограмма распределения длительности звонков', fontsize=14)\n",
    "ax.set_xlabel('Длительность звонков, мин', fontsize=12)\n",
    "ax.set_ylabel('Количество пользователей, чел', fontsize=12)\n",
    "\n",
    "smart = df_pv.query('tariff == \"smart\"')['messages_used']\n",
    "ultra = df_pv.query('tariff == \"ultra\"')['messages_used']\n",
    "\n",
    "ax = smart.plot(kind='hist', bins=20, alpha=0.6, ax=axes[0, 1], \n",
    "                figsize=(15, 9), ec='black', \n",
    "                label='Тариф Smart',\n",
    "                legend=True\n",
    ")\n",
    "ultra.plot(kind='hist', bins=20, alpha=0.6, ax=ax, \n",
    "           figsize=(15, 9), ec='black',\n",
    "           label='Тариф Ultra', \n",
    "           legend=True\n",
    ")\n",
    "\n",
    "ax.set_title('Гистограмма распределения количества сообщений', fontsize=14)\n",
    "ax.set_xlabel('Количество сообщений, шт', fontsize=12)\n",
    "ax.set_ylabel('Количество пользователей, чел', fontsize=12)\n",
    "\n",
    "smart = df_pv.query('tariff == \"smart\"')['mb_used']\n",
    "ultra = df_pv.query('tariff == \"ultra\"')['mb_used']\n",
    "\n",
    "ax = smart.plot(kind='hist', bins=20, alpha=0.6, ax=axes[1, 0], \n",
    "                figsize=(15, 9), ec='black', \n",
    "                label='Тариф Smart',\n",
    "                legend=True\n",
    ")\n",
    "ultra.plot(kind='hist', bins=20, alpha=0.6, ax=ax, \n",
    "           figsize=(15, 9), ec='black',\n",
    "           label='Тариф Ultra', \n",
    "           legend=True\n",
    ")\n",
    "\n",
    "ax.set_title('Гистограмма распределения объема интернет-трафика', fontsize=14)\n",
    "ax.set_xlabel('Объем интернет-трафика, Мб', fontsize=12)\n",
    "ax.set_ylabel('Количество пользователей, чел', fontsize=12)\n",
    "\n",
    "ax = df_pv.groupby('tariff')['user_id'].count().plot(kind='pie', radius=1.25, \n",
    "                                                     labels=['Тариф Smart','Тариф Ultra'],\n",
    "                                                     shadow=True,\n",
    "                                                     autopct='%1.1f%%',\n",
    "                                                     fontsize=12\n",
    ")\n",
    "\n",
    "ax.set_title('Распределение пользователей по тарифам', fontsize=14)\n",
    "ax.set_ylabel('');\n",
    "\n",
    "# Код ревьюера\n",
    "plt.tight_layout()"
   ]
  },
  {
   "cell_type": "code",
   "execution_count": 34,
   "id": "80e5b0ff",
   "metadata": {},
   "outputs": [],
   "source": [
    "tariff_pv = df.pivot_table(index=['tariff'], \n",
    "                       values=['minutes_used', 'messages_used', 'mb_used'], \n",
    "                       aggfunc={'minutes_used':['mean', 'std'],\n",
    "                                'messages_used':['mean', 'std'],\n",
    "                                'mb_used':['mean', 'std']})\n",
    "\n",
    "\n",
    "tariff_pv.columns = ['mb_used_mean', 'mb_used_std', \n",
    "                     'messages_used_mean', 'messages_used_std', \n",
    "                     'minutes_used_mean', 'minutes_used_std']"
   ]
  },
  {
   "cell_type": "code",
   "execution_count": 35,
   "id": "68932956",
   "metadata": {},
   "outputs": [
    {
     "data": {
      "text/html": [
       "<div>\n",
       "<style scoped>\n",
       "    .dataframe tbody tr th:only-of-type {\n",
       "        vertical-align: middle;\n",
       "    }\n",
       "\n",
       "    .dataframe tbody tr th {\n",
       "        vertical-align: top;\n",
       "    }\n",
       "\n",
       "    .dataframe thead th {\n",
       "        text-align: right;\n",
       "    }\n",
       "</style>\n",
       "<table border=\"1\" class=\"dataframe\">\n",
       "  <thead>\n",
       "    <tr style=\"text-align: right;\">\n",
       "      <th></th>\n",
       "      <th>mb_used_mean</th>\n",
       "      <th>mb_used_std</th>\n",
       "      <th>messages_used_mean</th>\n",
       "      <th>messages_used_std</th>\n",
       "      <th>minutes_used_mean</th>\n",
       "      <th>minutes_used_std</th>\n",
       "    </tr>\n",
       "    <tr>\n",
       "      <th>tariff</th>\n",
       "      <th></th>\n",
       "      <th></th>\n",
       "      <th></th>\n",
       "      <th></th>\n",
       "      <th></th>\n",
       "      <th></th>\n",
       "    </tr>\n",
       "  </thead>\n",
       "  <tbody>\n",
       "    <tr>\n",
       "      <th>smart</th>\n",
       "      <td>16208.39</td>\n",
       "      <td>5870.48</td>\n",
       "      <td>33.38</td>\n",
       "      <td>28.23</td>\n",
       "      <td>417.93</td>\n",
       "      <td>190.31</td>\n",
       "    </tr>\n",
       "    <tr>\n",
       "      <th>ultra</th>\n",
       "      <td>19468.80</td>\n",
       "      <td>10087.17</td>\n",
       "      <td>49.36</td>\n",
       "      <td>47.80</td>\n",
       "      <td>526.62</td>\n",
       "      <td>317.61</td>\n",
       "    </tr>\n",
       "  </tbody>\n",
       "</table>\n",
       "</div>"
      ],
      "text/plain": [
       "        mb_used_mean  mb_used_std  messages_used_mean  messages_used_std  \\\n",
       "tariff                                                                     \n",
       "smart       16208.39      5870.48               33.38              28.23   \n",
       "ultra       19468.80     10087.17               49.36              47.80   \n",
       "\n",
       "        minutes_used_mean  minutes_used_std  \n",
       "tariff                                       \n",
       "smart              417.93            190.31  \n",
       "ultra              526.62            317.61  "
      ]
     },
     "execution_count": 35,
     "metadata": {},
     "output_type": "execute_result"
    }
   ],
   "source": [
    "tariff_pv"
   ]
  },
  {
   "cell_type": "markdown",
   "id": "10ff1819",
   "metadata": {},
   "source": [
    "Рассчитанные среднее значение и стандартное отклонение"
   ]
  },
  {
   "cell_type": "code",
   "execution_count": 36,
   "id": "aadf1495",
   "metadata": {},
   "outputs": [
    {
     "data": {
      "text/html": [
       "<div>\n",
       "<style scoped>\n",
       "    .dataframe tbody tr th:only-of-type {\n",
       "        vertical-align: middle;\n",
       "    }\n",
       "\n",
       "    .dataframe tbody tr th {\n",
       "        vertical-align: top;\n",
       "    }\n",
       "\n",
       "    .dataframe thead th {\n",
       "        text-align: right;\n",
       "    }\n",
       "</style>\n",
       "<table border=\"1\" class=\"dataframe\">\n",
       "  <thead>\n",
       "    <tr style=\"text-align: right;\">\n",
       "      <th></th>\n",
       "      <th>messages_included</th>\n",
       "      <th>mb_per_month_included</th>\n",
       "      <th>minutes_included</th>\n",
       "      <th>rub_monthly_fee</th>\n",
       "      <th>rub_per_gb</th>\n",
       "      <th>rub_per_message</th>\n",
       "      <th>rub_per_minute</th>\n",
       "      <th>tariff_name</th>\n",
       "    </tr>\n",
       "  </thead>\n",
       "  <tbody>\n",
       "    <tr>\n",
       "      <th>0</th>\n",
       "      <td>50</td>\n",
       "      <td>15360</td>\n",
       "      <td>500</td>\n",
       "      <td>550</td>\n",
       "      <td>200</td>\n",
       "      <td>3</td>\n",
       "      <td>3</td>\n",
       "      <td>smart</td>\n",
       "    </tr>\n",
       "    <tr>\n",
       "      <th>1</th>\n",
       "      <td>1000</td>\n",
       "      <td>30720</td>\n",
       "      <td>3000</td>\n",
       "      <td>1950</td>\n",
       "      <td>150</td>\n",
       "      <td>1</td>\n",
       "      <td>1</td>\n",
       "      <td>ultra</td>\n",
       "    </tr>\n",
       "  </tbody>\n",
       "</table>\n",
       "</div>"
      ],
      "text/plain": [
       "   messages_included  mb_per_month_included  minutes_included  \\\n",
       "0                 50                  15360               500   \n",
       "1               1000                  30720              3000   \n",
       "\n",
       "   rub_monthly_fee  rub_per_gb  rub_per_message  rub_per_minute tariff_name  \n",
       "0              550         200                3               3       smart  \n",
       "1             1950         150                1               1       ultra  "
      ]
     },
     "execution_count": 36,
     "metadata": {},
     "output_type": "execute_result"
    }
   ],
   "source": [
    "df_tariffs"
   ]
  },
  {
   "cell_type": "markdown",
   "id": "ac17de0b",
   "metadata": {},
   "source": [
    "Данные по тарифам"
   ]
  },
  {
   "cell_type": "markdown",
   "id": "b723e8d6",
   "metadata": {},
   "source": [
    "**Выводы:**\n",
    "1. Средние значения количества минут разговора в месяц, количества сообщений, объема интернет-трафика равны *417.93 ± 190.31 мин*, *33.38 ± 28.23 шт*, *16208.39 ± 5870.48 Мб* и *526.62 ± 317.61 мин*, *49.36 ± 47.80 шт*, *19468.80 ± 10087.17 Мб* для тарифов *Smart* и *Ultra*, соответственно.\n",
    "2. Дисперсия значений длительности звонка пользователей тарифа *Ultra* больше, чем тарифа *Smart*. Клиенты последнеего в среднем тратят непосредственно включенные в тариф минуты, стараясь не выходить за рамки, но также и не оставлять оплаченные минуты. В свою очередь пользователи *Ultra* не ограничены такими рамками и ведут себя более разнообразно.\n",
    "3. Что касается услуги по отправке СМС, большая часть пользователей обоих тарифов не использует ее, либо использует крайне редко, что является следствием развития интернет-технологий и мессенджеров.\n",
    "4. Среднее значение объема интернет-трафика пользователей тарифа *Smart* немного превышает включенный в тариф объем. Однако значения нормально сосредоточенны вокруг среднего. Это говорит о том, что по истечению доступных Мб, клиенты активно оплачивают дополнительный трафик, но тратят его более умеренно. Пользователи тарифа *Ultra* более свободны в этом плане ввиду большего объема включенного трафика, что позволяет им не задумываться о потраченных Мб.\n"
   ]
  },
  {
   "cell_type": "markdown",
   "id": "f55d8291",
   "metadata": {},
   "source": [
    "## Проверка гипотез"
   ]
  },
  {
   "cell_type": "markdown",
   "id": "babe847c",
   "metadata": {},
   "source": [
    "**Необходимо проверить следующие гипотезы:**\n",
    "1. Средняя выручка пользователей тарифов «Ультра» и «Смарт» различаются.\n",
    "2. Средняя выручка пользователей из Москвы отличается от выручки пользователей из других регионов."
   ]
  },
  {
   "cell_type": "markdown",
   "id": "7c37920a",
   "metadata": {},
   "source": [
    "### Гипотеза № 1"
   ]
  },
  {
   "cell_type": "markdown",
   "id": "96435ad7",
   "metadata": {},
   "source": [
    "**H0** — средняя выручка пользователей тарифов «Ультра» и «Смарт» не различаются.\n",
    "\n",
    "**H1** — средняя выручка пользователей тарифов «Ультра» и «Смарт» различаются."
   ]
  },
  {
   "cell_type": "code",
   "execution_count": 37,
   "id": "9924a90e",
   "metadata": {},
   "outputs": [
    {
     "data": {
      "image/png": "[encoded data removed]",
      "text/plain": [
       "<Figure size 720x360 with 1 Axes>"
      ]
     },
     "metadata": {},
     "output_type": "display_data"
    }
   ],
   "source": [
    "ax = df_pv.boxplot(column='proceeds', by='tariff', figsize=(10, 5))\n",
    "\n",
    "ax.set_title('')\n",
    "plt.suptitle('Диаграмма размаха выручки в разрезе тарифа', fontsize=14)\n",
    "ax.set_ylabel('Выручка, руб', fontsize=12)\n",
    "ax.set_xlabel('');"
   ]
  },
  {
   "cell_type": "markdown",
   "id": "00df79a2",
   "metadata": {},
   "source": [
    "Выборки пользователей независимы друг от друга, поэтому для проверки гипотезы будет использоваться t-критерий Стьюдента для независимых выборок."
   ]
  },
  {
   "cell_type": "code",
   "execution_count": 38,
   "id": "f3dd5865",
   "metadata": {},
   "outputs": [
    {
     "name": "stdout",
     "output_type": "stream",
     "text": [
      "Средняя выручка по тарифу \"Smart\": 1324 руб.\n",
      "Средняя выручка по тарифу \"Ultra\": 2086 руб.\n",
      "\n",
      "p-value: 2.084961899583595e-59\n",
      "Отвергаем нулевую гипотезу\n"
     ]
    }
   ],
   "source": [
    "smart = df_pv.query('tariff == \"smart\"')['proceeds']\n",
    "ultra = df_pv.query('tariff == \"ultra\"')['proceeds']\n",
    "\n",
    "print(f'Средняя выручка по тарифу \"Smart\": {int(smart.mean())} руб.')\n",
    "print(f'Средняя выручка по тарифу \"Ultra\": {int(ultra.mean())} руб.', end='\\n\\n')\n",
    "\n",
    "alpha = 0.01\n",
    "\n",
    "results = st.ttest_ind(smart, ultra, equal_var=False)\n",
    "\n",
    "print(f'p-value: {results.pvalue}')\n",
    "\n",
    "if results.pvalue < alpha:\n",
    "    print(\"Отвергаем нулевую гипотезу\")\n",
    "else:\n",
    "    print(\"Не удалось отвергнуть нулевую гипотезу\")"
   ]
  },
  {
   "cell_type": "markdown",
   "id": "596b8907",
   "metadata": {},
   "source": [
    "**Вывод:** полученные средние значения выручки в разрезе тарифов *Smart* и *Ultra* статистически значимо отличаются с *p-value < 0.01*. Таким образом, можно сказать, что тариф *Ultra* приносит достоверно выше доход для телеком-компании с одного пользователя."
   ]
  },
  {
   "cell_type": "markdown",
   "id": "152a4378",
   "metadata": {},
   "source": [
    "### Гипотеза №2"
   ]
  },
  {
   "cell_type": "markdown",
   "id": "2c56aa4c",
   "metadata": {},
   "source": [
    "**H0** — средняя выручка пользователей из Москвы не отличается от выручки пользователей из других регионов.\n",
    "\n",
    "**H1** — средняя выручка пользователей из Москвы отличается от выручки пользователей из других регионов."
   ]
  },
  {
   "cell_type": "code",
   "execution_count": 39,
   "id": "9a27bcb6",
   "metadata": {},
   "outputs": [],
   "source": [
    "df_pv_city = df.pivot_table(index=['user_id', 'city'], \n",
    "                       values=['minutes_used', 'messages_used', 'mb_used', 'proceeds'], \n",
    "                       aggfunc='mean')\n",
    "df_pv_city = df_pv_city.reset_index()\n",
    "\n",
    "df_pv_city['city'] = df_pv_city['city'].apply(lambda x: 'Другой регион' if x != 'Москва' else 'Москва')"
   ]
  },
  {
   "cell_type": "code",
   "execution_count": 40,
   "id": "ed81da90",
   "metadata": {},
   "outputs": [
    {
     "data": {
      "image/png": "[encoded data removed]",
      "text/plain": [
       "<Figure size 720x360 with 1 Axes>"
      ]
     },
     "metadata": {},
     "output_type": "display_data"
    }
   ],
   "source": [
    "ax = df_pv_city.boxplot(column='proceeds', by='city', figsize=(10, 5))\n",
    "\n",
    "ax.set_title('')\n",
    "plt.suptitle('Диаграмма размаха выручки в разрезе региона', fontsize=14)\n",
    "ax.set_ylabel('Выручка, руб', fontsize=12)\n",
    "ax.set_xlabel('');"
   ]
  },
  {
   "cell_type": "markdown",
   "id": "bf42025d",
   "metadata": {},
   "source": [
    "Выборки пользователей независимы друг от друга, поэтому для проверки гипотезы будет использоваться t-критерий Стьюдента для независимых выборок."
   ]
  },
  {
   "cell_type": "code",
   "execution_count": 41,
   "id": "7e20c6a5",
   "metadata": {},
   "outputs": [
    {
     "name": "stdout",
     "output_type": "stream",
     "text": [
      "Средняя выручка по жителям Москвы: 1498 руб.\n",
      "Средняя выручка по жителям других регионов: 1563 руб.\n",
      "\n",
      "p-value: 0.3443090581027025\n",
      "Не удалось отвергнуть нулевую гипотезу\n"
     ]
    }
   ],
   "source": [
    "moskow = df_pv_city.query('city == \"Москва\"')['proceeds']\n",
    "other = df_pv_city.query('city == \"Другой регион\"')['proceeds']\n",
    "\n",
    "print(f'Средняя выручка по жителям Москвы: {int(moskow.mean())} руб.')\n",
    "print(f'Средняя выручка по жителям других регионов: {int(other.mean())} руб.', end='\\n\\n')\n",
    "\n",
    "alpha = 0.05\n",
    "\n",
    "results = st.ttest_ind(moskow, other, equal_var=False)\n",
    "\n",
    "print(f'p-value: {results.pvalue}')\n",
    "\n",
    "if results.pvalue < alpha:\n",
    "    print(\"Отвергаем нулевую гипотезу\")\n",
    "else:\n",
    "    print(\"Не удалось отвергнуть нулевую гипотезу\")"
   ]
  },
  {
   "cell_type": "markdown",
   "id": "8ec8f1ce",
   "metadata": {},
   "source": [
    "**Вывод:** полученные средние значения выручки для пользователей из Москвы и других регионов статистически значимо не отличаются с *p-value > 0.05*. Жители Москвы и регионов, в своем большинстве, склонны одинаково равно использовать доступные тарифы и предоставляемые ими дополнительные услуги."
   ]
  },
  {
   "cell_type": "markdown",
   "id": "acb3cdca",
   "metadata": {},
   "source": [
    "## Общий вывод"
   ]
  },
  {
   "cell_type": "markdown",
   "id": "57f5f332",
   "metadata": {},
   "source": [
    "Результаты проведенного исследования подтверждают различие в выручке приносимой тарифами *Smart* и *Ultra*. Так, последний приносит в месяц от одного пользователя в среднем *2086 руб.*, что статистически значимо выше, чем *1324 руб.*, приносимые тарифом *Smart*. Основная часть выручки от тарифа *Ultra* приходится на абонентскую плату, в то время как на тарифе *Smart* дополнительные услуги генерируют больше половины выручки. \n",
    "\n",
    "Также полученные данные позволяет говорить о том, что выручка, получаемая от пользователей из Москвы не отличается от выручки, получаемой от пользователей из других регионов. Средние значения составили *1498 руб.* и *1563 руб.* для Москвы и других регионов, соответственно.\n",
    "\n",
    "С учетом текущего распределения пользователей по тарифам и значений, полученных во время исследования, а также отталкиваясь от потенциального большего комфорта, получаемого при использовании тарифа *Ultra*, данный тариф является более перспективным для дальнейшего развития в рамках телеком-компании."
   ]
  }
 ],
 "metadata": {
  "ExecuteTimeLog": [
   {
    "duration": 1032,
    "start_time": "2021-10-20T14:30:14.212Z"
   },
   {
    "duration": 1386,
    "start_time": "2021-10-20T14:30:15.246Z"
   },
   {
    "duration": 94251,
    "start_time": "2021-10-20T14:28:42.385Z"
   },
   {
    "duration": 94248,
    "start_time": "2021-10-20T14:28:42.389Z"
   },
   {
    "duration": 94245,
    "start_time": "2021-10-20T14:28:42.393Z"
   },
   {
    "duration": 94244,
    "start_time": "2021-10-20T14:28:42.395Z"
   },
   {
    "duration": 94243,
    "start_time": "2021-10-20T14:28:42.397Z"
   },
   {
    "duration": 94243,
    "start_time": "2021-10-20T14:28:42.398Z"
   },
   {
    "duration": 94242,
    "start_time": "2021-10-20T14:28:42.400Z"
   },
   {
    "duration": 94241,
    "start_time": "2021-10-20T14:28:42.402Z"
   },
   {
    "duration": 94241,
    "start_time": "2021-10-20T14:28:42.403Z"
   },
   {
    "duration": 94240,
    "start_time": "2021-10-20T14:28:42.405Z"
   },
   {
    "duration": 94240,
    "start_time": "2021-10-20T14:28:42.406Z"
   },
   {
    "duration": 94239,
    "start_time": "2021-10-20T14:28:42.408Z"
   },
   {
    "duration": 94234,
    "start_time": "2021-10-20T14:28:42.414Z"
   },
   {
    "duration": 94233,
    "start_time": "2021-10-20T14:28:42.416Z"
   },
   {
    "duration": 94232,
    "start_time": "2021-10-20T14:28:42.418Z"
   },
   {
    "duration": 94232,
    "start_time": "2021-10-20T14:28:42.419Z"
   },
   {
    "duration": 94231,
    "start_time": "2021-10-20T14:28:42.421Z"
   },
   {
    "duration": 94230,
    "start_time": "2021-10-20T14:28:42.422Z"
   },
   {
    "duration": 94229,
    "start_time": "2021-10-20T14:28:42.424Z"
   },
   {
    "duration": 94229,
    "start_time": "2021-10-20T14:28:42.425Z"
   },
   {
    "duration": 94227,
    "start_time": "2021-10-20T14:28:42.428Z"
   },
   {
    "duration": 94223,
    "start_time": "2021-10-20T14:28:42.433Z"
   },
   {
    "duration": 94222,
    "start_time": "2021-10-20T14:28:42.435Z"
   },
   {
    "duration": 94221,
    "start_time": "2021-10-20T14:28:42.437Z"
   },
   {
    "duration": 94221,
    "start_time": "2021-10-20T14:28:42.438Z"
   },
   {
    "duration": 94220,
    "start_time": "2021-10-20T14:28:42.440Z"
   },
   {
    "duration": 94220,
    "start_time": "2021-10-20T14:28:42.441Z"
   },
   {
    "duration": 94219,
    "start_time": "2021-10-20T14:28:42.443Z"
   },
   {
    "duration": 94218,
    "start_time": "2021-10-20T14:28:42.445Z"
   },
   {
    "duration": 94217,
    "start_time": "2021-10-20T14:28:42.447Z"
   },
   {
    "duration": 94213,
    "start_time": "2021-10-20T14:28:42.452Z"
   },
   {
    "duration": 94211,
    "start_time": "2021-10-20T14:28:42.455Z"
   },
   {
    "duration": 94211,
    "start_time": "2021-10-20T14:28:42.456Z"
   },
   {
    "duration": 94210,
    "start_time": "2021-10-20T14:28:42.458Z"
   },
   {
    "duration": 94210,
    "start_time": "2021-10-20T14:28:42.459Z"
   },
   {
    "duration": 94209,
    "start_time": "2021-10-20T14:28:42.461Z"
   },
   {
    "duration": 94208,
    "start_time": "2021-10-20T14:28:42.463Z"
   },
   {
    "duration": 94207,
    "start_time": "2021-10-20T14:28:42.465Z"
   },
   {
    "duration": 94207,
    "start_time": "2021-10-20T14:28:42.466Z"
   },
   {
    "duration": 94206,
    "start_time": "2021-10-20T14:28:42.468Z"
   },
   {
    "duration": 508,
    "start_time": "2021-10-20T14:36:59.826Z"
   },
   {
    "duration": 5,
    "start_time": "2021-10-20T14:37:04.645Z"
   },
   {
    "duration": 499,
    "start_time": "2021-10-20T14:37:04.652Z"
   },
   {
    "duration": 16,
    "start_time": "2021-10-20T14:37:05.153Z"
   },
   {
    "duration": 11,
    "start_time": "2021-10-20T14:37:05.170Z"
   },
   {
    "duration": 8,
    "start_time": "2021-10-20T14:37:05.182Z"
   },
   {
    "duration": 7,
    "start_time": "2021-10-20T14:37:05.192Z"
   },
   {
    "duration": 29,
    "start_time": "2021-10-20T14:37:05.201Z"
   },
   {
    "duration": 11,
    "start_time": "2021-10-20T14:37:05.232Z"
   },
   {
    "duration": 194,
    "start_time": "2021-10-20T14:37:05.244Z"
   },
   {
    "duration": 92,
    "start_time": "2021-10-20T14:37:05.440Z"
   },
   {
    "duration": 26,
    "start_time": "2021-10-20T14:37:05.534Z"
   },
   {
    "duration": 8,
    "start_time": "2021-10-20T14:37:05.562Z"
   },
   {
    "duration": 136,
    "start_time": "2021-10-20T14:37:05.571Z"
   },
   {
    "duration": 37,
    "start_time": "2021-10-20T14:37:05.709Z"
   },
   {
    "duration": 9,
    "start_time": "2021-10-20T14:37:05.748Z"
   },
   {
    "duration": 151,
    "start_time": "2021-10-20T14:37:05.759Z"
   },
   {
    "duration": 49,
    "start_time": "2021-10-20T14:37:05.912Z"
   },
   {
    "duration": 46,
    "start_time": "2021-10-20T14:37:05.963Z"
   },
   {
    "duration": 8,
    "start_time": "2021-10-20T14:37:06.010Z"
   },
   {
    "duration": 9,
    "start_time": "2021-10-20T14:37:06.020Z"
   },
   {
    "duration": 8,
    "start_time": "2021-10-20T14:37:06.030Z"
   },
   {
    "duration": 6,
    "start_time": "2021-10-20T14:37:06.040Z"
   },
   {
    "duration": 414,
    "start_time": "2021-10-20T14:37:06.050Z"
   },
   {
    "duration": 179,
    "start_time": "2021-10-20T14:37:06.466Z"
   },
   {
    "duration": 94260,
    "start_time": "2021-10-20T14:35:32.387Z"
   },
   {
    "duration": 94259,
    "start_time": "2021-10-20T14:35:32.389Z"
   },
   {
    "duration": 94243,
    "start_time": "2021-10-20T14:35:32.405Z"
   },
   {
    "duration": 94242,
    "start_time": "2021-10-20T14:35:32.407Z"
   },
   {
    "duration": 94241,
    "start_time": "2021-10-20T14:35:32.409Z"
   },
   {
    "duration": 94241,
    "start_time": "2021-10-20T14:35:32.410Z"
   },
   {
    "duration": 94239,
    "start_time": "2021-10-20T14:35:32.413Z"
   },
   {
    "duration": 94238,
    "start_time": "2021-10-20T14:35:32.415Z"
   },
   {
    "duration": 94238,
    "start_time": "2021-10-20T14:35:32.416Z"
   },
   {
    "duration": 94237,
    "start_time": "2021-10-20T14:35:32.418Z"
   },
   {
    "duration": 94231,
    "start_time": "2021-10-20T14:35:32.424Z"
   },
   {
    "duration": 94231,
    "start_time": "2021-10-20T14:35:32.425Z"
   },
   {
    "duration": 94230,
    "start_time": "2021-10-20T14:35:32.427Z"
   },
   {
    "duration": 94229,
    "start_time": "2021-10-20T14:35:32.429Z"
   },
   {
    "duration": 94229,
    "start_time": "2021-10-20T14:35:32.430Z"
   },
   {
    "duration": 94228,
    "start_time": "2021-10-20T14:35:32.432Z"
   },
   {
    "duration": 94228,
    "start_time": "2021-10-20T14:35:32.433Z"
   },
   {
    "duration": 94227,
    "start_time": "2021-10-20T14:35:32.435Z"
   },
   {
    "duration": 6,
    "start_time": "2021-10-20T14:38:27.244Z"
   },
   {
    "duration": 6,
    "start_time": "2021-10-20T14:38:32.293Z"
   },
   {
    "duration": 5,
    "start_time": "2021-10-20T14:38:39.025Z"
   },
   {
    "duration": 8,
    "start_time": "2021-10-20T14:39:54.297Z"
   },
   {
    "duration": 5,
    "start_time": "2021-10-20T14:44:32.044Z"
   },
   {
    "duration": 498,
    "start_time": "2021-10-20T14:44:32.051Z"
   },
   {
    "duration": 9,
    "start_time": "2021-10-20T14:44:32.550Z"
   },
   {
    "duration": 9,
    "start_time": "2021-10-20T14:44:32.561Z"
   },
   {
    "duration": 7,
    "start_time": "2021-10-20T14:44:32.571Z"
   },
   {
    "duration": 11,
    "start_time": "2021-10-20T14:44:32.580Z"
   },
   {
    "duration": 24,
    "start_time": "2021-10-20T14:44:32.593Z"
   },
   {
    "duration": 7,
    "start_time": "2021-10-20T14:44:32.618Z"
   },
   {
    "duration": 186,
    "start_time": "2021-10-20T14:44:32.626Z"
   },
   {
    "duration": 104,
    "start_time": "2021-10-20T14:44:32.814Z"
   },
   {
    "duration": 25,
    "start_time": "2021-10-20T14:44:32.919Z"
   },
   {
    "duration": 6,
    "start_time": "2021-10-20T14:44:32.946Z"
   },
   {
    "duration": 126,
    "start_time": "2021-10-20T14:44:32.954Z"
   },
   {
    "duration": 41,
    "start_time": "2021-10-20T14:44:33.081Z"
   },
   {
    "duration": 7,
    "start_time": "2021-10-20T14:44:33.124Z"
   },
   {
    "duration": 151,
    "start_time": "2021-10-20T14:44:33.132Z"
   },
   {
    "duration": 51,
    "start_time": "2021-10-20T14:44:33.285Z"
   },
   {
    "duration": 27,
    "start_time": "2021-10-20T14:44:33.339Z"
   },
   {
    "duration": 28,
    "start_time": "2021-10-20T14:44:33.370Z"
   },
   {
    "duration": 7,
    "start_time": "2021-10-20T14:44:33.400Z"
   },
   {
    "duration": 9,
    "start_time": "2021-10-20T14:44:33.409Z"
   },
   {
    "duration": 7,
    "start_time": "2021-10-20T14:44:33.420Z"
   },
   {
    "duration": 427,
    "start_time": "2021-10-20T14:44:33.428Z"
   },
   {
    "duration": 9,
    "start_time": "2021-10-20T14:44:33.857Z"
   },
   {
    "duration": 118,
    "start_time": "2021-10-20T14:44:33.867Z"
   },
   {
    "duration": 4,
    "start_time": "2021-10-20T14:44:33.992Z"
   },
   {
    "duration": 14,
    "start_time": "2021-10-20T14:44:33.998Z"
   },
   {
    "duration": 14,
    "start_time": "2021-10-20T14:44:34.014Z"
   },
   {
    "duration": 8,
    "start_time": "2021-10-20T14:44:34.030Z"
   },
   {
    "duration": 252,
    "start_time": "2021-10-20T14:44:34.039Z"
   },
   {
    "duration": 11,
    "start_time": "2021-10-20T14:44:34.293Z"
   },
   {
    "duration": 12,
    "start_time": "2021-10-20T14:44:34.305Z"
   },
   {
    "duration": 15,
    "start_time": "2021-10-20T14:44:34.318Z"
   },
   {
    "duration": 1429,
    "start_time": "2021-10-20T14:44:34.335Z"
   },
   {
    "duration": 33,
    "start_time": "2021-10-20T14:44:35.766Z"
   },
   {
    "duration": 8,
    "start_time": "2021-10-20T14:44:35.801Z"
   },
   {
    "duration": 9,
    "start_time": "2021-10-20T14:44:35.810Z"
   },
   {
    "duration": 291,
    "start_time": "2021-10-20T14:44:35.821Z"
   },
   {
    "duration": 9,
    "start_time": "2021-10-20T14:44:36.114Z"
   },
   {
    "duration": 17,
    "start_time": "2021-10-20T14:44:36.125Z"
   },
   {
    "duration": 247,
    "start_time": "2021-10-20T14:44:36.144Z"
   },
   {
    "duration": 9,
    "start_time": "2021-10-20T14:44:36.393Z"
   },
   {
    "duration": 1810,
    "start_time": "2021-10-20T14:47:58.385Z"
   },
   {
    "duration": 1459,
    "start_time": "2021-10-20T14:48:04.547Z"
   },
   {
    "duration": 1865,
    "start_time": "2021-10-20T14:48:09.056Z"
   }
  ],
  "kernelspec": {
   "display_name": "Python 3",
   "language": "python",
   "name": "python3"
  },
  "language_info": {
   "codemirror_mode": {
    "name": "ipython",
    "version": 3
   },
   "file_extension": ".py",
   "mimetype": "text/x-python",
   "name": "python",
   "nbconvert_exporter": "python",
   "pygments_lexer": "ipython3",
   "version": "3.8.8"
  },
  "toc": {
   "base_numbering": 1,
   "nav_menu": {},
   "number_sections": true,
   "sideBar": true,
   "skip_h1_title": true,
   "title_cell": "Содержание",
   "title_sidebar": "Contents",
   "toc_cell": true,
   "toc_position": {
    "height": "calc(100% - 180px)",
    "left": "10px",
    "top": "150px",
    "width": "303.837px"
   },
   "toc_section_display": true,
   "toc_window_display": false
  }
 },
 "nbformat": 4,
 "nbformat_minor": 5
}
