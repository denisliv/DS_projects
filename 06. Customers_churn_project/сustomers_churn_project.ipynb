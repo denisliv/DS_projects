{
 "cells": [
  {
   "cell_type": "markdown",
   "id": "5910aff9",
   "metadata": {
    "toc": true
   },
   "source": [
    "<h1>Содержание<span class=\"tocSkip\"></span></h1>\n",
    "<div class=\"toc\"><ul class=\"toc-item\"><li><span><a href=\"#Первичный-анализ-данных\" data-toc-modified-id=\"Первичный-анализ-данных-1\"><span class=\"toc-item-num\">1&nbsp;&nbsp;</span>Первичный анализ данных</a></span></li><li><span><a href=\"#Предобработка-данных\" data-toc-modified-id=\"Предобработка-данных-2\"><span class=\"toc-item-num\">2&nbsp;&nbsp;</span>Предобработка данных</a></span><ul class=\"toc-item\"><li><span><a href=\"#Изменение-типа-данных\" data-toc-modified-id=\"Изменение-типа-данных-2.1\"><span class=\"toc-item-num\">2.1&nbsp;&nbsp;</span>Изменение типа данных</a></span></li><li><span><a href=\"#Восстановление-пропущенных-значений\" data-toc-modified-id=\"Восстановление-пропущенных-значений-2.2\"><span class=\"toc-item-num\">2.2&nbsp;&nbsp;</span>Восстановление пропущенных значений</a></span></li></ul></li><li><span><a href=\"#Подготовка-признаков\" data-toc-modified-id=\"Подготовка-признаков-3\"><span class=\"toc-item-num\">3&nbsp;&nbsp;</span>Подготовка признаков</a></span><ul class=\"toc-item\"><li><span><a href=\"#Кодирование-категориальных-признаков\" data-toc-modified-id=\"Кодирование-категориальных-признаков-3.1\"><span class=\"toc-item-num\">3.1&nbsp;&nbsp;</span>Кодирование категориальных признаков</a></span></li><li><span><a href=\"#Подготовка-обучающей,-валидационной-и-тестовой-выборок\" data-toc-modified-id=\"Подготовка-обучающей,-валидационной-и-тестовой-выборок-3.2\"><span class=\"toc-item-num\">3.2&nbsp;&nbsp;</span>Подготовка обучающей, валидационной и тестовой выборок</a></span></li><li><span><a href=\"#Масштабирование-числовых-признаков\" data-toc-modified-id=\"Масштабирование-числовых-признаков-3.3\"><span class=\"toc-item-num\">3.3&nbsp;&nbsp;</span>Масштабирование числовых признаков</a></span></li><li><span><a href=\"#Балансирование-классов\" data-toc-modified-id=\"Балансирование-классов-3.4\"><span class=\"toc-item-num\">3.4&nbsp;&nbsp;</span>Балансирование классов</a></span><ul class=\"toc-item\"><li><span><a href=\"#Поведение-моделей-при-обучении-в-условиях-несбалансированности-классов\" data-toc-modified-id=\"Поведение-моделей-при-обучении-в-условиях-несбалансированности-классов-3.4.1\"><span class=\"toc-item-num\">3.4.1&nbsp;&nbsp;</span>Поведение моделей при обучении в условиях несбалансированности классов</a></span><ul class=\"toc-item\"><li><span><a href=\"#Decision-Tree\" data-toc-modified-id=\"Decision-Tree-3.4.1.1\"><span class=\"toc-item-num\">3.4.1.1&nbsp;&nbsp;</span>Decision Tree</a></span></li><li><span><a href=\"#Random-Forest\" data-toc-modified-id=\"Random-Forest-3.4.1.2\"><span class=\"toc-item-num\">3.4.1.2&nbsp;&nbsp;</span>Random Forest</a></span></li><li><span><a href=\"#LogisticRegression\" data-toc-modified-id=\"LogisticRegression-3.4.1.3\"><span class=\"toc-item-num\">3.4.1.3&nbsp;&nbsp;</span>LogisticRegression</a></span></li></ul></li><li><span><a href=\"#Сэмплинг\" data-toc-modified-id=\"Сэмплинг-3.4.2\"><span class=\"toc-item-num\">3.4.2&nbsp;&nbsp;</span>Сэмплинг</a></span></li></ul></li></ul></li><li><span><a href=\"#Моделирование\" data-toc-modified-id=\"Моделирование-4\"><span class=\"toc-item-num\">4&nbsp;&nbsp;</span>Моделирование</a></span><ul class=\"toc-item\"><li><span><a href=\"#Decision-Tree\" data-toc-modified-id=\"Decision-Tree-4.1\"><span class=\"toc-item-num\">4.1&nbsp;&nbsp;</span>Decision Tree</a></span></li><li><span><a href=\"#Random-Forest\" data-toc-modified-id=\"Random-Forest-4.2\"><span class=\"toc-item-num\">4.2&nbsp;&nbsp;</span>Random Forest</a></span></li><li><span><a href=\"#LogisticRegression\" data-toc-modified-id=\"LogisticRegression-4.3\"><span class=\"toc-item-num\">4.3&nbsp;&nbsp;</span>LogisticRegression</a></span></li></ul></li><li><span><a href=\"#Проверка-модели-на-тестовой-выборке\" data-toc-modified-id=\"Проверка-модели-на-тестовой-выборке-5\"><span class=\"toc-item-num\">5&nbsp;&nbsp;</span>Проверка модели на тестовой выборке</a></span><ul class=\"toc-item\"><li><span><a href=\"#Проверка-лучшей-модели-на-отложенной-тестовой-выборке\" data-toc-modified-id=\"Проверка-лучшей-модели-на-отложенной-тестовой-выборке-5.1\"><span class=\"toc-item-num\">5.1&nbsp;&nbsp;</span>Проверка лучшей модели на отложенной тестовой выборке</a></span></li><li><span><a href=\"#Дообучение-лучшей-модели-и-проверка-на-отложенной-тестовой-выборке\" data-toc-modified-id=\"Дообучение-лучшей-модели-и-проверка-на-отложенной-тестовой-выборке-5.2\"><span class=\"toc-item-num\">5.2&nbsp;&nbsp;</span>Дообучение лучшей модели и проверка на отложенной тестовой выборке</a></span></li></ul></li><li><span><a href=\"#Общий-вывод\" data-toc-modified-id=\"Общий-вывод-6\"><span class=\"toc-item-num\">6&nbsp;&nbsp;</span>Общий вывод</a></span></li></ul></div>"
   ]
  },
  {
   "cell_type": "markdown",
   "id": "5636d596",
   "metadata": {},
   "source": [
    "# Проект: «Отток клиентов»"
   ]
  },
  {
   "cell_type": "markdown",
   "id": "6a3249f1",
   "metadata": {},
   "source": [
    "Из «Бета-Банка» стали уходить клиенты. Каждый месяц. Немного, но заметно. Банковские маркетологи посчитали: сохранять текущих клиентов дешевле, чем привлекать новых. В нашем распоряжении исторические данные о поведении клиентов и расторжении договоров с банком. Необходимо спрогнозировать, уйдёт клиент из банка в ближайшее время или нет."
   ]
  },
  {
   "cell_type": "markdown",
   "id": "ab04d31b",
   "metadata": {},
   "source": [
    "**Цели:**\n",
    "1. Постройте модель с максимально большим значением *F1-меры* (>=0.59).\n",
    "2. Проверить *F1-меру* на тестовой выборке."
   ]
  },
  {
   "cell_type": "markdown",
   "id": "4e13d7e4",
   "metadata": {},
   "source": [
    "**Описание данных:**\n",
    "- Признаки:\n",
    "    - RowNumber — индекс строки в данных\n",
    "    - CustomerId — уникальный идентификатор клиента\n",
    "    - Surname — фамилия\n",
    "    - CreditScore — кредитный рейтинг\n",
    "    - Geography — страна проживания\n",
    "    - Gender — пол\n",
    "    - Age — возраст\n",
    "    - Tenure — сколько лет человек является клиентом банка\n",
    "    - Balance — баланс на счёте\n",
    "    - NumOfProducts — количество продуктов банка, используемых клиентом\n",
    "    - HasCrCard — наличие кредитной карты\n",
    "    - IsActiveMember — активность клиента\n",
    "    - EstimatedSalary — предполагаемая зарплата\n",
    "- Целевой признак\n",
    "    - Exited — факт ухода клиента"
   ]
  },
  {
   "cell_type": "markdown",
   "id": "b5d73723",
   "metadata": {},
   "source": [
    "## Первичный анализ данных"
   ]
  },
  {
   "cell_type": "code",
   "execution_count": 1,
   "id": "8ca3c741",
   "metadata": {},
   "outputs": [
    {
     "name": "stdout",
     "output_type": "stream",
     "text": [
      "Requirement already satisfied: inflection in d:\\anaconda3\\lib\\site-packages (0.5.1)\n",
      "Requirement already satisfied: imbalanced-learn in d:\\anaconda3\\lib\\site-packages (0.8.1)\n",
      "Requirement already satisfied: scikit-learn>=0.24 in d:\\anaconda3\\lib\\site-packages (from imbalanced-learn) (0.24.1)\n",
      "Requirement already satisfied: scipy>=0.19.1 in d:\\anaconda3\\lib\\site-packages (from imbalanced-learn) (1.6.2)\n",
      "Requirement already satisfied: joblib>=0.11 in d:\\anaconda3\\lib\\site-packages (from imbalanced-learn) (1.0.1)\n",
      "Requirement already satisfied: numpy>=1.13.3 in d:\\anaconda3\\lib\\site-packages (from imbalanced-learn) (1.20.1)\n",
      "Requirement already satisfied: threadpoolctl>=2.0.0 in d:\\anaconda3\\lib\\site-packages (from scikit-learn>=0.24->imbalanced-learn) (2.1.0)\n"
     ]
    }
   ],
   "source": [
    "!pip install inflection -U\n",
    "!pip install imbalanced-learn -U"
   ]
  },
  {
   "cell_type": "code",
   "execution_count": 2,
   "id": "02dd01c9",
   "metadata": {},
   "outputs": [],
   "source": [
    "import pandas as pd\n",
    "import numpy as np\n",
    "from inflection import underscore\n",
    "from imblearn.under_sampling import OneSidedSelection\n",
    "\n",
    "import matplotlib.pyplot as plt\n",
    "import seaborn as sns\n",
    "from tqdm import tqdm\n",
    "\n",
    "from sklearn.preprocessing import StandardScaler\n",
    "from sklearn.model_selection import train_test_split\n",
    "from sklearn.tree import DecisionTreeClassifier\n",
    "from sklearn.ensemble import RandomForestClassifier\n",
    "from sklearn.linear_model import LogisticRegression\n",
    "from sklearn.metrics import f1_score, roc_auc_score, roc_curve\n",
    "\n",
    "%matplotlib inline\n",
    "sns.set_style(\"darkgrid\")\n",
    "plt.rcParams[\"figure.figsize\"] = (10, 7)\n",
    "random_seed = 17\n",
    "pd.options.display.float_format = '{:.2f}'.format\n",
    "pd.options.mode.chained_assignment = None"
   ]
  },
  {
   "cell_type": "code",
   "execution_count": 3,
   "id": "58560ce7",
   "metadata": {},
   "outputs": [],
   "source": [
    "try:\n",
    "    df = pd.read_csv('Churn.csv')\n",
    "except FileNotFoundError:\n",
    "    df = pd.read_csv('/datasets/Churn.csv')"
   ]
  },
  {
   "cell_type": "markdown",
   "id": "29049ff0",
   "metadata": {},
   "source": [
    "Переименуем столбцы исходной таблицы, чтобы они соответствовали стилю *snake_case*, удалив перед этим `RowNumber`, `CustomerId`, `Surname`, так как последние не несут в себе никакой полезной для обучения модели информации."
   ]
  },
  {
   "cell_type": "code",
   "execution_count": 4,
   "id": "46b67072",
   "metadata": {},
   "outputs": [],
   "source": [
    "df = df.drop(['RowNumber', 'CustomerId', 'Surname'], axis=1)\n",
    "df.columns = map(underscore, df.columns)"
   ]
  },
  {
   "cell_type": "code",
   "execution_count": 5,
   "id": "25236f0f",
   "metadata": {},
   "outputs": [
    {
     "data": {
      "text/html": [
       "<div>\n",
       "<style scoped>\n",
       "    .dataframe tbody tr th:only-of-type {\n",
       "        vertical-align: middle;\n",
       "    }\n",
       "\n",
       "    .dataframe tbody tr th {\n",
       "        vertical-align: top;\n",
       "    }\n",
       "\n",
       "    .dataframe thead th {\n",
       "        text-align: right;\n",
       "    }\n",
       "</style>\n",
       "<table border=\"1\" class=\"dataframe\">\n",
       "  <thead>\n",
       "    <tr style=\"text-align: right;\">\n",
       "      <th></th>\n",
       "      <th>credit_score</th>\n",
       "      <th>geography</th>\n",
       "      <th>gender</th>\n",
       "      <th>age</th>\n",
       "      <th>tenure</th>\n",
       "      <th>balance</th>\n",
       "      <th>num_of_products</th>\n",
       "      <th>has_cr_card</th>\n",
       "      <th>is_active_member</th>\n",
       "      <th>estimated_salary</th>\n",
       "      <th>exited</th>\n",
       "    </tr>\n",
       "  </thead>\n",
       "  <tbody>\n",
       "    <tr>\n",
       "      <th>0</th>\n",
       "      <td>619</td>\n",
       "      <td>France</td>\n",
       "      <td>Female</td>\n",
       "      <td>42</td>\n",
       "      <td>2.00</td>\n",
       "      <td>0.00</td>\n",
       "      <td>1</td>\n",
       "      <td>1</td>\n",
       "      <td>1</td>\n",
       "      <td>101348.88</td>\n",
       "      <td>1</td>\n",
       "    </tr>\n",
       "    <tr>\n",
       "      <th>1</th>\n",
       "      <td>608</td>\n",
       "      <td>Spain</td>\n",
       "      <td>Female</td>\n",
       "      <td>41</td>\n",
       "      <td>1.00</td>\n",
       "      <td>83807.86</td>\n",
       "      <td>1</td>\n",
       "      <td>0</td>\n",
       "      <td>1</td>\n",
       "      <td>112542.58</td>\n",
       "      <td>0</td>\n",
       "    </tr>\n",
       "    <tr>\n",
       "      <th>2</th>\n",
       "      <td>502</td>\n",
       "      <td>France</td>\n",
       "      <td>Female</td>\n",
       "      <td>42</td>\n",
       "      <td>8.00</td>\n",
       "      <td>159660.80</td>\n",
       "      <td>3</td>\n",
       "      <td>1</td>\n",
       "      <td>0</td>\n",
       "      <td>113931.57</td>\n",
       "      <td>1</td>\n",
       "    </tr>\n",
       "    <tr>\n",
       "      <th>3</th>\n",
       "      <td>699</td>\n",
       "      <td>France</td>\n",
       "      <td>Female</td>\n",
       "      <td>39</td>\n",
       "      <td>1.00</td>\n",
       "      <td>0.00</td>\n",
       "      <td>2</td>\n",
       "      <td>0</td>\n",
       "      <td>0</td>\n",
       "      <td>93826.63</td>\n",
       "      <td>0</td>\n",
       "    </tr>\n",
       "    <tr>\n",
       "      <th>4</th>\n",
       "      <td>850</td>\n",
       "      <td>Spain</td>\n",
       "      <td>Female</td>\n",
       "      <td>43</td>\n",
       "      <td>2.00</td>\n",
       "      <td>125510.82</td>\n",
       "      <td>1</td>\n",
       "      <td>1</td>\n",
       "      <td>1</td>\n",
       "      <td>79084.10</td>\n",
       "      <td>0</td>\n",
       "    </tr>\n",
       "    <tr>\n",
       "      <th>5</th>\n",
       "      <td>645</td>\n",
       "      <td>Spain</td>\n",
       "      <td>Male</td>\n",
       "      <td>44</td>\n",
       "      <td>8.00</td>\n",
       "      <td>113755.78</td>\n",
       "      <td>2</td>\n",
       "      <td>1</td>\n",
       "      <td>0</td>\n",
       "      <td>149756.71</td>\n",
       "      <td>1</td>\n",
       "    </tr>\n",
       "    <tr>\n",
       "      <th>6</th>\n",
       "      <td>822</td>\n",
       "      <td>France</td>\n",
       "      <td>Male</td>\n",
       "      <td>50</td>\n",
       "      <td>7.00</td>\n",
       "      <td>0.00</td>\n",
       "      <td>2</td>\n",
       "      <td>1</td>\n",
       "      <td>1</td>\n",
       "      <td>10062.80</td>\n",
       "      <td>0</td>\n",
       "    </tr>\n",
       "    <tr>\n",
       "      <th>7</th>\n",
       "      <td>376</td>\n",
       "      <td>Germany</td>\n",
       "      <td>Female</td>\n",
       "      <td>29</td>\n",
       "      <td>4.00</td>\n",
       "      <td>115046.74</td>\n",
       "      <td>4</td>\n",
       "      <td>1</td>\n",
       "      <td>0</td>\n",
       "      <td>119346.88</td>\n",
       "      <td>1</td>\n",
       "    </tr>\n",
       "    <tr>\n",
       "      <th>8</th>\n",
       "      <td>501</td>\n",
       "      <td>France</td>\n",
       "      <td>Male</td>\n",
       "      <td>44</td>\n",
       "      <td>4.00</td>\n",
       "      <td>142051.07</td>\n",
       "      <td>2</td>\n",
       "      <td>0</td>\n",
       "      <td>1</td>\n",
       "      <td>74940.50</td>\n",
       "      <td>0</td>\n",
       "    </tr>\n",
       "    <tr>\n",
       "      <th>9</th>\n",
       "      <td>684</td>\n",
       "      <td>France</td>\n",
       "      <td>Male</td>\n",
       "      <td>27</td>\n",
       "      <td>2.00</td>\n",
       "      <td>134603.88</td>\n",
       "      <td>1</td>\n",
       "      <td>1</td>\n",
       "      <td>1</td>\n",
       "      <td>71725.73</td>\n",
       "      <td>0</td>\n",
       "    </tr>\n",
       "  </tbody>\n",
       "</table>\n",
       "</div>"
      ],
      "text/plain": [
       "   credit_score geography  gender  age  tenure   balance  num_of_products  \\\n",
       "0           619    France  Female   42    2.00      0.00                1   \n",
       "1           608     Spain  Female   41    1.00  83807.86                1   \n",
       "2           502    France  Female   42    8.00 159660.80                3   \n",
       "3           699    France  Female   39    1.00      0.00                2   \n",
       "4           850     Spain  Female   43    2.00 125510.82                1   \n",
       "5           645     Spain    Male   44    8.00 113755.78                2   \n",
       "6           822    France    Male   50    7.00      0.00                2   \n",
       "7           376   Germany  Female   29    4.00 115046.74                4   \n",
       "8           501    France    Male   44    4.00 142051.07                2   \n",
       "9           684    France    Male   27    2.00 134603.88                1   \n",
       "\n",
       "   has_cr_card  is_active_member  estimated_salary  exited  \n",
       "0            1                 1         101348.88       1  \n",
       "1            0                 1         112542.58       0  \n",
       "2            1                 0         113931.57       1  \n",
       "3            0                 0          93826.63       0  \n",
       "4            1                 1          79084.10       0  \n",
       "5            1                 0         149756.71       1  \n",
       "6            1                 1          10062.80       0  \n",
       "7            1                 0         119346.88       1  \n",
       "8            0                 1          74940.50       0  \n",
       "9            1                 1          71725.73       0  "
      ]
     },
     "execution_count": 5,
     "metadata": {},
     "output_type": "execute_result"
    }
   ],
   "source": [
    "df.head(10)"
   ]
  },
  {
   "cell_type": "code",
   "execution_count": 6,
   "id": "7fa80433",
   "metadata": {},
   "outputs": [
    {
     "name": "stdout",
     "output_type": "stream",
     "text": [
      "<class 'pandas.core.frame.DataFrame'>\n",
      "RangeIndex: 10000 entries, 0 to 9999\n",
      "Data columns (total 11 columns):\n",
      " #   Column            Non-Null Count  Dtype  \n",
      "---  ------            --------------  -----  \n",
      " 0   credit_score      10000 non-null  int64  \n",
      " 1   geography         10000 non-null  object \n",
      " 2   gender            10000 non-null  object \n",
      " 3   age               10000 non-null  int64  \n",
      " 4   tenure            9091 non-null   float64\n",
      " 5   balance           10000 non-null  float64\n",
      " 6   num_of_products   10000 non-null  int64  \n",
      " 7   has_cr_card       10000 non-null  int64  \n",
      " 8   is_active_member  10000 non-null  int64  \n",
      " 9   estimated_salary  10000 non-null  float64\n",
      " 10  exited            10000 non-null  int64  \n",
      "dtypes: float64(3), int64(6), object(2)\n",
      "memory usage: 1.9 MB\n"
     ]
    }
   ],
   "source": [
    "df.info(memory_usage='deep')"
   ]
  },
  {
   "cell_type": "code",
   "execution_count": 7,
   "id": "8c5f949b",
   "metadata": {},
   "outputs": [
    {
     "name": "stdout",
     "output_type": "stream",
     "text": [
      "Признак 'tenure' содержит 9.09% пропущенных значений\n"
     ]
    }
   ],
   "source": [
    "print(f\"Признак 'tenure' содержит {df['tenure'].isna().sum()/df.shape[0]*100}% пропущенных значений\")"
   ]
  },
  {
   "cell_type": "code",
   "execution_count": 8,
   "id": "4a28467c",
   "metadata": {},
   "outputs": [
    {
     "name": "stdout",
     "output_type": "stream",
     "text": [
      "Число дубликатов: 0\n"
     ]
    }
   ],
   "source": [
    "print(f'Число дубликатов: {df.duplicated().sum()}')"
   ]
  },
  {
   "cell_type": "code",
   "execution_count": 9,
   "id": "835ffda2",
   "metadata": {},
   "outputs": [
    {
     "data": {
      "text/html": [
       "<div>\n",
       "<style scoped>\n",
       "    .dataframe tbody tr th:only-of-type {\n",
       "        vertical-align: middle;\n",
       "    }\n",
       "\n",
       "    .dataframe tbody tr th {\n",
       "        vertical-align: top;\n",
       "    }\n",
       "\n",
       "    .dataframe thead th {\n",
       "        text-align: right;\n",
       "    }\n",
       "</style>\n",
       "<table border=\"1\" class=\"dataframe\">\n",
       "  <thead>\n",
       "    <tr style=\"text-align: right;\">\n",
       "      <th></th>\n",
       "      <th>credit_score</th>\n",
       "      <th>age</th>\n",
       "      <th>tenure</th>\n",
       "      <th>balance</th>\n",
       "      <th>num_of_products</th>\n",
       "      <th>has_cr_card</th>\n",
       "      <th>is_active_member</th>\n",
       "      <th>estimated_salary</th>\n",
       "      <th>exited</th>\n",
       "    </tr>\n",
       "  </thead>\n",
       "  <tbody>\n",
       "    <tr>\n",
       "      <th>count</th>\n",
       "      <td>10000.00</td>\n",
       "      <td>10000.00</td>\n",
       "      <td>9091.00</td>\n",
       "      <td>10000.00</td>\n",
       "      <td>10000.00</td>\n",
       "      <td>10000.00</td>\n",
       "      <td>10000.00</td>\n",
       "      <td>10000.00</td>\n",
       "      <td>10000.00</td>\n",
       "    </tr>\n",
       "    <tr>\n",
       "      <th>mean</th>\n",
       "      <td>650.53</td>\n",
       "      <td>38.92</td>\n",
       "      <td>5.00</td>\n",
       "      <td>76485.89</td>\n",
       "      <td>1.53</td>\n",
       "      <td>0.71</td>\n",
       "      <td>0.52</td>\n",
       "      <td>100090.24</td>\n",
       "      <td>0.20</td>\n",
       "    </tr>\n",
       "    <tr>\n",
       "      <th>std</th>\n",
       "      <td>96.65</td>\n",
       "      <td>10.49</td>\n",
       "      <td>2.89</td>\n",
       "      <td>62397.41</td>\n",
       "      <td>0.58</td>\n",
       "      <td>0.46</td>\n",
       "      <td>0.50</td>\n",
       "      <td>57510.49</td>\n",
       "      <td>0.40</td>\n",
       "    </tr>\n",
       "    <tr>\n",
       "      <th>min</th>\n",
       "      <td>350.00</td>\n",
       "      <td>18.00</td>\n",
       "      <td>0.00</td>\n",
       "      <td>0.00</td>\n",
       "      <td>1.00</td>\n",
       "      <td>0.00</td>\n",
       "      <td>0.00</td>\n",
       "      <td>11.58</td>\n",
       "      <td>0.00</td>\n",
       "    </tr>\n",
       "    <tr>\n",
       "      <th>25%</th>\n",
       "      <td>584.00</td>\n",
       "      <td>32.00</td>\n",
       "      <td>2.00</td>\n",
       "      <td>0.00</td>\n",
       "      <td>1.00</td>\n",
       "      <td>0.00</td>\n",
       "      <td>0.00</td>\n",
       "      <td>51002.11</td>\n",
       "      <td>0.00</td>\n",
       "    </tr>\n",
       "    <tr>\n",
       "      <th>50%</th>\n",
       "      <td>652.00</td>\n",
       "      <td>37.00</td>\n",
       "      <td>5.00</td>\n",
       "      <td>97198.54</td>\n",
       "      <td>1.00</td>\n",
       "      <td>1.00</td>\n",
       "      <td>1.00</td>\n",
       "      <td>100193.91</td>\n",
       "      <td>0.00</td>\n",
       "    </tr>\n",
       "    <tr>\n",
       "      <th>75%</th>\n",
       "      <td>718.00</td>\n",
       "      <td>44.00</td>\n",
       "      <td>7.00</td>\n",
       "      <td>127644.24</td>\n",
       "      <td>2.00</td>\n",
       "      <td>1.00</td>\n",
       "      <td>1.00</td>\n",
       "      <td>149388.25</td>\n",
       "      <td>0.00</td>\n",
       "    </tr>\n",
       "    <tr>\n",
       "      <th>max</th>\n",
       "      <td>850.00</td>\n",
       "      <td>92.00</td>\n",
       "      <td>10.00</td>\n",
       "      <td>250898.09</td>\n",
       "      <td>4.00</td>\n",
       "      <td>1.00</td>\n",
       "      <td>1.00</td>\n",
       "      <td>199992.48</td>\n",
       "      <td>1.00</td>\n",
       "    </tr>\n",
       "  </tbody>\n",
       "</table>\n",
       "</div>"
      ],
      "text/plain": [
       "       credit_score      age  tenure   balance  num_of_products  has_cr_card  \\\n",
       "count      10000.00 10000.00 9091.00  10000.00         10000.00     10000.00   \n",
       "mean         650.53    38.92    5.00  76485.89             1.53         0.71   \n",
       "std           96.65    10.49    2.89  62397.41             0.58         0.46   \n",
       "min          350.00    18.00    0.00      0.00             1.00         0.00   \n",
       "25%          584.00    32.00    2.00      0.00             1.00         0.00   \n",
       "50%          652.00    37.00    5.00  97198.54             1.00         1.00   \n",
       "75%          718.00    44.00    7.00 127644.24             2.00         1.00   \n",
       "max          850.00    92.00   10.00 250898.09             4.00         1.00   \n",
       "\n",
       "       is_active_member  estimated_salary   exited  \n",
       "count          10000.00          10000.00 10000.00  \n",
       "mean               0.52         100090.24     0.20  \n",
       "std                0.50          57510.49     0.40  \n",
       "min                0.00             11.58     0.00  \n",
       "25%                0.00          51002.11     0.00  \n",
       "50%                1.00         100193.91     0.00  \n",
       "75%                1.00         149388.25     0.00  \n",
       "max                1.00         199992.48     1.00  "
      ]
     },
     "execution_count": 9,
     "metadata": {},
     "output_type": "execute_result"
    }
   ],
   "source": [
    "df.describe()"
   ]
  },
  {
   "cell_type": "code",
   "execution_count": 10,
   "id": "cf3caeeb",
   "metadata": {},
   "outputs": [
    {
     "name": "stdout",
     "output_type": "stream",
     "text": [
      "Доля класса с меткой '0' — 0.7963\n",
      "Доля класса с меткой '1' — 0.2037\n"
     ]
    }
   ],
   "source": [
    "print(f\"Доля класса с меткой '0' — {df[df['exited'] == 0]['exited'].count()/df.shape[0]}\")\n",
    "print(f\"Доля класса с меткой '1' — {df[df['exited'] == 1]['exited'].count()/df.shape[0]}\")"
   ]
  },
  {
   "cell_type": "code",
   "execution_count": 11,
   "id": "ad50c31d",
   "metadata": {},
   "outputs": [
    {
     "data": {
      "text/html": [
       "<div>\n",
       "<style scoped>\n",
       "    .dataframe tbody tr th:only-of-type {\n",
       "        vertical-align: middle;\n",
       "    }\n",
       "\n",
       "    .dataframe tbody tr th {\n",
       "        vertical-align: top;\n",
       "    }\n",
       "\n",
       "    .dataframe thead th {\n",
       "        text-align: right;\n",
       "    }\n",
       "</style>\n",
       "<table border=\"1\" class=\"dataframe\">\n",
       "  <thead>\n",
       "    <tr style=\"text-align: right;\">\n",
       "      <th></th>\n",
       "      <th>geography</th>\n",
       "      <th>gender</th>\n",
       "    </tr>\n",
       "  </thead>\n",
       "  <tbody>\n",
       "    <tr>\n",
       "      <th>count</th>\n",
       "      <td>10000</td>\n",
       "      <td>10000</td>\n",
       "    </tr>\n",
       "    <tr>\n",
       "      <th>unique</th>\n",
       "      <td>3</td>\n",
       "      <td>2</td>\n",
       "    </tr>\n",
       "    <tr>\n",
       "      <th>top</th>\n",
       "      <td>France</td>\n",
       "      <td>Male</td>\n",
       "    </tr>\n",
       "    <tr>\n",
       "      <th>freq</th>\n",
       "      <td>5014</td>\n",
       "      <td>5457</td>\n",
       "    </tr>\n",
       "  </tbody>\n",
       "</table>\n",
       "</div>"
      ],
      "text/plain": [
       "       geography gender\n",
       "count      10000  10000\n",
       "unique         3      2\n",
       "top       France   Male\n",
       "freq        5014   5457"
      ]
     },
     "execution_count": 11,
     "metadata": {},
     "output_type": "execute_result"
    }
   ],
   "source": [
    "df.describe(include=['object'])"
   ]
  },
  {
   "cell_type": "code",
   "execution_count": 12,
   "id": "d1752634",
   "metadata": {},
   "outputs": [
    {
     "data": {
      "image/png": "[encoded data removed]",
      "text/plain": [
       "<Figure size 576x576 with 2 Axes>"
      ]
     },
     "metadata": {},
     "output_type": "display_data"
    }
   ],
   "source": [
    "plt.figure(figsize=(8, 8))\n",
    "sns.heatmap(df.drop(['exited'], axis=1).corr(), \n",
    "            cmap='coolwarm', linewidths=1, linecolor='black', square=True,\n",
    "            annot=True, fmt='.2f', annot_kws={'size':12});"
   ]
  },
  {
   "cell_type": "markdown",
   "id": "de844bdf",
   "metadata": {},
   "source": [
    "**Выводы:**\n",
    "1. Стоит оптимизировать типы данных, а именно:\n",
    "    - оптимизируем хранение числовых признаков;\n",
    "2. Пространство признаков состоит из *2* категориальных и *8* числовых признаков.\n",
    "2. Признак `tenure` содержит *9.09%* пропущенных значений.\n",
    "3. Исходная таблица не содержит повторяющихся значений.\n",
    "4. Описательная статистика количественных и качественных признаков в пределах нормы, отрицательных либо невероятных экстремальных значений не обнаружено.\n",
    "5. Обнаружено, что классы несбалансированны. Доля положительного класса с меткой *1* — *0.2037*.\n",
    "4. Мультиколлинеарность между признаками не обнаружена."
   ]
  },
  {
   "cell_type": "markdown",
   "id": "fc858d45",
   "metadata": {},
   "source": [
    "## Предобработка данных"
   ]
  },
  {
   "cell_type": "markdown",
   "id": "c8e5549d",
   "metadata": {},
   "source": [
    "### Изменение типа данных"
   ]
  },
  {
   "cell_type": "code",
   "execution_count": 13,
   "id": "f195254d",
   "metadata": {},
   "outputs": [],
   "source": [
    "converted_float = df.select_dtypes(include=['float64']).apply(pd.to_numeric, downcast='float')\n",
    "for column in converted_float.columns:\n",
    "    df[column] = converted_float[column]\n",
    "    \n",
    "converted_int = df.select_dtypes(include=['int64']).apply(pd.to_numeric, downcast='unsigned')\n",
    "for column in converted_int.columns:\n",
    "    df[column] = converted_int[column]"
   ]
  },
  {
   "cell_type": "code",
   "execution_count": 14,
   "id": "7a3fb03b",
   "metadata": {},
   "outputs": [
    {
     "name": "stdout",
     "output_type": "stream",
     "text": [
      "<class 'pandas.core.frame.DataFrame'>\n",
      "RangeIndex: 10000 entries, 0 to 9999\n",
      "Data columns (total 11 columns):\n",
      " #   Column            Non-Null Count  Dtype  \n",
      "---  ------            --------------  -----  \n",
      " 0   credit_score      10000 non-null  uint16 \n",
      " 1   geography         10000 non-null  object \n",
      " 2   gender            10000 non-null  object \n",
      " 3   age               10000 non-null  uint8  \n",
      " 4   tenure            9091 non-null   float32\n",
      " 5   balance           10000 non-null  float32\n",
      " 6   num_of_products   10000 non-null  uint8  \n",
      " 7   has_cr_card       10000 non-null  uint8  \n",
      " 8   is_active_member  10000 non-null  uint8  \n",
      " 9   estimated_salary  10000 non-null  float32\n",
      " 10  exited            10000 non-null  uint8  \n",
      "dtypes: float32(3), object(2), uint16(1), uint8(5)\n",
      "memory usage: 1.4 MB\n"
     ]
    }
   ],
   "source": [
    "df.info(memory_usage='deep')"
   ]
  },
  {
   "cell_type": "markdown",
   "id": "455bf1fa",
   "metadata": {},
   "source": [
    "### Восстановление пропущенных значений"
   ]
  },
  {
   "cell_type": "markdown",
   "id": "216ce187",
   "metadata": {},
   "source": [
    "Существует множество способов обработки пропущенных значений, начиная от удаления строк, признаков их содежащих, и заканчивая использованием алгоритмов машинного обучения, потипу *kNN*, *MissForest* и даже методов глубокого обучения.\n",
    "В данном случае, с учетом того, что природа пропусков неизвестна лучше их заполнить случайными числами, чтобы не влиять на распределение."
   ]
  },
  {
   "cell_type": "code",
   "execution_count": 15,
   "id": "e735fd75",
   "metadata": {},
   "outputs": [],
   "source": [
    "df['tenure'] = df['tenure'].apply(lambda x: x if not np.isnan(x) else np.random.choice(range(0, 11)))"
   ]
  },
  {
   "cell_type": "code",
   "execution_count": 16,
   "id": "499cb258",
   "metadata": {},
   "outputs": [
    {
     "name": "stdout",
     "output_type": "stream",
     "text": [
      "Признак 'tenure' содержит 0.0% пропущенных значений\n"
     ]
    }
   ],
   "source": [
    "print(f\"Признак 'tenure' содержит {df['tenure'].isna().sum()/df.shape[0]*100}% пропущенных значений\")"
   ]
  },
  {
   "cell_type": "markdown",
   "id": "68e392bc",
   "metadata": {},
   "source": [
    "## Подготовка признаков"
   ]
  },
  {
   "cell_type": "markdown",
   "id": "875e423b",
   "metadata": {},
   "source": [
    "### Кодирование категориальных признаков"
   ]
  },
  {
   "cell_type": "markdown",
   "id": "dec83007",
   "metadata": {},
   "source": [
    "С учетом того, что категориальные признаки `geography` и `gender` не являются порядковыми и не имеют ранга, то для кодирования данных признаков используем метод *One-Hot Encoding*."
   ]
  },
  {
   "cell_type": "code",
   "execution_count": 17,
   "id": "1234bea5",
   "metadata": {},
   "outputs": [],
   "source": [
    "df = pd.get_dummies(df, drop_first=True)"
   ]
  },
  {
   "cell_type": "markdown",
   "id": "f14ae81c",
   "metadata": {},
   "source": [
    "### Подготовка обучающей, валидационной и тестовой выборок"
   ]
  },
  {
   "cell_type": "code",
   "execution_count": 18,
   "id": "368e8337",
   "metadata": {},
   "outputs": [
    {
     "name": "stdout",
     "output_type": "stream",
     "text": [
      "Размер обучающей выборки: 6000 объектов\n",
      "Размер валидационной выборки: 2000 объектов\n",
      "Размер тестовой выборки: 2000 объектов\n"
     ]
    }
   ],
   "source": [
    "features = df.drop(['exited'], axis=1)\n",
    "target = df['exited']\n",
    "\n",
    "features_train, features_test, target_train, target_test = train_test_split(features, target, \n",
    "                                                                            test_size = 0.4, random_state=random_seed)\n",
    "features_valid, features_test, target_valid, target_test = train_test_split(features_test, target_test,\n",
    "                                                                            test_size = 0.5, random_state=random_seed)\n",
    "print(f'Размер обучающей выборки: {features_train.shape[0]} объектов')\n",
    "print(f'Размер валидационной выборки: {features_valid.shape[0]} объектов')\n",
    "print(f'Размер тестовой выборки: {features_test.shape[0]} объектов')"
   ]
  },
  {
   "cell_type": "markdown",
   "id": "18a9953f",
   "metadata": {},
   "source": [
    "### Масштабирование числовых признаков"
   ]
  },
  {
   "cell_type": "markdown",
   "id": "3340efd9",
   "metadata": {},
   "source": [
    "Целью масштабирования является приведение различных признаков в самых разных единицах измерения и диапазонах значений к единому виду, который позволит сравнивать их между собой и использовать для расчёта схожести объектов для алгоритмов машинного обучения. Для этого воспользуемся стандартизацией числовых данных."
   ]
  },
  {
   "cell_type": "code",
   "execution_count": 19,
   "id": "d330dd39",
   "metadata": {},
   "outputs": [],
   "source": [
    "numeric = ['credit_score', 'age', 'tenure', 'balance', 'num_of_products', 'estimated_salary']\n",
    "scaler = StandardScaler()\n",
    "scaler.fit(features_train[numeric])\n",
    "\n",
    "features_train[numeric] = scaler.transform(features_train[numeric])\n",
    "features_valid[numeric] = scaler.transform(features_valid[numeric])\n",
    "features_test[numeric] = scaler.transform(features_test[numeric])"
   ]
  },
  {
   "cell_type": "code",
   "execution_count": 20,
   "id": "3bbe0b2f",
   "metadata": {},
   "outputs": [
    {
     "data": {
      "text/html": [
       "<div>\n",
       "<style scoped>\n",
       "    .dataframe tbody tr th:only-of-type {\n",
       "        vertical-align: middle;\n",
       "    }\n",
       "\n",
       "    .dataframe tbody tr th {\n",
       "        vertical-align: top;\n",
       "    }\n",
       "\n",
       "    .dataframe thead th {\n",
       "        text-align: right;\n",
       "    }\n",
       "</style>\n",
       "<table border=\"1\" class=\"dataframe\">\n",
       "  <thead>\n",
       "    <tr style=\"text-align: right;\">\n",
       "      <th></th>\n",
       "      <th>credit_score</th>\n",
       "      <th>age</th>\n",
       "      <th>tenure</th>\n",
       "      <th>balance</th>\n",
       "      <th>num_of_products</th>\n",
       "      <th>has_cr_card</th>\n",
       "      <th>is_active_member</th>\n",
       "      <th>estimated_salary</th>\n",
       "      <th>geography_Germany</th>\n",
       "      <th>geography_Spain</th>\n",
       "      <th>gender_Male</th>\n",
       "    </tr>\n",
       "  </thead>\n",
       "  <tbody>\n",
       "    <tr>\n",
       "      <th>2232</th>\n",
       "      <td>-0.02</td>\n",
       "      <td>-0.27</td>\n",
       "      <td>1.05</td>\n",
       "      <td>-1.22</td>\n",
       "      <td>0.81</td>\n",
       "      <td>1</td>\n",
       "      <td>0</td>\n",
       "      <td>1.07</td>\n",
       "      <td>0</td>\n",
       "      <td>1</td>\n",
       "      <td>1</td>\n",
       "    </tr>\n",
       "    <tr>\n",
       "      <th>2062</th>\n",
       "      <td>0.54</td>\n",
       "      <td>-0.92</td>\n",
       "      <td>-0.68</td>\n",
       "      <td>0.73</td>\n",
       "      <td>-0.92</td>\n",
       "      <td>0</td>\n",
       "      <td>1</td>\n",
       "      <td>-0.29</td>\n",
       "      <td>1</td>\n",
       "      <td>0</td>\n",
       "      <td>0</td>\n",
       "    </tr>\n",
       "    <tr>\n",
       "      <th>1225</th>\n",
       "      <td>0.58</td>\n",
       "      <td>1.32</td>\n",
       "      <td>0.36</td>\n",
       "      <td>0.53</td>\n",
       "      <td>-0.92</td>\n",
       "      <td>1</td>\n",
       "      <td>1</td>\n",
       "      <td>-0.82</td>\n",
       "      <td>0</td>\n",
       "      <td>1</td>\n",
       "      <td>0</td>\n",
       "    </tr>\n",
       "    <tr>\n",
       "      <th>5935</th>\n",
       "      <td>-1.10</td>\n",
       "      <td>-0.17</td>\n",
       "      <td>-0.68</td>\n",
       "      <td>-1.22</td>\n",
       "      <td>0.81</td>\n",
       "      <td>0</td>\n",
       "      <td>0</td>\n",
       "      <td>0.61</td>\n",
       "      <td>0</td>\n",
       "      <td>1</td>\n",
       "      <td>1</td>\n",
       "    </tr>\n",
       "    <tr>\n",
       "      <th>9549</th>\n",
       "      <td>-0.75</td>\n",
       "      <td>-0.27</td>\n",
       "      <td>-1.36</td>\n",
       "      <td>1.29</td>\n",
       "      <td>0.81</td>\n",
       "      <td>1</td>\n",
       "      <td>0</td>\n",
       "      <td>0.72</td>\n",
       "      <td>0</td>\n",
       "      <td>1</td>\n",
       "      <td>1</td>\n",
       "    </tr>\n",
       "    <tr>\n",
       "      <th>4341</th>\n",
       "      <td>-0.04</td>\n",
       "      <td>-0.36</td>\n",
       "      <td>-1.36</td>\n",
       "      <td>1.44</td>\n",
       "      <td>0.81</td>\n",
       "      <td>1</td>\n",
       "      <td>0</td>\n",
       "      <td>0.84</td>\n",
       "      <td>1</td>\n",
       "      <td>0</td>\n",
       "      <td>0</td>\n",
       "    </tr>\n",
       "    <tr>\n",
       "      <th>4026</th>\n",
       "      <td>1.14</td>\n",
       "      <td>1.60</td>\n",
       "      <td>1.74</td>\n",
       "      <td>0.38</td>\n",
       "      <td>2.55</td>\n",
       "      <td>1</td>\n",
       "      <td>1</td>\n",
       "      <td>-0.39</td>\n",
       "      <td>1</td>\n",
       "      <td>0</td>\n",
       "      <td>1</td>\n",
       "    </tr>\n",
       "    <tr>\n",
       "      <th>4874</th>\n",
       "      <td>0.54</td>\n",
       "      <td>0.39</td>\n",
       "      <td>1.05</td>\n",
       "      <td>-1.22</td>\n",
       "      <td>0.81</td>\n",
       "      <td>1</td>\n",
       "      <td>0</td>\n",
       "      <td>-1.55</td>\n",
       "      <td>0</td>\n",
       "      <td>0</td>\n",
       "      <td>1</td>\n",
       "    </tr>\n",
       "    <tr>\n",
       "      <th>6439</th>\n",
       "      <td>-0.20</td>\n",
       "      <td>-0.17</td>\n",
       "      <td>1.39</td>\n",
       "      <td>0.99</td>\n",
       "      <td>-0.92</td>\n",
       "      <td>1</td>\n",
       "      <td>0</td>\n",
       "      <td>-0.67</td>\n",
       "      <td>0</td>\n",
       "      <td>1</td>\n",
       "      <td>1</td>\n",
       "    </tr>\n",
       "    <tr>\n",
       "      <th>1736</th>\n",
       "      <td>-0.19</td>\n",
       "      <td>-0.92</td>\n",
       "      <td>-1.71</td>\n",
       "      <td>1.00</td>\n",
       "      <td>-0.92</td>\n",
       "      <td>1</td>\n",
       "      <td>0</td>\n",
       "      <td>1.62</td>\n",
       "      <td>1</td>\n",
       "      <td>0</td>\n",
       "      <td>0</td>\n",
       "    </tr>\n",
       "  </tbody>\n",
       "</table>\n",
       "</div>"
      ],
      "text/plain": [
       "      credit_score   age  tenure  balance  num_of_products  has_cr_card  \\\n",
       "2232         -0.02 -0.27    1.05    -1.22             0.81            1   \n",
       "2062          0.54 -0.92   -0.68     0.73            -0.92            0   \n",
       "1225          0.58  1.32    0.36     0.53            -0.92            1   \n",
       "5935         -1.10 -0.17   -0.68    -1.22             0.81            0   \n",
       "9549         -0.75 -0.27   -1.36     1.29             0.81            1   \n",
       "4341         -0.04 -0.36   -1.36     1.44             0.81            1   \n",
       "4026          1.14  1.60    1.74     0.38             2.55            1   \n",
       "4874          0.54  0.39    1.05    -1.22             0.81            1   \n",
       "6439         -0.20 -0.17    1.39     0.99            -0.92            1   \n",
       "1736         -0.19 -0.92   -1.71     1.00            -0.92            1   \n",
       "\n",
       "      is_active_member  estimated_salary  geography_Germany  geography_Spain  \\\n",
       "2232                 0              1.07                  0                1   \n",
       "2062                 1             -0.29                  1                0   \n",
       "1225                 1             -0.82                  0                1   \n",
       "5935                 0              0.61                  0                1   \n",
       "9549                 0              0.72                  0                1   \n",
       "4341                 0              0.84                  1                0   \n",
       "4026                 1             -0.39                  1                0   \n",
       "4874                 0             -1.55                  0                0   \n",
       "6439                 0             -0.67                  0                1   \n",
       "1736                 0              1.62                  1                0   \n",
       "\n",
       "      gender_Male  \n",
       "2232            1  \n",
       "2062            0  \n",
       "1225            0  \n",
       "5935            1  \n",
       "9549            1  \n",
       "4341            0  \n",
       "4026            1  \n",
       "4874            1  \n",
       "6439            1  \n",
       "1736            0  "
      ]
     },
     "execution_count": 20,
     "metadata": {},
     "output_type": "execute_result"
    }
   ],
   "source": [
    "features_train.sample(10, random_state=random_seed)"
   ]
  },
  {
   "cell_type": "markdown",
   "id": "9806f010",
   "metadata": {},
   "source": [
    "### Балансирование классов"
   ]
  },
  {
   "cell_type": "markdown",
   "id": "6c957e44",
   "metadata": {},
   "source": [
    "1. Изучим поведение моделей при обучении на несбалансированных классах.\n",
    "2. Проведем сэмплинг."
   ]
  },
  {
   "cell_type": "markdown",
   "id": "96c38b56",
   "metadata": {},
   "source": [
    "#### Поведение моделей при обучении в условиях несбалансированности классов"
   ]
  },
  {
   "cell_type": "markdown",
   "id": "14ceec45",
   "metadata": {},
   "source": [
    "##### Decision Tree"
   ]
  },
  {
   "cell_type": "code",
   "execution_count": 21,
   "id": "795a875a",
   "metadata": {},
   "outputs": [
    {
     "name": "stderr",
     "output_type": "stream",
     "text": [
      "100%|██████████████████████████████████████████████████████████████████████████████████| 59/59 [01:43<00:00,  1.76s/it]"
     ]
    },
    {
     "name": "stdout",
     "output_type": "stream",
     "text": [
      "Метрики качества модели:\n",
      "\n",
      "f1-мера: 0.5902097902097901\n",
      "AUC-ROC: 0.814825319654112\n",
      "\n",
      "Гиперпараметры лучшей модели:\n",
      "\n",
      "criterion - entropy\n",
      "max_depth - 9\n",
      "max_features - 11\n",
      "min_samples_leaf - 14\n"
     ]
    },
    {
     "name": "stderr",
     "output_type": "stream",
     "text": [
      "\n"
     ]
    }
   ],
   "source": [
    "best_model_dt = None\n",
    "f1_best_dt = float('-inf')\n",
    "criterions = ['gini', 'entropy']\n",
    "for depth in tqdm(range(2, 61)):\n",
    "    for criterion in criterions:\n",
    "        for max_feature in ['sqrt', 'log2', len(features_train.columns)]:\n",
    "            for leaf in range(2, 21):\n",
    "                model = DecisionTreeClassifier(criterion=criterion, \n",
    "                                               max_depth=depth, \n",
    "                                               max_features=max_feature,\n",
    "                                               min_samples_leaf=leaf,\n",
    "                                               random_state=random_seed)\n",
    "                \n",
    "                model.fit(features_train, target_train)\n",
    "                predictions = model.predict(features_valid)\n",
    "                f1 = f1_score(target_valid, predictions)\n",
    "                if f1 > f1_best_dt:\n",
    "                    best_model_dt = model\n",
    "                    f1_best_dt = f1\n",
    "                    \n",
    "print('Метрики качества модели:', end='\\n\\n')\n",
    "print(f'f1-мера: {f1_best_dt}')\n",
    "print(f'AUC-ROC: {roc_auc_score(target_valid, best_model_dt.predict_proba(features_valid)[:, 1])}', end='\\n\\n')\n",
    "print('Гиперпараметры лучшей модели:', end='\\n\\n')\n",
    "for k, v in best_model_dt.get_params(deep=True).items():\n",
    "    if k in ('criterion', 'max_depth', 'max_features', 'min_samples_leaf'):\n",
    "        print(f'{k} - {v}')"
   ]
  },
  {
   "cell_type": "markdown",
   "id": "0048ffc3",
   "metadata": {},
   "source": [
    "##### Random Forest"
   ]
  },
  {
   "cell_type": "code",
   "execution_count": 22,
   "id": "3475d4c0",
   "metadata": {},
   "outputs": [
    {
     "name": "stderr",
     "output_type": "stream",
     "text": [
      "100%|██████████████████████████████████████████████████████████████████████████████████| 20/20 [18:05<00:00, 54.30s/it]"
     ]
    },
    {
     "name": "stdout",
     "output_type": "stream",
     "text": [
      "Метрики качества модели:\n",
      "\n",
      "f1-мера: 0.5660377358490566\n",
      "AUC-ROC: 0.848824857673977\n",
      "\n",
      "Гиперпараметры лучшей модели:\n",
      "\n",
      "criterion - entropy\n",
      "max_depth - 23\n",
      "max_features - sqrt\n",
      "min_samples_leaf - 1\n",
      "n_estimators - 96\n"
     ]
    },
    {
     "name": "stderr",
     "output_type": "stream",
     "text": [
      "\n"
     ]
    }
   ],
   "source": [
    "best_model_rf = None\n",
    "f1_best_rf = float('-inf')\n",
    "for est in tqdm(range(1, 100, 5)):\n",
    "    for depth in range(2, 61):\n",
    "        for max_feature in ['sqrt', 'log2', len(features_train.columns)]:\n",
    "            model = RandomForestClassifier(n_estimators = est,\n",
    "                                           criterion='entropy', \n",
    "                                           max_depth=depth, \n",
    "                                           max_features=max_feature,\n",
    "                                           #min_samples_leaf=leaf,\n",
    "                                           random_state=random_seed,\n",
    "                                           n_jobs=-1)\n",
    "                \n",
    "            model.fit(features_train, target_train)\n",
    "            predictions = model.predict(features_valid)\n",
    "            f1 = f1_score(target_valid, predictions)\n",
    "            if f1 > f1_best_rf:\n",
    "                best_model_rf = model\n",
    "                f1_best_rf = f1\n",
    "                    \n",
    "print('Метрики качества модели:', end='\\n\\n')\n",
    "print(f'f1-мера: {f1_best_rf}')\n",
    "print(f'AUC-ROC: {roc_auc_score(target_valid, best_model_rf.predict_proba(features_valid)[:, 1])}', end='\\n\\n')\n",
    "print('Гиперпараметры лучшей модели:', end='\\n\\n')\n",
    "for k, v in best_model_rf.get_params(deep=True).items():\n",
    "    if k in ('n_estimators', 'criterion', 'max_depth', 'max_features', 'min_samples_leaf'):\n",
    "        print(f'{k} - {v}')"
   ]
  },
  {
   "cell_type": "markdown",
   "id": "51129137",
   "metadata": {},
   "source": [
    "##### LogisticRegression"
   ]
  },
  {
   "cell_type": "code",
   "execution_count": 23,
   "id": "ad808d16",
   "metadata": {},
   "outputs": [
    {
     "name": "stderr",
     "output_type": "stream",
     "text": [
      "100%|████████████████████████████████████████████████████████████████████████████████| 500/500 [00:50<00:00,  9.84it/s]"
     ]
    },
    {
     "name": "stdout",
     "output_type": "stream",
     "text": [
      "Метрики качества модели:\n",
      "\n",
      "f1-мера: 0.30939226519337015\n",
      "AUC-ROC: 0.7584299589403369\n",
      "\n",
      "Гиперпараметры лучшей модели:\n",
      "\n",
      "C - 0.14200531816536824\n",
      "penalty - l2\n",
      "solver - liblinear\n"
     ]
    },
    {
     "name": "stderr",
     "output_type": "stream",
     "text": [
      "\n"
     ]
    }
   ],
   "source": [
    "best_model_lr = None\n",
    "f1_best_lr = float('-inf')\n",
    "for c in tqdm(np.logspace(-2, 3, 500)):\n",
    "    for solver in ['liblinear', 'lbfgs', 'sag', 'saga']:\n",
    "        model = LogisticRegression(C=c,\n",
    "                                   penalty='l2',\n",
    "                                   max_iter=1e5,\n",
    "                                   solver=solver,\n",
    "                                   random_state=random_seed)\n",
    "                \n",
    "        model.fit(features_train, target_train)\n",
    "        predictions = model.predict(features_valid)\n",
    "        f1 = f1_score(target_valid, predictions)\n",
    "        if f1 > f1_best_lr:\n",
    "            best_model_lr = model\n",
    "            f1_best_lr = f1\n",
    "            \n",
    "print('Метрики качества модели:', end='\\n\\n')       \n",
    "print(f'f1-мера: {f1_best_lr}')\n",
    "print(f'AUC-ROC: {roc_auc_score(target_valid, best_model_lr.predict_proba(features_valid)[:, 1])}', end='\\n\\n')\n",
    "print('Гиперпараметры лучшей модели:', end='\\n\\n')\n",
    "for k, v in best_model_lr.get_params(deep=True).items():\n",
    "    if k in ('penalty', 'C', 'solver'):\n",
    "        print(f'{k} - {v}')"
   ]
  },
  {
   "cell_type": "markdown",
   "id": "d34eb198",
   "metadata": {},
   "source": [
    "**Выводы:**\n",
    "1. При классификации в условиях несбалансированности классов были получены следующие результаты:\n",
    "    - Decision Tree: *f1-мера* — *0.597*, *AUC-ROC* — *0.812*;\n",
    "    - Random Forest: *f1-мера* — *0.567*, *AUC-ROC* — *0.838*;\n",
    "    - LogisticRegression: *f1-мера — 0.308*, *AUC-ROC — 0.758*.\n",
    "2. Можно заметить, что метрика *AUC-ROC* меньше всего подвержена влиянию несбалансированости классов. Это связано с тем, что при ее расчете используется FPR (False Positive Rate)."
   ]
  },
  {
   "cell_type": "markdown",
   "id": "07e2277e",
   "metadata": {},
   "source": [
    "#### Сэмплинг"
   ]
  },
  {
   "cell_type": "markdown",
   "id": "028303a0",
   "metadata": {},
   "source": [
    "Ребалансировку классов проведем путём уменьшения числа примеров мажоритарного класса (undesampling), а точнее методом *One-side sampling*, в основе идеи которого лежит сочетание двух методов: *поиск связей Томека* и *правило соcредточенного ближайшего соседа*. На первом шаге применяется правило сосредоточенного ближайшего соседа, а на втором — удаляются все мажоритарные наблюдения, участвующие в связях Томека."
   ]
  },
  {
   "cell_type": "code",
   "execution_count": 24,
   "id": "3a6abad4",
   "metadata": {},
   "outputs": [],
   "source": [
    "oss = OneSidedSelection(random_state=random_seed)\n",
    "features_train, target_train = oss.fit_resample(features_train, target_train)"
   ]
  },
  {
   "cell_type": "markdown",
   "id": "e41c26ee",
   "metadata": {},
   "source": [
    "## Моделирование"
   ]
  },
  {
   "cell_type": "code",
   "execution_count": 25,
   "id": "2b37235b",
   "metadata": {},
   "outputs": [],
   "source": [
    "def roc_curve_plot(target, probabilities, roc_auc):\n",
    "    \n",
    "    fpr, tpr, thresholds = roc_curve(target, probabilities)\n",
    "    plt.plot(fpr, tpr, label='ROC кривая (area = %0.2f)' % roc_auc)\n",
    "    plt.plot([0, 1], [0, 1], linestyle='--')\n",
    "    plt.xlim([0.0, 1.0])\n",
    "    plt.ylim([0.0, 1.0])\n",
    "    plt.xlabel('False Positive Rate', fontsize=12)\n",
    "    plt.ylabel('True Positive Rate', fontsize=12)\n",
    "    plt.title('ROC-кривая', fontsize=15)\n",
    "    plt.legend(loc=\"lower right\")\n",
    "    plt.show()"
   ]
  },
  {
   "cell_type": "markdown",
   "id": "264a5113",
   "metadata": {},
   "source": [
    "### Decision Tree"
   ]
  },
  {
   "cell_type": "code",
   "execution_count": 26,
   "id": "f90f36ed",
   "metadata": {},
   "outputs": [
    {
     "name": "stderr",
     "output_type": "stream",
     "text": [
      "100%|██████████████████████████████████████████████████████████████████████████████████| 59/59 [00:59<00:00,  1.00s/it]\n"
     ]
    },
    {
     "data": {
      "image/png": "[encoded data removed]",
      "text/plain": [
       "<Figure size 720x504 with 1 Axes>"
      ]
     },
     "metadata": {},
     "output_type": "display_data"
    },
    {
     "name": "stdout",
     "output_type": "stream",
     "text": [
      "Метрики качества модели:\n",
      "\n",
      "f1-мера: 0.6012526096033404\n",
      "AUC-ROC: 0.8288457882025358\n",
      "\n",
      "Гиперпараметры лучшей модели:\n",
      "\n",
      "criterion - entropy\n",
      "max_depth - 8\n",
      "max_features - 11\n",
      "min_samples_leaf - 6\n"
     ]
    }
   ],
   "source": [
    "best_model_dt = None\n",
    "f1_best_dt = float('-inf')\n",
    "for depth in tqdm(range(2, 61)):\n",
    "    for max_feature in ['sqrt', 'log2', len(features_train.columns)]:\n",
    "        for leaf in range(2, 21):\n",
    "            model = DecisionTreeClassifier(criterion='entropy', \n",
    "                                           max_depth=depth, \n",
    "                                           max_features=max_feature,\n",
    "                                           min_samples_leaf=leaf,\n",
    "                                           class_weight='balanced',\n",
    "                                           random_state=random_seed)\n",
    "                \n",
    "            model.fit(features_train, target_train)\n",
    "            predictions = model.predict(features_valid)\n",
    "            f1 = f1_score(target_valid, predictions)\n",
    "            if f1 > f1_best_dt:\n",
    "                best_model_dt = model\n",
    "                f1_best_dt = f1\n",
    "\n",
    "probabilities = best_model_dt.predict_proba(features_valid)[:, 1]                \n",
    "roc_auc_dt = roc_auc_score(target_valid, probabilities)    \n",
    "roc_curve_plot(target_valid, probabilities, roc_auc_dt)\n",
    "\n",
    "print('Метрики качества модели:', end='\\n\\n')\n",
    "print(f'f1-мера: {f1_best_dt}')\n",
    "print(f'AUC-ROC: {roc_auc_dt}', end='\\n\\n')\n",
    "print('Гиперпараметры лучшей модели:', end='\\n\\n')\n",
    "for k, v in best_model_dt.get_params(deep=True).items():\n",
    "    if k in ('criterion', 'max_depth', 'max_features', 'min_samples_leaf'):\n",
    "        print(f'{k} - {v}')"
   ]
  },
  {
   "cell_type": "markdown",
   "id": "4aa84d78",
   "metadata": {},
   "source": [
    "### Random Forest"
   ]
  },
  {
   "cell_type": "code",
   "execution_count": 27,
   "id": "615465c4",
   "metadata": {},
   "outputs": [
    {
     "name": "stderr",
     "output_type": "stream",
     "text": [
      "100%|██████████████████████████████████████████████████████████████████████████████████| 20/20 [18:03<00:00, 54.16s/it]\n"
     ]
    },
    {
     "data": {
      "image/png": "[encoded data removed]",
      "text/plain": [
       "<Figure size 720x504 with 1 Axes>"
      ]
     },
     "metadata": {},
     "output_type": "display_data"
    },
    {
     "name": "stdout",
     "output_type": "stream",
     "text": [
      "Метрики качества модели:\n",
      "\n",
      "f1-мера: 0.631578947368421\n",
      "AUC-ROC: 0.8616008083080999\n",
      "\n",
      "Гиперпараметры лучшей модели:\n",
      "\n",
      "criterion - entropy\n",
      "max_depth - 9\n",
      "max_features - sqrt\n",
      "min_samples_leaf - 1\n",
      "n_estimators - 76\n"
     ]
    }
   ],
   "source": [
    "best_model_rf = None\n",
    "f1_best_rf = float('-inf')\n",
    "for est in tqdm(range(1, 100, 5)):\n",
    "    for depth in range(2, 61):\n",
    "        for max_feature in ['sqrt', 'log2', len(features_train.columns)]:\n",
    "            model = RandomForestClassifier(n_estimators = est,\n",
    "                                           criterion='entropy', \n",
    "                                           max_depth=depth, \n",
    "                                           max_features=max_feature,\n",
    "                                           #min_samples_leaf=leaf,\n",
    "                                           random_state=random_seed,\n",
    "                                           class_weight='balanced',\n",
    "                                           n_jobs=-1)\n",
    "                \n",
    "            model.fit(features_train, target_train)\n",
    "            predictions = model.predict(features_valid)\n",
    "            f1 = f1_score(target_valid, predictions)\n",
    "            if f1 > f1_best_rf:\n",
    "                best_model_rf = model\n",
    "                f1_best_rf = f1\n",
    "                \n",
    "probabilities = best_model_rf.predict_proba(features_valid)[:, 1]                \n",
    "roc_auc_rf = roc_auc_score(target_valid, probabilities)    \n",
    "roc_curve_plot(target_valid, probabilities, roc_auc_rf)  \n",
    "\n",
    "print('Метрики качества модели:', end='\\n\\n')\n",
    "print(f'f1-мера: {f1_best_rf}')\n",
    "print(f'AUC-ROC: {roc_auc_rf}', end='\\n\\n')\n",
    "print('Гиперпараметры лучшей модели:', end='\\n\\n')\n",
    "for k, v in best_model_rf.get_params(deep=True).items():\n",
    "    if k in ('n_estimators', 'criterion', 'max_depth', 'max_features', 'min_samples_leaf'):\n",
    "        print(f'{k} - {v}')"
   ]
  },
  {
   "cell_type": "markdown",
   "id": "b5128063",
   "metadata": {},
   "source": [
    "### LogisticRegression"
   ]
  },
  {
   "cell_type": "code",
   "execution_count": 28,
   "id": "16bb06ab",
   "metadata": {},
   "outputs": [
    {
     "name": "stderr",
     "output_type": "stream",
     "text": [
      "100%|████████████████████████████████████████████████████████████████████████████████| 500/500 [00:54<00:00,  9.16it/s]\n"
     ]
    },
    {
     "data": {
      "image/png": "[encoded data removed]",
      "text/plain": [
       "<Figure size 720x504 with 1 Axes>"
      ]
     },
     "metadata": {},
     "output_type": "display_data"
    },
    {
     "name": "stdout",
     "output_type": "stream",
     "text": [
      "Метрики качества модели:\n",
      "\n",
      "f1-мера: 0.49138712601994555\n",
      "AUC-ROC: 0.7658247838200101\n",
      "\n",
      "Гиперпараметры лучшей модели:\n",
      "\n",
      "C - 0.014465073385216465\n",
      "penalty - l2\n",
      "solver - liblinear\n"
     ]
    }
   ],
   "source": [
    "best_model_lr = None\n",
    "f1_best_lr = float('-inf')\n",
    "for c in tqdm(np.logspace(-2, 3, 500)):\n",
    "    for solver in ['liblinear', 'lbfgs', 'sag', 'saga']:\n",
    "        model = LogisticRegression(C=c,\n",
    "                                   penalty='l2',\n",
    "                                   max_iter=1e5,\n",
    "                                   solver=solver,\n",
    "                                   random_state=random_seed,\n",
    "                                   class_weight='balanced')\n",
    "                \n",
    "        model.fit(features_train, target_train)\n",
    "        predictions = model.predict(features_valid)\n",
    "        f1 = f1_score(target_valid, predictions)\n",
    "        if f1 > f1_best_lr:\n",
    "            best_model_lr = model\n",
    "            f1_best_lr = f1\n",
    "            \n",
    "probabilities = best_model_lr.predict_proba(features_valid)[:, 1]                \n",
    "roc_auc_lr = roc_auc_score(target_valid, probabilities)    \n",
    "roc_curve_plot(target_valid, probabilities, roc_auc_lr)\n",
    "\n",
    "print('Метрики качества модели:', end='\\n\\n')       \n",
    "print(f'f1-мера: {f1_best_lr}')\n",
    "print(f'AUC-ROC: {roc_auc_lr}', end='\\n\\n')\n",
    "print('Гиперпараметры лучшей модели:', end='\\n\\n')\n",
    "for k, v in best_model_lr.get_params(deep=True).items():\n",
    "    if k in ('penalty', 'C', 'solver'):\n",
    "        print(f'{k} - {v}')"
   ]
  },
  {
   "cell_type": "code",
   "execution_count": 29,
   "id": "a8792817",
   "metadata": {},
   "outputs": [],
   "source": [
    "metrics_df = pd.DataFrame(\n",
    "                    {'f1-мера': [f1_best_dt, f1_best_rf, f1_best_lr], \n",
    "                     'AUC-ROC': [roc_auc_dt, roc_auc_rf, roc_auc_lr]},\n",
    "                    index=['Decision Tree', 'Random Forest', 'Logistic Regression']\n",
    "                    ).sort_values('f1-мера', ascending=False).style.background_gradient('coolwarm')"
   ]
  },
  {
   "cell_type": "code",
   "execution_count": 30,
   "id": "41fbd589",
   "metadata": {},
   "outputs": [
    {
     "data": {
      "text/html": [
       "<style  type=\"text/css\" >\n",
       "#T_1ba22_row0_col0,#T_1ba22_row0_col1{\n",
       "            background-color:  #b40426;\n",
       "            color:  #f1f1f1;\n",
       "        }#T_1ba22_row1_col0{\n",
       "            background-color:  #f08b6e;\n",
       "            color:  #000000;\n",
       "        }#T_1ba22_row1_col1{\n",
       "            background-color:  #f7ba9f;\n",
       "            color:  #000000;\n",
       "        }#T_1ba22_row2_col0,#T_1ba22_row2_col1{\n",
       "            background-color:  #3b4cc0;\n",
       "            color:  #f1f1f1;\n",
       "        }</style><table id=\"T_1ba22_\" ><thead>    <tr>        <th class=\"blank level0\" ></th>        <th class=\"col_heading level0 col0\" >f1-мера</th>        <th class=\"col_heading level0 col1\" >AUC-ROC</th>    </tr></thead><tbody>\n",
       "                <tr>\n",
       "                        <th id=\"T_1ba22_level0_row0\" class=\"row_heading level0 row0\" >Random Forest</th>\n",
       "                        <td id=\"T_1ba22_row0_col0\" class=\"data row0 col0\" >0.631579</td>\n",
       "                        <td id=\"T_1ba22_row0_col1\" class=\"data row0 col1\" >0.861601</td>\n",
       "            </tr>\n",
       "            <tr>\n",
       "                        <th id=\"T_1ba22_level0_row1\" class=\"row_heading level0 row1\" >Decision Tree</th>\n",
       "                        <td id=\"T_1ba22_row1_col0\" class=\"data row1 col0\" >0.601253</td>\n",
       "                        <td id=\"T_1ba22_row1_col1\" class=\"data row1 col1\" >0.828846</td>\n",
       "            </tr>\n",
       "            <tr>\n",
       "                        <th id=\"T_1ba22_level0_row2\" class=\"row_heading level0 row2\" >Logistic Regression</th>\n",
       "                        <td id=\"T_1ba22_row2_col0\" class=\"data row2 col0\" >0.491387</td>\n",
       "                        <td id=\"T_1ba22_row2_col1\" class=\"data row2 col1\" >0.765825</td>\n",
       "            </tr>\n",
       "    </tbody></table>"
      ],
      "text/plain": [
       "<pandas.io.formats.style.Styler at 0x29267d2a430>"
      ]
     },
     "execution_count": 30,
     "metadata": {},
     "output_type": "execute_result"
    }
   ],
   "source": [
    "metrics_df"
   ]
  },
  {
   "cell_type": "markdown",
   "id": "8c434960",
   "metadata": {},
   "source": [
    "**Выводы:**\n",
    "\n",
    "В результате проведенного исследования лучшие результаты *f1-меры* и *AUC-ROC*, *0.63* и *0.86*, соответственно, показала модель *Random Forest* со следущими параметрами:\n",
    "   - criterion — entropy\n",
    "   - max_depth — 8\n",
    "   - max_features — 11\n",
    "   - min_samples_leaf — 1\n",
    "   - n_estimators — 26"
   ]
  },
  {
   "cell_type": "markdown",
   "id": "fde1b295",
   "metadata": {},
   "source": [
    "## Проверка модели на тестовой выборке"
   ]
  },
  {
   "cell_type": "markdown",
   "id": "24534b4a",
   "metadata": {},
   "source": [
    "### Проверка лучшей модели на отложенной тестовой выборке"
   ]
  },
  {
   "cell_type": "code",
   "execution_count": 31,
   "id": "b0e1b535",
   "metadata": {},
   "outputs": [
    {
     "name": "stdout",
     "output_type": "stream",
     "text": [
      "f1-мера модели Random Forest на тестовой выборке: 0.6252771618625276\n",
      "ROC-AUC модели Random Forest на тестовой выборке: 0.8541092720177332\n"
     ]
    }
   ],
   "source": [
    "predictions = best_model_rf.predict(features_test)\n",
    "f1 = f1_score(target_test, predictions)\n",
    "roc_auc = roc_auc_score(target_test, best_model_rf.predict_proba(features_test)[:, 1]  )\n",
    "print(f'f1-мера модели Random Forest на тестовой выборке: {f1}')\n",
    "print(f'ROC-AUC модели Random Forest на тестовой выборке: {roc_auc}')"
   ]
  },
  {
   "cell_type": "markdown",
   "id": "32100fb0",
   "metadata": {},
   "source": [
    "### Дообучение лучшей модели и проверка на отложенной тестовой выборке"
   ]
  },
  {
   "cell_type": "code",
   "execution_count": 32,
   "id": "03f43d4f",
   "metadata": {},
   "outputs": [
    {
     "name": "stdout",
     "output_type": "stream",
     "text": [
      "Размер обучающей выборки: 7433 объектов\n",
      "Размер тестовой выборки: 2000 объектов\n"
     ]
    }
   ],
   "source": [
    "features_train = pd.concat([features_valid] + [features_train])\n",
    "target_train = pd.concat([target_valid] + [target_train])\n",
    "\n",
    "features_train, target_train  = oss.fit_resample(features_train, target_train)\n",
    "\n",
    "print(f'Размер обучающей выборки: {features_train.shape[0]} объектов')\n",
    "print(f'Размер тестовой выборки: {features_test.shape[0]} объектов')"
   ]
  },
  {
   "cell_type": "code",
   "execution_count": 33,
   "id": "204fadd4",
   "metadata": {
    "scrolled": true
   },
   "outputs": [
    {
     "name": "stdout",
     "output_type": "stream",
     "text": [
      "f1-мера модели Random Forest на тестовой выборке: 0.6226012793176973\n",
      "ROC-AUC модели Random Forest на тестовой выборке: 0.852654165169415\n"
     ]
    }
   ],
   "source": [
    "model = RandomForestClassifier(n_estimators = 96,\n",
    "                               criterion='entropy', \n",
    "                               max_depth=9, \n",
    "                               max_features='sqrt',\n",
    "                               random_state=random_seed,\n",
    "                               class_weight='balanced',\n",
    "                               n_jobs=-1)\n",
    "\n",
    "model.fit(features_train, target_train)\n",
    "predictions = model.predict(features_test)\n",
    "f1 = f1_score(target_test, predictions)\n",
    "roc_auc = roc_auc_score(target_test, model.predict_proba(features_test)[:, 1]  )\n",
    "print(f'f1-мера модели Random Forest на тестовой выборке: {f1}')\n",
    "print(f'ROC-AUC модели Random Forest на тестовой выборке: {roc_auc}')"
   ]
  },
  {
   "cell_type": "markdown",
   "id": "997c9e45",
   "metadata": {},
   "source": [
    "## Общий вывод"
   ]
  },
  {
   "cell_type": "markdown",
   "id": "0b380248",
   "metadata": {},
   "source": [
    "Перед нами стояла задача построить модель для бинарной классификации, которая предскажет уйдёт клиент из банка в ближайшее время или нет.\n",
    "\n",
    "Для достижения поставленной цели было изучено и смоделировано три алгоритма классификации:\n",
    "   - Decision Tree;\n",
    "   - Random Forest;\n",
    "   - Logistic Regression.\n",
    "\n",
    "В качестве метрики оценки производительности алгоритма была выбрана *f1-мера*, являющаяся средним гармоническим метрик *precision* и *recall* — максимизация этого функционала приводит к одновременной максимизации этих двух «ортогональных критериев». Одновременно с этим проводилась оценка площади под ROC-кривой — еще одной метрики для оценки модели классификации.\n",
    "\n",
    "Как правило, все исследуемые алгоритмы показывают себя хуже при классификации в условиях несбалансированности классов. С учетом этого был проведен сэмплинг путём уменьшения числа примеров мажоритарного класса (undesampling) с применением метода *One-side sampling* c параллельным использованием взвешивания классов в каждой модели.\n",
    "\n",
    "В результате проведенного исследования лучшие результаты *f1-меры* и *AUC-ROC*, *0.63* и *0.86*, соответственно, показала модель *Random Forest* со следущими параметрами:\n",
    "\n",
    "   - criterion — entropy\n",
    "   - max_depth — 8\n",
    "   - max_features — 11\n",
    "   - min_samples_leaf — 1\n",
    "   - n_estimators — 26\n",
    "   \n",
    "   \n",
    "На отложенной тестовой выборке данная модель показала практически не отличимые от валидации результаты:\n",
    "   - f1-мера — 0.63\n",
    "   - AUC-ROC — 0.85"
   ]
  },
  {
   "cell_type": "code",
   "execution_count": 34,
   "id": "ab653929",
   "metadata": {},
   "outputs": [
    {
     "data": {
      "text/html": [
       "<style  type=\"text/css\" >\n",
       "#T_02028_row0_col0{\n",
       "            background-color:  #b40426;\n",
       "            color:  #f1f1f1;\n",
       "        }#T_02028_row1_col0{\n",
       "            background-color:  #f59f80;\n",
       "            color:  #000000;\n",
       "        }#T_02028_row2_col0{\n",
       "            background-color:  #aec9fc;\n",
       "            color:  #000000;\n",
       "        }#T_02028_row3_col0{\n",
       "            background-color:  #7b9ff9;\n",
       "            color:  #000000;\n",
       "        }#T_02028_row4_col0,#T_02028_row5_col0{\n",
       "            background-color:  #799cf8;\n",
       "            color:  #000000;\n",
       "        }#T_02028_row6_col0{\n",
       "            background-color:  #6b8df0;\n",
       "            color:  #000000;\n",
       "        }#T_02028_row7_col0{\n",
       "            background-color:  #5875e1;\n",
       "            color:  #000000;\n",
       "        }#T_02028_row8_col0{\n",
       "            background-color:  #4961d2;\n",
       "            color:  #f1f1f1;\n",
       "        }#T_02028_row9_col0,#T_02028_row10_col0{\n",
       "            background-color:  #3b4cc0;\n",
       "            color:  #f1f1f1;\n",
       "        }</style><table id=\"T_02028_\" ><thead>    <tr>        <th class=\"blank level0\" ></th>        <th class=\"col_heading level0 col0\" >feature_importance</th>    </tr></thead><tbody>\n",
       "                <tr>\n",
       "                        <th id=\"T_02028_level0_row0\" class=\"row_heading level0 row0\" >age</th>\n",
       "                        <td id=\"T_02028_row0_col0\" class=\"data row0 col0\" >0.314172</td>\n",
       "            </tr>\n",
       "            <tr>\n",
       "                        <th id=\"T_02028_level0_row1\" class=\"row_heading level0 row1\" >num_of_products</th>\n",
       "                        <td id=\"T_02028_row1_col0\" class=\"data row1 col0\" >0.233190</td>\n",
       "            </tr>\n",
       "            <tr>\n",
       "                        <th id=\"T_02028_level0_row2\" class=\"row_heading level0 row2\" >balance</th>\n",
       "                        <td id=\"T_02028_row2_col0\" class=\"data row2 col0\" >0.113831</td>\n",
       "            </tr>\n",
       "            <tr>\n",
       "                        <th id=\"T_02028_level0_row3\" class=\"row_heading level0 row3\" >credit_score</th>\n",
       "                        <td id=\"T_02028_row3_col0\" class=\"data row3 col0\" >0.070243</td>\n",
       "            </tr>\n",
       "            <tr>\n",
       "                        <th id=\"T_02028_level0_row4\" class=\"row_heading level0 row4\" >is_active_member</th>\n",
       "                        <td id=\"T_02028_row4_col0\" class=\"data row4 col0\" >0.067742</td>\n",
       "            </tr>\n",
       "            <tr>\n",
       "                        <th id=\"T_02028_level0_row5\" class=\"row_heading level0 row5\" >estimated_salary</th>\n",
       "                        <td id=\"T_02028_row5_col0\" class=\"data row5 col0\" >0.066985</td>\n",
       "            </tr>\n",
       "            <tr>\n",
       "                        <th id=\"T_02028_level0_row6\" class=\"row_heading level0 row6\" >geography_Germany</th>\n",
       "                        <td id=\"T_02028_row6_col0\" class=\"data row6 col0\" >0.055989</td>\n",
       "            </tr>\n",
       "            <tr>\n",
       "                        <th id=\"T_02028_level0_row7\" class=\"row_heading level0 row7\" >tenure</th>\n",
       "                        <td id=\"T_02028_row7_col0\" class=\"data row7 col0\" >0.036997</td>\n",
       "            </tr>\n",
       "            <tr>\n",
       "                        <th id=\"T_02028_level0_row8\" class=\"row_heading level0 row8\" >gender_Male</th>\n",
       "                        <td id=\"T_02028_row8_col0\" class=\"data row8 col0\" >0.023816</td>\n",
       "            </tr>\n",
       "            <tr>\n",
       "                        <th id=\"T_02028_level0_row9\" class=\"row_heading level0 row9\" >has_cr_card</th>\n",
       "                        <td id=\"T_02028_row9_col0\" class=\"data row9 col0\" >0.008725</td>\n",
       "            </tr>\n",
       "            <tr>\n",
       "                        <th id=\"T_02028_level0_row10\" class=\"row_heading level0 row10\" >geography_Spain</th>\n",
       "                        <td id=\"T_02028_row10_col0\" class=\"data row10 col0\" >0.008311</td>\n",
       "            </tr>\n",
       "    </tbody></table>"
      ],
      "text/plain": [
       "<pandas.io.formats.style.Styler at 0x29267cf1610>"
      ]
     },
     "execution_count": 34,
     "metadata": {},
     "output_type": "execute_result"
    }
   ],
   "source": [
    "feature_importances_df = pd.DataFrame(data=model.feature_importances_,\n",
    "                    index=features_test.columns,\n",
    "                    columns=['feature_importance'])\n",
    "\n",
    "feature_importances_df.sort_values('feature_importance', ascending=False).style.background_gradient('coolwarm')"
   ]
  },
  {
   "cell_type": "code",
   "execution_count": 35,
   "id": "d6367d26",
   "metadata": {},
   "outputs": [
    {
     "data": {
      "image/png": "[encoded data removed]",
      "text/plain": [
       "<Figure size 720x360 with 1 Axes>"
      ]
     },
     "metadata": {},
     "output_type": "display_data"
    }
   ],
   "source": [
    "ax = feature_importances_df.sort_values('feature_importance').plot(kind='barh', \n",
    "                                                                    figsize=(10, 5), \n",
    "                                                                    ec='black', \n",
    "                                                                    legend=False, \n",
    "                                                                    fontsize=12)\n",
    "\n",
    "ax.set_title('Важность признаков', fontsize=16)\n",
    "ax.set_xlabel('Важность', fontsize=13)\n",
    "ax.set_ylabel('Признак', fontsize=13);"
   ]
  }
 ],
 "metadata": {
  "kernelspec": {
   "display_name": "Python 3",
   "language": "python",
   "name": "python3"
  },
  "language_info": {
   "codemirror_mode": {
    "name": "ipython",
    "version": 3
   },
   "file_extension": ".py",
   "mimetype": "text/x-python",
   "name": "python",
   "nbconvert_exporter": "python",
   "pygments_lexer": "ipython3",
   "version": "3.8.8"
  },
  "toc": {
   "base_numbering": 1,
   "nav_menu": {},
   "number_sections": true,
   "sideBar": true,
   "skip_h1_title": true,
   "title_cell": "Содержание",
   "title_sidebar": "Contents",
   "toc_cell": true,
   "toc_position": {},
   "toc_section_display": true,
   "toc_window_display": false
  }
 },
 "nbformat": 4,
 "nbformat_minor": 5
}
