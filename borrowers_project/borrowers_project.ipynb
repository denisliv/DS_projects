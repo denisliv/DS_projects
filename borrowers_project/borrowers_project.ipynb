{
 "cells": [
  {
   "cell_type": "markdown",
   "id": "10ceeca6",
   "metadata": {
    "toc": true
   },
   "source": [
    "<h1>Содержание<span class=\"tocSkip\"></span></h1>\n",
    "<div class=\"toc\"><ul class=\"toc-item\"><li><span><a href=\"#Первичный-анализ-данных\" data-toc-modified-id=\"Первичный-анализ-данных-1\"><span class=\"toc-item-num\">1&nbsp;&nbsp;</span>Первичный анализ данных</a></span></li><li><span><a href=\"#Предобработка-данных\" data-toc-modified-id=\"Предобработка-данных-2\"><span class=\"toc-item-num\">2&nbsp;&nbsp;</span>Предобработка данных</a></span><ul class=\"toc-item\"><li><span><a href=\"#Определение-и-заполнение-пропущенных-значений\" data-toc-modified-id=\"Определение-и-заполнение-пропущенных-значений-2.1\"><span class=\"toc-item-num\">2.1&nbsp;&nbsp;</span>Определение и заполнение пропущенных значений</a></span></li><li><span><a href=\"#Изменение-типов-данных\" data-toc-modified-id=\"Изменение-типов-данных-2.2\"><span class=\"toc-item-num\">2.2&nbsp;&nbsp;</span>Изменение типов данных</a></span></li><li><span><a href=\"#Определение-и-удаление-дубликатов\" data-toc-modified-id=\"Определение-и-удаление-дубликатов-2.3\"><span class=\"toc-item-num\">2.3&nbsp;&nbsp;</span>Определение и удаление дубликатов</a></span></li><li><span><a href=\"#Лемматизация\" data-toc-modified-id=\"Лемматизация-2.4\"><span class=\"toc-item-num\">2.4&nbsp;&nbsp;</span>Лемматизация</a></span></li><li><span><a href=\"#Категоризация-данных\" data-toc-modified-id=\"Категоризация-данных-2.5\"><span class=\"toc-item-num\">2.5&nbsp;&nbsp;</span>Категоризация данных</a></span></li></ul></li><li><span><a href=\"#Анализ-полученных-данных\" data-toc-modified-id=\"Анализ-полученных-данных-3\"><span class=\"toc-item-num\">3&nbsp;&nbsp;</span>Анализ полученных данных</a></span><ul class=\"toc-item\"><li><span><a href=\"#Определение-зависимости-между-наличием-детей-и-возвратом-кредита-в-срок.\" data-toc-modified-id=\"Определение-зависимости-между-наличием-детей-и-возвратом-кредита-в-срок.-3.1\"><span class=\"toc-item-num\">3.1&nbsp;&nbsp;</span>Определение зависимости между наличием детей и возвратом кредита в срок.</a></span></li><li><span><a href=\"#Определение-зависимости-между-семейным-положением-и-возвратом-кредита-в-срок\" data-toc-modified-id=\"Определение-зависимости-между-семейным-положением-и-возвратом-кредита-в-срок-3.2\"><span class=\"toc-item-num\">3.2&nbsp;&nbsp;</span>Определение зависимости между семейным положением и возвратом кредита в срок</a></span></li><li><span><a href=\"#Определение-зависимости-между-уровнем-дохода-и-возвратом-кредита-в-срок\" data-toc-modified-id=\"Определение-зависимости-между-уровнем-дохода-и-возвратом-кредита-в-срок-3.3\"><span class=\"toc-item-num\">3.3&nbsp;&nbsp;</span>Определение зависимости между уровнем дохода и возвратом кредита в срок</a></span></li><li><span><a href=\"#Определение-зависимости-между-целью-кредита-и-возвратом-его-в-срок\" data-toc-modified-id=\"Определение-зависимости-между-целью-кредита-и-возвратом-его-в-срок-3.4\"><span class=\"toc-item-num\">3.4&nbsp;&nbsp;</span>Определение зависимости между целью кредита и возвратом его в срок</a></span></li></ul></li><li><span><a href=\"#Вывод\" data-toc-modified-id=\"Вывод-4\"><span class=\"toc-item-num\">4&nbsp;&nbsp;</span>Вывод</a></span></li></ul></div>"
   ]
  },
  {
   "cell_type": "markdown",
   "id": "27a44fff",
   "metadata": {},
   "source": [
    "# Проект «Исследование надёжности заёмщиков»"
   ]
  },
  {
   "cell_type": "markdown",
   "id": "f7bba0c3",
   "metadata": {},
   "source": [
    "Заказчик — кредитный отдел банка. Нужно разобраться, влияет ли семейное положение и количество детей клиента на факт погашения кредита в срок. Входные данные от банка — статистика о платёжеспособности клиентов. Результаты исследования будут учтены при построении модели кредитного скоринга — специальной системы, которая оценивает способность потенциального заёмщика вернуть кредит банку."
   ]
  },
  {
   "cell_type": "markdown",
   "id": "a4f9bf44",
   "metadata": {},
   "source": [
    "**Цели:**\n",
    "1. Определить есть ли зависимость между наличием детей и возвратом кредита в срок.\n",
    "2. Определить есть ли зависимость между семейным положением и возвратом кредита в срок.\n",
    "3. Определить есть ли зависимость между уровнем дохода и возвратом кредита в срок.\n",
    "4. Определить как разные цели кредита влияют на его возврат в срок."
   ]
  },
  {
   "cell_type": "markdown",
   "id": "e51a8000",
   "metadata": {},
   "source": [
    "**Описание данных:**\n",
    "- children — количество детей в семье\n",
    "- days_employed — общий трудовой стаж в днях\n",
    "- dob_years — возраст клиента в годах\n",
    "- education — уровень образования клиента\n",
    "- education_id — идентификатор уровня образования\n",
    "- family_status — семейное положение\n",
    "- family_status_id — идентификатор семейного положения\n",
    "- gender — пол клиента\n",
    "- income_type — тип занятости\n",
    "- debt — имел ли задолженность по возврату кредитов\n",
    "- total_income — ежемесячный доход\n",
    "- purpose — цель получения кредита"
   ]
  },
  {
   "cell_type": "markdown",
   "id": "486e6765",
   "metadata": {},
   "source": [
    "## Первичный анализ данных"
   ]
  },
  {
   "cell_type": "code",
   "execution_count": 1,
   "id": "025e7874",
   "metadata": {},
   "outputs": [],
   "source": [
    "import pandas as pd\n",
    "import numpy as np\n",
    "from pymystem3 import Mystem\n",
    "from collections import Counter\n",
    "from tqdm import tqdm\n",
    "\n",
    "pd.options.display.float_format = '{:.2f}'.format"
   ]
  },
  {
   "cell_type": "code",
   "execution_count": 2,
   "id": "8e77122a",
   "metadata": {},
   "outputs": [],
   "source": [
    "df = pd.read_csv('data.csv')"
   ]
  },
  {
   "cell_type": "markdown",
   "id": "cde89486",
   "metadata": {},
   "source": [
    "Переименуем некоторые столбцы исходной таблицы, с целью более ясного отражения описываемого ими признака.\n",
    "- days_employed — work_experience\n",
    "- dob_years — age\n",
    "- income_type — employment_type\n",
    "- total_income — salary"
   ]
  },
  {
   "cell_type": "code",
   "execution_count": 3,
   "id": "f8aa3dba",
   "metadata": {},
   "outputs": [],
   "source": [
    "df = df.rename(columns={'days_employed': 'work_experience', 'dob_years': 'age', \n",
    "                        'income_type': 'employment_type', 'total_income': 'salary'})"
   ]
  },
  {
   "cell_type": "code",
   "execution_count": 4,
   "id": "e48936f4",
   "metadata": {},
   "outputs": [
    {
     "data": {
      "text/html": [
       "<div>\n",
       "<style scoped>\n",
       "    .dataframe tbody tr th:only-of-type {\n",
       "        vertical-align: middle;\n",
       "    }\n",
       "\n",
       "    .dataframe tbody tr th {\n",
       "        vertical-align: top;\n",
       "    }\n",
       "\n",
       "    .dataframe thead th {\n",
       "        text-align: right;\n",
       "    }\n",
       "</style>\n",
       "<table border=\"1\" class=\"dataframe\">\n",
       "  <thead>\n",
       "    <tr style=\"text-align: right;\">\n",
       "      <th></th>\n",
       "      <th>children</th>\n",
       "      <th>work_experience</th>\n",
       "      <th>age</th>\n",
       "      <th>education</th>\n",
       "      <th>education_id</th>\n",
       "      <th>family_status</th>\n",
       "      <th>family_status_id</th>\n",
       "      <th>gender</th>\n",
       "      <th>employment_type</th>\n",
       "      <th>debt</th>\n",
       "      <th>salary</th>\n",
       "      <th>purpose</th>\n",
       "    </tr>\n",
       "  </thead>\n",
       "  <tbody>\n",
       "    <tr>\n",
       "      <th>0</th>\n",
       "      <td>1</td>\n",
       "      <td>-8437.67</td>\n",
       "      <td>42</td>\n",
       "      <td>высшее</td>\n",
       "      <td>0</td>\n",
       "      <td>женат / замужем</td>\n",
       "      <td>0</td>\n",
       "      <td>F</td>\n",
       "      <td>сотрудник</td>\n",
       "      <td>0</td>\n",
       "      <td>253875.64</td>\n",
       "      <td>покупка жилья</td>\n",
       "    </tr>\n",
       "    <tr>\n",
       "      <th>1</th>\n",
       "      <td>1</td>\n",
       "      <td>-4024.80</td>\n",
       "      <td>36</td>\n",
       "      <td>среднее</td>\n",
       "      <td>1</td>\n",
       "      <td>женат / замужем</td>\n",
       "      <td>0</td>\n",
       "      <td>F</td>\n",
       "      <td>сотрудник</td>\n",
       "      <td>0</td>\n",
       "      <td>112080.01</td>\n",
       "      <td>приобретение автомобиля</td>\n",
       "    </tr>\n",
       "    <tr>\n",
       "      <th>2</th>\n",
       "      <td>0</td>\n",
       "      <td>-5623.42</td>\n",
       "      <td>33</td>\n",
       "      <td>Среднее</td>\n",
       "      <td>1</td>\n",
       "      <td>женат / замужем</td>\n",
       "      <td>0</td>\n",
       "      <td>M</td>\n",
       "      <td>сотрудник</td>\n",
       "      <td>0</td>\n",
       "      <td>145885.95</td>\n",
       "      <td>покупка жилья</td>\n",
       "    </tr>\n",
       "    <tr>\n",
       "      <th>3</th>\n",
       "      <td>3</td>\n",
       "      <td>-4124.75</td>\n",
       "      <td>32</td>\n",
       "      <td>среднее</td>\n",
       "      <td>1</td>\n",
       "      <td>женат / замужем</td>\n",
       "      <td>0</td>\n",
       "      <td>M</td>\n",
       "      <td>сотрудник</td>\n",
       "      <td>0</td>\n",
       "      <td>267628.55</td>\n",
       "      <td>дополнительное образование</td>\n",
       "    </tr>\n",
       "    <tr>\n",
       "      <th>4</th>\n",
       "      <td>0</td>\n",
       "      <td>340266.07</td>\n",
       "      <td>53</td>\n",
       "      <td>среднее</td>\n",
       "      <td>1</td>\n",
       "      <td>гражданский брак</td>\n",
       "      <td>1</td>\n",
       "      <td>F</td>\n",
       "      <td>пенсионер</td>\n",
       "      <td>0</td>\n",
       "      <td>158616.08</td>\n",
       "      <td>сыграть свадьбу</td>\n",
       "    </tr>\n",
       "    <tr>\n",
       "      <th>5</th>\n",
       "      <td>0</td>\n",
       "      <td>-926.19</td>\n",
       "      <td>27</td>\n",
       "      <td>высшее</td>\n",
       "      <td>0</td>\n",
       "      <td>гражданский брак</td>\n",
       "      <td>1</td>\n",
       "      <td>M</td>\n",
       "      <td>компаньон</td>\n",
       "      <td>0</td>\n",
       "      <td>255763.57</td>\n",
       "      <td>покупка жилья</td>\n",
       "    </tr>\n",
       "    <tr>\n",
       "      <th>6</th>\n",
       "      <td>0</td>\n",
       "      <td>-2879.20</td>\n",
       "      <td>43</td>\n",
       "      <td>высшее</td>\n",
       "      <td>0</td>\n",
       "      <td>женат / замужем</td>\n",
       "      <td>0</td>\n",
       "      <td>F</td>\n",
       "      <td>компаньон</td>\n",
       "      <td>0</td>\n",
       "      <td>240525.97</td>\n",
       "      <td>операции с жильем</td>\n",
       "    </tr>\n",
       "    <tr>\n",
       "      <th>7</th>\n",
       "      <td>0</td>\n",
       "      <td>-152.78</td>\n",
       "      <td>50</td>\n",
       "      <td>СРЕДНЕЕ</td>\n",
       "      <td>1</td>\n",
       "      <td>женат / замужем</td>\n",
       "      <td>0</td>\n",
       "      <td>M</td>\n",
       "      <td>сотрудник</td>\n",
       "      <td>0</td>\n",
       "      <td>135823.93</td>\n",
       "      <td>образование</td>\n",
       "    </tr>\n",
       "    <tr>\n",
       "      <th>8</th>\n",
       "      <td>2</td>\n",
       "      <td>-6929.87</td>\n",
       "      <td>35</td>\n",
       "      <td>ВЫСШЕЕ</td>\n",
       "      <td>0</td>\n",
       "      <td>гражданский брак</td>\n",
       "      <td>1</td>\n",
       "      <td>F</td>\n",
       "      <td>сотрудник</td>\n",
       "      <td>0</td>\n",
       "      <td>95856.83</td>\n",
       "      <td>на проведение свадьбы</td>\n",
       "    </tr>\n",
       "    <tr>\n",
       "      <th>9</th>\n",
       "      <td>0</td>\n",
       "      <td>-2188.76</td>\n",
       "      <td>41</td>\n",
       "      <td>среднее</td>\n",
       "      <td>1</td>\n",
       "      <td>женат / замужем</td>\n",
       "      <td>0</td>\n",
       "      <td>M</td>\n",
       "      <td>сотрудник</td>\n",
       "      <td>0</td>\n",
       "      <td>144425.94</td>\n",
       "      <td>покупка жилья для семьи</td>\n",
       "    </tr>\n",
       "  </tbody>\n",
       "</table>\n",
       "</div>"
      ],
      "text/plain": [
       "   children  work_experience  age education  education_id     family_status  \\\n",
       "0         1         -8437.67   42    высшее             0   женат / замужем   \n",
       "1         1         -4024.80   36   среднее             1   женат / замужем   \n",
       "2         0         -5623.42   33   Среднее             1   женат / замужем   \n",
       "3         3         -4124.75   32   среднее             1   женат / замужем   \n",
       "4         0        340266.07   53   среднее             1  гражданский брак   \n",
       "5         0          -926.19   27    высшее             0  гражданский брак   \n",
       "6         0         -2879.20   43    высшее             0   женат / замужем   \n",
       "7         0          -152.78   50   СРЕДНЕЕ             1   женат / замужем   \n",
       "8         2         -6929.87   35    ВЫСШЕЕ             0  гражданский брак   \n",
       "9         0         -2188.76   41   среднее             1   женат / замужем   \n",
       "\n",
       "   family_status_id gender employment_type  debt    salary  \\\n",
       "0                 0      F       сотрудник     0 253875.64   \n",
       "1                 0      F       сотрудник     0 112080.01   \n",
       "2                 0      M       сотрудник     0 145885.95   \n",
       "3                 0      M       сотрудник     0 267628.55   \n",
       "4                 1      F       пенсионер     0 158616.08   \n",
       "5                 1      M       компаньон     0 255763.57   \n",
       "6                 0      F       компаньон     0 240525.97   \n",
       "7                 0      M       сотрудник     0 135823.93   \n",
       "8                 1      F       сотрудник     0  95856.83   \n",
       "9                 0      M       сотрудник     0 144425.94   \n",
       "\n",
       "                      purpose  \n",
       "0               покупка жилья  \n",
       "1     приобретение автомобиля  \n",
       "2               покупка жилья  \n",
       "3  дополнительное образование  \n",
       "4             сыграть свадьбу  \n",
       "5               покупка жилья  \n",
       "6           операции с жильем  \n",
       "7                 образование  \n",
       "8       на проведение свадьбы  \n",
       "9     покупка жилья для семьи  "
      ]
     },
     "execution_count": 4,
     "metadata": {},
     "output_type": "execute_result"
    }
   ],
   "source": [
    "df.head(10)"
   ]
  },
  {
   "cell_type": "code",
   "execution_count": 5,
   "id": "ebb045f6",
   "metadata": {},
   "outputs": [
    {
     "name": "stdout",
     "output_type": "stream",
     "text": [
      "<class 'pandas.core.frame.DataFrame'>\n",
      "RangeIndex: 21525 entries, 0 to 21524\n",
      "Data columns (total 12 columns):\n",
      " #   Column            Non-Null Count  Dtype  \n",
      "---  ------            --------------  -----  \n",
      " 0   children          21525 non-null  int64  \n",
      " 1   work_experience   19351 non-null  float64\n",
      " 2   age               21525 non-null  int64  \n",
      " 3   education         21525 non-null  object \n",
      " 4   education_id      21525 non-null  int64  \n",
      " 5   family_status     21525 non-null  object \n",
      " 6   family_status_id  21525 non-null  int64  \n",
      " 7   gender            21525 non-null  object \n",
      " 8   employment_type   21525 non-null  object \n",
      " 9   debt              21525 non-null  int64  \n",
      " 10  salary            19351 non-null  float64\n",
      " 11  purpose           21525 non-null  object \n",
      "dtypes: float64(2), int64(5), object(5)\n",
      "memory usage: 2.0+ MB\n"
     ]
    }
   ],
   "source": [
    "df.info()"
   ]
  },
  {
   "cell_type": "markdown",
   "id": "1ca967d6",
   "metadata": {},
   "source": [
    "Получили общую информацию по исследуемому датафрейму и всем его признакам. Стоит отметить, что данный датафрейм имеет 7 количественных (типы *float64*, *int64*) и 5 качественных (тип *object*) признаков, которые в полной мере соответствуют хранящимся данным. \n",
    "\n",
    "Можно отметить следующие проблемные места:\n",
    "1. В столбцах `work_experience` и `salary` имеется одинаковое количество пропущенных значений, которые, скорее всего, неслучайны, принадлежат одним и тем же объектам и являются следствием не предоставления данной информации заемщиком (кредит \"без справки о доходах\") либо не внесением последней в базу данных.\n",
    "2. Тип данных для столбцов `work_experience` и `salary` стоит изменить с *float* на *int* для удобочитаемости без потери значимой информации."
   ]
  },
  {
   "cell_type": "code",
   "execution_count": 6,
   "id": "183e5e35",
   "metadata": {},
   "outputs": [
    {
     "name": "stdout",
     "output_type": "stream",
     "text": [
      "<class 'pandas.core.frame.DataFrame'>\n",
      "Int64Index: 2174 entries, 12 to 21510\n",
      "Data columns (total 12 columns):\n",
      " #   Column            Non-Null Count  Dtype  \n",
      "---  ------            --------------  -----  \n",
      " 0   children          2174 non-null   int64  \n",
      " 1   work_experience   0 non-null      float64\n",
      " 2   age               2174 non-null   int64  \n",
      " 3   education         2174 non-null   object \n",
      " 4   education_id      2174 non-null   int64  \n",
      " 5   family_status     2174 non-null   object \n",
      " 6   family_status_id  2174 non-null   int64  \n",
      " 7   gender            2174 non-null   object \n",
      " 8   employment_type   2174 non-null   object \n",
      " 9   debt              2174 non-null   int64  \n",
      " 10  salary            0 non-null      float64\n",
      " 11  purpose           2174 non-null   object \n",
      "dtypes: float64(2), int64(5), object(5)\n",
      "memory usage: 220.8+ KB\n"
     ]
    }
   ],
   "source": [
    "df[df.isna().any(axis=1)].info()"
   ]
  },
  {
   "cell_type": "markdown",
   "id": "47f29229",
   "metadata": {},
   "source": [
    "Убедились, что пропуски принадлежат одним и тем же объектам."
   ]
  },
  {
   "cell_type": "code",
   "execution_count": 7,
   "id": "616ac8db",
   "metadata": {},
   "outputs": [
    {
     "data": {
      "text/html": [
       "<div>\n",
       "<style scoped>\n",
       "    .dataframe tbody tr th:only-of-type {\n",
       "        vertical-align: middle;\n",
       "    }\n",
       "\n",
       "    .dataframe tbody tr th {\n",
       "        vertical-align: top;\n",
       "    }\n",
       "\n",
       "    .dataframe thead th {\n",
       "        text-align: right;\n",
       "    }\n",
       "</style>\n",
       "<table border=\"1\" class=\"dataframe\">\n",
       "  <thead>\n",
       "    <tr style=\"text-align: right;\">\n",
       "      <th></th>\n",
       "      <th>children</th>\n",
       "      <th>work_experience</th>\n",
       "      <th>age</th>\n",
       "      <th>education_id</th>\n",
       "      <th>family_status_id</th>\n",
       "      <th>debt</th>\n",
       "      <th>salary</th>\n",
       "    </tr>\n",
       "  </thead>\n",
       "  <tbody>\n",
       "    <tr>\n",
       "      <th>count</th>\n",
       "      <td>21525.00</td>\n",
       "      <td>19351.00</td>\n",
       "      <td>21525.00</td>\n",
       "      <td>21525.00</td>\n",
       "      <td>21525.00</td>\n",
       "      <td>21525.00</td>\n",
       "      <td>19351.00</td>\n",
       "    </tr>\n",
       "    <tr>\n",
       "      <th>mean</th>\n",
       "      <td>0.54</td>\n",
       "      <td>63046.50</td>\n",
       "      <td>43.29</td>\n",
       "      <td>0.82</td>\n",
       "      <td>0.97</td>\n",
       "      <td>0.08</td>\n",
       "      <td>167422.30</td>\n",
       "    </tr>\n",
       "    <tr>\n",
       "      <th>std</th>\n",
       "      <td>1.38</td>\n",
       "      <td>140827.31</td>\n",
       "      <td>12.57</td>\n",
       "      <td>0.55</td>\n",
       "      <td>1.42</td>\n",
       "      <td>0.27</td>\n",
       "      <td>102971.57</td>\n",
       "    </tr>\n",
       "    <tr>\n",
       "      <th>min</th>\n",
       "      <td>-1.00</td>\n",
       "      <td>-18388.95</td>\n",
       "      <td>0.00</td>\n",
       "      <td>0.00</td>\n",
       "      <td>0.00</td>\n",
       "      <td>0.00</td>\n",
       "      <td>20667.26</td>\n",
       "    </tr>\n",
       "    <tr>\n",
       "      <th>25%</th>\n",
       "      <td>0.00</td>\n",
       "      <td>-2747.42</td>\n",
       "      <td>33.00</td>\n",
       "      <td>1.00</td>\n",
       "      <td>0.00</td>\n",
       "      <td>0.00</td>\n",
       "      <td>103053.15</td>\n",
       "    </tr>\n",
       "    <tr>\n",
       "      <th>50%</th>\n",
       "      <td>0.00</td>\n",
       "      <td>-1203.37</td>\n",
       "      <td>42.00</td>\n",
       "      <td>1.00</td>\n",
       "      <td>0.00</td>\n",
       "      <td>0.00</td>\n",
       "      <td>145017.94</td>\n",
       "    </tr>\n",
       "    <tr>\n",
       "      <th>75%</th>\n",
       "      <td>1.00</td>\n",
       "      <td>-291.10</td>\n",
       "      <td>53.00</td>\n",
       "      <td>1.00</td>\n",
       "      <td>1.00</td>\n",
       "      <td>0.00</td>\n",
       "      <td>203435.07</td>\n",
       "    </tr>\n",
       "    <tr>\n",
       "      <th>max</th>\n",
       "      <td>20.00</td>\n",
       "      <td>401755.40</td>\n",
       "      <td>75.00</td>\n",
       "      <td>4.00</td>\n",
       "      <td>4.00</td>\n",
       "      <td>1.00</td>\n",
       "      <td>2265604.03</td>\n",
       "    </tr>\n",
       "  </tbody>\n",
       "</table>\n",
       "</div>"
      ],
      "text/plain": [
       "       children  work_experience      age  education_id  family_status_id  \\\n",
       "count  21525.00         19351.00 21525.00      21525.00          21525.00   \n",
       "mean       0.54         63046.50    43.29          0.82              0.97   \n",
       "std        1.38        140827.31    12.57          0.55              1.42   \n",
       "min       -1.00        -18388.95     0.00          0.00              0.00   \n",
       "25%        0.00         -2747.42    33.00          1.00              0.00   \n",
       "50%        0.00         -1203.37    42.00          1.00              0.00   \n",
       "75%        1.00          -291.10    53.00          1.00              1.00   \n",
       "max       20.00        401755.40    75.00          4.00              4.00   \n",
       "\n",
       "          debt     salary  \n",
       "count 21525.00   19351.00  \n",
       "mean      0.08  167422.30  \n",
       "std       0.27  102971.57  \n",
       "min       0.00   20667.26  \n",
       "25%       0.00  103053.15  \n",
       "50%       0.00  145017.94  \n",
       "75%       0.00  203435.07  \n",
       "max       1.00 2265604.03  "
      ]
     },
     "execution_count": 7,
     "metadata": {},
     "output_type": "execute_result"
    }
   ],
   "source": [
    "df.describe()"
   ]
  },
  {
   "cell_type": "code",
   "execution_count": 8,
   "id": "e3a62f74",
   "metadata": {},
   "outputs": [
    {
     "data": {
      "text/html": [
       "<div>\n",
       "<style scoped>\n",
       "    .dataframe tbody tr th:only-of-type {\n",
       "        vertical-align: middle;\n",
       "    }\n",
       "\n",
       "    .dataframe tbody tr th {\n",
       "        vertical-align: top;\n",
       "    }\n",
       "\n",
       "    .dataframe thead th {\n",
       "        text-align: right;\n",
       "    }\n",
       "</style>\n",
       "<table border=\"1\" class=\"dataframe\">\n",
       "  <thead>\n",
       "    <tr style=\"text-align: right;\">\n",
       "      <th></th>\n",
       "      <th>education</th>\n",
       "      <th>family_status</th>\n",
       "      <th>gender</th>\n",
       "      <th>employment_type</th>\n",
       "      <th>purpose</th>\n",
       "    </tr>\n",
       "  </thead>\n",
       "  <tbody>\n",
       "    <tr>\n",
       "      <th>count</th>\n",
       "      <td>21525</td>\n",
       "      <td>21525</td>\n",
       "      <td>21525</td>\n",
       "      <td>21525</td>\n",
       "      <td>21525</td>\n",
       "    </tr>\n",
       "    <tr>\n",
       "      <th>unique</th>\n",
       "      <td>15</td>\n",
       "      <td>5</td>\n",
       "      <td>3</td>\n",
       "      <td>8</td>\n",
       "      <td>38</td>\n",
       "    </tr>\n",
       "    <tr>\n",
       "      <th>top</th>\n",
       "      <td>среднее</td>\n",
       "      <td>женат / замужем</td>\n",
       "      <td>F</td>\n",
       "      <td>сотрудник</td>\n",
       "      <td>свадьба</td>\n",
       "    </tr>\n",
       "    <tr>\n",
       "      <th>freq</th>\n",
       "      <td>13750</td>\n",
       "      <td>12380</td>\n",
       "      <td>14236</td>\n",
       "      <td>11119</td>\n",
       "      <td>797</td>\n",
       "    </tr>\n",
       "  </tbody>\n",
       "</table>\n",
       "</div>"
      ],
      "text/plain": [
       "       education    family_status gender employment_type  purpose\n",
       "count      21525            21525  21525           21525    21525\n",
       "unique        15                5      3               8       38\n",
       "top      среднее  женат / замужем      F       сотрудник  свадьба\n",
       "freq       13750            12380  14236           11119      797"
      ]
     },
     "execution_count": 8,
     "metadata": {},
     "output_type": "execute_result"
    }
   ],
   "source": [
    "df.describe(include=['object'])"
   ]
  },
  {
   "cell_type": "markdown",
   "id": "9ebd448b",
   "metadata": {},
   "source": [
    "Используя метод `describe()` и `describe(include=['object'])` получили описательную статистику данных по всем количественным и качественным признакам датафрейма, соответственно.\n",
    "\n",
    "**Можно отметить следующие проблемные места:**\n",
    "1. Отрицательные значения в столбце `children`.\n",
    "2. Большое количество отрицательных значений в столбце `work_experience`. Данная ошибка, скорее всего, связанна с проблемой при выгрузке информации из базы данных и решается функцией `abs()`.\n",
    "3. Максимальные значения в столбцах `children` (*20 детей*), `work_experience` (*401755.400475\tдней*) и минимальное в столбце `age` (*0 лет*) не могут соответствовать действительности. И, скорее всего, являются ошибкой оператора при внесении значений в базу данных.\n",
    "4. Большое количество (*15*) уникальных значений в столбце `education`. Связано это с использованием разного регистра при внесении информации в базу данных.\n",
    "5. В столбце `gender` можно отметить *3* уникальных значения, что может соответствовать действительности в реалиях *XXI* веке, однако, более вероятно, что под графой *гендер* имелся ввиду *пол* и уникальных значения должно быть *2*.\n"
   ]
  },
  {
   "cell_type": "code",
   "execution_count": 9,
   "id": "d5fbf25d",
   "metadata": {},
   "outputs": [
    {
     "data": {
      "text/plain": [
       " 0    0.66\n",
       " 1    0.22\n",
       " 2    0.10\n",
       " 3    0.02\n",
       " 20   0.00\n",
       "-1    0.00\n",
       " 4    0.00\n",
       " 5    0.00\n",
       "Name: children, dtype: float64"
      ]
     },
     "execution_count": 9,
     "metadata": {},
     "output_type": "execute_result"
    }
   ],
   "source": [
    "df['children'].value_counts(normalize = True)"
   ]
  },
  {
   "cell_type": "code",
   "execution_count": 10,
   "id": "15a332fe",
   "metadata": {},
   "outputs": [
    {
     "data": {
      "text/plain": [
       "F      14236\n",
       "M       7288\n",
       "XNA        1\n",
       "Name: gender, dtype: int64"
      ]
     },
     "execution_count": 10,
     "metadata": {},
     "output_type": "execute_result"
    }
   ],
   "source": [
    "df['gender'].value_counts()"
   ]
  },
  {
   "cell_type": "markdown",
   "id": "4e7ada5b",
   "metadata": {},
   "source": [
    "**Выводы**\n",
    "1. Пропущенные значения в столбцах `work_experience` и `salary` необходимо восстановить. В `work_experience` пропуски заменим средним значением трудового стажа в зависимости от вида деятельности. Отрицательные значения заменим на положительные. В `salary` — медианным значением заработной планы в зависимости от вида деятельности и образования.\n",
    "2. С учетом небольшого относительного количества объектов с проблемными значениями в столбце `children`, а также с учетом того, что данный столбец необходим для расчета целевого показателя и потенциальное искажение распределения данных при неверном его заполнении может отразиться на результатах, строки со значением *-1* и *20* стоит удалить.\n",
    "3. Нулевые значения в столбце `age` можно заменить на средние значения в зависимости от вида деятельности.\n",
    "4. Чтобы учесть дубликаты, связанные с регистром символов, в столбце `education`, все символы в строках данного столбца приведем к нижнему регистру.\n",
    "5. Для упрощения манипуляций со значениями и ввиду отсутствия вероятности потери значимой информации стоит изменить тип данных для столбцов `work_experience` и `salary` с *float* на *int*."
   ]
  },
  {
   "cell_type": "markdown",
   "id": "e351956a",
   "metadata": {},
   "source": [
    "## Предобработка данных"
   ]
  },
  {
   "cell_type": "markdown",
   "id": "20fc8081",
   "metadata": {},
   "source": [
    "### Определение и заполнение пропущенных значений"
   ]
  },
  {
   "cell_type": "code",
   "execution_count": 11,
   "id": "d063fd32",
   "metadata": {},
   "outputs": [],
   "source": [
    "df = df[(df['children'] < 20) & (df['children'] >= 0)]"
   ]
  },
  {
   "cell_type": "code",
   "execution_count": 12,
   "id": "f0bda1c6",
   "metadata": {},
   "outputs": [
    {
     "data": {
      "text/plain": [
       "0    14149\n",
       "1     4818\n",
       "2     2055\n",
       "3      330\n",
       "4       41\n",
       "5        9\n",
       "Name: children, dtype: int64"
      ]
     },
     "execution_count": 12,
     "metadata": {},
     "output_type": "execute_result"
    }
   ],
   "source": [
    "df['children'].value_counts()"
   ]
  },
  {
   "cell_type": "code",
   "execution_count": 13,
   "id": "3e8dea2e",
   "metadata": {},
   "outputs": [
    {
     "data": {
      "text/plain": [
       "children               0\n",
       "work_experience     2162\n",
       "age                    0\n",
       "education              0\n",
       "education_id           0\n",
       "family_status          0\n",
       "family_status_id       0\n",
       "gender                 0\n",
       "employment_type        0\n",
       "debt                   0\n",
       "salary              2162\n",
       "purpose                0\n",
       "dtype: int64"
      ]
     },
     "execution_count": 13,
     "metadata": {},
     "output_type": "execute_result"
    }
   ],
   "source": [
    "df.isna().sum()"
   ]
  },
  {
   "cell_type": "markdown",
   "id": "86389602",
   "metadata": {},
   "source": [
    "Чтобы в дальнейшем заполнить пропущенные данные наиболее вероятными значениями, для начала разберемся с другими недочетами в столбце `work_experience` (отрицательные и невероятные значения)."
   ]
  },
  {
   "cell_type": "code",
   "execution_count": 14,
   "id": "c41aab72",
   "metadata": {},
   "outputs": [],
   "source": [
    "df['work_experience'] = round(df['work_experience'].abs())"
   ]
  },
  {
   "cell_type": "code",
   "execution_count": 15,
   "id": "3585e463",
   "metadata": {},
   "outputs": [
    {
     "data": {
      "text/plain": [
       "count     3431.00\n",
       "mean    365025.90\n",
       "std      21087.47\n",
       "min     328729.00\n",
       "25%     346649.00\n",
       "50%     365287.00\n",
       "75%     383293.00\n",
       "max     401755.00\n",
       "Name: work_experience, dtype: float64"
      ]
     },
     "execution_count": 15,
     "metadata": {},
     "output_type": "execute_result"
    }
   ],
   "source": [
    "# Посмотрим на распределение невероятных значений в столбце 'work_experience'. \n",
    "# Условием для выявления данных значений определяем максимально возможный стаж работы для самого пожилого объекта в выборке \n",
    "# с учетом начала трудовых отношений в 16 лет.\n",
    "df.loc[df['work_experience'] > (df['age'].max() - 16)*365]['work_experience'].describe()"
   ]
  },
  {
   "cell_type": "markdown",
   "id": "698943e5",
   "metadata": {},
   "source": [
    "Можно заметить, что в датафрейме *3431* объект с невероятными значениями в данном столбце. Также стоит обратить внимание, что значения хоть и невероятны, но распределены равномерно. Таким образом, скорее всего, была допущена ошибка при отделении целой части числа от дроби. Для исправления ошибки данные значения необходимо разделить на *100*."
   ]
  },
  {
   "cell_type": "code",
   "execution_count": 16,
   "id": "1ae0dae0",
   "metadata": {},
   "outputs": [],
   "source": [
    "df['work_experience'] = df['work_experience'].apply(lambda x: x / 100 if x > (df['age'].max() - 16) * 365 else x)"
   ]
  },
  {
   "cell_type": "code",
   "execution_count": 17,
   "id": "75f5833f",
   "metadata": {},
   "outputs": [],
   "source": [
    "df['work_experience'] = df.groupby('employment_type')['work_experience'].transform(lambda x: x.fillna(x.mean()))"
   ]
  },
  {
   "cell_type": "code",
   "execution_count": 18,
   "id": "1e116a45",
   "metadata": {},
   "outputs": [
    {
     "data": {
      "text/plain": [
       "count   21402.00\n",
       "mean     2586.34\n",
       "std      2046.15\n",
       "min        24.00\n",
       "25%      1027.00\n",
       "50%      2323.66\n",
       "75%      3636.17\n",
       "max     18389.00\n",
       "Name: work_experience, dtype: float64"
      ]
     },
     "execution_count": 18,
     "metadata": {},
     "output_type": "execute_result"
    }
   ],
   "source": [
    "df['work_experience'].describe()"
   ]
  },
  {
   "cell_type": "code",
   "execution_count": 19,
   "id": "80324919",
   "metadata": {},
   "outputs": [],
   "source": [
    "df['salary'] = df.groupby(['employment_type', 'education'])['salary'].transform(lambda x: x.fillna(x.median()))"
   ]
  },
  {
   "cell_type": "code",
   "execution_count": 20,
   "id": "68e17754",
   "metadata": {},
   "outputs": [
    {
     "name": "stdout",
     "output_type": "stream",
     "text": [
      "<class 'pandas.core.frame.DataFrame'>\n",
      "Int64Index: 21402 entries, 0 to 21524\n",
      "Data columns (total 12 columns):\n",
      " #   Column            Non-Null Count  Dtype  \n",
      "---  ------            --------------  -----  \n",
      " 0   children          21402 non-null  int64  \n",
      " 1   work_experience   21402 non-null  float64\n",
      " 2   age               21402 non-null  int64  \n",
      " 3   education         21402 non-null  object \n",
      " 4   education_id      21402 non-null  int64  \n",
      " 5   family_status     21402 non-null  object \n",
      " 6   family_status_id  21402 non-null  int64  \n",
      " 7   gender            21402 non-null  object \n",
      " 8   employment_type   21402 non-null  object \n",
      " 9   debt              21402 non-null  int64  \n",
      " 10  salary            21402 non-null  float64\n",
      " 11  purpose           21402 non-null  object \n",
      "dtypes: float64(2), int64(5), object(5)\n",
      "memory usage: 2.1+ MB\n"
     ]
    }
   ],
   "source": [
    "df.info()"
   ]
  },
  {
   "cell_type": "code",
   "execution_count": 21,
   "id": "54d721b3",
   "metadata": {},
   "outputs": [],
   "source": [
    "df['age'] = df.groupby(['employment_type'])['age'].transform(lambda x: x.replace(0, int(x.mean())))"
   ]
  },
  {
   "cell_type": "code",
   "execution_count": 22,
   "id": "14581a64",
   "metadata": {},
   "outputs": [],
   "source": [
    "df = df.drop(df[df['gender'] == 'XNA'].index)"
   ]
  },
  {
   "cell_type": "code",
   "execution_count": 23,
   "id": "65cf4954",
   "metadata": {},
   "outputs": [
    {
     "data": {
      "text/plain": [
       "F    14154\n",
       "M     7247\n",
       "Name: gender, dtype: int64"
      ]
     },
     "execution_count": 23,
     "metadata": {},
     "output_type": "execute_result"
    }
   ],
   "source": [
    "df['gender'].value_counts()"
   ]
  },
  {
   "cell_type": "code",
   "execution_count": 24,
   "id": "4c0ea5bb",
   "metadata": {
    "scrolled": true
   },
   "outputs": [
    {
     "data": {
      "text/html": [
       "<div>\n",
       "<style scoped>\n",
       "    .dataframe tbody tr th:only-of-type {\n",
       "        vertical-align: middle;\n",
       "    }\n",
       "\n",
       "    .dataframe tbody tr th {\n",
       "        vertical-align: top;\n",
       "    }\n",
       "\n",
       "    .dataframe thead th {\n",
       "        text-align: right;\n",
       "    }\n",
       "</style>\n",
       "<table border=\"1\" class=\"dataframe\">\n",
       "  <thead>\n",
       "    <tr style=\"text-align: right;\">\n",
       "      <th></th>\n",
       "      <th>children</th>\n",
       "      <th>work_experience</th>\n",
       "      <th>age</th>\n",
       "      <th>education_id</th>\n",
       "      <th>family_status_id</th>\n",
       "      <th>debt</th>\n",
       "      <th>salary</th>\n",
       "    </tr>\n",
       "  </thead>\n",
       "  <tbody>\n",
       "    <tr>\n",
       "      <th>count</th>\n",
       "      <td>21401.00</td>\n",
       "      <td>21401.00</td>\n",
       "      <td>21401.00</td>\n",
       "      <td>21401.00</td>\n",
       "      <td>21401.00</td>\n",
       "      <td>21401.00</td>\n",
       "      <td>21401.00</td>\n",
       "    </tr>\n",
       "    <tr>\n",
       "      <th>mean</th>\n",
       "      <td>0.47</td>\n",
       "      <td>2586.35</td>\n",
       "      <td>43.50</td>\n",
       "      <td>0.82</td>\n",
       "      <td>0.97</td>\n",
       "      <td>0.08</td>\n",
       "      <td>165399.93</td>\n",
       "    </tr>\n",
       "    <tr>\n",
       "      <th>std</th>\n",
       "      <td>0.75</td>\n",
       "      <td>2046.20</td>\n",
       "      <td>12.24</td>\n",
       "      <td>0.55</td>\n",
       "      <td>1.42</td>\n",
       "      <td>0.27</td>\n",
       "      <td>98293.51</td>\n",
       "    </tr>\n",
       "    <tr>\n",
       "      <th>min</th>\n",
       "      <td>0.00</td>\n",
       "      <td>24.00</td>\n",
       "      <td>19.00</td>\n",
       "      <td>0.00</td>\n",
       "      <td>0.00</td>\n",
       "      <td>0.00</td>\n",
       "      <td>20667.26</td>\n",
       "    </tr>\n",
       "    <tr>\n",
       "      <th>25%</th>\n",
       "      <td>0.00</td>\n",
       "      <td>1027.00</td>\n",
       "      <td>34.00</td>\n",
       "      <td>1.00</td>\n",
       "      <td>0.00</td>\n",
       "      <td>0.00</td>\n",
       "      <td>107634.55</td>\n",
       "    </tr>\n",
       "    <tr>\n",
       "      <th>50%</th>\n",
       "      <td>0.00</td>\n",
       "      <td>2323.66</td>\n",
       "      <td>43.00</td>\n",
       "      <td>1.00</td>\n",
       "      <td>0.00</td>\n",
       "      <td>0.00</td>\n",
       "      <td>143092.82</td>\n",
       "    </tr>\n",
       "    <tr>\n",
       "      <th>75%</th>\n",
       "      <td>1.00</td>\n",
       "      <td>3636.18</td>\n",
       "      <td>53.00</td>\n",
       "      <td>1.00</td>\n",
       "      <td>1.00</td>\n",
       "      <td>0.00</td>\n",
       "      <td>198088.68</td>\n",
       "    </tr>\n",
       "    <tr>\n",
       "      <th>max</th>\n",
       "      <td>5.00</td>\n",
       "      <td>18389.00</td>\n",
       "      <td>75.00</td>\n",
       "      <td>4.00</td>\n",
       "      <td>4.00</td>\n",
       "      <td>1.00</td>\n",
       "      <td>2265604.03</td>\n",
       "    </tr>\n",
       "  </tbody>\n",
       "</table>\n",
       "</div>"
      ],
      "text/plain": [
       "       children  work_experience      age  education_id  family_status_id  \\\n",
       "count  21401.00         21401.00 21401.00      21401.00          21401.00   \n",
       "mean       0.47          2586.35    43.50          0.82              0.97   \n",
       "std        0.75          2046.20    12.24          0.55              1.42   \n",
       "min        0.00            24.00    19.00          0.00              0.00   \n",
       "25%        0.00          1027.00    34.00          1.00              0.00   \n",
       "50%        0.00          2323.66    43.00          1.00              0.00   \n",
       "75%        1.00          3636.18    53.00          1.00              1.00   \n",
       "max        5.00         18389.00    75.00          4.00              4.00   \n",
       "\n",
       "          debt     salary  \n",
       "count 21401.00   21401.00  \n",
       "mean      0.08  165399.93  \n",
       "std       0.27   98293.51  \n",
       "min       0.00   20667.26  \n",
       "25%       0.00  107634.55  \n",
       "50%       0.00  143092.82  \n",
       "75%       0.00  198088.68  \n",
       "max       1.00 2265604.03  "
      ]
     },
     "execution_count": 24,
     "metadata": {},
     "output_type": "execute_result"
    }
   ],
   "source": [
    "df.describe()"
   ]
  },
  {
   "cell_type": "markdown",
   "id": "d854612e",
   "metadata": {},
   "source": [
    "**Вывод:**\n",
    "1. Были исправлены ошибочные и восстановлены пропущенные значения в столбцах `work_experience`, `age` и `salary`. \n",
    "2. Были удалены строки с проблемными значениями в столбцах `children`, `age` и `gender`."
   ]
  },
  {
   "cell_type": "markdown",
   "id": "a4e7c52d",
   "metadata": {},
   "source": [
    "### Изменение типов данных"
   ]
  },
  {
   "cell_type": "code",
   "execution_count": 25,
   "id": "5391cb13",
   "metadata": {},
   "outputs": [],
   "source": [
    "df['work_experience'], df['salary'] = df['work_experience'].astype('int'), df['salary'].astype('int')"
   ]
  },
  {
   "cell_type": "code",
   "execution_count": 26,
   "id": "01be7f15",
   "metadata": {},
   "outputs": [
    {
     "name": "stdout",
     "output_type": "stream",
     "text": [
      "<class 'pandas.core.frame.DataFrame'>\n",
      "Int64Index: 21401 entries, 0 to 21524\n",
      "Data columns (total 12 columns):\n",
      " #   Column            Non-Null Count  Dtype \n",
      "---  ------            --------------  ----- \n",
      " 0   children          21401 non-null  int64 \n",
      " 1   work_experience   21401 non-null  int32 \n",
      " 2   age               21401 non-null  int64 \n",
      " 3   education         21401 non-null  object\n",
      " 4   education_id      21401 non-null  int64 \n",
      " 5   family_status     21401 non-null  object\n",
      " 6   family_status_id  21401 non-null  int64 \n",
      " 7   gender            21401 non-null  object\n",
      " 8   employment_type   21401 non-null  object\n",
      " 9   debt              21401 non-null  int64 \n",
      " 10  salary            21401 non-null  int32 \n",
      " 11  purpose           21401 non-null  object\n",
      "dtypes: int32(2), int64(5), object(5)\n",
      "memory usage: 2.0+ MB\n"
     ]
    }
   ],
   "source": [
    "df.info()"
   ]
  },
  {
   "cell_type": "markdown",
   "id": "49686151",
   "metadata": {},
   "source": [
    "### Определение и удаление дубликатов"
   ]
  },
  {
   "cell_type": "code",
   "execution_count": 27,
   "id": "07a86632",
   "metadata": {},
   "outputs": [],
   "source": [
    "df['education'] = df['education'].str.lower()"
   ]
  },
  {
   "cell_type": "code",
   "execution_count": 28,
   "id": "a258dcd1",
   "metadata": {},
   "outputs": [
    {
     "data": {
      "text/plain": [
       "среднее                15136\n",
       "высшее                  5237\n",
       "неоконченное высшее      740\n",
       "начальное                282\n",
       "ученая степень             6\n",
       "Name: education, dtype: int64"
      ]
     },
     "execution_count": 28,
     "metadata": {},
     "output_type": "execute_result"
    }
   ],
   "source": [
    "df['education'].value_counts()"
   ]
  },
  {
   "cell_type": "code",
   "execution_count": 29,
   "id": "b5905c02",
   "metadata": {},
   "outputs": [
    {
     "name": "stdout",
     "output_type": "stream",
     "text": [
      "В датафрейме 54 дублирующихся значений\n"
     ]
    }
   ],
   "source": [
    "print(f'В датафрейме {df.duplicated().sum()} дублирующихся значений')"
   ]
  },
  {
   "cell_type": "code",
   "execution_count": 30,
   "id": "2b12dd08",
   "metadata": {},
   "outputs": [],
   "source": [
    "df = df.drop_duplicates().reset_index(drop = True)"
   ]
  },
  {
   "cell_type": "code",
   "execution_count": 31,
   "id": "9b3264c3",
   "metadata": {},
   "outputs": [
    {
     "name": "stdout",
     "output_type": "stream",
     "text": [
      "В датафрейме 0 дублирующихся значений\n"
     ]
    }
   ],
   "source": [
    "print(f'В датафрейме {df.duplicated().sum()} дублирующихся значений')"
   ]
  },
  {
   "cell_type": "markdown",
   "id": "f446f778",
   "metadata": {},
   "source": [
    "**Выводы:** \n",
    "1. В *пункте 2.2* произвели изменение типов данных столбцов `work_experience`и `salary`, что повысило их читабельность. \n",
    "2. В *пункте 2.3* очистили датафрейм от дубликатов, которые влияют на статистическое распределение данных и могли вызвать смещение финальных оценок."
   ]
  },
  {
   "cell_type": "markdown",
   "id": "20fbe2f9",
   "metadata": {},
   "source": [
    "### Лемматизация"
   ]
  },
  {
   "cell_type": "markdown",
   "id": "e4c884c4",
   "metadata": {},
   "source": [
    "В исследуемом датафрейме имеется столбец `purpose`, который обозначает цель получения кредита. Данные в нем хранятся в свободной, указанной заемщиком, форме. Для определения влияния цели кредита на возврат его в срок необходимо привести значения данного столбца к единообразию. Для этого выполним лемматизацию, то есть преобразуем слова в их базовые формы, с помощью разработанной специалистами Яндекса библиотеки `pymystem3`."
   ]
  },
  {
   "cell_type": "code",
   "execution_count": 32,
   "id": "8b55b8c9",
   "metadata": {},
   "outputs": [
    {
     "data": {
      "text/plain": [
       "свадьба                                   792\n",
       "на проведение свадьбы                     768\n",
       "сыграть свадьбу                           764\n",
       "операции с недвижимостью                  672\n",
       "покупка коммерческой недвижимости         659\n",
       "покупка жилья для сдачи                   650\n",
       "операции с жильем                         647\n",
       "операции с коммерческой недвижимостью     645\n",
       "жилье                                     641\n",
       "покупка жилья                             640\n",
       "покупка жилья для семьи                   637\n",
       "недвижимость                              631\n",
       "строительство собственной недвижимости    628\n",
       "операции со своей недвижимостью           623\n",
       "строительство жилой недвижимости          621\n",
       "покупка своего жилья                      619\n",
       "строительство недвижимости                619\n",
       "покупка недвижимости                      615\n",
       "ремонт жилью                              604\n",
       "покупка жилой недвижимости                602\n",
       "на покупку своего автомобиля              504\n",
       "заняться высшим образованием              496\n",
       "автомобиль                                491\n",
       "сделка с подержанным автомобилем          481\n",
       "автомобили                                476\n",
       "свой автомобиль                           474\n",
       "на покупку подержанного автомобиля        471\n",
       "на покупку автомобиля                     470\n",
       "приобретение автомобиля                   459\n",
       "дополнительное образование                455\n",
       "сделка с автомобилем                      455\n",
       "высшее образование                        446\n",
       "получение дополнительного образования     445\n",
       "образование                               442\n",
       "получение образования                     440\n",
       "профильное образование                    432\n",
       "получение высшего образования             425\n",
       "заняться образованием                     408\n",
       "Name: purpose, dtype: int64"
      ]
     },
     "execution_count": 32,
     "metadata": {},
     "output_type": "execute_result"
    }
   ],
   "source": [
    "df['purpose'].value_counts()"
   ]
  },
  {
   "cell_type": "code",
   "execution_count": 33,
   "id": "44efde0a",
   "metadata": {},
   "outputs": [
    {
     "name": "stdout",
     "output_type": "stream",
     "text": [
      "(' ', 96)\n",
      "('покупка', 10)\n",
      "('недвижимость', 10)\n",
      "('автомобиль', 9)\n",
      "('образование', 9)\n",
      "('жилье', 7)\n",
      "('с', 5)\n",
      "('операция', 4)\n",
      "('на', 4)\n",
      "('свой', 4)\n",
      "('свадьба', 3)\n",
      "('строительство', 3)\n",
      "('получение', 3)\n",
      "('высокий', 3)\n",
      "('дополнительный', 2)\n",
      "('для', 2)\n",
      "('коммерческий', 2)\n",
      "('жилой', 2)\n",
      "('подержать', 2)\n",
      "('заниматься', 2)\n",
      "('сделка', 2)\n",
      "('приобретение', 1)\n",
      "('сыграть', 1)\n",
      "('проведение', 1)\n",
      "('семья', 1)\n",
      "('собственный', 1)\n",
      "('со', 1)\n",
      "('профильный', 1)\n",
      "('сдача', 1)\n",
      "('ремонт', 1)\n",
      "('\\n', 1)\n"
     ]
    }
   ],
   "source": [
    "purposes = ' '.join(list(df['purpose'].unique()))\n",
    "lemmas = Counter(Mystem().lemmatize(purposes)).most_common()\n",
    "print(*lemmas, sep='\\n')"
   ]
  },
  {
   "cell_type": "code",
   "execution_count": 34,
   "id": "a1c28c12",
   "metadata": {},
   "outputs": [
    {
     "name": "stdout",
     "output_type": "stream",
     "text": [
      "покупка\n",
      "недвижимость\n",
      "автомобиль\n",
      "образование\n",
      "жилье\n",
      "операция\n",
      "свадьба\n",
      "строительство\n",
      "получение\n",
      "высокий\n"
     ]
    }
   ],
   "source": [
    "final_lemmas = [i[0] for i in lemmas if len(i[0]) > 4][:10]\n",
    "print(*final_lemmas, sep='\\n')"
   ]
  },
  {
   "cell_type": "markdown",
   "id": "272efcc4",
   "metadata": {},
   "source": [
    "Проведя анализ изначальных значений столбца `purpose` и *10* наиболее часто встречающихся лемм можно выделить следующее:\n",
    "1. недвижимость и жилье синонимы и могут являться целью кредита;\n",
    "2. автомобиль может являться целью кредита;\n",
    "3. образование может являться целью кредита;\n",
    "4. свадьба может являться целью кредита;\n",
    "5. остальные леммы являются частью вышеописанных целей кредита и не имеют самостоятельной ценности."
   ]
  },
  {
   "cell_type": "code",
   "execution_count": 35,
   "id": "3a35b056",
   "metadata": {},
   "outputs": [],
   "source": [
    "final_lemmas = [i for i in final_lemmas if i not in ('покупка', 'операция', 'строительство', 'получение', 'высокий')]"
   ]
  },
  {
   "cell_type": "markdown",
   "id": "43df58df",
   "metadata": {},
   "source": [
    "**Вывод:**\n",
    "Проведя лемматизацию получили список *10* наиболее часто встречающихся лемм среди уникальных значений столбца `purpose`, из которых выбрали *5* наиболее вероятные для проведения дальнейшей категоризации данных.\n"
   ]
  },
  {
   "cell_type": "markdown",
   "id": "a0520199",
   "metadata": {},
   "source": [
    "### Категоризация данных"
   ]
  },
  {
   "cell_type": "markdown",
   "id": "ba4e7612",
   "metadata": {},
   "source": [
    "С учетом целей данного исследования необходимо выделить определенные сегменты в признаках `children`, `salary` и `purpose`. Для этого прибегнем к категоризации данных."
   ]
  },
  {
   "cell_type": "markdown",
   "id": "7dfb5908",
   "metadata": {},
   "source": [
    "Для столбца `children` выделим следующие категории:\n",
    "- нет детей — значение 0;\n",
    "- 1-2 ребенка — значения 1 и 2;\n",
    "- многодетные — все значения более 2."
   ]
  },
  {
   "cell_type": "code",
   "execution_count": 36,
   "id": "7c95c20f",
   "metadata": {},
   "outputs": [],
   "source": [
    "df['children_category'] = df['children'].\\\n",
    "apply(lambda x: np.where(x==0, 'нет детей', np.where(1<=x<=2, '1-2 ребенка', 'многодетные')))"
   ]
  },
  {
   "cell_type": "markdown",
   "id": "afd53527",
   "metadata": {},
   "source": [
    "С учетом распределения значений в столбце `salary` выделим следующие категории:\n",
    "- менее 50 тыс. — значения меньше 50000\n",
    "- 50-100 тыс. — значения в диапазоне 50000-100000, не включая последнее\n",
    "- 100-500 тыс. — значения в диапазоне 100000 - 500000, не включая последнее\n",
    "- более 500 тыс. - значения выше 500000"
   ]
  },
  {
   "cell_type": "code",
   "execution_count": 37,
   "id": "60b11bb4",
   "metadata": {},
   "outputs": [],
   "source": [
    "df['salary_category'] = df['salary'].\\\n",
    "apply(lambda x: np.where(x<50000, 'менее 50 тыс.', \n",
    "                         np.where(50000<=x<100000, '50-100 тыс.', \n",
    "                                  np.where(100000<=x<500000, '100-500 тыс.', 'более 500 тыс.'))))"
   ]
  },
  {
   "cell_type": "markdown",
   "id": "ee85e653",
   "metadata": {},
   "source": [
    "Для столбца `purpose`  выделим следующие категории:\n",
    "- 1 — цель: операции с недвижимостью\n",
    "- 2 — цель: операции с автомобилями\n",
    "- 3 — цель: получение образования\n",
    "- 4 — цель: проведение свадьбы"
   ]
  },
  {
   "cell_type": "code",
   "execution_count": 38,
   "id": "6aac5f63",
   "metadata": {},
   "outputs": [],
   "source": [
    "# Создадим словарь final_lemma_dict с 5 наиболее точно описывающими цель кредита леммами, полученными в пункте 2.4, \n",
    "# в качестве ключа и целевыми категориями в качестве значения.\n",
    "final_lemma_dict = dict(zip(final_lemmas, [1, 2, 3, 1, 4]))"
   ]
  },
  {
   "cell_type": "code",
   "execution_count": 39,
   "id": "e235d7d5",
   "metadata": {},
   "outputs": [
    {
     "name": "stderr",
     "output_type": "stream",
     "text": [
      "100%|██████████████████████████████████████████████████████████████████████████████████| 38/38 [01:29<00:00,  2.35s/it]\n"
     ]
    }
   ],
   "source": [
    "# Создадим словарь purpose_id_dict, в котором сопоставим целевые категории уникальным значениям столбца 'purpose'.\n",
    "purpose_id_dict = {}\n",
    "for c in tqdm(list(df['purpose'].unique())):\n",
    "    for i in c.split():\n",
    "        lemma = Mystem().lemmatize(i)\n",
    "        if lemma[0] in final_lemma_dict:\n",
    "            purpose_id_dict.update({c:final_lemma_dict[lemma[0]]})"
   ]
  },
  {
   "cell_type": "code",
   "execution_count": 40,
   "id": "3c79352b",
   "metadata": {},
   "outputs": [],
   "source": [
    "def purpose_id(row):\n",
    "    for k, v in purpose_id_dict.items():\n",
    "        if row == k:\n",
    "            return v\n",
    "        \n",
    "        \n",
    "df['purpose_id'] = df['purpose'].apply(purpose_id)"
   ]
  },
  {
   "cell_type": "code",
   "execution_count": 41,
   "id": "cf854f4b",
   "metadata": {
    "scrolled": false
   },
   "outputs": [
    {
     "data": {
      "text/html": [
       "<div>\n",
       "<style scoped>\n",
       "    .dataframe tbody tr th:only-of-type {\n",
       "        vertical-align: middle;\n",
       "    }\n",
       "\n",
       "    .dataframe tbody tr th {\n",
       "        vertical-align: top;\n",
       "    }\n",
       "\n",
       "    .dataframe thead th {\n",
       "        text-align: right;\n",
       "    }\n",
       "</style>\n",
       "<table border=\"1\" class=\"dataframe\">\n",
       "  <thead>\n",
       "    <tr style=\"text-align: right;\">\n",
       "      <th></th>\n",
       "      <th>children</th>\n",
       "      <th>work_experience</th>\n",
       "      <th>age</th>\n",
       "      <th>education</th>\n",
       "      <th>education_id</th>\n",
       "      <th>family_status</th>\n",
       "      <th>family_status_id</th>\n",
       "      <th>gender</th>\n",
       "      <th>employment_type</th>\n",
       "      <th>debt</th>\n",
       "      <th>salary</th>\n",
       "      <th>purpose</th>\n",
       "      <th>children_category</th>\n",
       "      <th>salary_category</th>\n",
       "      <th>purpose_id</th>\n",
       "    </tr>\n",
       "  </thead>\n",
       "  <tbody>\n",
       "    <tr>\n",
       "      <th>6446</th>\n",
       "      <td>0</td>\n",
       "      <td>2088</td>\n",
       "      <td>40</td>\n",
       "      <td>среднее</td>\n",
       "      <td>1</td>\n",
       "      <td>женат / замужем</td>\n",
       "      <td>0</td>\n",
       "      <td>F</td>\n",
       "      <td>сотрудник</td>\n",
       "      <td>0</td>\n",
       "      <td>78828</td>\n",
       "      <td>ремонт жилью</td>\n",
       "      <td>нет детей</td>\n",
       "      <td>50-100 тыс.</td>\n",
       "      <td>1</td>\n",
       "    </tr>\n",
       "    <tr>\n",
       "      <th>1402</th>\n",
       "      <td>1</td>\n",
       "      <td>482</td>\n",
       "      <td>57</td>\n",
       "      <td>среднее</td>\n",
       "      <td>1</td>\n",
       "      <td>гражданский брак</td>\n",
       "      <td>1</td>\n",
       "      <td>M</td>\n",
       "      <td>сотрудник</td>\n",
       "      <td>0</td>\n",
       "      <td>183284</td>\n",
       "      <td>сыграть свадьбу</td>\n",
       "      <td>1-2 ребенка</td>\n",
       "      <td>100-500 тыс.</td>\n",
       "      <td>4</td>\n",
       "    </tr>\n",
       "    <tr>\n",
       "      <th>15914</th>\n",
       "      <td>0</td>\n",
       "      <td>3987</td>\n",
       "      <td>62</td>\n",
       "      <td>среднее</td>\n",
       "      <td>1</td>\n",
       "      <td>вдовец / вдова</td>\n",
       "      <td>2</td>\n",
       "      <td>F</td>\n",
       "      <td>пенсионер</td>\n",
       "      <td>0</td>\n",
       "      <td>123612</td>\n",
       "      <td>строительство недвижимости</td>\n",
       "      <td>нет детей</td>\n",
       "      <td>100-500 тыс.</td>\n",
       "      <td>1</td>\n",
       "    </tr>\n",
       "    <tr>\n",
       "      <th>8091</th>\n",
       "      <td>2</td>\n",
       "      <td>437</td>\n",
       "      <td>38</td>\n",
       "      <td>среднее</td>\n",
       "      <td>1</td>\n",
       "      <td>женат / замужем</td>\n",
       "      <td>0</td>\n",
       "      <td>M</td>\n",
       "      <td>сотрудник</td>\n",
       "      <td>0</td>\n",
       "      <td>175426</td>\n",
       "      <td>получение образования</td>\n",
       "      <td>1-2 ребенка</td>\n",
       "      <td>100-500 тыс.</td>\n",
       "      <td>3</td>\n",
       "    </tr>\n",
       "    <tr>\n",
       "      <th>3532</th>\n",
       "      <td>1</td>\n",
       "      <td>3591</td>\n",
       "      <td>44</td>\n",
       "      <td>высшее</td>\n",
       "      <td>0</td>\n",
       "      <td>женат / замужем</td>\n",
       "      <td>0</td>\n",
       "      <td>M</td>\n",
       "      <td>пенсионер</td>\n",
       "      <td>0</td>\n",
       "      <td>99336</td>\n",
       "      <td>покупка жилья для семьи</td>\n",
       "      <td>1-2 ребенка</td>\n",
       "      <td>50-100 тыс.</td>\n",
       "      <td>1</td>\n",
       "    </tr>\n",
       "    <tr>\n",
       "      <th>20518</th>\n",
       "      <td>0</td>\n",
       "      <td>2304</td>\n",
       "      <td>25</td>\n",
       "      <td>высшее</td>\n",
       "      <td>0</td>\n",
       "      <td>Не женат / не замужем</td>\n",
       "      <td>4</td>\n",
       "      <td>M</td>\n",
       "      <td>сотрудник</td>\n",
       "      <td>1</td>\n",
       "      <td>273216</td>\n",
       "      <td>заняться образованием</td>\n",
       "      <td>нет детей</td>\n",
       "      <td>100-500 тыс.</td>\n",
       "      <td>3</td>\n",
       "    </tr>\n",
       "    <tr>\n",
       "      <th>20532</th>\n",
       "      <td>0</td>\n",
       "      <td>3589</td>\n",
       "      <td>34</td>\n",
       "      <td>среднее</td>\n",
       "      <td>1</td>\n",
       "      <td>женат / замужем</td>\n",
       "      <td>0</td>\n",
       "      <td>M</td>\n",
       "      <td>компаньон</td>\n",
       "      <td>0</td>\n",
       "      <td>95405</td>\n",
       "      <td>приобретение автомобиля</td>\n",
       "      <td>нет детей</td>\n",
       "      <td>50-100 тыс.</td>\n",
       "      <td>2</td>\n",
       "    </tr>\n",
       "    <tr>\n",
       "      <th>7159</th>\n",
       "      <td>2</td>\n",
       "      <td>1922</td>\n",
       "      <td>37</td>\n",
       "      <td>среднее</td>\n",
       "      <td>1</td>\n",
       "      <td>женат / замужем</td>\n",
       "      <td>0</td>\n",
       "      <td>M</td>\n",
       "      <td>госслужащий</td>\n",
       "      <td>0</td>\n",
       "      <td>206255</td>\n",
       "      <td>строительство недвижимости</td>\n",
       "      <td>1-2 ребенка</td>\n",
       "      <td>100-500 тыс.</td>\n",
       "      <td>1</td>\n",
       "    </tr>\n",
       "    <tr>\n",
       "      <th>18736</th>\n",
       "      <td>0</td>\n",
       "      <td>304</td>\n",
       "      <td>49</td>\n",
       "      <td>среднее</td>\n",
       "      <td>1</td>\n",
       "      <td>женат / замужем</td>\n",
       "      <td>0</td>\n",
       "      <td>F</td>\n",
       "      <td>сотрудник</td>\n",
       "      <td>0</td>\n",
       "      <td>245904</td>\n",
       "      <td>строительство собственной недвижимости</td>\n",
       "      <td>нет детей</td>\n",
       "      <td>100-500 тыс.</td>\n",
       "      <td>1</td>\n",
       "    </tr>\n",
       "    <tr>\n",
       "      <th>12623</th>\n",
       "      <td>0</td>\n",
       "      <td>1187</td>\n",
       "      <td>52</td>\n",
       "      <td>высшее</td>\n",
       "      <td>0</td>\n",
       "      <td>женат / замужем</td>\n",
       "      <td>0</td>\n",
       "      <td>F</td>\n",
       "      <td>госслужащий</td>\n",
       "      <td>0</td>\n",
       "      <td>260578</td>\n",
       "      <td>на покупку автомобиля</td>\n",
       "      <td>нет детей</td>\n",
       "      <td>100-500 тыс.</td>\n",
       "      <td>2</td>\n",
       "    </tr>\n",
       "  </tbody>\n",
       "</table>\n",
       "</div>"
      ],
      "text/plain": [
       "       children  work_experience  age education  education_id  \\\n",
       "6446          0             2088   40   среднее             1   \n",
       "1402          1              482   57   среднее             1   \n",
       "15914         0             3987   62   среднее             1   \n",
       "8091          2              437   38   среднее             1   \n",
       "3532          1             3591   44    высшее             0   \n",
       "20518         0             2304   25    высшее             0   \n",
       "20532         0             3589   34   среднее             1   \n",
       "7159          2             1922   37   среднее             1   \n",
       "18736         0              304   49   среднее             1   \n",
       "12623         0             1187   52    высшее             0   \n",
       "\n",
       "               family_status  family_status_id gender employment_type  debt  \\\n",
       "6446         женат / замужем                 0      F       сотрудник     0   \n",
       "1402        гражданский брак                 1      M       сотрудник     0   \n",
       "15914         вдовец / вдова                 2      F       пенсионер     0   \n",
       "8091         женат / замужем                 0      M       сотрудник     0   \n",
       "3532         женат / замужем                 0      M       пенсионер     0   \n",
       "20518  Не женат / не замужем                 4      M       сотрудник     1   \n",
       "20532        женат / замужем                 0      M       компаньон     0   \n",
       "7159         женат / замужем                 0      M     госслужащий     0   \n",
       "18736        женат / замужем                 0      F       сотрудник     0   \n",
       "12623        женат / замужем                 0      F     госслужащий     0   \n",
       "\n",
       "       salary                                 purpose children_category  \\\n",
       "6446    78828                            ремонт жилью         нет детей   \n",
       "1402   183284                         сыграть свадьбу       1-2 ребенка   \n",
       "15914  123612              строительство недвижимости         нет детей   \n",
       "8091   175426                   получение образования       1-2 ребенка   \n",
       "3532    99336                 покупка жилья для семьи       1-2 ребенка   \n",
       "20518  273216                   заняться образованием         нет детей   \n",
       "20532   95405                 приобретение автомобиля         нет детей   \n",
       "7159   206255              строительство недвижимости       1-2 ребенка   \n",
       "18736  245904  строительство собственной недвижимости         нет детей   \n",
       "12623  260578                   на покупку автомобиля         нет детей   \n",
       "\n",
       "      salary_category  purpose_id  \n",
       "6446      50-100 тыс.           1  \n",
       "1402     100-500 тыс.           4  \n",
       "15914    100-500 тыс.           1  \n",
       "8091     100-500 тыс.           3  \n",
       "3532      50-100 тыс.           1  \n",
       "20518    100-500 тыс.           3  \n",
       "20532     50-100 тыс.           2  \n",
       "7159     100-500 тыс.           1  \n",
       "18736    100-500 тыс.           1  \n",
       "12623    100-500 тыс.           2  "
      ]
     },
     "execution_count": 41,
     "metadata": {},
     "output_type": "execute_result"
    }
   ],
   "source": [
    "df.sample(10, random_state=17)"
   ]
  },
  {
   "cell_type": "markdown",
   "id": "135e81e0",
   "metadata": {},
   "source": [
    "**Выводы:** Провели категоризацию данных с целью сегментации и дальнейшей оценки заемщиков по целевым признакам."
   ]
  },
  {
   "cell_type": "markdown",
   "id": "119991a0",
   "metadata": {},
   "source": [
    "## Анализ полученных данных"
   ]
  },
  {
   "cell_type": "markdown",
   "id": "dc3275a6",
   "metadata": {},
   "source": [
    "### Определение зависимости между наличием детей и возвратом кредита в срок."
   ]
  },
  {
   "cell_type": "code",
   "execution_count": 42,
   "id": "92ceb3db",
   "metadata": {},
   "outputs": [
    {
     "name": "stdout",
     "output_type": "stream",
     "text": [
      "9.3 % заемщиков из категории \"1-2 ребенка\" имеют задолженность по кредиту.\n",
      "8.2 % заемщиков из категории \"многодетные\" имеют задолженность по кредиту.\n",
      "7.5 % заемщиков из категории \"нет детей\" имеют задолженность по кредиту.\n"
     ]
    }
   ],
   "source": [
    "df_children = df.groupby('children_category')['debt'].mean()\n",
    "ls = sorted(df['children_category'].unique())\n",
    "for i in range(len(df_children)):\n",
    "    print(f'{round(df_children[i] * 100, 1)} % заемщиков из категории \"{ls[i]}\" имеют задолженность по кредиту.')"
   ]
  },
  {
   "cell_type": "markdown",
   "id": "3d980ffe",
   "metadata": {},
   "source": [
    "**Вывод:** Заемщики *без детей* менее всех склонны иметь задолженность по кредиту."
   ]
  },
  {
   "cell_type": "markdown",
   "id": "e26146ef",
   "metadata": {},
   "source": [
    "### Определение зависимости между семейным положением и возвратом кредита в срок"
   ]
  },
  {
   "cell_type": "code",
   "execution_count": 43,
   "id": "5fd82861",
   "metadata": {},
   "outputs": [],
   "source": [
    "df_pivot_family_status = df.pivot_table(index='family_status', columns='debt', values='family_status_id', aggfunc='count')\n",
    "df_pivot_family_status['percentage of debtors'] = ((df_pivot_family_status[1] / df_pivot_family_status[0]) * 100)\n",
    "df_pivot_family_status['percentage of debtors'] = df_pivot_family_status['percentage of debtors'].astype('int')\n",
    "df_pivot_family_status['number of borrowers'] = df_pivot_family_status[1] + df_pivot_family_status[0]"
   ]
  },
  {
   "cell_type": "code",
   "execution_count": 44,
   "id": "38b833b8",
   "metadata": {},
   "outputs": [
    {
     "data": {
      "text/html": [
       "<div>\n",
       "<style scoped>\n",
       "    .dataframe tbody tr th:only-of-type {\n",
       "        vertical-align: middle;\n",
       "    }\n",
       "\n",
       "    .dataframe tbody tr th {\n",
       "        vertical-align: top;\n",
       "    }\n",
       "\n",
       "    .dataframe thead th {\n",
       "        text-align: right;\n",
       "    }\n",
       "</style>\n",
       "<table border=\"1\" class=\"dataframe\">\n",
       "  <thead>\n",
       "    <tr style=\"text-align: right;\">\n",
       "      <th>debt</th>\n",
       "      <th>percentage of debtors</th>\n",
       "      <th>number of borrowers</th>\n",
       "    </tr>\n",
       "    <tr>\n",
       "      <th>family_status</th>\n",
       "      <th></th>\n",
       "      <th></th>\n",
       "    </tr>\n",
       "  </thead>\n",
       "  <tbody>\n",
       "    <tr>\n",
       "      <th>Не женат / не замужем</th>\n",
       "      <td>10</td>\n",
       "      <td>2796</td>\n",
       "    </tr>\n",
       "    <tr>\n",
       "      <th>в разводе</th>\n",
       "      <td>7</td>\n",
       "      <td>1189</td>\n",
       "    </tr>\n",
       "    <tr>\n",
       "      <th>вдовец / вдова</th>\n",
       "      <td>7</td>\n",
       "      <td>951</td>\n",
       "    </tr>\n",
       "    <tr>\n",
       "      <th>гражданский брак</th>\n",
       "      <td>10</td>\n",
       "      <td>4145</td>\n",
       "    </tr>\n",
       "    <tr>\n",
       "      <th>женат / замужем</th>\n",
       "      <td>8</td>\n",
       "      <td>12266</td>\n",
       "    </tr>\n",
       "  </tbody>\n",
       "</table>\n",
       "</div>"
      ],
      "text/plain": [
       "debt                   percentage of debtors  number of borrowers\n",
       "family_status                                                    \n",
       "Не женат / не замужем                     10                 2796\n",
       "в разводе                                  7                 1189\n",
       "вдовец / вдова                             7                  951\n",
       "гражданский брак                          10                 4145\n",
       "женат / замужем                            8                12266"
      ]
     },
     "execution_count": 44,
     "metadata": {},
     "output_type": "execute_result"
    }
   ],
   "source": [
    "df_pivot_family_status.loc[:, ['percentage of debtors', 'number of borrowers']]"
   ]
  },
  {
   "cell_type": "markdown",
   "id": "2ffb5c9f",
   "metadata": {},
   "source": [
    "**Вывод:** Заемщики, которые связаны либо были связаны узами брака менее всех склонны иметь задолженность по кредиту."
   ]
  },
  {
   "cell_type": "markdown",
   "id": "0a79a336",
   "metadata": {},
   "source": [
    "### Определение зависимости между уровнем дохода и возвратом кредита в срок"
   ]
  },
  {
   "cell_type": "code",
   "execution_count": 45,
   "id": "de98e0e1",
   "metadata": {},
   "outputs": [],
   "source": [
    "df_pivot_salary = df.pivot_table(index='salary_category', columns='debt', values='salary', aggfunc='count')\n",
    "df_pivot_salary['percentage of debtors'] = ((df_pivot_salary[1] / df_pivot_salary[0]) * 100)\n",
    "df_pivot_salary['percentage of debtors'] = df_pivot_salary['percentage of debtors'].astype('int')\n",
    "df_pivot_salary['number of borrowers'] = df_pivot_salary[1] + df_pivot_salary[0]"
   ]
  },
  {
   "cell_type": "code",
   "execution_count": 46,
   "id": "98a90b9f",
   "metadata": {},
   "outputs": [
    {
     "data": {
      "text/html": [
       "<div>\n",
       "<style scoped>\n",
       "    .dataframe tbody tr th:only-of-type {\n",
       "        vertical-align: middle;\n",
       "    }\n",
       "\n",
       "    .dataframe tbody tr th {\n",
       "        vertical-align: top;\n",
       "    }\n",
       "\n",
       "    .dataframe thead th {\n",
       "        text-align: right;\n",
       "    }\n",
       "</style>\n",
       "<table border=\"1\" class=\"dataframe\">\n",
       "  <thead>\n",
       "    <tr style=\"text-align: right;\">\n",
       "      <th>debt</th>\n",
       "      <th>percentage of debtors</th>\n",
       "      <th>number of borrowers</th>\n",
       "    </tr>\n",
       "    <tr>\n",
       "      <th>salary_category</th>\n",
       "      <th></th>\n",
       "      <th></th>\n",
       "    </tr>\n",
       "  </thead>\n",
       "  <tbody>\n",
       "    <tr>\n",
       "      <th>100-500 тыс.</th>\n",
       "      <td>8</td>\n",
       "      <td>16679</td>\n",
       "    </tr>\n",
       "    <tr>\n",
       "      <th>50-100 тыс.</th>\n",
       "      <td>8</td>\n",
       "      <td>4075</td>\n",
       "    </tr>\n",
       "    <tr>\n",
       "      <th>более 500 тыс.</th>\n",
       "      <td>6</td>\n",
       "      <td>222</td>\n",
       "    </tr>\n",
       "    <tr>\n",
       "      <th>менее 50 тыс.</th>\n",
       "      <td>6</td>\n",
       "      <td>371</td>\n",
       "    </tr>\n",
       "  </tbody>\n",
       "</table>\n",
       "</div>"
      ],
      "text/plain": [
       "debt             percentage of debtors  number of borrowers\n",
       "salary_category                                            \n",
       "100-500 тыс.                         8                16679\n",
       "50-100 тыс.                          8                 4075\n",
       "более 500 тыс.                       6                  222\n",
       "менее 50 тыс.                        6                  371"
      ]
     },
     "execution_count": 46,
     "metadata": {},
     "output_type": "execute_result"
    }
   ],
   "source": [
    "df_pivot_salary.loc[:, ['percentage of debtors', 'number of borrowers']]"
   ]
  },
  {
   "cell_type": "markdown",
   "id": "e60b6762",
   "metadata": {},
   "source": [
    "**Вывод:** Заемщики, уровень дохода которых менее *50 тыс* либо более *500 тыс* менее всех склонны иметь задолженность по кредиту."
   ]
  },
  {
   "cell_type": "markdown",
   "id": "51416734",
   "metadata": {},
   "source": [
    "### Определение зависимости между целью кредита и возвратом его в срок"
   ]
  },
  {
   "cell_type": "code",
   "execution_count": 47,
   "id": "459e11fc",
   "metadata": {},
   "outputs": [],
   "source": [
    "df_pivot_purpose = df.pivot_table(index='purpose_id', columns='debt', values='purpose', aggfunc='count')\n",
    "df_pivot_purpose['percentage of debtors'] = ((df_pivot_purpose[1] / df_pivot_purpose[0]) * 100)\n",
    "df_pivot_purpose['percentage of debtors'] = df_pivot_purpose['percentage of debtors'].astype('int')\n",
    "df_pivot_purpose['number of borrowers'] = df_pivot_purpose[1] + df_pivot_purpose[0]"
   ]
  },
  {
   "cell_type": "code",
   "execution_count": 48,
   "id": "326cf1fc",
   "metadata": {},
   "outputs": [
    {
     "data": {
      "text/html": [
       "<div>\n",
       "<style scoped>\n",
       "    .dataframe tbody tr th:only-of-type {\n",
       "        vertical-align: middle;\n",
       "    }\n",
       "\n",
       "    .dataframe tbody tr th {\n",
       "        vertical-align: top;\n",
       "    }\n",
       "\n",
       "    .dataframe thead th {\n",
       "        text-align: right;\n",
       "    }\n",
       "</style>\n",
       "<table border=\"1\" class=\"dataframe\">\n",
       "  <thead>\n",
       "    <tr style=\"text-align: right;\">\n",
       "      <th>debt</th>\n",
       "      <th>percentage of debtors</th>\n",
       "      <th>number of borrowers</th>\n",
       "    </tr>\n",
       "    <tr>\n",
       "      <th>purpose_id</th>\n",
       "      <th></th>\n",
       "      <th></th>\n",
       "    </tr>\n",
       "  </thead>\n",
       "  <tbody>\n",
       "    <tr>\n",
       "      <th>1</th>\n",
       "      <td>7</td>\n",
       "      <td>10753</td>\n",
       "    </tr>\n",
       "    <tr>\n",
       "      <th>2</th>\n",
       "      <td>10</td>\n",
       "      <td>4281</td>\n",
       "    </tr>\n",
       "    <tr>\n",
       "      <th>3</th>\n",
       "      <td>10</td>\n",
       "      <td>3989</td>\n",
       "    </tr>\n",
       "    <tr>\n",
       "      <th>4</th>\n",
       "      <td>8</td>\n",
       "      <td>2324</td>\n",
       "    </tr>\n",
       "  </tbody>\n",
       "</table>\n",
       "</div>"
      ],
      "text/plain": [
       "debt        percentage of debtors  number of borrowers\n",
       "purpose_id                                            \n",
       "1                               7                10753\n",
       "2                              10                 4281\n",
       "3                              10                 3989\n",
       "4                               8                 2324"
      ]
     },
     "execution_count": 48,
     "metadata": {},
     "output_type": "execute_result"
    }
   ],
   "source": [
    "df_pivot_purpose.loc[:, ['percentage of debtors', 'number of borrowers']]"
   ]
  },
  {
   "cell_type": "code",
   "execution_count": 49,
   "id": "df2226f3",
   "metadata": {},
   "outputs": [
    {
     "name": "stdout",
     "output_type": "stream",
     "text": [
      "1 - цель: недвижимость\n",
      "2 - цель: автомобиль\n",
      "3 - цель: образование\n",
      "1 - цель: жилье\n",
      "4 - цель: свадьба\n"
     ]
    }
   ],
   "source": [
    "for key, value in final_lemma_dict.items():\n",
    "    print(f'{value} - цель: {key}')"
   ]
  },
  {
   "cell_type": "markdown",
   "id": "3f3c35d4",
   "metadata": {},
   "source": [
    "**Вывод:** Заемщики, цель кредита которых операции с недвижимостью менее всех склонны иметь по нему задолженность."
   ]
  },
  {
   "cell_type": "markdown",
   "id": "758ed523",
   "metadata": {},
   "source": [
    "## Вывод"
   ]
  },
  {
   "cell_type": "markdown",
   "id": "8cab59c2",
   "metadata": {},
   "source": [
    "Во время проведения исследования было обнаружено, что методы сбора данных банка плохо контролируются, что, в свою очередь, привело к появлению недопустимых значений (отрицательные значения количества детей в семье, большое количество отрицательных либо значительно превышающих возраст клиента значений общего трудового стажа, нулевые значения возраста клиента), а также отсутствию значений, повторяющимся значениям. В результате анализа данных, которые не защищены от такого рода проблем, можно прийти к неверным решениям и выводам по статистике платёжеспособности клиентов. Качество данных является первостепенной задачей при проведении анализа, ведь мусор на входе, мусор на выходе.\n",
    "\n",
    "С целью исключения факторов снижающих качество данных, была произведена обработка дубликатов, противоречивых значений, восстановление и заполнение пропусков, редактирование аномальных значений, что в итоге позволило подойти к анализу статистики платёжеспособности клиентов и получению ответов на целевые вопросы.\n",
    "\n",
    "Исследование показало, что существует зависимость между наличием детей, семейным положением, уровнем дохода, целью кредита и возвратом кредита в срок:\n",
    "\n",
    "\n",
    "1. *Наличие детей:*\n",
    "\n",
    "    - 9.3 % заемщиков из категории \"1-2 ребенка\" имеют задолженность по кредиту;\n",
    "    - 8.2 % заемщиков из категории \"многодетные\" имеют задолженность по кредиту;\n",
    "    - 7.5 % заемщиков из категории \"нет детей\" имеют задолженность по кредиту.\n",
    "    \n",
    "    \n",
    "2. *Семейное положение:*\n",
    "\n",
    "    - 10 % заемщиков из категории \"не женат/не замужем\" имеют задолженность по кредиту;\n",
    "    - 7 % заемщиков из категории \"в разводе\" имеют задолженность по кредиту;\n",
    "    - 7 % заемщиков из категории \"вдовец/вдова\" имеют задолженность по кредиту;\n",
    "    - 10 % заемщиков из категории \"гражданский брак\" имеют задолженность по кредиту;\n",
    "    - 8 % заемщиков из категории \"женат/замужем\" имеют задолженность по кредиту.\n",
    "\n",
    "\n",
    "3. *Уровень дохода:*\n",
    "\n",
    "    - 8 % заемщиков из категории \"100-500 тыс.\" имеют задолженность по кредиту;\t\n",
    "    - 8 % заемщиков из категории \"50-100 тыс.\" имеют задолженность по кредиту;\t\n",
    "    - 6 % заемщиков из категории \"более 500 тыс.\" имеют задолженность по кредиту;\t\n",
    "    - 6 % заемщиков из категории \"менее 50 тыс.\" имеют задолженность по кредиту.\n",
    "    \n",
    "    \n",
    "3. *Цель кредита:*\n",
    "\n",
    "    - 7 % заемщиков из категории \"недвижимость\" имеют задолженность по кредиту;\n",
    "    - 10 % заемщиков из категории \"автомобиль\" имеют задолженность по кредиту;\n",
    "    - 10 % заемщиков из категории \"образование\" имеют задолженность по кредиту;\n",
    "    - 8 % заемщиков из категории \"свадьба\" имеют задолженность по кредиту;\n",
    "    \n",
    "    \n",
    "Согласно полученным результатам можно сделать вывод о том, что наиболее надежным заемщиком является человек, который связан либо был связан в прошлом узами брака, не имеющий детей и целью получения кредита которого является операция с недвижимостью."
   ]
  }
 ],
 "metadata": {
  "ExecuteTimeLog": [
   {
    "duration": 789,
    "start_time": "2021-09-20T09:25:14.320Z"
   },
   {
    "duration": 260,
    "start_time": "2021-09-20T09:25:15.112Z"
   },
   {
    "duration": 9,
    "start_time": "2021-09-20T09:25:15.376Z"
   },
   {
    "duration": 37,
    "start_time": "2021-09-20T09:25:15.388Z"
   },
   {
    "duration": 15,
    "start_time": "2021-09-20T09:25:15.427Z"
   },
   {
    "duration": 42,
    "start_time": "2021-09-20T09:25:15.444Z"
   },
   {
    "duration": 46,
    "start_time": "2021-09-20T09:25:15.489Z"
   },
   {
    "duration": 70,
    "start_time": "2021-09-20T09:25:15.539Z"
   },
   {
    "duration": 10,
    "start_time": "2021-09-20T09:25:15.611Z"
   },
   {
    "duration": 37,
    "start_time": "2021-09-20T09:25:15.624Z"
   },
   {
    "duration": 26,
    "start_time": "2021-09-20T09:25:15.663Z"
   },
   {
    "duration": 20,
    "start_time": "2021-09-20T09:25:15.692Z"
   },
   {
    "duration": 16,
    "start_time": "2021-09-20T09:25:15.715Z"
   },
   {
    "duration": 4,
    "start_time": "2021-09-20T09:25:15.734Z"
   },
   {
    "duration": 26,
    "start_time": "2021-09-20T09:25:15.740Z"
   },
   {
    "duration": 12,
    "start_time": "2021-09-20T09:25:15.783Z"
   },
   {
    "duration": 2795,
    "start_time": "2021-09-20T09:25:15.798Z"
   },
   {
    "duration": 20,
    "start_time": "2021-09-20T09:25:18.595Z"
   },
   {
    "duration": 11,
    "start_time": "2021-09-20T09:25:18.617Z"
   },
   {
    "duration": 86,
    "start_time": "2021-09-20T09:25:18.631Z"
   },
   {
    "duration": 20,
    "start_time": "2021-09-20T09:25:18.719Z"
   },
   {
    "duration": 18,
    "start_time": "2021-09-20T09:25:18.742Z"
   },
   {
    "duration": 22,
    "start_time": "2021-09-20T09:25:18.787Z"
   },
   {
    "duration": 72,
    "start_time": "2021-09-20T09:25:18.813Z"
   },
   {
    "duration": 8,
    "start_time": "2021-09-20T09:25:18.888Z"
   },
   {
    "duration": 29,
    "start_time": "2021-09-20T09:25:18.899Z"
   },
   {
    "duration": 19,
    "start_time": "2021-09-20T09:25:18.931Z"
   },
   {
    "duration": 40,
    "start_time": "2021-09-20T09:25:18.953Z"
   },
   {
    "duration": 29,
    "start_time": "2021-09-20T09:25:18.996Z"
   },
   {
    "duration": 55,
    "start_time": "2021-09-20T09:25:19.028Z"
   },
   {
    "duration": 23,
    "start_time": "2021-09-20T09:25:19.086Z"
   },
   {
    "duration": 10,
    "start_time": "2021-09-20T09:25:19.111Z"
   },
   {
    "duration": 21,
    "start_time": "2021-09-20T09:25:19.124Z"
   },
   {
    "duration": 972,
    "start_time": "2021-09-20T09:25:19.147Z"
   },
   {
    "duration": 7,
    "start_time": "2021-09-20T09:25:20.122Z"
   },
   {
    "duration": 12,
    "start_time": "2021-09-20T09:25:20.131Z"
   },
   {
    "duration": 12,
    "start_time": "2021-09-20T09:25:20.145Z"
   },
   {
    "duration": 28,
    "start_time": "2021-09-20T09:25:20.159Z"
   },
   {
    "duration": 13,
    "start_time": "2021-09-20T09:25:20.190Z"
   },
   {
    "duration": 21,
    "start_time": "2021-09-20T09:25:20.205Z"
   },
   {
    "duration": 3,
    "start_time": "2021-09-20T09:25:20.229Z"
   },
   {
    "duration": 92095,
    "start_time": "2021-09-20T09:25:20.234Z"
   },
   {
    "duration": 4,
    "start_time": "2021-09-20T09:26:52.332Z"
   },
   {
    "duration": 66,
    "start_time": "2021-09-20T09:26:52.338Z"
   },
   {
    "duration": 21,
    "start_time": "2021-09-20T09:26:52.407Z"
   },
   {
    "duration": 29,
    "start_time": "2021-09-20T09:26:52.430Z"
   },
   {
    "duration": 29,
    "start_time": "2021-09-20T09:26:52.461Z"
   },
   {
    "duration": 29,
    "start_time": "2021-09-20T09:26:52.493Z"
   },
   {
    "duration": 11,
    "start_time": "2021-09-20T09:26:52.524Z"
   },
   {
    "duration": 63,
    "start_time": "2021-09-20T09:26:52.537Z"
   },
   {
    "duration": 10,
    "start_time": "2021-09-20T09:26:52.602Z"
   },
   {
    "duration": 27,
    "start_time": "2021-09-20T09:26:52.614Z"
   },
   {
    "duration": 10,
    "start_time": "2021-09-20T09:26:52.643Z"
   },
   {
    "duration": 5,
    "start_time": "2021-09-20T09:26:52.684Z"
   },
   {
    "duration": 147,
    "start_time": "2021-09-20T21:00:21.585Z"
   },
   {
    "duration": 1581,
    "start_time": "2021-09-20T21:03:10.435Z"
   },
   {
    "duration": 117,
    "start_time": "2021-09-20T21:05:23.804Z"
   },
   {
    "duration": 155,
    "start_time": "2021-09-20T21:07:18.548Z"
   },
   {
    "duration": 114,
    "start_time": "2021-09-20T21:07:57.960Z"
   },
   {
    "duration": 627,
    "start_time": "2021-09-20T21:09:36.601Z"
   },
   {
    "duration": 100,
    "start_time": "2021-09-20T21:10:12.041Z"
   },
   {
    "duration": 209,
    "start_time": "2021-09-20T21:11:05.631Z"
   },
   {
    "duration": 183,
    "start_time": "2021-09-20T21:12:27.590Z"
   },
   {
    "duration": 108,
    "start_time": "2021-09-20T21:13:16.719Z"
   },
   {
    "duration": 387,
    "start_time": "2021-09-20T21:18:16.833Z"
   },
   {
    "duration": 795,
    "start_time": "2021-09-20T21:18:57.412Z"
   },
   {
    "duration": 267,
    "start_time": "2021-09-20T21:18:58.209Z"
   },
   {
    "duration": 11,
    "start_time": "2021-09-20T21:18:58.480Z"
   },
   {
    "duration": 32,
    "start_time": "2021-09-20T21:18:58.494Z"
   },
   {
    "duration": 23,
    "start_time": "2021-09-20T21:18:58.528Z"
   },
   {
    "duration": 17,
    "start_time": "2021-09-20T21:18:58.553Z"
   },
   {
    "duration": 72,
    "start_time": "2021-09-20T21:18:58.572Z"
   },
   {
    "duration": 46,
    "start_time": "2021-09-20T21:18:58.646Z"
   },
   {
    "duration": 43,
    "start_time": "2021-09-20T21:18:58.696Z"
   },
   {
    "duration": 9,
    "start_time": "2021-09-20T21:18:58.742Z"
   },
   {
    "duration": 20,
    "start_time": "2021-09-20T21:18:58.753Z"
   },
   {
    "duration": 32,
    "start_time": "2021-09-20T21:18:58.776Z"
   },
   {
    "duration": 14,
    "start_time": "2021-09-20T21:18:58.810Z"
   },
   {
    "duration": 6,
    "start_time": "2021-09-20T21:18:58.826Z"
   },
   {
    "duration": 30,
    "start_time": "2021-09-20T21:18:58.834Z"
   },
   {
    "duration": 37,
    "start_time": "2021-09-20T21:18:58.867Z"
   },
   {
    "duration": 2610,
    "start_time": "2021-09-20T21:18:58.907Z"
   },
   {
    "duration": 22,
    "start_time": "2021-09-20T21:19:01.520Z"
   },
   {
    "duration": 12,
    "start_time": "2021-09-20T21:19:01.545Z"
   },
   {
    "duration": 100,
    "start_time": "2021-09-20T21:19:01.559Z"
   },
   {
    "duration": 19,
    "start_time": "2021-09-20T21:19:01.662Z"
   },
   {
    "duration": 36,
    "start_time": "2021-09-20T21:19:01.684Z"
   },
   {
    "duration": 24,
    "start_time": "2021-09-20T21:19:01.723Z"
   },
   {
    "duration": 61,
    "start_time": "2021-09-20T21:19:01.749Z"
   },
   {
    "duration": 7,
    "start_time": "2021-09-20T21:19:01.812Z"
   },
   {
    "duration": 40,
    "start_time": "2021-09-20T21:19:01.822Z"
   },
   {
    "duration": 15,
    "start_time": "2021-09-20T21:19:01.868Z"
   },
   {
    "duration": 55,
    "start_time": "2021-09-20T21:19:01.886Z"
   },
   {
    "duration": 75,
    "start_time": "2021-09-20T21:19:01.944Z"
   },
   {
    "duration": 60,
    "start_time": "2021-09-20T21:19:02.021Z"
   },
   {
    "duration": 20,
    "start_time": "2021-09-20T21:19:02.083Z"
   },
   {
    "duration": 14,
    "start_time": "2021-09-20T21:19:02.106Z"
   },
   {
    "duration": 28,
    "start_time": "2021-09-20T21:19:02.123Z"
   },
   {
    "duration": 1321,
    "start_time": "2021-09-20T21:19:02.154Z"
   },
   {
    "duration": 9,
    "start_time": "2021-09-20T21:19:03.477Z"
   },
   {
    "duration": 28,
    "start_time": "2021-09-20T21:19:03.488Z"
   },
   {
    "duration": 14,
    "start_time": "2021-09-20T21:19:03.519Z"
   },
   {
    "duration": 31,
    "start_time": "2021-09-20T21:19:03.535Z"
   },
   {
    "duration": 5,
    "start_time": "2021-09-20T21:19:03.568Z"
   },
   {
    "duration": 23,
    "start_time": "2021-09-20T21:19:03.576Z"
   },
   {
    "duration": 13,
    "start_time": "2021-09-20T21:19:03.601Z"
   },
   {
    "duration": 90546,
    "start_time": "2021-09-20T21:19:03.617Z"
   },
   {
    "duration": 3,
    "start_time": "2021-09-20T21:20:34.166Z"
   },
   {
    "duration": 892,
    "start_time": "2021-09-20T21:20:34.172Z"
   },
   {
    "duration": -463,
    "start_time": "2021-09-20T21:20:35.529Z"
   },
   {
    "duration": -470,
    "start_time": "2021-09-20T21:20:35.538Z"
   },
   {
    "duration": -477,
    "start_time": "2021-09-20T21:20:35.546Z"
   },
   {
    "duration": -533,
    "start_time": "2021-09-20T21:20:35.604Z"
   },
   {
    "duration": -542,
    "start_time": "2021-09-20T21:20:35.614Z"
   },
   {
    "duration": -550,
    "start_time": "2021-09-20T21:20:35.624Z"
   },
   {
    "duration": -555,
    "start_time": "2021-09-20T21:20:35.630Z"
   },
   {
    "duration": -562,
    "start_time": "2021-09-20T21:20:35.638Z"
   },
   {
    "duration": -566,
    "start_time": "2021-09-20T21:20:35.644Z"
   },
   {
    "duration": -592,
    "start_time": "2021-09-20T21:20:35.671Z"
   },
   {
    "duration": -599,
    "start_time": "2021-09-20T21:20:35.679Z"
   },
   {
    "duration": 6503,
    "start_time": "2021-09-20T21:22:13.007Z"
   },
   {
    "duration": 54,
    "start_time": "2021-09-20T21:22:26.069Z"
   },
   {
    "duration": 22,
    "start_time": "2021-09-20T21:22:26.744Z"
   },
   {
    "duration": 33,
    "start_time": "2021-09-20T21:22:28.517Z"
   },
   {
    "duration": 845,
    "start_time": "2021-09-20T21:25:39.594Z"
   },
   {
    "duration": 261,
    "start_time": "2021-09-20T21:25:40.442Z"
   },
   {
    "duration": 9,
    "start_time": "2021-09-20T21:25:40.706Z"
   },
   {
    "duration": 30,
    "start_time": "2021-09-20T21:25:40.718Z"
   },
   {
    "duration": 16,
    "start_time": "2021-09-20T21:25:40.751Z"
   },
   {
    "duration": 47,
    "start_time": "2021-09-20T21:25:40.769Z"
   },
   {
    "duration": 47,
    "start_time": "2021-09-20T21:25:40.818Z"
   },
   {
    "duration": 70,
    "start_time": "2021-09-20T21:25:40.868Z"
   },
   {
    "duration": 9,
    "start_time": "2021-09-20T21:25:40.941Z"
   },
   {
    "duration": 24,
    "start_time": "2021-09-20T21:25:40.952Z"
   },
   {
    "duration": 16,
    "start_time": "2021-09-20T21:25:40.978Z"
   },
   {
    "duration": 21,
    "start_time": "2021-09-20T21:25:40.997Z"
   },
   {
    "duration": 12,
    "start_time": "2021-09-20T21:25:41.020Z"
   },
   {
    "duration": 5,
    "start_time": "2021-09-20T21:25:41.034Z"
   },
   {
    "duration": 23,
    "start_time": "2021-09-20T21:25:41.041Z"
   },
   {
    "duration": 50,
    "start_time": "2021-09-20T21:25:41.067Z"
   },
   {
    "duration": 2699,
    "start_time": "2021-09-20T21:25:41.120Z"
   },
   {
    "duration": 19,
    "start_time": "2021-09-20T21:25:43.821Z"
   },
   {
    "duration": 14,
    "start_time": "2021-09-20T21:25:43.842Z"
   },
   {
    "duration": 88,
    "start_time": "2021-09-20T21:25:43.858Z"
   },
   {
    "duration": 20,
    "start_time": "2021-09-20T21:25:43.948Z"
   },
   {
    "duration": 21,
    "start_time": "2021-09-20T21:25:43.971Z"
   },
   {
    "duration": 36,
    "start_time": "2021-09-20T21:25:43.998Z"
   },
   {
    "duration": 48,
    "start_time": "2021-09-20T21:25:44.038Z"
   },
   {
    "duration": 6,
    "start_time": "2021-09-20T21:25:44.117Z"
   },
   {
    "duration": 21,
    "start_time": "2021-09-20T21:25:44.126Z"
   },
   {
    "duration": 16,
    "start_time": "2021-09-20T21:25:44.149Z"
   },
   {
    "duration": 20,
    "start_time": "2021-09-20T21:25:44.167Z"
   },
   {
    "duration": 48,
    "start_time": "2021-09-20T21:25:44.189Z"
   },
   {
    "duration": 26,
    "start_time": "2021-09-20T21:25:44.240Z"
   },
   {
    "duration": 47,
    "start_time": "2021-09-20T21:25:44.269Z"
   },
   {
    "duration": 10,
    "start_time": "2021-09-20T21:25:44.319Z"
   },
   {
    "duration": 9,
    "start_time": "2021-09-20T21:25:44.332Z"
   },
   {
    "duration": 977,
    "start_time": "2021-09-20T21:25:44.343Z"
   },
   {
    "duration": 7,
    "start_time": "2021-09-20T21:25:45.324Z"
   },
   {
    "duration": 6,
    "start_time": "2021-09-20T21:25:45.333Z"
   },
   {
    "duration": 13,
    "start_time": "2021-09-20T21:25:45.341Z"
   },
   {
    "duration": 16,
    "start_time": "2021-09-20T21:25:45.356Z"
   },
   {
    "duration": 4,
    "start_time": "2021-09-20T21:25:45.375Z"
   },
   {
    "duration": 45,
    "start_time": "2021-09-20T21:25:45.381Z"
   },
   {
    "duration": 8,
    "start_time": "2021-09-20T21:25:45.429Z"
   },
   {
    "duration": 89418,
    "start_time": "2021-09-20T21:25:45.439Z"
   },
   {
    "duration": 4,
    "start_time": "2021-09-20T21:27:14.860Z"
   },
   {
    "duration": 209979,
    "start_time": "2021-09-20T21:27:14.866Z"
   },
   {
    "duration": -385,
    "start_time": "2021-09-20T21:30:45.234Z"
   },
   {
    "duration": -393,
    "start_time": "2021-09-20T21:30:45.244Z"
   },
   {
    "duration": -399,
    "start_time": "2021-09-20T21:30:45.251Z"
   },
   {
    "duration": -403,
    "start_time": "2021-09-20T21:30:45.257Z"
   },
   {
    "duration": -414,
    "start_time": "2021-09-20T21:30:45.270Z"
   },
   {
    "duration": -420,
    "start_time": "2021-09-20T21:30:45.278Z"
   },
   {
    "duration": -437,
    "start_time": "2021-09-20T21:30:45.297Z"
   },
   {
    "duration": -440,
    "start_time": "2021-09-20T21:30:45.302Z"
   },
   {
    "duration": -442,
    "start_time": "2021-09-20T21:30:45.306Z"
   },
   {
    "duration": -442,
    "start_time": "2021-09-20T21:30:45.309Z"
   },
   {
    "duration": -446,
    "start_time": "2021-09-20T21:30:45.315Z"
   },
   {
    "duration": 4,
    "start_time": "2021-09-20T21:31:07.558Z"
   },
   {
    "duration": 264507,
    "start_time": "2021-09-20T21:31:08.948Z"
   },
   {
    "duration": -429,
    "start_time": "2021-09-20T21:35:33.889Z"
   },
   {
    "duration": -432,
    "start_time": "2021-09-20T21:35:33.894Z"
   },
   {
    "duration": -433,
    "start_time": "2021-09-20T21:35:33.897Z"
   },
   {
    "duration": -462,
    "start_time": "2021-09-20T21:35:33.928Z"
   },
   {
    "duration": -498,
    "start_time": "2021-09-20T21:35:33.967Z"
   },
   {
    "duration": -500,
    "start_time": "2021-09-20T21:35:33.971Z"
   },
   {
    "duration": 849,
    "start_time": "2021-09-20T21:35:43.294Z"
   },
   {
    "duration": 274,
    "start_time": "2021-09-20T21:35:44.146Z"
   },
   {
    "duration": 9,
    "start_time": "2021-09-20T21:35:44.423Z"
   },
   {
    "duration": 29,
    "start_time": "2021-09-20T21:35:44.435Z"
   },
   {
    "duration": 15,
    "start_time": "2021-09-20T21:35:44.466Z"
   },
   {
    "duration": 46,
    "start_time": "2021-09-20T21:35:44.484Z"
   },
   {
    "duration": 48,
    "start_time": "2021-09-20T21:35:44.533Z"
   },
   {
    "duration": 85,
    "start_time": "2021-09-20T21:35:44.585Z"
   },
   {
    "duration": 10,
    "start_time": "2021-09-20T21:35:44.673Z"
   },
   {
    "duration": 35,
    "start_time": "2021-09-20T21:35:44.685Z"
   },
   {
    "duration": 15,
    "start_time": "2021-09-20T21:35:44.722Z"
   },
   {
    "duration": 15,
    "start_time": "2021-09-20T21:35:44.739Z"
   },
   {
    "duration": 18,
    "start_time": "2021-09-20T21:35:44.757Z"
   },
   {
    "duration": 5,
    "start_time": "2021-09-20T21:35:44.778Z"
   },
   {
    "duration": 47,
    "start_time": "2021-09-20T21:35:44.785Z"
   },
   {
    "duration": 12,
    "start_time": "2021-09-20T21:35:44.834Z"
   },
   {
    "duration": 3415,
    "start_time": "2021-09-20T21:35:44.848Z"
   },
   {
    "duration": 19,
    "start_time": "2021-09-20T21:35:48.266Z"
   },
   {
    "duration": 29,
    "start_time": "2021-09-20T21:35:48.288Z"
   },
   {
    "duration": 64,
    "start_time": "2021-09-20T21:35:48.320Z"
   },
   {
    "duration": 32,
    "start_time": "2021-09-20T21:35:48.386Z"
   },
   {
    "duration": 15,
    "start_time": "2021-09-20T21:35:48.421Z"
   },
   {
    "duration": 19,
    "start_time": "2021-09-20T21:35:48.441Z"
   },
   {
    "duration": 77,
    "start_time": "2021-09-20T21:35:48.463Z"
   },
   {
    "duration": 6,
    "start_time": "2021-09-20T21:35:48.542Z"
   },
   {
    "duration": 17,
    "start_time": "2021-09-20T21:35:48.551Z"
   },
   {
    "duration": 15,
    "start_time": "2021-09-20T21:35:48.570Z"
   },
   {
    "duration": 37,
    "start_time": "2021-09-20T21:35:48.588Z"
   },
   {
    "duration": 26,
    "start_time": "2021-09-20T21:35:48.628Z"
   },
   {
    "duration": 25,
    "start_time": "2021-09-20T21:35:48.656Z"
   },
   {
    "duration": 51,
    "start_time": "2021-09-20T21:35:48.683Z"
   },
   {
    "duration": 10,
    "start_time": "2021-09-20T21:35:48.737Z"
   },
   {
    "duration": 8,
    "start_time": "2021-09-20T21:35:48.750Z"
   },
   {
    "duration": 961,
    "start_time": "2021-09-20T21:35:48.761Z"
   },
   {
    "duration": 6,
    "start_time": "2021-09-20T21:35:49.725Z"
   },
   {
    "duration": 15,
    "start_time": "2021-09-20T21:35:49.733Z"
   },
   {
    "duration": 805,
    "start_time": "2021-09-20T21:37:19.777Z"
   },
   {
    "duration": 252,
    "start_time": "2021-09-20T21:37:20.585Z"
   },
   {
    "duration": 10,
    "start_time": "2021-09-20T21:37:20.841Z"
   },
   {
    "duration": 32,
    "start_time": "2021-09-20T21:37:20.855Z"
   },
   {
    "duration": 40,
    "start_time": "2021-09-20T21:37:20.890Z"
   },
   {
    "duration": 20,
    "start_time": "2021-09-20T21:37:20.933Z"
   },
   {
    "duration": 78,
    "start_time": "2021-09-20T21:37:20.956Z"
   },
   {
    "duration": 51,
    "start_time": "2021-09-20T21:37:21.036Z"
   },
   {
    "duration": 32,
    "start_time": "2021-09-20T21:37:21.091Z"
   },
   {
    "duration": 12,
    "start_time": "2021-09-20T21:37:21.126Z"
   },
   {
    "duration": 20,
    "start_time": "2021-09-20T21:37:21.141Z"
   },
   {
    "duration": 15,
    "start_time": "2021-09-20T21:37:21.163Z"
   },
   {
    "duration": 19,
    "start_time": "2021-09-20T21:37:21.180Z"
   },
   {
    "duration": 6,
    "start_time": "2021-09-20T21:37:21.217Z"
   },
   {
    "duration": 28,
    "start_time": "2021-09-20T21:37:21.225Z"
   },
   {
    "duration": 18,
    "start_time": "2021-09-20T21:37:21.256Z"
   },
   {
    "duration": 2595,
    "start_time": "2021-09-20T21:37:21.277Z"
   },
   {
    "duration": 18,
    "start_time": "2021-09-20T21:37:23.875Z"
   },
   {
    "duration": 22,
    "start_time": "2021-09-20T21:37:23.895Z"
   },
   {
    "duration": 64,
    "start_time": "2021-09-20T21:37:23.919Z"
   },
   {
    "duration": 40,
    "start_time": "2021-09-20T21:37:23.986Z"
   },
   {
    "duration": 35,
    "start_time": "2021-09-20T21:37:24.028Z"
   },
   {
    "duration": 44,
    "start_time": "2021-09-20T21:37:24.065Z"
   },
   {
    "duration": 67,
    "start_time": "2021-09-20T21:37:24.112Z"
   },
   {
    "duration": 6,
    "start_time": "2021-09-20T21:37:24.181Z"
   },
   {
    "duration": 36,
    "start_time": "2021-09-20T21:37:24.189Z"
   },
   {
    "duration": 21,
    "start_time": "2021-09-20T21:37:24.231Z"
   },
   {
    "duration": 30,
    "start_time": "2021-09-20T21:37:24.256Z"
   },
   {
    "duration": 47,
    "start_time": "2021-09-20T21:37:24.289Z"
   },
   {
    "duration": 24,
    "start_time": "2021-09-20T21:37:24.339Z"
   },
   {
    "duration": 19,
    "start_time": "2021-09-20T21:37:24.366Z"
   },
   {
    "duration": 128071,
    "start_time": "2021-09-20T21:37:24.388Z"
   },
   {
    "duration": -608,
    "start_time": "2021-09-20T21:39:33.070Z"
   },
   {
    "duration": -613,
    "start_time": "2021-09-20T21:39:33.077Z"
   },
   {
    "duration": -617,
    "start_time": "2021-09-20T21:39:33.082Z"
   },
   {
    "duration": -628,
    "start_time": "2021-09-20T21:39:33.095Z"
   },
   {
    "duration": -633,
    "start_time": "2021-09-20T21:39:33.101Z"
   },
   {
    "duration": -645,
    "start_time": "2021-09-20T21:39:33.114Z"
   },
   {
    "duration": 709,
    "start_time": "2021-09-20T21:39:34.962Z"
   },
   {
    "duration": 203,
    "start_time": "2021-09-20T21:39:35.673Z"
   },
   {
    "duration": 8,
    "start_time": "2021-09-20T21:39:35.879Z"
   },
   {
    "duration": 39,
    "start_time": "2021-09-20T21:39:35.890Z"
   },
   {
    "duration": 15,
    "start_time": "2021-09-20T21:39:35.931Z"
   },
   {
    "duration": 17,
    "start_time": "2021-09-20T21:39:35.948Z"
   },
   {
    "duration": 74,
    "start_time": "2021-09-20T21:39:35.967Z"
   },
   {
    "duration": 47,
    "start_time": "2021-09-20T21:39:36.045Z"
   },
   {
    "duration": 32,
    "start_time": "2021-09-20T21:39:36.096Z"
   },
   {
    "duration": 10,
    "start_time": "2021-09-20T21:39:36.130Z"
   },
   {
    "duration": 13,
    "start_time": "2021-09-20T21:39:36.143Z"
   },
   {
    "duration": 10,
    "start_time": "2021-09-20T21:39:36.158Z"
   },
   {
    "duration": 45,
    "start_time": "2021-09-20T21:39:36.171Z"
   },
   {
    "duration": 5,
    "start_time": "2021-09-20T21:39:36.218Z"
   },
   {
    "duration": 30,
    "start_time": "2021-09-20T21:39:36.226Z"
   },
   {
    "duration": 13,
    "start_time": "2021-09-20T21:39:36.259Z"
   },
   {
    "duration": 2602,
    "start_time": "2021-09-20T21:39:36.274Z"
   },
   {
    "duration": 19,
    "start_time": "2021-09-20T21:39:38.879Z"
   },
   {
    "duration": 24,
    "start_time": "2021-09-20T21:39:38.900Z"
   },
   {
    "duration": 63,
    "start_time": "2021-09-20T21:39:38.926Z"
   },
   {
    "duration": 39,
    "start_time": "2021-09-20T21:39:38.991Z"
   },
   {
    "duration": 16,
    "start_time": "2021-09-20T21:39:39.032Z"
   },
   {
    "duration": 19,
    "start_time": "2021-09-20T21:39:39.053Z"
   },
   {
    "duration": 75,
    "start_time": "2021-09-20T21:39:39.075Z"
   },
   {
    "duration": 6,
    "start_time": "2021-09-20T21:39:39.152Z"
   },
   {
    "duration": 16,
    "start_time": "2021-09-20T21:39:39.216Z"
   },
   {
    "duration": 20,
    "start_time": "2021-09-20T21:39:39.234Z"
   },
   {
    "duration": 65,
    "start_time": "2021-09-20T21:39:39.257Z"
   },
   {
    "duration": 25,
    "start_time": "2021-09-20T21:39:39.325Z"
   },
   {
    "duration": 77,
    "start_time": "2021-09-20T21:39:39.352Z"
   },
   {
    "duration": 83,
    "start_time": "2021-09-20T21:39:39.433Z"
   },
   {
    "duration": 6625,
    "start_time": "2021-09-20T21:39:39.520Z"
   },
   {
    "duration": 11,
    "start_time": "2021-09-20T21:39:46.148Z"
   },
   {
    "duration": 8,
    "start_time": "2021-09-20T21:39:46.161Z"
   },
   {
    "duration": 917,
    "start_time": "2021-09-20T21:39:46.171Z"
   },
   {
    "duration": 7,
    "start_time": "2021-09-20T21:39:47.091Z"
   },
   {
    "duration": 18,
    "start_time": "2021-09-20T21:39:47.100Z"
   },
   {
    "duration": 9,
    "start_time": "2021-09-20T21:39:47.122Z"
   },
   {
    "duration": 13,
    "start_time": "2021-09-20T21:39:47.133Z"
   },
   {
    "duration": 4,
    "start_time": "2021-09-20T21:39:47.148Z"
   },
   {
    "duration": 19,
    "start_time": "2021-09-20T21:39:47.154Z"
   },
   {
    "duration": 43,
    "start_time": "2021-09-20T21:39:47.175Z"
   },
   {
    "duration": 88778,
    "start_time": "2021-09-20T21:39:47.220Z"
   },
   {
    "duration": 4,
    "start_time": "2021-09-20T21:41:16.001Z"
   },
   {
    "duration": 62,
    "start_time": "2021-09-20T21:41:16.008Z"
   },
   {
    "duration": 43,
    "start_time": "2021-09-20T21:41:16.073Z"
   },
   {
    "duration": 32,
    "start_time": "2021-09-20T21:41:16.119Z"
   },
   {
    "duration": 14,
    "start_time": "2021-09-20T21:41:16.154Z"
   },
   {
    "duration": 64,
    "start_time": "2021-09-20T21:41:16.171Z"
   },
   {
    "duration": 13,
    "start_time": "2021-09-20T21:41:16.238Z"
   },
   {
    "duration": 27,
    "start_time": "2021-09-20T21:41:16.254Z"
   },
   {
    "duration": 41,
    "start_time": "2021-09-20T21:41:16.283Z"
   },
   {
    "duration": 29,
    "start_time": "2021-09-20T21:41:16.328Z"
   },
   {
    "duration": 11,
    "start_time": "2021-09-20T21:41:16.360Z"
   },
   {
    "duration": 6,
    "start_time": "2021-09-20T21:41:16.415Z"
   },
   {
    "duration": 105,
    "start_time": "2021-09-20T21:45:12.654Z"
   },
   {
    "duration": 122,
    "start_time": "2021-09-20T21:45:32.260Z"
   },
   {
    "duration": 1070,
    "start_time": "2021-09-20T21:46:17.465Z"
   },
   {
    "duration": 212,
    "start_time": "2021-09-20T21:46:18.537Z"
   },
   {
    "duration": 10,
    "start_time": "2021-09-20T21:46:18.752Z"
   },
   {
    "duration": 29,
    "start_time": "2021-09-20T21:46:18.765Z"
   },
   {
    "duration": 28,
    "start_time": "2021-09-20T21:46:18.797Z"
   },
   {
    "duration": 18,
    "start_time": "2021-09-20T21:46:18.828Z"
   },
   {
    "duration": 70,
    "start_time": "2021-09-20T21:46:18.849Z"
   },
   {
    "duration": 47,
    "start_time": "2021-09-20T21:46:18.923Z"
   },
   {
    "duration": 10,
    "start_time": "2021-09-20T21:46:18.973Z"
   },
   {
    "duration": 39,
    "start_time": "2021-09-20T21:46:18.985Z"
   },
   {
    "duration": 11,
    "start_time": "2021-09-20T21:46:19.027Z"
   },
   {
    "duration": 7,
    "start_time": "2021-09-20T21:46:19.041Z"
   },
   {
    "duration": 12,
    "start_time": "2021-09-20T21:46:19.051Z"
   },
   {
    "duration": 4,
    "start_time": "2021-09-20T21:46:19.066Z"
   },
   {
    "duration": 63,
    "start_time": "2021-09-20T21:46:19.073Z"
   },
   {
    "duration": 15,
    "start_time": "2021-09-20T21:46:19.139Z"
   },
   {
    "duration": 2672,
    "start_time": "2021-09-20T21:46:19.157Z"
   },
   {
    "duration": 19,
    "start_time": "2021-09-20T21:46:21.831Z"
   },
   {
    "duration": 11,
    "start_time": "2021-09-20T21:46:21.852Z"
   },
   {
    "duration": 86,
    "start_time": "2021-09-20T21:46:21.865Z"
   },
   {
    "duration": 20,
    "start_time": "2021-09-20T21:46:21.953Z"
   },
   {
    "duration": 18,
    "start_time": "2021-09-20T21:46:21.975Z"
   },
   {
    "duration": 20,
    "start_time": "2021-09-20T21:46:22.020Z"
   },
   {
    "duration": 46,
    "start_time": "2021-09-20T21:46:22.043Z"
   },
   {
    "duration": 28,
    "start_time": "2021-09-20T21:46:22.092Z"
   },
   {
    "duration": 16,
    "start_time": "2021-09-20T21:46:22.123Z"
   },
   {
    "duration": 16,
    "start_time": "2021-09-20T21:46:22.141Z"
   },
   {
    "duration": 22,
    "start_time": "2021-09-20T21:46:22.159Z"
   },
   {
    "duration": 53,
    "start_time": "2021-09-20T21:46:22.184Z"
   },
   {
    "duration": 26,
    "start_time": "2021-09-20T21:46:22.240Z"
   },
   {
    "duration": 50,
    "start_time": "2021-09-20T21:46:22.269Z"
   },
   {
    "duration": 10,
    "start_time": "2021-09-20T21:46:22.322Z"
   },
   {
    "duration": 6,
    "start_time": "2021-09-20T21:46:22.335Z"
   },
   {
    "duration": 956,
    "start_time": "2021-09-20T21:46:22.343Z"
   },
   {
    "duration": 18,
    "start_time": "2021-09-20T21:46:23.302Z"
   },
   {
    "duration": 16,
    "start_time": "2021-09-20T21:46:23.323Z"
   },
   {
    "duration": 10,
    "start_time": "2021-09-20T21:46:23.341Z"
   },
   {
    "duration": 40,
    "start_time": "2021-09-20T21:46:23.354Z"
   },
   {
    "duration": 9,
    "start_time": "2021-09-20T21:46:23.397Z"
   },
   {
    "duration": 31,
    "start_time": "2021-09-20T21:46:23.409Z"
   },
   {
    "duration": 18,
    "start_time": "2021-09-20T21:46:23.443Z"
   },
   {
    "duration": 91041,
    "start_time": "2021-09-20T21:46:23.463Z"
   },
   {
    "duration": 9,
    "start_time": "2021-09-20T21:47:54.507Z"
   },
   {
    "duration": 72,
    "start_time": "2021-09-20T21:47:54.519Z"
   },
   {
    "duration": 49,
    "start_time": "2021-09-20T21:47:54.595Z"
   },
   {
    "duration": 34,
    "start_time": "2021-09-20T21:47:54.646Z"
   },
   {
    "duration": 38,
    "start_time": "2021-09-20T21:47:54.683Z"
   },
   {
    "duration": 28,
    "start_time": "2021-09-20T21:47:54.724Z"
   },
   {
    "duration": 12,
    "start_time": "2021-09-20T21:47:54.754Z"
   },
   {
    "duration": 57,
    "start_time": "2021-09-20T21:47:54.769Z"
   },
   {
    "duration": 14,
    "start_time": "2021-09-20T21:47:54.829Z"
   },
   {
    "duration": 31,
    "start_time": "2021-09-20T21:47:54.845Z"
   },
   {
    "duration": 40,
    "start_time": "2021-09-20T21:47:54.879Z"
   },
   {
    "duration": 7,
    "start_time": "2021-09-20T21:47:54.923Z"
   }
  ],
  "kernelspec": {
   "display_name": "Python 3",
   "language": "python",
   "name": "python3"
  },
  "language_info": {
   "codemirror_mode": {
    "name": "ipython",
    "version": 3
   },
   "file_extension": ".py",
   "mimetype": "text/x-python",
   "name": "python",
   "nbconvert_exporter": "python",
   "pygments_lexer": "ipython3",
   "version": "3.8.8"
  },
  "toc": {
   "base_numbering": 1,
   "nav_menu": {
    "height": "220px",
    "width": "241px"
   },
   "number_sections": true,
   "sideBar": true,
   "skip_h1_title": true,
   "title_cell": "Содержание",
   "title_sidebar": "Contents",
   "toc_cell": true,
   "toc_position": {
    "height": "798px",
    "left": "49px",
    "top": "143px",
    "width": "363px"
   },
   "toc_section_display": true,
   "toc_window_display": false
  }
 },
 "nbformat": 4,
 "nbformat_minor": 5
}
