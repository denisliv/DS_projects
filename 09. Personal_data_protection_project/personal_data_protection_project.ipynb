{
 "cells": [
  {
   "cell_type": "markdown",
   "id": "e389bbb7",
   "metadata": {
    "toc": true
   },
   "source": [
    "<h1>Содержание<span class=\"tocSkip\"></span></h1>\n",
    "<div class=\"toc\"><ul class=\"toc-item\"><li><span><a href=\"#Первичный-анализ-данных\" data-toc-modified-id=\"Первичный-анализ-данных-1\"><span class=\"toc-item-num\">1&nbsp;&nbsp;</span>Первичный анализ данных</a></span></li><li><span><a href=\"#Предобработка-данных\" data-toc-modified-id=\"Предобработка-данных-2\"><span class=\"toc-item-num\">2&nbsp;&nbsp;</span>Предобработка данных</a></span></li><li><span><a href=\"#Умножение-матриц\" data-toc-modified-id=\"Умножение-матриц-3\"><span class=\"toc-item-num\">3&nbsp;&nbsp;</span>Умножение матриц</a></span></li><li><span><a href=\"#Алгоритм-преобразования\" data-toc-modified-id=\"Алгоритм-преобразования-4\"><span class=\"toc-item-num\">4&nbsp;&nbsp;</span>Алгоритм преобразования</a></span></li><li><span><a href=\"#Проверка-алгоритма\" data-toc-modified-id=\"Проверка-алгоритма-5\"><span class=\"toc-item-num\">5&nbsp;&nbsp;</span>Проверка алгоритма</a></span></li><li><span><a href=\"#Общий-вывод\" data-toc-modified-id=\"Общий-вывод-6\"><span class=\"toc-item-num\">6&nbsp;&nbsp;</span>Общий вывод</a></span></li></ul></div>"
   ]
  },
  {
   "cell_type": "markdown",
   "id": "4b2ff707",
   "metadata": {},
   "source": [
    "# Проект: «Защита персональных данных клиентов»"
   ]
  },
  {
   "cell_type": "markdown",
   "id": "2be4fb16",
   "metadata": {},
   "source": [
    "Необходимо защитить данные клиентов страховой компании.\n",
    "\n",
    "**Цели:** \n",
    "\n",
    "1. Разработать метод преобразования данных, чтобы по ним было сложно восстановить персональную информацию.\n",
    "2. Проверить, чтобы при преобразовании качество моделей машинного обучения не ухудшилось.\n",
    "2. Обосновать корректность работы разработанного метода."
   ]
  },
  {
   "cell_type": "markdown",
   "id": "daf32be7",
   "metadata": {},
   "source": [
    "**Описание данных:**\n",
    "- *Признаки:*\n",
    "    - пол;\n",
    "    - возраст;\n",
    "    - зарплата;\n",
    "    - члены семьи.\n",
    "    \n",
    "    \n",
    "- *Целевой признак:*\n",
    "    - страховые выплаты.\n"
   ]
  },
  {
   "cell_type": "markdown",
   "id": "7d810aee",
   "metadata": {},
   "source": [
    "## Первичный анализ данных"
   ]
  },
  {
   "cell_type": "code",
   "execution_count": 1,
   "id": "a2cc0676",
   "metadata": {},
   "outputs": [],
   "source": [
    "import pandas as pd\n",
    "import numpy as np\n",
    "\n",
    "import matplotlib.pyplot as plt\n",
    "import seaborn as sns\n",
    "\n",
    "from sklearn.linear_model import LinearRegression\n",
    "from sklearn.metrics import r2_score\n",
    "\n",
    "%matplotlib inline\n",
    "sns.set_style(\"darkgrid\")"
   ]
  },
  {
   "cell_type": "code",
   "execution_count": 2,
   "id": "66e0560f",
   "metadata": {},
   "outputs": [],
   "source": [
    "try:\n",
    "    df = pd.read_csv('insurance.csv')\n",
    "except FileNotFoundError:\n",
    "    df = pd.read_csv('/datasets/insurance.csv')"
   ]
  },
  {
   "cell_type": "code",
   "execution_count": 3,
   "id": "3fcab918",
   "metadata": {},
   "outputs": [],
   "source": [
    "df.columns = ['gender', 'age', 'income', 'family', 'insurance_payments']"
   ]
  },
  {
   "cell_type": "code",
   "execution_count": 4,
   "id": "0342e924",
   "metadata": {
    "scrolled": true
   },
   "outputs": [
    {
     "data": {
      "text/html": [
       "<div>\n",
       "<style scoped>\n",
       "    .dataframe tbody tr th:only-of-type {\n",
       "        vertical-align: middle;\n",
       "    }\n",
       "\n",
       "    .dataframe tbody tr th {\n",
       "        vertical-align: top;\n",
       "    }\n",
       "\n",
       "    .dataframe thead th {\n",
       "        text-align: right;\n",
       "    }\n",
       "</style>\n",
       "<table border=\"1\" class=\"dataframe\">\n",
       "  <thead>\n",
       "    <tr style=\"text-align: right;\">\n",
       "      <th></th>\n",
       "      <th>gender</th>\n",
       "      <th>age</th>\n",
       "      <th>income</th>\n",
       "      <th>family</th>\n",
       "      <th>insurance_payments</th>\n",
       "    </tr>\n",
       "  </thead>\n",
       "  <tbody>\n",
       "    <tr>\n",
       "      <td>0</td>\n",
       "      <td>1</td>\n",
       "      <td>41.0</td>\n",
       "      <td>49600.0</td>\n",
       "      <td>1</td>\n",
       "      <td>0</td>\n",
       "    </tr>\n",
       "    <tr>\n",
       "      <td>1</td>\n",
       "      <td>0</td>\n",
       "      <td>46.0</td>\n",
       "      <td>38000.0</td>\n",
       "      <td>1</td>\n",
       "      <td>1</td>\n",
       "    </tr>\n",
       "    <tr>\n",
       "      <td>2</td>\n",
       "      <td>0</td>\n",
       "      <td>29.0</td>\n",
       "      <td>21000.0</td>\n",
       "      <td>0</td>\n",
       "      <td>0</td>\n",
       "    </tr>\n",
       "    <tr>\n",
       "      <td>3</td>\n",
       "      <td>0</td>\n",
       "      <td>21.0</td>\n",
       "      <td>41700.0</td>\n",
       "      <td>2</td>\n",
       "      <td>0</td>\n",
       "    </tr>\n",
       "    <tr>\n",
       "      <td>4</td>\n",
       "      <td>1</td>\n",
       "      <td>28.0</td>\n",
       "      <td>26100.0</td>\n",
       "      <td>0</td>\n",
       "      <td>0</td>\n",
       "    </tr>\n",
       "    <tr>\n",
       "      <td>5</td>\n",
       "      <td>1</td>\n",
       "      <td>43.0</td>\n",
       "      <td>41000.0</td>\n",
       "      <td>2</td>\n",
       "      <td>1</td>\n",
       "    </tr>\n",
       "    <tr>\n",
       "      <td>6</td>\n",
       "      <td>1</td>\n",
       "      <td>39.0</td>\n",
       "      <td>39700.0</td>\n",
       "      <td>2</td>\n",
       "      <td>0</td>\n",
       "    </tr>\n",
       "    <tr>\n",
       "      <td>7</td>\n",
       "      <td>1</td>\n",
       "      <td>25.0</td>\n",
       "      <td>38600.0</td>\n",
       "      <td>4</td>\n",
       "      <td>0</td>\n",
       "    </tr>\n",
       "    <tr>\n",
       "      <td>8</td>\n",
       "      <td>1</td>\n",
       "      <td>36.0</td>\n",
       "      <td>49700.0</td>\n",
       "      <td>1</td>\n",
       "      <td>0</td>\n",
       "    </tr>\n",
       "    <tr>\n",
       "      <td>9</td>\n",
       "      <td>1</td>\n",
       "      <td>32.0</td>\n",
       "      <td>51700.0</td>\n",
       "      <td>1</td>\n",
       "      <td>0</td>\n",
       "    </tr>\n",
       "  </tbody>\n",
       "</table>\n",
       "</div>"
      ],
      "text/plain": [
       "   gender   age   income  family  insurance_payments\n",
       "0       1  41.0  49600.0       1                   0\n",
       "1       0  46.0  38000.0       1                   1\n",
       "2       0  29.0  21000.0       0                   0\n",
       "3       0  21.0  41700.0       2                   0\n",
       "4       1  28.0  26100.0       0                   0\n",
       "5       1  43.0  41000.0       2                   1\n",
       "6       1  39.0  39700.0       2                   0\n",
       "7       1  25.0  38600.0       4                   0\n",
       "8       1  36.0  49700.0       1                   0\n",
       "9       1  32.0  51700.0       1                   0"
      ]
     },
     "execution_count": 4,
     "metadata": {},
     "output_type": "execute_result"
    }
   ],
   "source": [
    "df.head(10)"
   ]
  },
  {
   "cell_type": "code",
   "execution_count": 5,
   "id": "699c50e3",
   "metadata": {},
   "outputs": [
    {
     "name": "stdout",
     "output_type": "stream",
     "text": [
      "<class 'pandas.core.frame.DataFrame'>\n",
      "RangeIndex: 5000 entries, 0 to 4999\n",
      "Data columns (total 5 columns):\n",
      "gender                5000 non-null int64\n",
      "age                   5000 non-null float64\n",
      "income                5000 non-null float64\n",
      "family                5000 non-null int64\n",
      "insurance_payments    5000 non-null int64\n",
      "dtypes: float64(2), int64(3)\n",
      "memory usage: 195.4 KB\n"
     ]
    }
   ],
   "source": [
    "df.info(memory_usage='deep')"
   ]
  },
  {
   "cell_type": "code",
   "execution_count": 6,
   "id": "12df75cd",
   "metadata": {},
   "outputs": [
    {
     "name": "stdout",
     "output_type": "stream",
     "text": [
      "Количество дубликатов в датафрейме: 153\n"
     ]
    }
   ],
   "source": [
    "print(f'Количество дубликатов в датафрейме: {df.duplicated().sum()}')"
   ]
  },
  {
   "cell_type": "code",
   "execution_count": 7,
   "id": "93295b60",
   "metadata": {},
   "outputs": [
    {
     "data": {
      "text/html": [
       "<div>\n",
       "<style scoped>\n",
       "    .dataframe tbody tr th:only-of-type {\n",
       "        vertical-align: middle;\n",
       "    }\n",
       "\n",
       "    .dataframe tbody tr th {\n",
       "        vertical-align: top;\n",
       "    }\n",
       "\n",
       "    .dataframe thead th {\n",
       "        text-align: right;\n",
       "    }\n",
       "</style>\n",
       "<table border=\"1\" class=\"dataframe\">\n",
       "  <thead>\n",
       "    <tr style=\"text-align: right;\">\n",
       "      <th></th>\n",
       "      <th>gender</th>\n",
       "      <th>age</th>\n",
       "      <th>income</th>\n",
       "      <th>family</th>\n",
       "      <th>insurance_payments</th>\n",
       "    </tr>\n",
       "  </thead>\n",
       "  <tbody>\n",
       "    <tr>\n",
       "      <td>count</td>\n",
       "      <td>5000.000000</td>\n",
       "      <td>5000.000000</td>\n",
       "      <td>5000.000000</td>\n",
       "      <td>5000.000000</td>\n",
       "      <td>5000.000000</td>\n",
       "    </tr>\n",
       "    <tr>\n",
       "      <td>mean</td>\n",
       "      <td>0.499000</td>\n",
       "      <td>30.952800</td>\n",
       "      <td>39916.360000</td>\n",
       "      <td>1.194200</td>\n",
       "      <td>0.148000</td>\n",
       "    </tr>\n",
       "    <tr>\n",
       "      <td>std</td>\n",
       "      <td>0.500049</td>\n",
       "      <td>8.440807</td>\n",
       "      <td>9900.083569</td>\n",
       "      <td>1.091387</td>\n",
       "      <td>0.463183</td>\n",
       "    </tr>\n",
       "    <tr>\n",
       "      <td>min</td>\n",
       "      <td>0.000000</td>\n",
       "      <td>18.000000</td>\n",
       "      <td>5300.000000</td>\n",
       "      <td>0.000000</td>\n",
       "      <td>0.000000</td>\n",
       "    </tr>\n",
       "    <tr>\n",
       "      <td>25%</td>\n",
       "      <td>0.000000</td>\n",
       "      <td>24.000000</td>\n",
       "      <td>33300.000000</td>\n",
       "      <td>0.000000</td>\n",
       "      <td>0.000000</td>\n",
       "    </tr>\n",
       "    <tr>\n",
       "      <td>50%</td>\n",
       "      <td>0.000000</td>\n",
       "      <td>30.000000</td>\n",
       "      <td>40200.000000</td>\n",
       "      <td>1.000000</td>\n",
       "      <td>0.000000</td>\n",
       "    </tr>\n",
       "    <tr>\n",
       "      <td>75%</td>\n",
       "      <td>1.000000</td>\n",
       "      <td>37.000000</td>\n",
       "      <td>46600.000000</td>\n",
       "      <td>2.000000</td>\n",
       "      <td>0.000000</td>\n",
       "    </tr>\n",
       "    <tr>\n",
       "      <td>max</td>\n",
       "      <td>1.000000</td>\n",
       "      <td>65.000000</td>\n",
       "      <td>79000.000000</td>\n",
       "      <td>6.000000</td>\n",
       "      <td>5.000000</td>\n",
       "    </tr>\n",
       "  </tbody>\n",
       "</table>\n",
       "</div>"
      ],
      "text/plain": [
       "            gender          age        income       family  insurance_payments\n",
       "count  5000.000000  5000.000000   5000.000000  5000.000000         5000.000000\n",
       "mean      0.499000    30.952800  39916.360000     1.194200            0.148000\n",
       "std       0.500049     8.440807   9900.083569     1.091387            0.463183\n",
       "min       0.000000    18.000000   5300.000000     0.000000            0.000000\n",
       "25%       0.000000    24.000000  33300.000000     0.000000            0.000000\n",
       "50%       0.000000    30.000000  40200.000000     1.000000            0.000000\n",
       "75%       1.000000    37.000000  46600.000000     2.000000            0.000000\n",
       "max       1.000000    65.000000  79000.000000     6.000000            5.000000"
      ]
     },
     "execution_count": 7,
     "metadata": {},
     "output_type": "execute_result"
    }
   ],
   "source": [
    "df.describe()"
   ]
  },
  {
   "cell_type": "code",
   "execution_count": 8,
   "id": "d49f7220",
   "metadata": {},
   "outputs": [
    {
     "data": {
      "image/png": "[encoded data removed]",
      "text/plain": [
       "<Figure size 1080x720 with 4 Axes>"
      ]
     },
     "metadata": {},
     "output_type": "display_data"
    }
   ],
   "source": [
    "fig, axs = plt.subplots(2, 2, figsize=(15, 10))\n",
    "\n",
    "sns.histplot(df['age'], bins=len(df['age'].unique()), ax=axs[0, 0], kde=True)\n",
    "sns.histplot(df['income'], ax=axs[0, 1], kde=True)\n",
    "sns.countplot(data = df, x = 'gender', ax=axs[1, 0])\n",
    "sns.countplot(data = df, x = 'family', ax=axs[1, 1])\n",
    "\n",
    "axs[0, 0].set_title('Гистограмма распределения возраста клиентов', fontsize=13)\n",
    "axs[0, 0].set_xlabel('Возраст', fontsize=12)\n",
    "axs[0, 0].set_ylabel('Количество клиентов', fontsize=12)\n",
    "\n",
    "axs[0, 1].set_title('Гистограмма распределения заработной платы клиентов', fontsize=13)\n",
    "axs[0, 1].set_xlabel('Заработная плата', fontsize=12)\n",
    "axs[0, 1].set_ylabel('Количество клиентов', fontsize=12)\n",
    "\n",
    "axs[1, 0].set_title('Распределение клиентов по полу', fontsize=13)\n",
    "axs[1, 0].set_xlabel('Пол', fontsize=12)\n",
    "axs[1, 0].set_ylabel('Количество клиентов', fontsize=12)\n",
    "\n",
    "axs[1, 1].set_title('Распределение клинтов по составу семьи', fontsize=13)\n",
    "axs[1, 1].set_xlabel('Количество членов семьи', fontsize=12)\n",
    "axs[1, 1].set_ylabel('Количество клиентов', fontsize=12)\n",
    "\n",
    "fig.tight_layout();"
   ]
  },
  {
   "cell_type": "markdown",
   "id": "6b5b2d98",
   "metadata": {},
   "source": [
    "**Выводы:**\n",
    "1. Пространство признаков состоит из 4 числовых признаков.\n",
    "2. Исходные данные не содержат пропущенных значений.\n",
    "3. Исходные данные содержат *153* повторяющихся значения.\n",
    "4. Каких-либо аномалий в данных не обнаружено."
   ]
  },
  {
   "cell_type": "markdown",
   "id": "19279d4b",
   "metadata": {},
   "source": [
    "## Предобработка данных"
   ]
  },
  {
   "cell_type": "code",
   "execution_count": 9,
   "id": "0d5250c9",
   "metadata": {},
   "outputs": [],
   "source": [
    "df[['age', 'income']] = df[['age', 'income']].astype('int64')"
   ]
  },
  {
   "cell_type": "code",
   "execution_count": 10,
   "id": "9c8fcf6e",
   "metadata": {},
   "outputs": [
    {
     "name": "stdout",
     "output_type": "stream",
     "text": [
      "<class 'pandas.core.frame.DataFrame'>\n",
      "RangeIndex: 5000 entries, 0 to 4999\n",
      "Data columns (total 5 columns):\n",
      "gender                5000 non-null int64\n",
      "age                   5000 non-null int64\n",
      "income                5000 non-null int64\n",
      "family                5000 non-null int64\n",
      "insurance_payments    5000 non-null int64\n",
      "dtypes: int64(5)\n",
      "memory usage: 195.4 KB\n"
     ]
    }
   ],
   "source": [
    "df.info()"
   ]
  },
  {
   "cell_type": "markdown",
   "id": "329783f8",
   "metadata": {},
   "source": [
    "## Умножение матриц"
   ]
  },
  {
   "cell_type": "markdown",
   "id": "5b784335",
   "metadata": {},
   "source": [
    "**Необходимо:** \n",
    "1. Ответить на вопрос: изменится ли качество линейной регрессии, если признаки умножают на обратимую матрицу? \n",
    "2. Обосновать решение.\n",
    "3. Указать, как связаны параметры линейной регрессии в исходной задаче и в преобразованной."
   ]
  },
  {
   "cell_type": "markdown",
   "id": "d5911d5c",
   "metadata": {},
   "source": [
    "*Линейная регрессия:*\n",
    "\n",
    "Обозначения:\n",
    "\n",
    "- $X$ — матрица признаков (нулевой столбец состоит из единиц) — $m\\times n$\n",
    "\n",
    "- $P$ — случайная обратимая матрица — $n\\times n$\n",
    "\n",
    "- $E$ — единичная матрица\n",
    "\n",
    "- $y$ — вектор целевого признака\n",
    "\n",
    "- $w$ — вектор весов линейной регрессии (нулевой элемент равен сдвигу)\n",
    "\n",
    "Предсказания:\n",
    "\n",
    "$$\n",
    "a = Xw\n",
    "$$\n",
    "\n",
    "Задача обучения:\n",
    "\n",
    "$$\n",
    "w = \\arg\\min_w MSE(Xw, y)\n",
    "$$\n",
    "\n",
    "Формула обучения:\n",
    "\n",
    "$$\n",
    "w = (X^T X)^{-1} X^T y\n",
    "$$"
   ]
  },
  {
   "cell_type": "markdown",
   "id": "878f2560",
   "metadata": {},
   "source": [
    "**Ответ:** \n",
    "\n",
    "При умножении матрицы признаков на случайную обратимую матрицу, качество линейной регресии не изменится."
   ]
  },
  {
   "cell_type": "markdown",
   "id": "1cb96a13",
   "metadata": {},
   "source": [
    "**Обоснование:**"
   ]
  },
  {
   "cell_type": "markdown",
   "id": "e6f8dc15",
   "metadata": {},
   "source": [
    "Представим матрицу признаков в виде произведения исходной матрицы признаков со случайной обратимой матрицей — $XP$, тогда:\n",
    "\n",
    "Предсказания:\n",
    "\n",
    "\n",
    "$$\n",
    "a' = XPw'\n",
    "$$\n",
    "\n",
    "\n",
    "Задача обучения:\n",
    "\n",
    "\n",
    "$$\n",
    "w' = \\arg\\min_w MSE(XPw', y)\n",
    "$$\n",
    "\n",
    "\n",
    "Формула обучения:\n",
    "\n",
    "\n",
    "$$\n",
    "w' = ((XP)^T XP)^{-1} (XP)^T y\n",
    "$$\n",
    "\n",
    "\n",
    "Воспользовавшись свойством транспонированых матриц получаем:\n",
    "\n",
    "\n",
    "$$\n",
    "w' = (P^T X^T XP)^{-1} P^T X^Ty\n",
    "$$\n",
    "\n",
    "\n",
    "Сгруппируем и раскроем скобки:\n",
    "\n",
    "\n",
    "$$\n",
    "w' = P^{-1} (X^T X)^{-1} (P^T)^{-1} P^T X^Ty\n",
    "$$\n",
    "\n",
    "\n",
    "Произведение $(P^T)^{-1}P^T$ образует единичную матрицу, следовательно:\n",
    "\n",
    "$$\n",
    "w' = P^{-1} (X^T X)^{-1} EX^Ty = P^{-1} (X^T X)^{-1} X^Ty\n",
    "$$\n",
    "\n",
    "\n",
    "Так как $(X^T X)^{-1} X^Ty = w$, то отсюда получаем:\n",
    "\n",
    "\n",
    "$$\n",
    "w' = P^{-1}w\n",
    "$$\n",
    "\n",
    "Следовательно формулу для расчета предсказаний можно представить в следующем виде:\n",
    "\n",
    "\n",
    "$$\n",
    "a' = XPw' = XPP^{-1}w\n",
    "$$\n",
    "\n",
    "Произведение $PP^{-1}$ образует единичную матрицу, следовательно:\n",
    "\n",
    "\n",
    "$$\n",
    "a' = XEw = Xw = a\n",
    "$$"
   ]
  },
  {
   "cell_type": "markdown",
   "id": "bfb4d86e",
   "metadata": {},
   "source": [
    "Приведено доказательство того, что предсказания $a'$ для матрицы признаков $X$, умноженных на обратимую матрицу $P$ равны предсказаниям $a$. Следовательно, при умножении матрицы признаков на случайную обратимую матрицу — качество линейной регрессии не изменится.\n",
    "\n",
    "Параметры линейной регрессии в исходной задаче и в преобразованной  связаны следующим образом:\n",
    "\n",
    "$$\n",
    "w' = P^{-1}w\n",
    "$$"
   ]
  },
  {
   "cell_type": "markdown",
   "id": "8cbae4f2",
   "metadata": {},
   "source": [
    "## Алгоритм преобразования"
   ]
  },
  {
   "cell_type": "markdown",
   "id": "26b764fd",
   "metadata": {},
   "source": [
    "**Необходимо** разработать алгоритм преобразования данных для решения поставленной задачи."
   ]
  },
  {
   "cell_type": "code",
   "execution_count": 11,
   "id": "762bfc81",
   "metadata": {},
   "outputs": [],
   "source": [
    "def encoder(features):\n",
    "    \"\"\"функция-преобразователь исходных данных в зашифрованный вид\"\"\"\n",
    "\n",
    "    while True:\n",
    "        random_matrix = np.random.normal(size=(features.shape[1], features.shape[1]))\n",
    "        if np.linalg.det(random_matrix) == 0:\n",
    "            continue\n",
    "        else:\n",
    "            result = features.dot(random_matrix)\n",
    "            key = np.linalg.inv(random_matrix)\n",
    "            break\n",
    "            \n",
    "    return result, key"
   ]
  },
  {
   "cell_type": "markdown",
   "id": "f128929f",
   "metadata": {},
   "source": [
    "## Проверка алгоритма"
   ]
  },
  {
   "cell_type": "code",
   "execution_count": 12,
   "id": "3d941071",
   "metadata": {},
   "outputs": [],
   "source": [
    "features = df.drop('insurance_payments', axis=1)\n",
    "transform_features, key = encoder(features)\n",
    "target = df['insurance_payments']"
   ]
  },
  {
   "cell_type": "code",
   "execution_count": 13,
   "id": "616aad29",
   "metadata": {},
   "outputs": [
    {
     "name": "stdout",
     "output_type": "stream",
     "text": [
      "Коэффициент детерминации или R2 при обучении на исходных признаках — 0.42495\n",
      "Коэффициент детерминации или R2 при обучении на зашифрованных признаках — 0.42495\n"
     ]
    }
   ],
   "source": [
    "r2 = []\n",
    "\n",
    "for x in [features, transform_features]:\n",
    "    model = LinearRegression()\n",
    "    model.fit(x, target)\n",
    "    r2.append(r2_score(target, model.predict(x)))\n",
    "    \n",
    "print(f'Коэффициент детерминации или R2 при обучении на исходных признаках — {round(r2[0], 5)}')\n",
    "print(f'Коэффициент детерминации или R2 при обучении на зашифрованных признаках — {round(r2[1], 5)}')"
   ]
  },
  {
   "cell_type": "markdown",
   "id": "606114cc",
   "metadata": {},
   "source": [
    "**Декодирование признаков**"
   ]
  },
  {
   "cell_type": "code",
   "execution_count": 14,
   "id": "30d4148f",
   "metadata": {},
   "outputs": [
    {
     "data": {
      "text/html": [
       "<div>\n",
       "<style scoped>\n",
       "    .dataframe tbody tr th:only-of-type {\n",
       "        vertical-align: middle;\n",
       "    }\n",
       "\n",
       "    .dataframe tbody tr th {\n",
       "        vertical-align: top;\n",
       "    }\n",
       "\n",
       "    .dataframe thead th {\n",
       "        text-align: right;\n",
       "    }\n",
       "</style>\n",
       "<table border=\"1\" class=\"dataframe\">\n",
       "  <thead>\n",
       "    <tr style=\"text-align: right;\">\n",
       "      <th></th>\n",
       "      <th>gender</th>\n",
       "      <th>age</th>\n",
       "      <th>income</th>\n",
       "      <th>family</th>\n",
       "      <th>insurance_payments</th>\n",
       "    </tr>\n",
       "  </thead>\n",
       "  <tbody>\n",
       "    <tr>\n",
       "      <td>0</td>\n",
       "      <td>1</td>\n",
       "      <td>41</td>\n",
       "      <td>49600</td>\n",
       "      <td>1</td>\n",
       "      <td>0</td>\n",
       "    </tr>\n",
       "    <tr>\n",
       "      <td>1</td>\n",
       "      <td>0</td>\n",
       "      <td>46</td>\n",
       "      <td>38000</td>\n",
       "      <td>1</td>\n",
       "      <td>1</td>\n",
       "    </tr>\n",
       "    <tr>\n",
       "      <td>2</td>\n",
       "      <td>0</td>\n",
       "      <td>29</td>\n",
       "      <td>21000</td>\n",
       "      <td>0</td>\n",
       "      <td>0</td>\n",
       "    </tr>\n",
       "    <tr>\n",
       "      <td>3</td>\n",
       "      <td>0</td>\n",
       "      <td>21</td>\n",
       "      <td>41700</td>\n",
       "      <td>2</td>\n",
       "      <td>0</td>\n",
       "    </tr>\n",
       "    <tr>\n",
       "      <td>4</td>\n",
       "      <td>1</td>\n",
       "      <td>28</td>\n",
       "      <td>26100</td>\n",
       "      <td>0</td>\n",
       "      <td>0</td>\n",
       "    </tr>\n",
       "    <tr>\n",
       "      <td>5</td>\n",
       "      <td>1</td>\n",
       "      <td>43</td>\n",
       "      <td>41000</td>\n",
       "      <td>2</td>\n",
       "      <td>1</td>\n",
       "    </tr>\n",
       "    <tr>\n",
       "      <td>6</td>\n",
       "      <td>1</td>\n",
       "      <td>39</td>\n",
       "      <td>39700</td>\n",
       "      <td>2</td>\n",
       "      <td>0</td>\n",
       "    </tr>\n",
       "    <tr>\n",
       "      <td>7</td>\n",
       "      <td>1</td>\n",
       "      <td>25</td>\n",
       "      <td>38600</td>\n",
       "      <td>4</td>\n",
       "      <td>0</td>\n",
       "    </tr>\n",
       "    <tr>\n",
       "      <td>8</td>\n",
       "      <td>1</td>\n",
       "      <td>36</td>\n",
       "      <td>49700</td>\n",
       "      <td>1</td>\n",
       "      <td>0</td>\n",
       "    </tr>\n",
       "    <tr>\n",
       "      <td>9</td>\n",
       "      <td>1</td>\n",
       "      <td>32</td>\n",
       "      <td>51700</td>\n",
       "      <td>1</td>\n",
       "      <td>0</td>\n",
       "    </tr>\n",
       "  </tbody>\n",
       "</table>\n",
       "</div>"
      ],
      "text/plain": [
       "   gender  age  income  family  insurance_payments\n",
       "0       1   41   49600       1                   0\n",
       "1       0   46   38000       1                   1\n",
       "2       0   29   21000       0                   0\n",
       "3       0   21   41700       2                   0\n",
       "4       1   28   26100       0                   0\n",
       "5       1   43   41000       2                   1\n",
       "6       1   39   39700       2                   0\n",
       "7       1   25   38600       4                   0\n",
       "8       1   36   49700       1                   0\n",
       "9       1   32   51700       1                   0"
      ]
     },
     "execution_count": 14,
     "metadata": {},
     "output_type": "execute_result"
    }
   ],
   "source": [
    "df2 = round(abs(transform_features.dot(key))).join(target)\n",
    "df2.columns = df.columns\n",
    "df2 = df2.astype('int64')\n",
    "df2.head(10)"
   ]
  },
  {
   "cell_type": "markdown",
   "id": "f88d2ab1",
   "metadata": {},
   "source": [
    "## Общий вывод"
   ]
  },
  {
   "cell_type": "markdown",
   "id": "5a742923",
   "metadata": {},
   "source": [
    "Перед нами стояла задача разработать метод преобразования данных клиентов страховой компании, чтобы по ним было сложно восстановить персональную информацию. Обосновать корректность работы разработанного метода.\n",
    "\n",
    "*Полученные результаты:* \n",
    "- при умножении матрицы признаков на случайную обратимую матрицу — качество линейной регрессии не изменяется;\n",
    "- параметры линейной регрессии в исходной задаче и в преобразованной  связаны следующим образом:\n",
    "\n",
    "$$\n",
    "w' = P^{-1}w\n",
    "$$\n",
    "\n",
    "При практической проверке разработанного алгоритма с помощью *LinearRegression* из библиотеки *Sklearn* были полученные следующие значения *R2*:\n",
    "\n",
    "- при обучении на исходных признаках — 0.42495;\n",
    "- при обучении на зашифрованных признаках — 0.42495.\n",
    "\n",
    "С помощью обратной матрицы к использованной случайной матрице алгоритм позволяет полностью дешифровать данные."
   ]
  }
 ],
 "metadata": {
  "kernelspec": {
   "display_name": "Python 3 (ipykernel)",
   "language": "python",
   "name": "python3"
  },
  "language_info": {
   "codemirror_mode": {
    "name": "ipython",
    "version": 3
   },
   "file_extension": ".py",
   "mimetype": "text/x-python",
   "name": "python",
   "nbconvert_exporter": "python",
   "pygments_lexer": "ipython3",
   "version": "3.9.7"
  },
  "toc": {
   "base_numbering": 1,
   "nav_menu": {},
   "number_sections": true,
   "sideBar": true,
   "skip_h1_title": true,
   "title_cell": "Содержание",
   "title_sidebar": "Contents",
   "toc_cell": true,
   "toc_position": {},
   "toc_section_display": true,
   "toc_window_display": false
  }
 },
 "nbformat": 4,
 "nbformat_minor": 5
}
