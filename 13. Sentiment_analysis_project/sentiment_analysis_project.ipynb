{
 "cells": [
  {
   "cell_type": "markdown",
   "id": "833f703e",
   "metadata": {
    "toc": true
   },
   "source": [
    "<h1>Содержание<span class=\"tocSkip\"></span></h1>\n",
    "<div class=\"toc\"><ul class=\"toc-item\"><li><span><a href=\"#Первичный-анализ-данных\" data-toc-modified-id=\"Первичный-анализ-данных-1\"><span class=\"toc-item-num\">1&nbsp;&nbsp;</span>Первичный анализ данных</a></span></li><li><span><a href=\"#Подготовка-данных\" data-toc-modified-id=\"Подготовка-данных-2\"><span class=\"toc-item-num\">2&nbsp;&nbsp;</span>Подготовка данных</a></span><ul class=\"toc-item\"><li><span><a href=\"#Токенизация\" data-toc-modified-id=\"Токенизация-2.1\"><span class=\"toc-item-num\">2.1&nbsp;&nbsp;</span>Токенизация</a></span></li><li><span><a href=\"#Формирование-эмбеддингов\" data-toc-modified-id=\"Формирование-эмбеддингов-2.2\"><span class=\"toc-item-num\">2.2&nbsp;&nbsp;</span>Формирование эмбеддингов</a></span></li><li><span><a href=\"#Сэмплинг\" data-toc-modified-id=\"Сэмплинг-2.3\"><span class=\"toc-item-num\">2.3&nbsp;&nbsp;</span>Сэмплинг</a></span></li></ul></li><li><span><a href=\"#Моделирование\" data-toc-modified-id=\"Моделирование-3\"><span class=\"toc-item-num\">3&nbsp;&nbsp;</span>Моделирование</a></span></li><li><span><a href=\"#Общий-вывод\" data-toc-modified-id=\"Общий-вывод-4\"><span class=\"toc-item-num\">4&nbsp;&nbsp;</span>Общий вывод</a></span></li></ul></div>"
   ]
  },
  {
   "cell_type": "markdown",
   "id": "5aeee161",
   "metadata": {},
   "source": [
    "# Проект: «Классификация тональности комментариев с BERT»"
   ]
  },
  {
   "cell_type": "markdown",
   "id": "a4a06fc1",
   "metadata": {},
   "source": [
    "Интернет-магазин запускает новый сервис. Теперь пользователи могут редактировать и дополнять описания товаров, как в вики-сообществах. То есть клиенты предлагают свои правки и комментируют изменения других. Магазину нужен инструмент, который будет искать токсичные комментарии и отправлять их на модерацию. В нашем распоряжении набор данных с разметкой о токсичности правок.\n",
    "\n",
    "**Цель:**\n",
    "1. Построить модель классифицикации комментариев на позитивные и негативные.\n",
    "2. Необходимое значение метрики качества F1 не меньше 0.75."
   ]
  },
  {
   "cell_type": "markdown",
   "id": "5e0ff0da",
   "metadata": {},
   "source": [
    "**Описание данных:**\n",
    "- `text` — текст комментария\n",
    "- `toxic` — целевой признак"
   ]
  },
  {
   "cell_type": "markdown",
   "id": "d3fa3c26",
   "metadata": {},
   "source": [
    "## Первичный анализ данных"
   ]
  },
  {
   "cell_type": "code",
   "execution_count": 1,
   "id": "50e954fa",
   "metadata": {},
   "outputs": [],
   "source": [
    "import pandas as pd\n",
    "import numpy as np\n",
    "import matplotlib.pyplot as plt\n",
    "import seaborn as sns\n",
    "from tqdm import notebook\n",
    "import time\n",
    "\n",
    "import torch\n",
    "import transformers\n",
    "from transformers import logging\n",
    "\n",
    "from lightgbm import LGBMClassifier\n",
    "from catboost import CatBoostClassifier\n",
    "from sklearn.linear_model import LogisticRegression\n",
    "from sklearn.model_selection import train_test_split\n",
    "from sklearn.utils import shuffle\n",
    "from sklearn.metrics import f1_score\n",
    "\n",
    "from transformers import logging\n",
    "\n",
    "%matplotlib inline\n",
    "sns.set_style(\"darkgrid\")\n",
    "logging.set_verbosity_error()\n",
    "random_seed = 17"
   ]
  },
  {
   "cell_type": "code",
   "execution_count": 2,
   "id": "64f14515",
   "metadata": {},
   "outputs": [],
   "source": [
    "try:\n",
    "    df = pd.read_csv('toxic_comments.csv')\n",
    "except FileNotFoundError:\n",
    "    df = pd.read_csv('/datasets/toxic_comments.csv')"
   ]
  },
  {
   "cell_type": "code",
   "execution_count": 3,
   "id": "aef0c32f",
   "metadata": {},
   "outputs": [
    {
     "data": {
      "text/html": [
       "<div>\n",
       "<style scoped>\n",
       "    .dataframe tbody tr th:only-of-type {\n",
       "        vertical-align: middle;\n",
       "    }\n",
       "\n",
       "    .dataframe tbody tr th {\n",
       "        vertical-align: top;\n",
       "    }\n",
       "\n",
       "    .dataframe thead th {\n",
       "        text-align: right;\n",
       "    }\n",
       "</style>\n",
       "<table border=\"1\" class=\"dataframe\">\n",
       "  <thead>\n",
       "    <tr style=\"text-align: right;\">\n",
       "      <th></th>\n",
       "      <th>text</th>\n",
       "      <th>toxic</th>\n",
       "    </tr>\n",
       "  </thead>\n",
       "  <tbody>\n",
       "    <tr>\n",
       "      <th>0</th>\n",
       "      <td>Explanation\\nWhy the edits made under my usern...</td>\n",
       "      <td>0</td>\n",
       "    </tr>\n",
       "    <tr>\n",
       "      <th>1</th>\n",
       "      <td>D'aww! He matches this background colour I'm s...</td>\n",
       "      <td>0</td>\n",
       "    </tr>\n",
       "    <tr>\n",
       "      <th>2</th>\n",
       "      <td>Hey man, I'm really not trying to edit war. It...</td>\n",
       "      <td>0</td>\n",
       "    </tr>\n",
       "    <tr>\n",
       "      <th>3</th>\n",
       "      <td>\"\\nMore\\nI can't make any real suggestions on ...</td>\n",
       "      <td>0</td>\n",
       "    </tr>\n",
       "    <tr>\n",
       "      <th>4</th>\n",
       "      <td>You, sir, are my hero. Any chance you remember...</td>\n",
       "      <td>0</td>\n",
       "    </tr>\n",
       "    <tr>\n",
       "      <th>5</th>\n",
       "      <td>\"\\n\\nCongratulations from me as well, use the ...</td>\n",
       "      <td>0</td>\n",
       "    </tr>\n",
       "    <tr>\n",
       "      <th>6</th>\n",
       "      <td>COCKSUCKER BEFORE YOU PISS AROUND ON MY WORK</td>\n",
       "      <td>1</td>\n",
       "    </tr>\n",
       "    <tr>\n",
       "      <th>7</th>\n",
       "      <td>Your vandalism to the Matt Shirvington article...</td>\n",
       "      <td>0</td>\n",
       "    </tr>\n",
       "    <tr>\n",
       "      <th>8</th>\n",
       "      <td>Sorry if the word 'nonsense' was offensive to ...</td>\n",
       "      <td>0</td>\n",
       "    </tr>\n",
       "    <tr>\n",
       "      <th>9</th>\n",
       "      <td>alignment on this subject and which are contra...</td>\n",
       "      <td>0</td>\n",
       "    </tr>\n",
       "  </tbody>\n",
       "</table>\n",
       "</div>"
      ],
      "text/plain": [
       "                                                text  toxic\n",
       "0  Explanation\\nWhy the edits made under my usern...      0\n",
       "1  D'aww! He matches this background colour I'm s...      0\n",
       "2  Hey man, I'm really not trying to edit war. It...      0\n",
       "3  \"\\nMore\\nI can't make any real suggestions on ...      0\n",
       "4  You, sir, are my hero. Any chance you remember...      0\n",
       "5  \"\\n\\nCongratulations from me as well, use the ...      0\n",
       "6       COCKSUCKER BEFORE YOU PISS AROUND ON MY WORK      1\n",
       "7  Your vandalism to the Matt Shirvington article...      0\n",
       "8  Sorry if the word 'nonsense' was offensive to ...      0\n",
       "9  alignment on this subject and which are contra...      0"
      ]
     },
     "execution_count": 3,
     "metadata": {},
     "output_type": "execute_result"
    }
   ],
   "source": [
    "df.head(10)"
   ]
  },
  {
   "cell_type": "code",
   "execution_count": 4,
   "id": "d8130349",
   "metadata": {},
   "outputs": [
    {
     "name": "stdout",
     "output_type": "stream",
     "text": [
      "<class 'pandas.core.frame.DataFrame'>\n",
      "RangeIndex: 159571 entries, 0 to 159570\n",
      "Data columns (total 2 columns):\n",
      " #   Column  Non-Null Count   Dtype \n",
      "---  ------  --------------   ----- \n",
      " 0   text    159571 non-null  object\n",
      " 1   toxic   159571 non-null  int64 \n",
      "dtypes: int64(1), object(1)\n",
      "memory usage: 80.1 MB\n"
     ]
    }
   ],
   "source": [
    "df.info(memory_usage='deep')"
   ]
  },
  {
   "cell_type": "code",
   "execution_count": 5,
   "id": "c7f6cd57",
   "metadata": {},
   "outputs": [
    {
     "name": "stdout",
     "output_type": "stream",
     "text": [
      "Количество дубликатов: 0\n"
     ]
    }
   ],
   "source": [
    "print(f'Количество дубликатов: {df.duplicated().sum()}')"
   ]
  },
  {
   "cell_type": "code",
   "execution_count": 6,
   "id": "ea939d5f",
   "metadata": {},
   "outputs": [
    {
     "data": {
      "image/png": "[encoded data removed]",
      "text/plain": [
       "<Figure size 864x432 with 1 Axes>"
      ]
     },
     "metadata": {},
     "output_type": "display_data"
    }
   ],
   "source": [
    "fig, axes = plt.subplots(1, 1, figsize=(12, 6))\n",
    "ax = sns.countplot(x=df['toxic'])\n",
    "for i, j in enumerate(df['toxic'].value_counts()):\n",
    "    ax.text(i, j+1000, \n",
    "            f\"{round(df['toxic'].value_counts()[i]/df['toxic'].shape[0]*100, 2)} %\", \n",
    "            horizontalalignment='center', fontsize=13)\n",
    "    \n",
    "ax.set_title('Распределение позитивных и негатиных комментариев', fontsize=14)\n",
    "ax.set_xlabel('')\n",
    "ax.set_ylabel('Количество', fontsize=12);"
   ]
  },
  {
   "cell_type": "markdown",
   "id": "f41d991f",
   "metadata": {},
   "source": [
    "**Выводы:**\n",
    "1. Исследуемый набор данных содержит *159571* комментариев с разметкой о токсичности правок.\n",
    "2. Обнаружено, что классы несбалансированны. Доля положительного класса с меткой 1 — 0.1017."
   ]
  },
  {
   "cell_type": "markdown",
   "id": "4f5b6445",
   "metadata": {},
   "source": [
    "## Подготовка данных"
   ]
  },
  {
   "cell_type": "markdown",
   "id": "28442a63",
   "metadata": {},
   "source": [
    "### Токенизация"
   ]
  },
  {
   "cell_type": "markdown",
   "id": "a4eb0366",
   "metadata": {},
   "source": [
    "С целью подготовки признаков для бинарной классификации комментариев воспользуемся уже предобученной моделью *DistilBert* для английского языка — distilbert-base-uncased."
   ]
  },
  {
   "cell_type": "code",
   "execution_count": 7,
   "id": "a2f5ac9e",
   "metadata": {},
   "outputs": [],
   "source": [
    "tokenizer = transformers.DistilBertTokenizer.from_pretrained(\n",
    "            'distilbert-base-uncased',\n",
    "            do_lower_case=True)"
   ]
  },
  {
   "cell_type": "code",
   "execution_count": 8,
   "id": "af0ee84b",
   "metadata": {},
   "outputs": [],
   "source": [
    "tokenized = df['text'].apply(lambda x: tokenizer.encode(x, add_special_tokens=True, max_length=512, truncation=True))\n",
    "\n",
    "max_len = len(max(tokenized.values, key=len))\n",
    "padded = np.array([i + [0]*(max_len - len(i)) for i in tokenized.values])\n",
    "attention_mask = np.where(padded != 0, 1, 0)"
   ]
  },
  {
   "cell_type": "markdown",
   "id": "517c9a61",
   "metadata": {},
   "source": [
    "### Формирование эмбеддингов"
   ]
  },
  {
   "cell_type": "code",
   "execution_count": 9,
   "id": "4b998fb8",
   "metadata": {},
   "outputs": [
    {
     "name": "stdout",
     "output_type": "stream",
     "text": [
      "There are 1 GPU(s) available.\n",
      "We will use the GPU: GeForce GTX 1650\n"
     ]
    }
   ],
   "source": [
    "if torch.cuda.is_available():           \n",
    "    device = torch.device(\"cuda\")    \n",
    "    print(f'There are {torch.cuda.device_count()} GPU(s) available.')  \n",
    "    print(f'We will use the GPU: {torch.cuda.get_device_name(0)}')\n",
    "    \n",
    "else:\n",
    "    print('No GPU available, using the CPU instead.')\n",
    "    device = torch.device(\"cpu\")"
   ]
  },
  {
   "cell_type": "code",
   "execution_count": 10,
   "id": "dc296517",
   "metadata": {},
   "outputs": [
    {
     "data": {
      "application/vnd.jupyter.widget-view+json": {
       "model_id": "5688ce5722ba40d38c6f0b7155b2ccd2",
       "version_major": 2,
       "version_minor": 0
      },
      "text/plain": [
       "  0%|          | 0/3191 [00:00<?, ?it/s]"
      ]
     },
     "metadata": {},
     "output_type": "display_data"
    }
   ],
   "source": [
    "model = transformers.DistilBertModel.from_pretrained('distilbert-base-uncased', \n",
    "                                                      num_labels=2, \n",
    "                                                      output_attentions=False, \n",
    "                                                      output_hidden_states=False)\n",
    "\n",
    "model = model.cuda()\n",
    "\n",
    "\n",
    "batch_size = 50\n",
    "embeddings = []\n",
    "\n",
    "for i in notebook.tqdm(range(padded.shape[0] // batch_size)):\n",
    "    batch = torch.cuda.LongTensor(padded[batch_size*i:batch_size*(i+1)])\n",
    "    attention_mask_batch = torch.cuda.LongTensor(attention_mask[batch_size*i:batch_size*(i+1)])\n",
    "    \n",
    "    with torch.no_grad():\n",
    "        batch_embeddings = model(batch, attention_mask=attention_mask_batch)\n",
    "        \n",
    "    embeddings.append(batch_embeddings[0][:,0,:].cpu().numpy())\n",
    "    \n",
    "    torch.cuda.empty_cache()"
   ]
  },
  {
   "cell_type": "markdown",
   "id": "ec1c25df",
   "metadata": {},
   "source": [
    "### Сэмплинг"
   ]
  },
  {
   "cell_type": "markdown",
   "id": "753cd7e1",
   "metadata": {},
   "source": [
    "Ребалансировку классов проведем путём уменьшения числа примеров мажоритарного класса (undesampling)."
   ]
  },
  {
   "cell_type": "code",
   "execution_count": 11,
   "id": "466f317c",
   "metadata": {},
   "outputs": [
    {
     "name": "stdout",
     "output_type": "stream",
     "text": [
      "Размер обучающей выборки: 127640 объектов\n",
      "Размер тестовой выборки: 31910 объектов\n"
     ]
    }
   ],
   "source": [
    "features = pd.DataFrame(np.concatenate(embeddings))\n",
    "target = df['toxic'][:features.shape[0]]\n",
    "x_train, x_test, y_train, y_test = train_test_split(features, target, test_size=0.2, random_state=random_seed)\n",
    "print(f'Размер обучающей выборки: {x_train.shape[0]} объектов\\nРазмер тестовой выборки: {x_test.shape[0]} объектов')"
   ]
  },
  {
   "cell_type": "code",
   "execution_count": 12,
   "id": "ff6041f2",
   "metadata": {},
   "outputs": [],
   "source": [
    "def downsample(features, target, fraction):\n",
    "    \n",
    "    features_zeros = features[target == 0]\n",
    "    features_ones = features[target == 1]\n",
    "    target_zeros = target[target == 0]\n",
    "    target_ones = target[target == 1]\n",
    "    \n",
    "    features_downsampled = pd.concat([features_zeros.sample(frac=fraction, random_state=random_seed)] + [features_ones])\n",
    "    target_downsampled = pd.concat([target_zeros.sample(frac=fraction, random_state=random_seed)] + [target_ones])\n",
    "    features_downsampled, target_downsampled = shuffle(features_downsampled, target_downsampled, random_state=random_seed)\n",
    "    \n",
    "    return features_downsampled, target_downsampled"
   ]
  },
  {
   "cell_type": "code",
   "execution_count": 13,
   "id": "bfb77055",
   "metadata": {},
   "outputs": [
    {
     "name": "stdout",
     "output_type": "stream",
     "text": [
      "Размер обучающей выборки после сэмплинга: 71031 объектов\n"
     ]
    }
   ],
   "source": [
    "x_train, y_train = downsample(x_train, y_train, y_train.mean()*5)\n",
    "print(f'Размер обучающей выборки после сэмплинга: {x_train.shape[0]} объектов')"
   ]
  },
  {
   "cell_type": "markdown",
   "id": "595f972e",
   "metadata": {},
   "source": [
    "**Выводы:**\n",
    "1. Формирование эмбеддингов в качестве признаков для модели бинарной классификации проведено после токенизации с использованием предварительно обученной модели *DistilBERT*.\n",
    "2. Комментарри имеющие длину токенов, превышающую *512* были обрезаны до данного значения, так как это максимальная длина последовательности для данной модели.\n",
    "3. Проведен сэмплинг с целью уменьшения числа примеров мажоритарного класса."
   ]
  },
  {
   "cell_type": "markdown",
   "id": "7dbb8d79",
   "metadata": {},
   "source": [
    "## Моделирование"
   ]
  },
  {
   "cell_type": "markdown",
   "id": "9a827962",
   "metadata": {},
   "source": [
    "С целью проведения более полного исследования проведем моделирование с использованием следующих алгоритмов классификации: *LogisticRegression*, *LGBMClassifier*, *CatBoostClassifier*. Однако, ввиду ресурсоемкости поставленной задачи откажемся от тюнинга гиперпараметров с помощью GridSearchCV или Optuna."
   ]
  },
  {
   "cell_type": "code",
   "execution_count": 42,
   "id": "5186fc2d",
   "metadata": {},
   "outputs": [],
   "source": [
    "algoritms = [LogisticRegression(random_state=random_seed, \n",
    "                                max_iter=1e5),\n",
    "             \n",
    "            LGBMClassifier(random_state=random_seed, \n",
    "                           n_estimators=1000,\n",
    "                           n_jobs=-1),\n",
    "             \n",
    "             \n",
    "            CatBoostClassifier(random_state=random_seed,\n",
    "                               silent=True,\n",
    "                               iterations=1000,\n",
    "                               loss_function='Logloss',\n",
    "                              )]"
   ]
  },
  {
   "cell_type": "code",
   "execution_count": 43,
   "id": "25196a0f",
   "metadata": {},
   "outputs": [
    {
     "data": {
      "application/vnd.jupyter.widget-view+json": {
       "model_id": "c0491dbc785642e49ba6b477b05b6e80",
       "version_major": 2,
       "version_minor": 0
      },
      "text/plain": [
       "  0%|          | 0/3 [00:00<?, ?it/s]"
      ]
     },
     "metadata": {},
     "output_type": "display_data"
    }
   ],
   "source": [
    "results = pd.DataFrame({'Classifier' : [], \n",
    "                        'Train F1 score' : [], \n",
    "                        'Test F1 score' : [], \n",
    "                        'Learning time, s' : [], \n",
    "                        'Prediction time, s' : []})\n",
    "models_features = {}\n",
    "\n",
    "for algoritm in notebook.tqdm(algoritms):\n",
    "    model = algoritm\n",
    "    name = str(model).split(sep='(')[0]\n",
    "    \n",
    "    start_learning = time.time()\n",
    "    model.fit(x_train, y_train)\n",
    "    train_f1 = f1_score(y_train, model.predict(x_train))\n",
    "    end_learning = time.time()\n",
    "    duration_learning = end_learning - start_learning\n",
    "    \n",
    "    start_predictions = time.time()\n",
    "    test_f1 = f1_score(y_test, model.predict(x_test))\n",
    "    end_predictions = time.time()\n",
    "    duration_prediction = end_predictions - start_predictions\n",
    "    \n",
    "    models_features[name] = model\n",
    "    results = results.append({'Classifier': name, \n",
    "                              'Train F1 score': round(train_f1, 3), \n",
    "                              'Test F1 score': round(test_f1, 3),\n",
    "                              'Learning time, s': round(duration_learning, 3), \n",
    "                              'Prediction time, s': round(duration_prediction, 3)}, ignore_index=True)"
   ]
  },
  {
   "cell_type": "code",
   "execution_count": 44,
   "id": "cec1c858",
   "metadata": {},
   "outputs": [
    {
     "data": {
      "text/html": [
       "<div>\n",
       "<style scoped>\n",
       "    .dataframe tbody tr th:only-of-type {\n",
       "        vertical-align: middle;\n",
       "    }\n",
       "\n",
       "    .dataframe tbody tr th {\n",
       "        vertical-align: top;\n",
       "    }\n",
       "\n",
       "    .dataframe thead th {\n",
       "        text-align: right;\n",
       "    }\n",
       "</style>\n",
       "<table border=\"1\" class=\"dataframe\">\n",
       "  <thead>\n",
       "    <tr style=\"text-align: right;\">\n",
       "      <th></th>\n",
       "      <th>Classifier</th>\n",
       "      <th>Train F1 score</th>\n",
       "      <th>Test F1 score</th>\n",
       "      <th>Learning time, s</th>\n",
       "      <th>Prediction time, s</th>\n",
       "    </tr>\n",
       "  </thead>\n",
       "  <tbody>\n",
       "    <tr>\n",
       "      <th>0</th>\n",
       "      <td>LogisticRegression</td>\n",
       "      <td>0.813</td>\n",
       "      <td>0.753</td>\n",
       "      <td>54.208</td>\n",
       "      <td>0.112</td>\n",
       "    </tr>\n",
       "    <tr>\n",
       "      <th>1</th>\n",
       "      <td>LGBMClassifier</td>\n",
       "      <td>1.000</td>\n",
       "      <td>0.741</td>\n",
       "      <td>89.580</td>\n",
       "      <td>0.658</td>\n",
       "    </tr>\n",
       "    <tr>\n",
       "      <th>2</th>\n",
       "      <td>CatBoostClassifier</td>\n",
       "      <td>0.922</td>\n",
       "      <td>0.741</td>\n",
       "      <td>126.669</td>\n",
       "      <td>0.312</td>\n",
       "    </tr>\n",
       "  </tbody>\n",
       "</table>\n",
       "</div>"
      ],
      "text/plain": [
       "           Classifier  Train F1 score  Test F1 score  Learning time, s  \\\n",
       "0  LogisticRegression           0.813          0.753            54.208   \n",
       "1      LGBMClassifier           1.000          0.741            89.580   \n",
       "2  CatBoostClassifier           0.922          0.741           126.669   \n",
       "\n",
       "   Prediction time, s  \n",
       "0               0.112  \n",
       "1               0.658  \n",
       "2               0.312  "
      ]
     },
     "execution_count": 44,
     "metadata": {},
     "output_type": "execute_result"
    }
   ],
   "source": [
    "results.loc[2, ['Classifier']] = 'CatBoostClassifier'\n",
    "results.sort_values(by='Test F1 score', ascending=False)"
   ]
  },
  {
   "cell_type": "markdown",
   "id": "0b9b0307",
   "metadata": {},
   "source": [
    "**Вывод:**\n",
    "1. Лучшие результаты на тестовой выборке с использованием метрики f1 показала модель *LogisticRegression* с результатом *0.753*.\n",
    "2. Лучшие результаты по времени обучения и предсказания также показала модель *LogisticRegression* с результатами *54.208 с* и *0.112 с*, соответственно."
   ]
  },
  {
   "cell_type": "markdown",
   "id": "1071c45c",
   "metadata": {},
   "source": [
    "## Общий вывод"
   ]
  },
  {
   "cell_type": "markdown",
   "id": "493cf71e",
   "metadata": {},
   "source": [
    "Перед нами стояла задача построить модель классификации, которая разделит комментарии на позитивные и негативные. В дальнейшем модель будет использоваться, чтобы искать токсичные комментарии и отправлять их на модерацию.\n",
    "\n",
    "С целью подготовки признаков для бинарной классификации комментариев была использована уже предобученная модель **DistilBERT** для английского языка — *bert base uncased*. Комментарри имеющие длину токенов, превышающую 512 были обрезаны до данного значения, так как это максимальная длина последовательности для данной модели.\n",
    "\n",
    "Для достижения поставленной цели было изучено и смоделировано 3 алгоритма классификации:\n",
    "\n",
    "- LogisticRegression;\n",
    "- LGBMClassifier;\n",
    "- CatBoostClassifier.\n",
    "\n",
    "Как правило, все исследуемые алгоритмы показывают себя хуже при классификации в условиях несбалансированности классов. С учетом этого был проведен сэмплинг путём уменьшения числа примеров мажоритарного класса (undesampling).\n",
    "\n",
    "В качестве метрики оценки производительности использовалась метрика *f1*.\n",
    "\n",
    "В результате проведенного исследования лучшие результаты *f1* на тестовой выборке показала модель LogisticRegression с результатом *0.753*. Время обучения и предсказания модели составило *54.208 с* и *0.112 с*, соответственно."
   ]
  }
 ],
 "metadata": {
  "kernelspec": {
   "display_name": "Python 3 (ipykernel)",
   "language": "python",
   "name": "python3"
  },
  "language_info": {
   "codemirror_mode": {
    "name": "ipython",
    "version": 3
   },
   "file_extension": ".py",
   "mimetype": "text/x-python",
   "name": "python",
   "nbconvert_exporter": "python",
   "pygments_lexer": "ipython3",
   "version": "3.9.7"
  },
  "toc": {
   "base_numbering": 1,
   "nav_menu": {},
   "number_sections": true,
   "sideBar": true,
   "skip_h1_title": true,
   "title_cell": "Содержание",
   "title_sidebar": "Contents",
   "toc_cell": true,
   "toc_position": {},
   "toc_section_display": true,
   "toc_window_display": false
  }
 },
 "nbformat": 4,
 "nbformat_minor": 5
}
