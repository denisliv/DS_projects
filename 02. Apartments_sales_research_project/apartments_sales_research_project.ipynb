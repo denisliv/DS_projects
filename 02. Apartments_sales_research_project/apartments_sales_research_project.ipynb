{
 "cells": [
  {
   "cell_type": "markdown",
   "id": "123e7c17",
   "metadata": {
    "toc": true
   },
   "source": [
    "<h1>Содержание<span class=\"tocSkip\"></span></h1>\n",
    "<div class=\"toc\"><ul class=\"toc-item\"><li><span><a href=\"#Первичный-анализ-данных\" data-toc-modified-id=\"Первичный-анализ-данных-1\"><span class=\"toc-item-num\">1&nbsp;&nbsp;</span>Первичный анализ данных</a></span></li><li><span><a href=\"#Предобработка-данных\" data-toc-modified-id=\"Предобработка-данных-2\"><span class=\"toc-item-num\">2&nbsp;&nbsp;</span>Предобработка данных</a></span><ul class=\"toc-item\"><li><span><a href=\"#Определение-и-заполнение-пропущенных-значений\" data-toc-modified-id=\"Определение-и-заполнение-пропущенных-значений-2.1\"><span class=\"toc-item-num\">2.1&nbsp;&nbsp;</span>Определение и заполнение пропущенных значений</a></span><ul class=\"toc-item\"><li><span><a href=\"#Столбец-ceiling_height\" data-toc-modified-id=\"Столбец-ceiling_height-2.1.1\"><span class=\"toc-item-num\">2.1.1&nbsp;&nbsp;</span>Столбец ceiling_height</a></span></li><li><span><a href=\"#Столбцы-living_area,-kitchen_area,-balcony\" data-toc-modified-id=\"Столбцы-living_area,-kitchen_area,-balcony-2.1.2\"><span class=\"toc-item-num\">2.1.2&nbsp;&nbsp;</span>Столбцы living_area, kitchen_area, balcony</a></span></li><li><span><a href=\"#Столбец-locality_name\" data-toc-modified-id=\"Столбец-locality_name-2.1.3\"><span class=\"toc-item-num\">2.1.3&nbsp;&nbsp;</span>Столбец locality_name</a></span></li><li><span><a href=\"#Вывод-по-работе-с-пропущенными-значениями\" data-toc-modified-id=\"Вывод-по-работе-с-пропущенными-значениями-2.1.4\"><span class=\"toc-item-num\">2.1.4&nbsp;&nbsp;</span>Вывод по работе с пропущенными значениями</a></span></li></ul></li><li><span><a href=\"#Изменение-типа-данных\" data-toc-modified-id=\"Изменение-типа-данных-2.2\"><span class=\"toc-item-num\">2.2&nbsp;&nbsp;</span>Изменение типа данных</a></span></li><li><span><a href=\"#Добавление-новых-признаков-и-категоризация-данных\" data-toc-modified-id=\"Добавление-новых-признаков-и-категоризация-данных-2.3\"><span class=\"toc-item-num\">2.3&nbsp;&nbsp;</span>Добавление новых признаков и категоризация данных</a></span></li></ul></li><li><span><a href=\"#Исследовательский-анализ-данных\" data-toc-modified-id=\"Исследовательский-анализ-данных-3\"><span class=\"toc-item-num\">3&nbsp;&nbsp;</span>Исследовательский анализ данных</a></span><ul class=\"toc-item\"><li><span><a href=\"#Изучение-параметров:-площадь,-цена,-число-комнат,-высота-потолков\" data-toc-modified-id=\"Изучение-параметров:-площадь,-цена,-число-комнат,-высота-потолков-3.1\"><span class=\"toc-item-num\">3.1&nbsp;&nbsp;</span>Изучение параметров: площадь, цена, число комнат, высота потолков</a></span></li><li><span><a href=\"#Изучение-времени-продажи-квартиры\" data-toc-modified-id=\"Изучение-времени-продажи-квартиры-3.2\"><span class=\"toc-item-num\">3.2&nbsp;&nbsp;</span>Изучение времени продажи квартиры</a></span></li><li><span><a href=\"#Очистка-данных-от-редких-и-выбивающихся-значений\" data-toc-modified-id=\"Очистка-данных-от-редких-и-выбивающихся-значений-3.3\"><span class=\"toc-item-num\">3.3&nbsp;&nbsp;</span>Очистка данных от редких и выбивающихся значений</a></span></li><li><span><a href=\"#Определение-факторов-больше-всего-влияющих-на-стоимость-квартиры\" data-toc-modified-id=\"Определение-факторов-больше-всего-влияющих-на-стоимость-квартиры-3.4\"><span class=\"toc-item-num\">3.4&nbsp;&nbsp;</span>Определение факторов больше всего влияющих на стоимость квартиры</a></span></li><li><span><a href=\"#Определение-населённых-пунктов-с-наибольшим-количеством-предложений\" data-toc-modified-id=\"Определение-населённых-пунктов-с-наибольшим-количеством-предложений-3.5\"><span class=\"toc-item-num\">3.5&nbsp;&nbsp;</span>Определение населённых пунктов с наибольшим количеством предложений</a></span></li><li><span><a href=\"#Определение-зависимости-цены-от-удаленности-от-центра-в-городе-Санкт-Петербург\" data-toc-modified-id=\"Определение-зависимости-цены-от-удаленности-от-центра-в-городе-Санкт-Петербург-3.6\"><span class=\"toc-item-num\">3.6&nbsp;&nbsp;</span>Определение зависимости цены от удаленности от центра в городе Санкт-Петербург</a></span></li><li><span><a href=\"#Исследовательский-анализ-данных-по-квартирам-в-центре-Санкт-Петербурга\" data-toc-modified-id=\"Исследовательский-анализ-данных-по-квартирам-в-центре-Санкт-Петербурга-3.7\"><span class=\"toc-item-num\">3.7&nbsp;&nbsp;</span>Исследовательский анализ данных по квартирам в центре Санкт-Петербурга</a></span><ul class=\"toc-item\"><li><span><a href=\"#Определение-факторов-больше-всего-влияющих-на-стоимость-квартиры\" data-toc-modified-id=\"Определение-факторов-больше-всего-влияющих-на-стоимость-квартиры-3.7.1\"><span class=\"toc-item-num\">3.7.1&nbsp;&nbsp;</span>Определение факторов больше всего влияющих на стоимость квартиры</a></span></li><li><span><a href=\"#Результаты\" data-toc-modified-id=\"Результаты-3.7.2\"><span class=\"toc-item-num\">3.7.2&nbsp;&nbsp;</span>Результаты</a></span></li></ul></li></ul></li><li><span><a href=\"#Общий-вывод\" data-toc-modified-id=\"Общий-вывод-4\"><span class=\"toc-item-num\">4&nbsp;&nbsp;</span>Общий вывод</a></span></li></ul></div>"
   ]
  },
  {
   "cell_type": "markdown",
   "id": "41d0647c",
   "metadata": {},
   "source": [
    "# Проект «Исследование объявлений о продаже квартир»"
   ]
  },
  {
   "cell_type": "markdown",
   "id": "bd8db580",
   "metadata": {},
   "source": [
    "В нашем распоряжении данные сервиса Яндекс.Недвижимость — архив объявлений о продаже квартир в Санкт-Петербурге и соседних населённых пунктах за несколько лет. Нужно научиться определять рыночную стоимость объектов недвижимости. Задача — установить параметры. Это позволит построить автоматизированную систему: она отследит аномалии и мошенническую деятельность."
   ]
  },
  {
   "cell_type": "markdown",
   "id": "451eb3cc",
   "metadata": {},
   "source": [
    "**Цели:**\n",
    "\n",
    "- Изучить следующие параметры: площадь, цена, число комнат, высота потолков.\n",
    "- Изучить время продажи квартиры. Выявить среднее/медианное время необходимое для продажи.\n",
    "- Очистить данные от редких и выбивающихся значений.\n",
    "- Определить факторы больше всего влияющие на стоимость квартиры.\n",
    "- Определить 10 населённых пунктов с наибольшим числом объявлений. Посчитать среднюю цену квадратного метра в этих населённых пунктах. Выделить среди них населённые пункты с самой высокой и низкой стоимостью жилья.\n",
    "- Изучить квартиры в Санкт-Петербурге и выяснить, какая область входит в центр города. Определить, как цена зависит от удалённости от центра.\n",
    "- Выделить сегмент квартир в центре города. Проанализировать данную территорию и изучить следующие параметры: площадь, цена, число комнат, высота потолков. Также определить факторы, которые влияют на стоимость квартиры. Определить отличаются ли выводы по данному сегменту квартир от общих выводов по всему городу."
   ]
  },
  {
   "cell_type": "markdown",
   "id": "45875d37",
   "metadata": {},
   "source": [
    "**Описание данных:**\n",
    "\n",
    "- airports_nearest — расстояние до ближайшего аэропорта в метрах (м)\n",
    "- balcony — число балконов\n",
    "- ceiling_height — высота потолков (м)\n",
    "- cityCenters_nearest — расстояние до центра города (м)\n",
    "- days_exposition — сколько дней было размещено объявление (от публикации до снятия)\n",
    "- first_day_exposition — дата публикации\n",
    "- floor — этаж\n",
    "- floors_total — всего этажей в доме\n",
    "- is_apartment — апартаменты (булев тип)\n",
    "- kitchen_area — площадь кухни в квадратных метрах (м²)\n",
    "- last_price — цена на момент снятия с публикации\n",
    "- living_area — жилая площадь в квадратных метрах (м²)\n",
    "- locality_name — название населённого пункта\n",
    "- open_plan — свободная планировка (булев тип)\n",
    "- parks_around3000 — число парков в радиусе 3 км\n",
    "- parks_nearest — расстояние до ближайшего парка (м)\n",
    "- ponds_around3000 — число водоёмов в радиусе 3 км\n",
    "- ponds_nearest — расстояние до ближайшего водоёма (м)\n",
    "- rooms — число комнат\n",
    "- studio — квартира-студия (булев тип)\n",
    "- total_area — площадь квартиры в квадратных метрах (м²)\n",
    "- total_images — число фотографий квартиры в объявлении"
   ]
  },
  {
   "cell_type": "markdown",
   "id": "2b7192a3",
   "metadata": {},
   "source": [
    "## Первичный анализ данных"
   ]
  },
  {
   "cell_type": "code",
   "execution_count": 1,
   "id": "aa4f1638",
   "metadata": {},
   "outputs": [],
   "source": [
    "import pandas as pd\n",
    "import matplotlib.pyplot as plt\n",
    "import seaborn as sns\n",
    "import numpy as np\n",
    "\n",
    "%matplotlib inline\n",
    "sns.set_style(\"darkgrid\")\n",
    "pd.options.display.float_format = '{:.2f}'.format"
   ]
  },
  {
   "cell_type": "code",
   "execution_count": 2,
   "id": "3894bd36",
   "metadata": {},
   "outputs": [],
   "source": [
    "df = pd.read_csv('real_estate_data.csv', sep= '\\t')"
   ]
  },
  {
   "cell_type": "code",
   "execution_count": 3,
   "id": "568a1d56",
   "metadata": {},
   "outputs": [
    {
     "data": {
      "text/plain": [
       "Index(['total_images', 'last_price', 'total_area', 'first_day_exposition',\n",
       "       'rooms', 'ceiling_height', 'floors_total', 'living_area', 'floor',\n",
       "       'is_apartment', 'studio', 'open_plan', 'kitchen_area', 'balcony',\n",
       "       'locality_name', 'airports_nearest', 'cityCenters_nearest',\n",
       "       'parks_around3000', 'parks_nearest', 'ponds_around3000',\n",
       "       'ponds_nearest', 'days_exposition'],\n",
       "      dtype='object')"
      ]
     },
     "execution_count": 3,
     "metadata": {},
     "output_type": "execute_result"
    }
   ],
   "source": [
    "df.columns"
   ]
  },
  {
   "cell_type": "markdown",
   "id": "1230c4c8",
   "metadata": {},
   "source": [
    "Переименуем столбец исходной таблицы, не соответствующий стилю `snake_case`.\n",
    "- cityCenters_nearest — city_center_nearest"
   ]
  },
  {
   "cell_type": "code",
   "execution_count": 4,
   "id": "02dbb57c",
   "metadata": {},
   "outputs": [],
   "source": [
    "df = df.rename(columns={'cityCenters_nearest':'city_center_nearest'})"
   ]
  },
  {
   "cell_type": "code",
   "execution_count": 5,
   "id": "8b32b060",
   "metadata": {},
   "outputs": [
    {
     "data": {
      "text/html": [
       "<div>\n",
       "<style scoped>\n",
       "    .dataframe tbody tr th:only-of-type {\n",
       "        vertical-align: middle;\n",
       "    }\n",
       "\n",
       "    .dataframe tbody tr th {\n",
       "        vertical-align: top;\n",
       "    }\n",
       "\n",
       "    .dataframe thead th {\n",
       "        text-align: right;\n",
       "    }\n",
       "</style>\n",
       "<table border=\"1\" class=\"dataframe\">\n",
       "  <thead>\n",
       "    <tr style=\"text-align: right;\">\n",
       "      <th></th>\n",
       "      <th>total_images</th>\n",
       "      <th>last_price</th>\n",
       "      <th>total_area</th>\n",
       "      <th>first_day_exposition</th>\n",
       "      <th>rooms</th>\n",
       "      <th>ceiling_height</th>\n",
       "      <th>floors_total</th>\n",
       "      <th>living_area</th>\n",
       "      <th>floor</th>\n",
       "      <th>is_apartment</th>\n",
       "      <th>...</th>\n",
       "      <th>kitchen_area</th>\n",
       "      <th>balcony</th>\n",
       "      <th>locality_name</th>\n",
       "      <th>airports_nearest</th>\n",
       "      <th>city_center_nearest</th>\n",
       "      <th>parks_around3000</th>\n",
       "      <th>parks_nearest</th>\n",
       "      <th>ponds_around3000</th>\n",
       "      <th>ponds_nearest</th>\n",
       "      <th>days_exposition</th>\n",
       "    </tr>\n",
       "  </thead>\n",
       "  <tbody>\n",
       "    <tr>\n",
       "      <th>0</th>\n",
       "      <td>20</td>\n",
       "      <td>13000000.00</td>\n",
       "      <td>108.00</td>\n",
       "      <td>2019-03-07T00:00:00</td>\n",
       "      <td>3</td>\n",
       "      <td>2.70</td>\n",
       "      <td>16.00</td>\n",
       "      <td>51.00</td>\n",
       "      <td>8</td>\n",
       "      <td>NaN</td>\n",
       "      <td>...</td>\n",
       "      <td>25.00</td>\n",
       "      <td>NaN</td>\n",
       "      <td>Санкт-Петербург</td>\n",
       "      <td>18863.00</td>\n",
       "      <td>16028.00</td>\n",
       "      <td>1.00</td>\n",
       "      <td>482.00</td>\n",
       "      <td>2.00</td>\n",
       "      <td>755.00</td>\n",
       "      <td>NaN</td>\n",
       "    </tr>\n",
       "    <tr>\n",
       "      <th>1</th>\n",
       "      <td>7</td>\n",
       "      <td>3350000.00</td>\n",
       "      <td>40.40</td>\n",
       "      <td>2018-12-04T00:00:00</td>\n",
       "      <td>1</td>\n",
       "      <td>NaN</td>\n",
       "      <td>11.00</td>\n",
       "      <td>18.60</td>\n",
       "      <td>1</td>\n",
       "      <td>NaN</td>\n",
       "      <td>...</td>\n",
       "      <td>11.00</td>\n",
       "      <td>2.00</td>\n",
       "      <td>посёлок Шушары</td>\n",
       "      <td>12817.00</td>\n",
       "      <td>18603.00</td>\n",
       "      <td>0.00</td>\n",
       "      <td>NaN</td>\n",
       "      <td>0.00</td>\n",
       "      <td>NaN</td>\n",
       "      <td>81.00</td>\n",
       "    </tr>\n",
       "    <tr>\n",
       "      <th>2</th>\n",
       "      <td>10</td>\n",
       "      <td>5196000.00</td>\n",
       "      <td>56.00</td>\n",
       "      <td>2015-08-20T00:00:00</td>\n",
       "      <td>2</td>\n",
       "      <td>NaN</td>\n",
       "      <td>5.00</td>\n",
       "      <td>34.30</td>\n",
       "      <td>4</td>\n",
       "      <td>NaN</td>\n",
       "      <td>...</td>\n",
       "      <td>8.30</td>\n",
       "      <td>0.00</td>\n",
       "      <td>Санкт-Петербург</td>\n",
       "      <td>21741.00</td>\n",
       "      <td>13933.00</td>\n",
       "      <td>1.00</td>\n",
       "      <td>90.00</td>\n",
       "      <td>2.00</td>\n",
       "      <td>574.00</td>\n",
       "      <td>558.00</td>\n",
       "    </tr>\n",
       "    <tr>\n",
       "      <th>3</th>\n",
       "      <td>0</td>\n",
       "      <td>64900000.00</td>\n",
       "      <td>159.00</td>\n",
       "      <td>2015-07-24T00:00:00</td>\n",
       "      <td>3</td>\n",
       "      <td>NaN</td>\n",
       "      <td>14.00</td>\n",
       "      <td>NaN</td>\n",
       "      <td>9</td>\n",
       "      <td>NaN</td>\n",
       "      <td>...</td>\n",
       "      <td>NaN</td>\n",
       "      <td>0.00</td>\n",
       "      <td>Санкт-Петербург</td>\n",
       "      <td>28098.00</td>\n",
       "      <td>6800.00</td>\n",
       "      <td>2.00</td>\n",
       "      <td>84.00</td>\n",
       "      <td>3.00</td>\n",
       "      <td>234.00</td>\n",
       "      <td>424.00</td>\n",
       "    </tr>\n",
       "    <tr>\n",
       "      <th>4</th>\n",
       "      <td>2</td>\n",
       "      <td>10000000.00</td>\n",
       "      <td>100.00</td>\n",
       "      <td>2018-06-19T00:00:00</td>\n",
       "      <td>2</td>\n",
       "      <td>3.03</td>\n",
       "      <td>14.00</td>\n",
       "      <td>32.00</td>\n",
       "      <td>13</td>\n",
       "      <td>NaN</td>\n",
       "      <td>...</td>\n",
       "      <td>41.00</td>\n",
       "      <td>NaN</td>\n",
       "      <td>Санкт-Петербург</td>\n",
       "      <td>31856.00</td>\n",
       "      <td>8098.00</td>\n",
       "      <td>2.00</td>\n",
       "      <td>112.00</td>\n",
       "      <td>1.00</td>\n",
       "      <td>48.00</td>\n",
       "      <td>121.00</td>\n",
       "    </tr>\n",
       "    <tr>\n",
       "      <th>5</th>\n",
       "      <td>10</td>\n",
       "      <td>2890000.00</td>\n",
       "      <td>30.40</td>\n",
       "      <td>2018-09-10T00:00:00</td>\n",
       "      <td>1</td>\n",
       "      <td>NaN</td>\n",
       "      <td>12.00</td>\n",
       "      <td>14.40</td>\n",
       "      <td>5</td>\n",
       "      <td>NaN</td>\n",
       "      <td>...</td>\n",
       "      <td>9.10</td>\n",
       "      <td>NaN</td>\n",
       "      <td>городской посёлок Янино-1</td>\n",
       "      <td>NaN</td>\n",
       "      <td>NaN</td>\n",
       "      <td>NaN</td>\n",
       "      <td>NaN</td>\n",
       "      <td>NaN</td>\n",
       "      <td>NaN</td>\n",
       "      <td>55.00</td>\n",
       "    </tr>\n",
       "    <tr>\n",
       "      <th>6</th>\n",
       "      <td>6</td>\n",
       "      <td>3700000.00</td>\n",
       "      <td>37.30</td>\n",
       "      <td>2017-11-02T00:00:00</td>\n",
       "      <td>1</td>\n",
       "      <td>NaN</td>\n",
       "      <td>26.00</td>\n",
       "      <td>10.60</td>\n",
       "      <td>6</td>\n",
       "      <td>NaN</td>\n",
       "      <td>...</td>\n",
       "      <td>14.40</td>\n",
       "      <td>1.00</td>\n",
       "      <td>посёлок Парголово</td>\n",
       "      <td>52996.00</td>\n",
       "      <td>19143.00</td>\n",
       "      <td>0.00</td>\n",
       "      <td>NaN</td>\n",
       "      <td>0.00</td>\n",
       "      <td>NaN</td>\n",
       "      <td>155.00</td>\n",
       "    </tr>\n",
       "    <tr>\n",
       "      <th>7</th>\n",
       "      <td>5</td>\n",
       "      <td>7915000.00</td>\n",
       "      <td>71.60</td>\n",
       "      <td>2019-04-18T00:00:00</td>\n",
       "      <td>2</td>\n",
       "      <td>NaN</td>\n",
       "      <td>24.00</td>\n",
       "      <td>NaN</td>\n",
       "      <td>22</td>\n",
       "      <td>NaN</td>\n",
       "      <td>...</td>\n",
       "      <td>18.90</td>\n",
       "      <td>2.00</td>\n",
       "      <td>Санкт-Петербург</td>\n",
       "      <td>23982.00</td>\n",
       "      <td>11634.00</td>\n",
       "      <td>0.00</td>\n",
       "      <td>NaN</td>\n",
       "      <td>0.00</td>\n",
       "      <td>NaN</td>\n",
       "      <td>NaN</td>\n",
       "    </tr>\n",
       "    <tr>\n",
       "      <th>8</th>\n",
       "      <td>20</td>\n",
       "      <td>2900000.00</td>\n",
       "      <td>33.16</td>\n",
       "      <td>2018-05-23T00:00:00</td>\n",
       "      <td>1</td>\n",
       "      <td>NaN</td>\n",
       "      <td>27.00</td>\n",
       "      <td>15.43</td>\n",
       "      <td>26</td>\n",
       "      <td>NaN</td>\n",
       "      <td>...</td>\n",
       "      <td>8.81</td>\n",
       "      <td>NaN</td>\n",
       "      <td>посёлок Мурино</td>\n",
       "      <td>NaN</td>\n",
       "      <td>NaN</td>\n",
       "      <td>NaN</td>\n",
       "      <td>NaN</td>\n",
       "      <td>NaN</td>\n",
       "      <td>NaN</td>\n",
       "      <td>189.00</td>\n",
       "    </tr>\n",
       "    <tr>\n",
       "      <th>9</th>\n",
       "      <td>18</td>\n",
       "      <td>5400000.00</td>\n",
       "      <td>61.00</td>\n",
       "      <td>2017-02-26T00:00:00</td>\n",
       "      <td>3</td>\n",
       "      <td>2.50</td>\n",
       "      <td>9.00</td>\n",
       "      <td>43.60</td>\n",
       "      <td>7</td>\n",
       "      <td>NaN</td>\n",
       "      <td>...</td>\n",
       "      <td>6.50</td>\n",
       "      <td>2.00</td>\n",
       "      <td>Санкт-Петербург</td>\n",
       "      <td>50898.00</td>\n",
       "      <td>15008.00</td>\n",
       "      <td>0.00</td>\n",
       "      <td>NaN</td>\n",
       "      <td>0.00</td>\n",
       "      <td>NaN</td>\n",
       "      <td>289.00</td>\n",
       "    </tr>\n",
       "  </tbody>\n",
       "</table>\n",
       "<p>10 rows × 22 columns</p>\n",
       "</div>"
      ],
      "text/plain": [
       "   total_images  last_price  total_area first_day_exposition  rooms  \\\n",
       "0            20 13000000.00      108.00  2019-03-07T00:00:00      3   \n",
       "1             7  3350000.00       40.40  2018-12-04T00:00:00      1   \n",
       "2            10  5196000.00       56.00  2015-08-20T00:00:00      2   \n",
       "3             0 64900000.00      159.00  2015-07-24T00:00:00      3   \n",
       "4             2 10000000.00      100.00  2018-06-19T00:00:00      2   \n",
       "5            10  2890000.00       30.40  2018-09-10T00:00:00      1   \n",
       "6             6  3700000.00       37.30  2017-11-02T00:00:00      1   \n",
       "7             5  7915000.00       71.60  2019-04-18T00:00:00      2   \n",
       "8            20  2900000.00       33.16  2018-05-23T00:00:00      1   \n",
       "9            18  5400000.00       61.00  2017-02-26T00:00:00      3   \n",
       "\n",
       "   ceiling_height  floors_total  living_area  floor is_apartment  ...  \\\n",
       "0            2.70         16.00        51.00      8          NaN  ...   \n",
       "1             NaN         11.00        18.60      1          NaN  ...   \n",
       "2             NaN          5.00        34.30      4          NaN  ...   \n",
       "3             NaN         14.00          NaN      9          NaN  ...   \n",
       "4            3.03         14.00        32.00     13          NaN  ...   \n",
       "5             NaN         12.00        14.40      5          NaN  ...   \n",
       "6             NaN         26.00        10.60      6          NaN  ...   \n",
       "7             NaN         24.00          NaN     22          NaN  ...   \n",
       "8             NaN         27.00        15.43     26          NaN  ...   \n",
       "9            2.50          9.00        43.60      7          NaN  ...   \n",
       "\n",
       "   kitchen_area  balcony              locality_name  airports_nearest  \\\n",
       "0         25.00      NaN            Санкт-Петербург          18863.00   \n",
       "1         11.00     2.00             посёлок Шушары          12817.00   \n",
       "2          8.30     0.00            Санкт-Петербург          21741.00   \n",
       "3           NaN     0.00            Санкт-Петербург          28098.00   \n",
       "4         41.00      NaN            Санкт-Петербург          31856.00   \n",
       "5          9.10      NaN  городской посёлок Янино-1               NaN   \n",
       "6         14.40     1.00          посёлок Парголово          52996.00   \n",
       "7         18.90     2.00            Санкт-Петербург          23982.00   \n",
       "8          8.81      NaN             посёлок Мурино               NaN   \n",
       "9          6.50     2.00            Санкт-Петербург          50898.00   \n",
       "\n",
       "  city_center_nearest  parks_around3000  parks_nearest  ponds_around3000  \\\n",
       "0            16028.00              1.00         482.00              2.00   \n",
       "1            18603.00              0.00            NaN              0.00   \n",
       "2            13933.00              1.00          90.00              2.00   \n",
       "3             6800.00              2.00          84.00              3.00   \n",
       "4             8098.00              2.00         112.00              1.00   \n",
       "5                 NaN               NaN            NaN               NaN   \n",
       "6            19143.00              0.00            NaN              0.00   \n",
       "7            11634.00              0.00            NaN              0.00   \n",
       "8                 NaN               NaN            NaN               NaN   \n",
       "9            15008.00              0.00            NaN              0.00   \n",
       "\n",
       "   ponds_nearest  days_exposition  \n",
       "0         755.00              NaN  \n",
       "1            NaN            81.00  \n",
       "2         574.00           558.00  \n",
       "3         234.00           424.00  \n",
       "4          48.00           121.00  \n",
       "5            NaN            55.00  \n",
       "6            NaN           155.00  \n",
       "7            NaN              NaN  \n",
       "8            NaN           189.00  \n",
       "9            NaN           289.00  \n",
       "\n",
       "[10 rows x 22 columns]"
      ]
     },
     "execution_count": 5,
     "metadata": {},
     "output_type": "execute_result"
    }
   ],
   "source": [
    "df.head(10)"
   ]
  },
  {
   "cell_type": "code",
   "execution_count": 6,
   "id": "813aa75e",
   "metadata": {},
   "outputs": [
    {
     "data": {
      "text/html": [
       "<div>\n",
       "<style scoped>\n",
       "    .dataframe tbody tr th:only-of-type {\n",
       "        vertical-align: middle;\n",
       "    }\n",
       "\n",
       "    .dataframe tbody tr th {\n",
       "        vertical-align: top;\n",
       "    }\n",
       "\n",
       "    .dataframe thead th {\n",
       "        text-align: right;\n",
       "    }\n",
       "</style>\n",
       "<table border=\"1\" class=\"dataframe\">\n",
       "  <thead>\n",
       "    <tr style=\"text-align: right;\">\n",
       "      <th></th>\n",
       "      <th>total_images</th>\n",
       "      <th>last_price</th>\n",
       "      <th>total_area</th>\n",
       "      <th>first_day_exposition</th>\n",
       "      <th>rooms</th>\n",
       "      <th>ceiling_height</th>\n",
       "      <th>floors_total</th>\n",
       "      <th>living_area</th>\n",
       "      <th>floor</th>\n",
       "      <th>is_apartment</th>\n",
       "      <th>...</th>\n",
       "      <th>kitchen_area</th>\n",
       "      <th>balcony</th>\n",
       "      <th>locality_name</th>\n",
       "      <th>airports_nearest</th>\n",
       "      <th>city_center_nearest</th>\n",
       "      <th>parks_around3000</th>\n",
       "      <th>parks_nearest</th>\n",
       "      <th>ponds_around3000</th>\n",
       "      <th>ponds_nearest</th>\n",
       "      <th>days_exposition</th>\n",
       "    </tr>\n",
       "  </thead>\n",
       "  <tbody>\n",
       "    <tr>\n",
       "      <th>4330</th>\n",
       "      <td>6</td>\n",
       "      <td>4250000.00</td>\n",
       "      <td>55.10</td>\n",
       "      <td>2017-05-16T00:00:00</td>\n",
       "      <td>3</td>\n",
       "      <td>2.60</td>\n",
       "      <td>5.00</td>\n",
       "      <td>41.00</td>\n",
       "      <td>3</td>\n",
       "      <td>NaN</td>\n",
       "      <td>...</td>\n",
       "      <td>5.50</td>\n",
       "      <td>0.00</td>\n",
       "      <td>Санкт-Петербург</td>\n",
       "      <td>18792.00</td>\n",
       "      <td>13755.00</td>\n",
       "      <td>0.00</td>\n",
       "      <td>NaN</td>\n",
       "      <td>0.00</td>\n",
       "      <td>NaN</td>\n",
       "      <td>179.00</td>\n",
       "    </tr>\n",
       "    <tr>\n",
       "      <th>21215</th>\n",
       "      <td>20</td>\n",
       "      <td>8970000.00</td>\n",
       "      <td>58.90</td>\n",
       "      <td>2017-08-13T00:00:00</td>\n",
       "      <td>2</td>\n",
       "      <td>NaN</td>\n",
       "      <td>19.00</td>\n",
       "      <td>30.30</td>\n",
       "      <td>14</td>\n",
       "      <td>NaN</td>\n",
       "      <td>...</td>\n",
       "      <td>9.40</td>\n",
       "      <td>2.00</td>\n",
       "      <td>Санкт-Петербург</td>\n",
       "      <td>19499.00</td>\n",
       "      <td>4844.00</td>\n",
       "      <td>0.00</td>\n",
       "      <td>NaN</td>\n",
       "      <td>1.00</td>\n",
       "      <td>503.00</td>\n",
       "      <td>19.00</td>\n",
       "    </tr>\n",
       "    <tr>\n",
       "      <th>1358</th>\n",
       "      <td>10</td>\n",
       "      <td>550000.00</td>\n",
       "      <td>27.60</td>\n",
       "      <td>2019-03-06T00:00:00</td>\n",
       "      <td>1</td>\n",
       "      <td>2.50</td>\n",
       "      <td>5.00</td>\n",
       "      <td>17.00</td>\n",
       "      <td>2</td>\n",
       "      <td>NaN</td>\n",
       "      <td>...</td>\n",
       "      <td>6.00</td>\n",
       "      <td>NaN</td>\n",
       "      <td>Сланцы</td>\n",
       "      <td>NaN</td>\n",
       "      <td>NaN</td>\n",
       "      <td>NaN</td>\n",
       "      <td>NaN</td>\n",
       "      <td>NaN</td>\n",
       "      <td>NaN</td>\n",
       "      <td>22.00</td>\n",
       "    </tr>\n",
       "    <tr>\n",
       "      <th>8094</th>\n",
       "      <td>4</td>\n",
       "      <td>11757590.00</td>\n",
       "      <td>77.40</td>\n",
       "      <td>2019-04-09T00:00:00</td>\n",
       "      <td>2</td>\n",
       "      <td>2.75</td>\n",
       "      <td>8.00</td>\n",
       "      <td>15.20</td>\n",
       "      <td>1</td>\n",
       "      <td>NaN</td>\n",
       "      <td>...</td>\n",
       "      <td>NaN</td>\n",
       "      <td>NaN</td>\n",
       "      <td>Санкт-Петербург</td>\n",
       "      <td>39946.00</td>\n",
       "      <td>10720.00</td>\n",
       "      <td>1.00</td>\n",
       "      <td>2102.00</td>\n",
       "      <td>3.00</td>\n",
       "      <td>303.00</td>\n",
       "      <td>NaN</td>\n",
       "    </tr>\n",
       "    <tr>\n",
       "      <th>2557</th>\n",
       "      <td>5</td>\n",
       "      <td>3950000.00</td>\n",
       "      <td>35.50</td>\n",
       "      <td>2018-02-01T00:00:00</td>\n",
       "      <td>1</td>\n",
       "      <td>NaN</td>\n",
       "      <td>14.00</td>\n",
       "      <td>NaN</td>\n",
       "      <td>5</td>\n",
       "      <td>NaN</td>\n",
       "      <td>...</td>\n",
       "      <td>NaN</td>\n",
       "      <td>NaN</td>\n",
       "      <td>Санкт-Петербург</td>\n",
       "      <td>12819.00</td>\n",
       "      <td>12731.00</td>\n",
       "      <td>0.00</td>\n",
       "      <td>NaN</td>\n",
       "      <td>0.00</td>\n",
       "      <td>NaN</td>\n",
       "      <td>246.00</td>\n",
       "    </tr>\n",
       "    <tr>\n",
       "      <th>1734</th>\n",
       "      <td>6</td>\n",
       "      <td>7500000.00</td>\n",
       "      <td>63.00</td>\n",
       "      <td>2017-08-30T00:00:00</td>\n",
       "      <td>2</td>\n",
       "      <td>2.80</td>\n",
       "      <td>15.00</td>\n",
       "      <td>31.00</td>\n",
       "      <td>8</td>\n",
       "      <td>NaN</td>\n",
       "      <td>...</td>\n",
       "      <td>13.00</td>\n",
       "      <td>NaN</td>\n",
       "      <td>Санкт-Петербург</td>\n",
       "      <td>34530.00</td>\n",
       "      <td>14398.00</td>\n",
       "      <td>0.00</td>\n",
       "      <td>NaN</td>\n",
       "      <td>1.00</td>\n",
       "      <td>965.00</td>\n",
       "      <td>167.00</td>\n",
       "    </tr>\n",
       "    <tr>\n",
       "      <th>9697</th>\n",
       "      <td>3</td>\n",
       "      <td>3300000.00</td>\n",
       "      <td>35.40</td>\n",
       "      <td>2017-08-17T00:00:00</td>\n",
       "      <td>1</td>\n",
       "      <td>NaN</td>\n",
       "      <td>18.00</td>\n",
       "      <td>16.20</td>\n",
       "      <td>9</td>\n",
       "      <td>NaN</td>\n",
       "      <td>...</td>\n",
       "      <td>10.00</td>\n",
       "      <td>NaN</td>\n",
       "      <td>посёлок Мурино</td>\n",
       "      <td>NaN</td>\n",
       "      <td>NaN</td>\n",
       "      <td>NaN</td>\n",
       "      <td>NaN</td>\n",
       "      <td>NaN</td>\n",
       "      <td>NaN</td>\n",
       "      <td>155.00</td>\n",
       "    </tr>\n",
       "    <tr>\n",
       "      <th>2811</th>\n",
       "      <td>5</td>\n",
       "      <td>4950000.00</td>\n",
       "      <td>49.00</td>\n",
       "      <td>2015-06-16T00:00:00</td>\n",
       "      <td>2</td>\n",
       "      <td>3.00</td>\n",
       "      <td>6.00</td>\n",
       "      <td>25.50</td>\n",
       "      <td>2</td>\n",
       "      <td>False</td>\n",
       "      <td>...</td>\n",
       "      <td>17.30</td>\n",
       "      <td>0.00</td>\n",
       "      <td>Санкт-Петербург</td>\n",
       "      <td>21678.00</td>\n",
       "      <td>4996.00</td>\n",
       "      <td>1.00</td>\n",
       "      <td>525.00</td>\n",
       "      <td>3.00</td>\n",
       "      <td>516.00</td>\n",
       "      <td>377.00</td>\n",
       "    </tr>\n",
       "    <tr>\n",
       "      <th>23691</th>\n",
       "      <td>11</td>\n",
       "      <td>9470000.00</td>\n",
       "      <td>72.90</td>\n",
       "      <td>2016-10-13T00:00:00</td>\n",
       "      <td>2</td>\n",
       "      <td>2.75</td>\n",
       "      <td>25.00</td>\n",
       "      <td>40.30</td>\n",
       "      <td>7</td>\n",
       "      <td>NaN</td>\n",
       "      <td>...</td>\n",
       "      <td>10.60</td>\n",
       "      <td>1.00</td>\n",
       "      <td>Санкт-Петербург</td>\n",
       "      <td>19424.00</td>\n",
       "      <td>4489.00</td>\n",
       "      <td>0.00</td>\n",
       "      <td>NaN</td>\n",
       "      <td>1.00</td>\n",
       "      <td>806.00</td>\n",
       "      <td>519.00</td>\n",
       "    </tr>\n",
       "    <tr>\n",
       "      <th>937</th>\n",
       "      <td>10</td>\n",
       "      <td>7100000.00</td>\n",
       "      <td>68.00</td>\n",
       "      <td>2018-04-06T00:00:00</td>\n",
       "      <td>3</td>\n",
       "      <td>2.50</td>\n",
       "      <td>10.00</td>\n",
       "      <td>43.10</td>\n",
       "      <td>7</td>\n",
       "      <td>NaN</td>\n",
       "      <td>...</td>\n",
       "      <td>8.20</td>\n",
       "      <td>NaN</td>\n",
       "      <td>Санкт-Петербург</td>\n",
       "      <td>38128.00</td>\n",
       "      <td>13650.00</td>\n",
       "      <td>1.00</td>\n",
       "      <td>310.00</td>\n",
       "      <td>2.00</td>\n",
       "      <td>690.00</td>\n",
       "      <td>41.00</td>\n",
       "    </tr>\n",
       "  </tbody>\n",
       "</table>\n",
       "<p>10 rows × 22 columns</p>\n",
       "</div>"
      ],
      "text/plain": [
       "       total_images  last_price  total_area first_day_exposition  rooms  \\\n",
       "4330              6  4250000.00       55.10  2017-05-16T00:00:00      3   \n",
       "21215            20  8970000.00       58.90  2017-08-13T00:00:00      2   \n",
       "1358             10   550000.00       27.60  2019-03-06T00:00:00      1   \n",
       "8094              4 11757590.00       77.40  2019-04-09T00:00:00      2   \n",
       "2557              5  3950000.00       35.50  2018-02-01T00:00:00      1   \n",
       "1734              6  7500000.00       63.00  2017-08-30T00:00:00      2   \n",
       "9697              3  3300000.00       35.40  2017-08-17T00:00:00      1   \n",
       "2811              5  4950000.00       49.00  2015-06-16T00:00:00      2   \n",
       "23691            11  9470000.00       72.90  2016-10-13T00:00:00      2   \n",
       "937              10  7100000.00       68.00  2018-04-06T00:00:00      3   \n",
       "\n",
       "       ceiling_height  floors_total  living_area  floor is_apartment  ...  \\\n",
       "4330             2.60          5.00        41.00      3          NaN  ...   \n",
       "21215             NaN         19.00        30.30     14          NaN  ...   \n",
       "1358             2.50          5.00        17.00      2          NaN  ...   \n",
       "8094             2.75          8.00        15.20      1          NaN  ...   \n",
       "2557              NaN         14.00          NaN      5          NaN  ...   \n",
       "1734             2.80         15.00        31.00      8          NaN  ...   \n",
       "9697              NaN         18.00        16.20      9          NaN  ...   \n",
       "2811             3.00          6.00        25.50      2        False  ...   \n",
       "23691            2.75         25.00        40.30      7          NaN  ...   \n",
       "937              2.50         10.00        43.10      7          NaN  ...   \n",
       "\n",
       "       kitchen_area  balcony    locality_name  airports_nearest  \\\n",
       "4330           5.50     0.00  Санкт-Петербург          18792.00   \n",
       "21215          9.40     2.00  Санкт-Петербург          19499.00   \n",
       "1358           6.00      NaN           Сланцы               NaN   \n",
       "8094            NaN      NaN  Санкт-Петербург          39946.00   \n",
       "2557            NaN      NaN  Санкт-Петербург          12819.00   \n",
       "1734          13.00      NaN  Санкт-Петербург          34530.00   \n",
       "9697          10.00      NaN   посёлок Мурино               NaN   \n",
       "2811          17.30     0.00  Санкт-Петербург          21678.00   \n",
       "23691         10.60     1.00  Санкт-Петербург          19424.00   \n",
       "937            8.20      NaN  Санкт-Петербург          38128.00   \n",
       "\n",
       "      city_center_nearest  parks_around3000  parks_nearest  ponds_around3000  \\\n",
       "4330             13755.00              0.00            NaN              0.00   \n",
       "21215             4844.00              0.00            NaN              1.00   \n",
       "1358                  NaN               NaN            NaN               NaN   \n",
       "8094             10720.00              1.00        2102.00              3.00   \n",
       "2557             12731.00              0.00            NaN              0.00   \n",
       "1734             14398.00              0.00            NaN              1.00   \n",
       "9697                  NaN               NaN            NaN               NaN   \n",
       "2811              4996.00              1.00         525.00              3.00   \n",
       "23691             4489.00              0.00            NaN              1.00   \n",
       "937              13650.00              1.00         310.00              2.00   \n",
       "\n",
       "       ponds_nearest  days_exposition  \n",
       "4330             NaN           179.00  \n",
       "21215         503.00            19.00  \n",
       "1358             NaN            22.00  \n",
       "8094          303.00              NaN  \n",
       "2557             NaN           246.00  \n",
       "1734          965.00           167.00  \n",
       "9697             NaN           155.00  \n",
       "2811          516.00           377.00  \n",
       "23691         806.00           519.00  \n",
       "937           690.00            41.00  \n",
       "\n",
       "[10 rows x 22 columns]"
      ]
     },
     "execution_count": 6,
     "metadata": {},
     "output_type": "execute_result"
    }
   ],
   "source": [
    "df.sample(10, random_state = 17)"
   ]
  },
  {
   "cell_type": "code",
   "execution_count": 7,
   "id": "1fdd3fe6",
   "metadata": {},
   "outputs": [
    {
     "name": "stdout",
     "output_type": "stream",
     "text": [
      "<class 'pandas.core.frame.DataFrame'>\n",
      "RangeIndex: 23699 entries, 0 to 23698\n",
      "Data columns (total 22 columns):\n",
      " #   Column                Non-Null Count  Dtype  \n",
      "---  ------                --------------  -----  \n",
      " 0   total_images          23699 non-null  int64  \n",
      " 1   last_price            23699 non-null  float64\n",
      " 2   total_area            23699 non-null  float64\n",
      " 3   first_day_exposition  23699 non-null  object \n",
      " 4   rooms                 23699 non-null  int64  \n",
      " 5   ceiling_height        14504 non-null  float64\n",
      " 6   floors_total          23613 non-null  float64\n",
      " 7   living_area           21796 non-null  float64\n",
      " 8   floor                 23699 non-null  int64  \n",
      " 9   is_apartment          2775 non-null   object \n",
      " 10  studio                23699 non-null  bool   \n",
      " 11  open_plan             23699 non-null  bool   \n",
      " 12  kitchen_area          21421 non-null  float64\n",
      " 13  balcony               12180 non-null  float64\n",
      " 14  locality_name         23650 non-null  object \n",
      " 15  airports_nearest      18157 non-null  float64\n",
      " 16  city_center_nearest   18180 non-null  float64\n",
      " 17  parks_around3000      18181 non-null  float64\n",
      " 18  parks_nearest         8079 non-null   float64\n",
      " 19  ponds_around3000      18181 non-null  float64\n",
      " 20  ponds_nearest         9110 non-null   float64\n",
      " 21  days_exposition       20518 non-null  float64\n",
      "dtypes: bool(2), float64(14), int64(3), object(3)\n",
      "memory usage: 8.1 MB\n"
     ]
    }
   ],
   "source": [
    "df.info(memory_usage='deep')"
   ]
  },
  {
   "cell_type": "markdown",
   "id": "0a3ea7ec",
   "metadata": {},
   "source": [
    "Используя метод `info()` получили общую информацию по исследуемому датафрейму и всем его признакам. Стоит отметить, что данный датафрейм имеет 17 количественных (типы *float64*, *int64*), 3 качественных (тип *object*) и 2 логических признака (тип *bool*). \n",
    "\n",
    "Можно отметить следующие проблемные места:\n",
    "1. Тип данных следующих признаков следует изменить с *float64* на *int64* с целью повышения удобочитаемости без потери значимой информации: `last_price`, `floors_total`, `balcony`, `airports_nearest`, `city_center_nearest`, `parks_around3000`, `parks_nearest`, `ponds_around3000`, `ponds_nearest`, `days_exposition`.\n",
    "2. Данные столбца `first_day_exposition`, дата публикации, стоит привести к более удобному для работы типу *datetime64*."
   ]
  },
  {
   "cell_type": "code",
   "execution_count": 8,
   "id": "3a0a5526",
   "metadata": {},
   "outputs": [],
   "source": [
    "def na_structure(data):\n",
    "    isna_result = 0\n",
    "    for i in data.columns:\n",
    "        if data[i].isna().sum() / data.shape[0] * 100 != 0:\n",
    "            isna_result += 1\n",
    "            print(f'Столбец {i} содержит {round(data[i].isna().sum() / data.shape[0] * 100, 1)}% пропущенных значений.')\n",
    "            print()\n",
    "    print(f'Итого {isna_result} столбцов содержат пропущенные значения.')"
   ]
  },
  {
   "cell_type": "code",
   "execution_count": 9,
   "id": "90cfee5f",
   "metadata": {},
   "outputs": [
    {
     "name": "stdout",
     "output_type": "stream",
     "text": [
      "Всего пропущенных значений 101441.\n",
      "\n",
      "Столбец ceiling_height содержит 38.8% пропущенных значений.\n",
      "\n",
      "Столбец floors_total содержит 0.4% пропущенных значений.\n",
      "\n",
      "Столбец living_area содержит 8.0% пропущенных значений.\n",
      "\n",
      "Столбец is_apartment содержит 88.3% пропущенных значений.\n",
      "\n",
      "Столбец kitchen_area содержит 9.6% пропущенных значений.\n",
      "\n",
      "Столбец balcony содержит 48.6% пропущенных значений.\n",
      "\n",
      "Столбец locality_name содержит 0.2% пропущенных значений.\n",
      "\n",
      "Столбец airports_nearest содержит 23.4% пропущенных значений.\n",
      "\n",
      "Столбец city_center_nearest содержит 23.3% пропущенных значений.\n",
      "\n",
      "Столбец parks_around3000 содержит 23.3% пропущенных значений.\n",
      "\n",
      "Столбец parks_nearest содержит 65.9% пропущенных значений.\n",
      "\n",
      "Столбец ponds_around3000 содержит 23.3% пропущенных значений.\n",
      "\n",
      "Столбец ponds_nearest содержит 61.6% пропущенных значений.\n",
      "\n",
      "Столбец days_exposition содержит 13.4% пропущенных значений.\n",
      "\n",
      "Итого 14 столбцов содержат пропущенные значения.\n"
     ]
    }
   ],
   "source": [
    "isna_before = df.isna().sum().sum()\n",
    "print(f'Всего пропущенных значений {isna_before}.')\n",
    "print()\n",
    "na_structure(df)"
   ]
  },
  {
   "cell_type": "markdown",
   "id": "3e740905",
   "metadata": {},
   "source": [
    "Как можно видеть 14 столбцов исходной таблицы содержат пропущенные значения в диапазоне от 0.2 до 88.3 %.\n",
    "1. `ceiling_height` — высота потолков — содержит *38.8%* пропущенных значений. Скорее всего авторы объявлений либо не обладали данной информацией, либо не сочли ее важной. Так как в разные временные периоды застройщики использовали разные типовые проекты жилых домов, что в основном отразилось на количестве этажей, высоте потолков в доме, общей/жилой площади квартир, пропущенные значения данного признака можно заполнить медианным значением в зависимости от количества этажей в доме.\n",
    "2. `floors_total` — всего этажей в доме — содержит *0.4%* пропущенных значений. Пропуски могут быть связанны с тем, что поле количество этажей является необязательным и авторы объявлений его попросту проигнорировали. С учетом небольшого относительного количества пропущенных значений и сложности подбора наиболее вероятного значения для восстановления, стоит оставить строки пустыми.\n",
    "3. `living_area`, `kitchen_area` — жилая площадь, площадь кухни в квадратных метрах  — содержит *8.0%* и *9.6%* пропущенных значений, соответственно. Скорее всего пропуски связанны с сознательным игнорированием авторами объявлений данных полей ввиду того, что в настоящее время в свидетельстве о собственности на жилье указывается только общая площадь. Так как значения данных столбцов являются важными признаками, описывающими жилую недвижимость, можно их заполнить средним значением в разрезе количества комнат и общей площади, ввиду типовой застройки (*см. пункт 1*), с учетом свободной планировки.\n",
    "4. `is_apartment` — апартаменты — содержит *88.3%* пропущенных значений. Большое количество пропусков в данном столбце может быть связанно с самим понятием «апартаменты». Как авторы объявлений, так и целевые покупатели могут не понимать смысла данного термина, либо авторы, обладающие знанием, могут сознательно скрывать информацию, ввиду специфических ограничений в РФ для владельцев апартаментов. Ввиду большого количества пропусков и ограниченности информации, столбец стоит удалить.\n",
    "5. `balcony` — число балконов — содержит *48.6%* пропущенных значений. Скорее всего данное поле не было заполнено, ввиду отсутствия балкона в выставленной на продажу жилой недвижимости. Пропуски стоит заменить на *0*.\n",
    "6. `locality_name` — название населённого пункта — содержит *0.2%* пропущенных значений. Вероятнее всего пропуски связанны с невнимательностью авторов при заполнении полей объявления. Также авторы могли руководствоваться тем, что подают объявление на сервисе Яндекс.Недвижимость в разделе *город Санкт-Петербург*, поэтому не сочли нужным указывать город. Для некоторого количества строк можно заполнить пропуски значением *Санкт-Петербург*, полагаясь на столбец `city_center_nearest`.\n",
    "7. `city_center_nearest`, `airports_nearest` — расстояние до центра города в метрах, расстояние до ближайшего аэропорта в метрах  — содержит *23.3%* и *23.4%* пропущенных значений, соответственно. Так как значений данного признака получены автоматически на основе картографических данных, то скорее всего пропуски связанны с алгоритмом поиска (определенное значение константы — радиус поиска, за пределами которого поиск не происходит). Стоит оставить строки пустыми.\n",
    "8. `parks_nearest`, `ponds_nearest`, `parks_around3000`, `ponds_around3000` — расстояние до ближайшего парка/водоема и число парков/водоемов в радиусе 3 км. Значения данных признаков получены автоматически на основе картографических данных. Малозначащие признаки в контексте данного исследования. Стоит оставить строки пустыми.\n",
    "9. `days_exposition` — сколько дней было размещено объявление — содержит 13.4% пропущенных значений. Данный факт скорее всего связан с тем, что авторы объявлений после успешной продажи недвижимости больше не посещали сервис и не закрыли объявление. Стоит оставить строки пустыми."
   ]
  },
  {
   "cell_type": "code",
   "execution_count": 10,
   "id": "e8f07795",
   "metadata": {},
   "outputs": [
    {
     "name": "stdout",
     "output_type": "stream",
     "text": [
      "Количество дубликатов: 0\n"
     ]
    }
   ],
   "source": [
    "print(f'Количество дубликатов: {df.duplicated().sum()}')"
   ]
  },
  {
   "cell_type": "code",
   "execution_count": 11,
   "id": "f78a5b35",
   "metadata": {},
   "outputs": [
    {
     "data": {
      "text/html": [
       "<div>\n",
       "<style scoped>\n",
       "    .dataframe tbody tr th:only-of-type {\n",
       "        vertical-align: middle;\n",
       "    }\n",
       "\n",
       "    .dataframe tbody tr th {\n",
       "        vertical-align: top;\n",
       "    }\n",
       "\n",
       "    .dataframe thead th {\n",
       "        text-align: right;\n",
       "    }\n",
       "</style>\n",
       "<table border=\"1\" class=\"dataframe\">\n",
       "  <thead>\n",
       "    <tr style=\"text-align: right;\">\n",
       "      <th></th>\n",
       "      <th>total_images</th>\n",
       "      <th>last_price</th>\n",
       "      <th>total_area</th>\n",
       "      <th>rooms</th>\n",
       "      <th>ceiling_height</th>\n",
       "      <th>floors_total</th>\n",
       "      <th>living_area</th>\n",
       "      <th>floor</th>\n",
       "      <th>kitchen_area</th>\n",
       "      <th>balcony</th>\n",
       "      <th>airports_nearest</th>\n",
       "      <th>city_center_nearest</th>\n",
       "      <th>parks_around3000</th>\n",
       "      <th>parks_nearest</th>\n",
       "      <th>ponds_around3000</th>\n",
       "      <th>ponds_nearest</th>\n",
       "      <th>days_exposition</th>\n",
       "    </tr>\n",
       "  </thead>\n",
       "  <tbody>\n",
       "    <tr>\n",
       "      <th>count</th>\n",
       "      <td>23699.00</td>\n",
       "      <td>23699.00</td>\n",
       "      <td>23699.00</td>\n",
       "      <td>23699.00</td>\n",
       "      <td>14504.00</td>\n",
       "      <td>23613.00</td>\n",
       "      <td>21796.00</td>\n",
       "      <td>23699.00</td>\n",
       "      <td>21421.00</td>\n",
       "      <td>12180.00</td>\n",
       "      <td>18157.00</td>\n",
       "      <td>18180.00</td>\n",
       "      <td>18181.00</td>\n",
       "      <td>8079.00</td>\n",
       "      <td>18181.00</td>\n",
       "      <td>9110.00</td>\n",
       "      <td>20518.00</td>\n",
       "    </tr>\n",
       "    <tr>\n",
       "      <th>mean</th>\n",
       "      <td>9.86</td>\n",
       "      <td>6541548.77</td>\n",
       "      <td>60.35</td>\n",
       "      <td>2.07</td>\n",
       "      <td>2.77</td>\n",
       "      <td>10.67</td>\n",
       "      <td>34.46</td>\n",
       "      <td>5.89</td>\n",
       "      <td>10.57</td>\n",
       "      <td>1.15</td>\n",
       "      <td>28793.67</td>\n",
       "      <td>14191.28</td>\n",
       "      <td>0.61</td>\n",
       "      <td>490.80</td>\n",
       "      <td>0.77</td>\n",
       "      <td>517.98</td>\n",
       "      <td>180.89</td>\n",
       "    </tr>\n",
       "    <tr>\n",
       "      <th>std</th>\n",
       "      <td>5.68</td>\n",
       "      <td>10887013.27</td>\n",
       "      <td>35.65</td>\n",
       "      <td>1.08</td>\n",
       "      <td>1.26</td>\n",
       "      <td>6.60</td>\n",
       "      <td>22.03</td>\n",
       "      <td>4.89</td>\n",
       "      <td>5.91</td>\n",
       "      <td>1.07</td>\n",
       "      <td>12630.88</td>\n",
       "      <td>8608.39</td>\n",
       "      <td>0.80</td>\n",
       "      <td>342.32</td>\n",
       "      <td>0.94</td>\n",
       "      <td>277.72</td>\n",
       "      <td>219.73</td>\n",
       "    </tr>\n",
       "    <tr>\n",
       "      <th>min</th>\n",
       "      <td>0.00</td>\n",
       "      <td>12190.00</td>\n",
       "      <td>12.00</td>\n",
       "      <td>0.00</td>\n",
       "      <td>1.00</td>\n",
       "      <td>1.00</td>\n",
       "      <td>2.00</td>\n",
       "      <td>1.00</td>\n",
       "      <td>1.30</td>\n",
       "      <td>0.00</td>\n",
       "      <td>0.00</td>\n",
       "      <td>181.00</td>\n",
       "      <td>0.00</td>\n",
       "      <td>1.00</td>\n",
       "      <td>0.00</td>\n",
       "      <td>13.00</td>\n",
       "      <td>1.00</td>\n",
       "    </tr>\n",
       "    <tr>\n",
       "      <th>25%</th>\n",
       "      <td>6.00</td>\n",
       "      <td>3400000.00</td>\n",
       "      <td>40.00</td>\n",
       "      <td>1.00</td>\n",
       "      <td>2.52</td>\n",
       "      <td>5.00</td>\n",
       "      <td>18.60</td>\n",
       "      <td>2.00</td>\n",
       "      <td>7.00</td>\n",
       "      <td>0.00</td>\n",
       "      <td>18585.00</td>\n",
       "      <td>9238.00</td>\n",
       "      <td>0.00</td>\n",
       "      <td>288.00</td>\n",
       "      <td>0.00</td>\n",
       "      <td>294.00</td>\n",
       "      <td>45.00</td>\n",
       "    </tr>\n",
       "    <tr>\n",
       "      <th>50%</th>\n",
       "      <td>9.00</td>\n",
       "      <td>4650000.00</td>\n",
       "      <td>52.00</td>\n",
       "      <td>2.00</td>\n",
       "      <td>2.65</td>\n",
       "      <td>9.00</td>\n",
       "      <td>30.00</td>\n",
       "      <td>4.00</td>\n",
       "      <td>9.10</td>\n",
       "      <td>1.00</td>\n",
       "      <td>26726.00</td>\n",
       "      <td>13098.50</td>\n",
       "      <td>0.00</td>\n",
       "      <td>455.00</td>\n",
       "      <td>1.00</td>\n",
       "      <td>502.00</td>\n",
       "      <td>95.00</td>\n",
       "    </tr>\n",
       "    <tr>\n",
       "      <th>75%</th>\n",
       "      <td>14.00</td>\n",
       "      <td>6800000.00</td>\n",
       "      <td>69.90</td>\n",
       "      <td>3.00</td>\n",
       "      <td>2.80</td>\n",
       "      <td>16.00</td>\n",
       "      <td>42.30</td>\n",
       "      <td>8.00</td>\n",
       "      <td>12.00</td>\n",
       "      <td>2.00</td>\n",
       "      <td>37273.00</td>\n",
       "      <td>16293.00</td>\n",
       "      <td>1.00</td>\n",
       "      <td>612.00</td>\n",
       "      <td>1.00</td>\n",
       "      <td>729.00</td>\n",
       "      <td>232.00</td>\n",
       "    </tr>\n",
       "    <tr>\n",
       "      <th>max</th>\n",
       "      <td>50.00</td>\n",
       "      <td>763000000.00</td>\n",
       "      <td>900.00</td>\n",
       "      <td>19.00</td>\n",
       "      <td>100.00</td>\n",
       "      <td>60.00</td>\n",
       "      <td>409.70</td>\n",
       "      <td>33.00</td>\n",
       "      <td>112.00</td>\n",
       "      <td>5.00</td>\n",
       "      <td>84869.00</td>\n",
       "      <td>65968.00</td>\n",
       "      <td>3.00</td>\n",
       "      <td>3190.00</td>\n",
       "      <td>3.00</td>\n",
       "      <td>1344.00</td>\n",
       "      <td>1580.00</td>\n",
       "    </tr>\n",
       "  </tbody>\n",
       "</table>\n",
       "</div>"
      ],
      "text/plain": [
       "       total_images   last_price  total_area    rooms  ceiling_height  \\\n",
       "count      23699.00     23699.00    23699.00 23699.00        14504.00   \n",
       "mean           9.86   6541548.77       60.35     2.07            2.77   \n",
       "std            5.68  10887013.27       35.65     1.08            1.26   \n",
       "min            0.00     12190.00       12.00     0.00            1.00   \n",
       "25%            6.00   3400000.00       40.00     1.00            2.52   \n",
       "50%            9.00   4650000.00       52.00     2.00            2.65   \n",
       "75%           14.00   6800000.00       69.90     3.00            2.80   \n",
       "max           50.00 763000000.00      900.00    19.00          100.00   \n",
       "\n",
       "       floors_total  living_area    floor  kitchen_area  balcony  \\\n",
       "count      23613.00     21796.00 23699.00      21421.00 12180.00   \n",
       "mean          10.67        34.46     5.89         10.57     1.15   \n",
       "std            6.60        22.03     4.89          5.91     1.07   \n",
       "min            1.00         2.00     1.00          1.30     0.00   \n",
       "25%            5.00        18.60     2.00          7.00     0.00   \n",
       "50%            9.00        30.00     4.00          9.10     1.00   \n",
       "75%           16.00        42.30     8.00         12.00     2.00   \n",
       "max           60.00       409.70    33.00        112.00     5.00   \n",
       "\n",
       "       airports_nearest  city_center_nearest  parks_around3000  parks_nearest  \\\n",
       "count          18157.00             18180.00          18181.00        8079.00   \n",
       "mean           28793.67             14191.28              0.61         490.80   \n",
       "std            12630.88              8608.39              0.80         342.32   \n",
       "min                0.00               181.00              0.00           1.00   \n",
       "25%            18585.00              9238.00              0.00         288.00   \n",
       "50%            26726.00             13098.50              0.00         455.00   \n",
       "75%            37273.00             16293.00              1.00         612.00   \n",
       "max            84869.00             65968.00              3.00        3190.00   \n",
       "\n",
       "       ponds_around3000  ponds_nearest  days_exposition  \n",
       "count          18181.00        9110.00         20518.00  \n",
       "mean               0.77         517.98           180.89  \n",
       "std                0.94         277.72           219.73  \n",
       "min                0.00          13.00             1.00  \n",
       "25%                0.00         294.00            45.00  \n",
       "50%                1.00         502.00            95.00  \n",
       "75%                1.00         729.00           232.00  \n",
       "max                3.00        1344.00          1580.00  "
      ]
     },
     "execution_count": 11,
     "metadata": {},
     "output_type": "execute_result"
    }
   ],
   "source": [
    "df.describe()"
   ]
  },
  {
   "cell_type": "code",
   "execution_count": 12,
   "id": "09ce4f2e",
   "metadata": {},
   "outputs": [
    {
     "data": {
      "text/html": [
       "<div>\n",
       "<style scoped>\n",
       "    .dataframe tbody tr th:only-of-type {\n",
       "        vertical-align: middle;\n",
       "    }\n",
       "\n",
       "    .dataframe tbody tr th {\n",
       "        vertical-align: top;\n",
       "    }\n",
       "\n",
       "    .dataframe thead th {\n",
       "        text-align: right;\n",
       "    }\n",
       "</style>\n",
       "<table border=\"1\" class=\"dataframe\">\n",
       "  <thead>\n",
       "    <tr style=\"text-align: right;\">\n",
       "      <th></th>\n",
       "      <th>first_day_exposition</th>\n",
       "      <th>is_apartment</th>\n",
       "      <th>studio</th>\n",
       "      <th>open_plan</th>\n",
       "      <th>locality_name</th>\n",
       "    </tr>\n",
       "  </thead>\n",
       "  <tbody>\n",
       "    <tr>\n",
       "      <th>count</th>\n",
       "      <td>23699</td>\n",
       "      <td>2775</td>\n",
       "      <td>23699</td>\n",
       "      <td>23699</td>\n",
       "      <td>23650</td>\n",
       "    </tr>\n",
       "    <tr>\n",
       "      <th>unique</th>\n",
       "      <td>1491</td>\n",
       "      <td>2</td>\n",
       "      <td>2</td>\n",
       "      <td>2</td>\n",
       "      <td>364</td>\n",
       "    </tr>\n",
       "    <tr>\n",
       "      <th>top</th>\n",
       "      <td>2018-02-01T00:00:00</td>\n",
       "      <td>False</td>\n",
       "      <td>False</td>\n",
       "      <td>False</td>\n",
       "      <td>Санкт-Петербург</td>\n",
       "    </tr>\n",
       "    <tr>\n",
       "      <th>freq</th>\n",
       "      <td>368</td>\n",
       "      <td>2725</td>\n",
       "      <td>23550</td>\n",
       "      <td>23632</td>\n",
       "      <td>15721</td>\n",
       "    </tr>\n",
       "  </tbody>\n",
       "</table>\n",
       "</div>"
      ],
      "text/plain": [
       "       first_day_exposition is_apartment studio open_plan    locality_name\n",
       "count                 23699         2775  23699     23699            23650\n",
       "unique                 1491            2      2         2              364\n",
       "top     2018-02-01T00:00:00        False  False     False  Санкт-Петербург\n",
       "freq                    368         2725  23550     23632            15721"
      ]
     },
     "execution_count": 12,
     "metadata": {},
     "output_type": "execute_result"
    }
   ],
   "source": [
    "df.describe(include=['object', 'bool'])"
   ]
  },
  {
   "cell_type": "markdown",
   "id": "55c4d418",
   "metadata": {},
   "source": [
    "Используя метод `describe()` и `describe(include=['object'])` получили описательную статистику данных по всем количественным и качественным признакам датафрейма, соответственно.\n",
    "\n",
    "**Можно отметить следующие проблемные места:**\n",
    "1. Максимальное и минимальное значения в столбце `ceiling_height` *100 м* и *1 м*, соответственно, что не может соответствовать действительности в рамках жилой недвижимости. \n",
    "2. На фоне средних и медианных показателей значительно выделяются максимальные значения в столбцах `total_area`, `rooms`, `living_area`, `kitchen_area`. Однако, не смотря на это, они могут быть правдивыми.\n",
    "3. Минимальное значение в столбце `living_area` *2 м2*, что скорее всего является ошибкой.\n",
    "3. Нулевое значение параметра `rooms`. Данные значения могут быть связанны с объявлениями касательно квартир-студий.\n",
    "3. Нулевое значение параметра `airports_nearest` вызывает интерес."
   ]
  },
  {
   "cell_type": "markdown",
   "id": "1b02773a",
   "metadata": {},
   "source": [
    "**Вывод:** исходная таблица содержит некоторое количество проблемных мест, связанных с типами данных и пропущенными значениями. Также датафрейм содежит значительные выбросы, которые в дальнейшем могут привести к неверным решениям."
   ]
  },
  {
   "cell_type": "markdown",
   "id": "6220e13f",
   "metadata": {},
   "source": [
    "## Предобработка данных"
   ]
  },
  {
   "cell_type": "markdown",
   "id": "556c49c5",
   "metadata": {},
   "source": [
    "### Определение и заполнение пропущенных значений"
   ]
  },
  {
   "cell_type": "markdown",
   "id": "49fc9b4f",
   "metadata": {},
   "source": [
    "#### Столбец ceiling_height"
   ]
  },
  {
   "cell_type": "code",
   "execution_count": 13,
   "id": "4db738aa",
   "metadata": {},
   "outputs": [],
   "source": [
    "df = df.drop('is_apartment', axis=1)"
   ]
  },
  {
   "cell_type": "code",
   "execution_count": 14,
   "id": "55a97e2d",
   "metadata": {},
   "outputs": [
    {
     "data": {
      "text/plain": [
       "floors_total\n",
       "1.00     2.80\n",
       "2.00     2.70\n",
       "3.00     2.80\n",
       "4.00     3.00\n",
       "5.00     2.55\n",
       "6.00     3.00\n",
       "7.00     3.00\n",
       "8.00     2.80\n",
       "9.00     2.55\n",
       "10.00    2.60\n",
       "11.00    2.75\n",
       "12.00    2.65\n",
       "13.00    2.70\n",
       "14.00    2.60\n",
       "15.00    2.70\n",
       "16.00    2.70\n",
       "17.00    2.70\n",
       "18.00    2.70\n",
       "19.00    2.75\n",
       "20.00    2.75\n",
       "21.00    2.70\n",
       "22.00    2.75\n",
       "23.00    2.75\n",
       "24.00    2.75\n",
       "25.00    2.75\n",
       "26.00    2.66\n",
       "27.00    2.70\n",
       "28.00    2.60\n",
       "29.00    2.60\n",
       "33.00     NaN\n",
       "34.00    2.65\n",
       "35.00    2.70\n",
       "36.00   14.85\n",
       "37.00    1.75\n",
       "52.00    2.65\n",
       "60.00    2.88\n",
       "Name: ceiling_height, dtype: float64"
      ]
     },
     "execution_count": 14,
     "metadata": {},
     "output_type": "execute_result"
    }
   ],
   "source": [
    "df.groupby('floors_total')['ceiling_height'].median()"
   ]
  },
  {
   "cell_type": "code",
   "execution_count": 15,
   "id": "ca4bab2f",
   "metadata": {},
   "outputs": [
    {
     "data": {
      "text/html": [
       "<div>\n",
       "<style scoped>\n",
       "    .dataframe tbody tr th:only-of-type {\n",
       "        vertical-align: middle;\n",
       "    }\n",
       "\n",
       "    .dataframe tbody tr th {\n",
       "        vertical-align: top;\n",
       "    }\n",
       "\n",
       "    .dataframe thead th {\n",
       "        text-align: right;\n",
       "    }\n",
       "</style>\n",
       "<table border=\"1\" class=\"dataframe\">\n",
       "  <thead>\n",
       "    <tr style=\"text-align: right;\">\n",
       "      <th></th>\n",
       "      <th>total_area</th>\n",
       "      <th>ceiling_height</th>\n",
       "      <th>floors_total</th>\n",
       "      <th>floor</th>\n",
       "    </tr>\n",
       "  </thead>\n",
       "  <tbody>\n",
       "    <tr>\n",
       "      <th>397</th>\n",
       "      <td>54.00</td>\n",
       "      <td>NaN</td>\n",
       "      <td>36.00</td>\n",
       "      <td>28</td>\n",
       "    </tr>\n",
       "    <tr>\n",
       "      <th>5807</th>\n",
       "      <td>80.00</td>\n",
       "      <td>27.00</td>\n",
       "      <td>36.00</td>\n",
       "      <td>13</td>\n",
       "    </tr>\n",
       "    <tr>\n",
       "      <th>11079</th>\n",
       "      <td>75.00</td>\n",
       "      <td>2.70</td>\n",
       "      <td>36.00</td>\n",
       "      <td>29</td>\n",
       "    </tr>\n",
       "    <tr>\n",
       "      <th>11575</th>\n",
       "      <td>101.00</td>\n",
       "      <td>NaN</td>\n",
       "      <td>33.00</td>\n",
       "      <td>32</td>\n",
       "    </tr>\n",
       "    <tr>\n",
       "      <th>16934</th>\n",
       "      <td>40.00</td>\n",
       "      <td>1.75</td>\n",
       "      <td>37.00</td>\n",
       "      <td>5</td>\n",
       "    </tr>\n",
       "  </tbody>\n",
       "</table>\n",
       "</div>"
      ],
      "text/plain": [
       "       total_area  ceiling_height  floors_total  floor\n",
       "397         54.00             NaN         36.00     28\n",
       "5807        80.00           27.00         36.00     13\n",
       "11079       75.00            2.70         36.00     29\n",
       "11575      101.00             NaN         33.00     32\n",
       "16934       40.00            1.75         37.00      5"
      ]
     },
     "execution_count": 15,
     "metadata": {},
     "output_type": "execute_result"
    }
   ],
   "source": [
    "df.query('floors_total in (33, 36, 37)')[['total_area', 'ceiling_height', 'floors_total', 'floor']]"
   ]
  },
  {
   "cell_type": "markdown",
   "id": "7e9f25ce",
   "metadata": {},
   "source": [
    "- Можно заметить, что медианное значение `ceiling_height` в 36 этажном здании равняется *14.85* ввиду ошибки при отделении целой части числа от дроби при указании высоты потолка. Эту ошибку стоит исправить.\n",
    "- Единственное представленное 37 этажное здание имеет высоту потолка *1.75*, что наврядли является правдой. Стоит исправить на *2.75*, как на наиболее вероятное значение.\n",
    "- Единственное представленное 33 этажное здание не содержит информации о высоте потолка, ввиду его пропуска. Стоит взять ближайшее 34 этажное здание и заполнить его медианным значением."
   ]
  },
  {
   "cell_type": "code",
   "execution_count": 16,
   "id": "713a7f15",
   "metadata": {},
   "outputs": [],
   "source": [
    "df.loc[df['floors_total'] == 36, 'ceiling_height'] = 2.7\n",
    "df.loc[df['floors_total'] == 37, 'ceiling_height'] = 2.75\n",
    "df.loc[df['floors_total'] == 33, 'ceiling_height'] = df.loc[df['floors_total'] == 34, 'ceiling_height'].median()"
   ]
  },
  {
   "cell_type": "code",
   "execution_count": 17,
   "id": "296b3057",
   "metadata": {},
   "outputs": [
    {
     "data": {
      "text/html": [
       "<div>\n",
       "<style scoped>\n",
       "    .dataframe tbody tr th:only-of-type {\n",
       "        vertical-align: middle;\n",
       "    }\n",
       "\n",
       "    .dataframe tbody tr th {\n",
       "        vertical-align: top;\n",
       "    }\n",
       "\n",
       "    .dataframe thead th {\n",
       "        text-align: right;\n",
       "    }\n",
       "</style>\n",
       "<table border=\"1\" class=\"dataframe\">\n",
       "  <thead>\n",
       "    <tr style=\"text-align: right;\">\n",
       "      <th></th>\n",
       "      <th>total_area</th>\n",
       "      <th>ceiling_height</th>\n",
       "      <th>floors_total</th>\n",
       "      <th>floor</th>\n",
       "    </tr>\n",
       "  </thead>\n",
       "  <tbody>\n",
       "    <tr>\n",
       "      <th>397</th>\n",
       "      <td>54.00</td>\n",
       "      <td>2.70</td>\n",
       "      <td>36.00</td>\n",
       "      <td>28</td>\n",
       "    </tr>\n",
       "    <tr>\n",
       "      <th>5807</th>\n",
       "      <td>80.00</td>\n",
       "      <td>2.70</td>\n",
       "      <td>36.00</td>\n",
       "      <td>13</td>\n",
       "    </tr>\n",
       "    <tr>\n",
       "      <th>11079</th>\n",
       "      <td>75.00</td>\n",
       "      <td>2.70</td>\n",
       "      <td>36.00</td>\n",
       "      <td>29</td>\n",
       "    </tr>\n",
       "    <tr>\n",
       "      <th>11575</th>\n",
       "      <td>101.00</td>\n",
       "      <td>2.65</td>\n",
       "      <td>33.00</td>\n",
       "      <td>32</td>\n",
       "    </tr>\n",
       "    <tr>\n",
       "      <th>16934</th>\n",
       "      <td>40.00</td>\n",
       "      <td>2.75</td>\n",
       "      <td>37.00</td>\n",
       "      <td>5</td>\n",
       "    </tr>\n",
       "  </tbody>\n",
       "</table>\n",
       "</div>"
      ],
      "text/plain": [
       "       total_area  ceiling_height  floors_total  floor\n",
       "397         54.00            2.70         36.00     28\n",
       "5807        80.00            2.70         36.00     13\n",
       "11079       75.00            2.70         36.00     29\n",
       "11575      101.00            2.65         33.00     32\n",
       "16934       40.00            2.75         37.00      5"
      ]
     },
     "execution_count": 17,
     "metadata": {},
     "output_type": "execute_result"
    }
   ],
   "source": [
    "df.query('floors_total in (33, 36, 37)')[['total_area', 'ceiling_height', 'floors_total', 'floor']]"
   ]
  },
  {
   "cell_type": "code",
   "execution_count": 18,
   "id": "0e6c649c",
   "metadata": {},
   "outputs": [],
   "source": [
    "df['ceiling_height'] = df.groupby('floors_total')['ceiling_height'].apply(lambda x: x.fillna(x.median()))"
   ]
  },
  {
   "cell_type": "code",
   "execution_count": 19,
   "id": "5e585c24",
   "metadata": {},
   "outputs": [
    {
     "name": "stdout",
     "output_type": "stream",
     "text": [
      "Пропущенные значения заполнены\n"
     ]
    }
   ],
   "source": [
    "if df.isna().sum()['ceiling_height'] == df.isna().sum()['floors_total']:\n",
    "    print('Пропущенные значения заполнены')\n",
    "else:\n",
    "    print('Возникла ошибка')"
   ]
  },
  {
   "cell_type": "markdown",
   "id": "cd1b61e7",
   "metadata": {},
   "source": [
    "#### Столбцы living_area, kitchen_area, balcony"
   ]
  },
  {
   "cell_type": "code",
   "execution_count": 20,
   "id": "d5669b30",
   "metadata": {},
   "outputs": [],
   "source": [
    "df['living_area'] = df.groupby(['rooms', 'total_area', 'open_plan'])['living_area'].apply(lambda x: x.fillna(x.mean()))\n",
    "df['kitchen_area'] = df.groupby(['rooms', 'total_area', 'open_plan'])['kitchen_area'].apply(lambda x: x.fillna(x.mean()))"
   ]
  },
  {
   "cell_type": "code",
   "execution_count": 21,
   "id": "f9080da6",
   "metadata": {},
   "outputs": [],
   "source": [
    "df['balcony'] = df['balcony'].fillna(0)"
   ]
  },
  {
   "cell_type": "markdown",
   "id": "8147c27b",
   "metadata": {},
   "source": [
    "#### Столбец locality_name"
   ]
  },
  {
   "cell_type": "code",
   "execution_count": 22,
   "id": "3c91deac",
   "metadata": {},
   "outputs": [
    {
     "name": "stdout",
     "output_type": "stream",
     "text": [
      "Количество пропущенных значений в столбце locality_name: 49\n"
     ]
    },
    {
     "data": {
      "text/html": [
       "<div>\n",
       "<style scoped>\n",
       "    .dataframe tbody tr th:only-of-type {\n",
       "        vertical-align: middle;\n",
       "    }\n",
       "\n",
       "    .dataframe tbody tr th {\n",
       "        vertical-align: top;\n",
       "    }\n",
       "\n",
       "    .dataframe thead th {\n",
       "        text-align: right;\n",
       "    }\n",
       "</style>\n",
       "<table border=\"1\" class=\"dataframe\">\n",
       "  <thead>\n",
       "    <tr style=\"text-align: right;\">\n",
       "      <th></th>\n",
       "      <th>locality_name</th>\n",
       "      <th>city_center_nearest</th>\n",
       "    </tr>\n",
       "  </thead>\n",
       "  <tbody>\n",
       "    <tr>\n",
       "      <th>1097</th>\n",
       "      <td>NaN</td>\n",
       "      <td>4258.00</td>\n",
       "    </tr>\n",
       "    <tr>\n",
       "      <th>2033</th>\n",
       "      <td>NaN</td>\n",
       "      <td>NaN</td>\n",
       "    </tr>\n",
       "    <tr>\n",
       "      <th>2603</th>\n",
       "      <td>NaN</td>\n",
       "      <td>17369.00</td>\n",
       "    </tr>\n",
       "    <tr>\n",
       "      <th>2632</th>\n",
       "      <td>NaN</td>\n",
       "      <td>17369.00</td>\n",
       "    </tr>\n",
       "    <tr>\n",
       "      <th>3574</th>\n",
       "      <td>NaN</td>\n",
       "      <td>8127.00</td>\n",
       "    </tr>\n",
       "    <tr>\n",
       "      <th>4151</th>\n",
       "      <td>NaN</td>\n",
       "      <td>3902.00</td>\n",
       "    </tr>\n",
       "    <tr>\n",
       "      <th>4189</th>\n",
       "      <td>NaN</td>\n",
       "      <td>3039.00</td>\n",
       "    </tr>\n",
       "    <tr>\n",
       "      <th>4670</th>\n",
       "      <td>NaN</td>\n",
       "      <td>5382.00</td>\n",
       "    </tr>\n",
       "    <tr>\n",
       "      <th>5343</th>\n",
       "      <td>NaN</td>\n",
       "      <td>9538.00</td>\n",
       "    </tr>\n",
       "    <tr>\n",
       "      <th>5707</th>\n",
       "      <td>NaN</td>\n",
       "      <td>16788.00</td>\n",
       "    </tr>\n",
       "  </tbody>\n",
       "</table>\n",
       "</div>"
      ],
      "text/plain": [
       "     locality_name  city_center_nearest\n",
       "1097           NaN              4258.00\n",
       "2033           NaN                  NaN\n",
       "2603           NaN             17369.00\n",
       "2632           NaN             17369.00\n",
       "3574           NaN              8127.00\n",
       "4151           NaN              3902.00\n",
       "4189           NaN              3039.00\n",
       "4670           NaN              5382.00\n",
       "5343           NaN              9538.00\n",
       "5707           NaN             16788.00"
      ]
     },
     "execution_count": 22,
     "metadata": {},
     "output_type": "execute_result"
    }
   ],
   "source": [
    "print('Количество пропущенных значений в столбце locality_name:', df['locality_name'].isna().sum())\n",
    "df[(df['locality_name'].isna())][['locality_name', 'city_center_nearest']].head(10)"
   ]
  },
  {
   "cell_type": "code",
   "execution_count": 23,
   "id": "3af57470",
   "metadata": {},
   "outputs": [
    {
     "data": {
      "text/plain": [
       "count   15660.00\n",
       "mean    11601.29\n",
       "std      4842.04\n",
       "min       181.00\n",
       "25%      8327.00\n",
       "50%     12244.50\n",
       "75%     14943.00\n",
       "max     29493.00\n",
       "Name: city_center_nearest, dtype: float64"
      ]
     },
     "execution_count": 23,
     "metadata": {},
     "output_type": "execute_result"
    }
   ],
   "source": [
    "df.query('locality_name == \"Санкт-Петербург\"')['city_center_nearest'].describe()"
   ]
  },
  {
   "cell_type": "code",
   "execution_count": 24,
   "id": "983d7d8d",
   "metadata": {},
   "outputs": [],
   "source": [
    "df.loc[(df['locality_name'].isna()) & (df['city_center_nearest'] <= 12244), 'locality_name'] = df.query(\n",
    "    'city_center_nearest <= 12244')['locality_name'].fillna('Санкт-Петербург')"
   ]
  },
  {
   "cell_type": "code",
   "execution_count": 25,
   "id": "af78fa9d",
   "metadata": {},
   "outputs": [
    {
     "name": "stdout",
     "output_type": "stream",
     "text": [
      "Количество оставшихся пропущенных значений в столбце locality_name: 23\n"
     ]
    }
   ],
   "source": [
    "print('Количество оставшихся пропущенных значений в столбце locality_name:', df['locality_name'].isna().sum())"
   ]
  },
  {
   "cell_type": "markdown",
   "id": "1bfb019d",
   "metadata": {},
   "source": [
    "#### Вывод по работе с пропущенными значениями"
   ]
  },
  {
   "cell_type": "code",
   "execution_count": 26,
   "id": "011e3e10",
   "metadata": {},
   "outputs": [
    {
     "name": "stdout",
     "output_type": "stream",
     "text": [
      "Всего оставшихся пропущенных значений 56323.\n",
      "Итого избавились от 44.5% пропущенных значений.\n",
      "\n",
      "Столбец ceiling_height содержит 0.4% пропущенных значений.\n",
      "\n",
      "Столбец floors_total содержит 0.4% пропущенных значений.\n",
      "\n",
      "Столбец living_area содержит 0.9% пропущенных значений.\n",
      "\n",
      "Столбец kitchen_area содержит 1.8% пропущенных значений.\n",
      "\n",
      "Столбец locality_name содержит 0.1% пропущенных значений.\n",
      "\n",
      "Столбец airports_nearest содержит 23.4% пропущенных значений.\n",
      "\n",
      "Столбец city_center_nearest содержит 23.3% пропущенных значений.\n",
      "\n",
      "Столбец parks_around3000 содержит 23.3% пропущенных значений.\n",
      "\n",
      "Столбец parks_nearest содержит 65.9% пропущенных значений.\n",
      "\n",
      "Столбец ponds_around3000 содержит 23.3% пропущенных значений.\n",
      "\n",
      "Столбец ponds_nearest содержит 61.6% пропущенных значений.\n",
      "\n",
      "Столбец days_exposition содержит 13.4% пропущенных значений.\n",
      "\n",
      "Итого 12 столбцов содержат пропущенные значения.\n"
     ]
    }
   ],
   "source": [
    "isna_after = df.isna().sum().sum()\n",
    "print(f'Всего оставшихся пропущенных значений {isna_after}.')\n",
    "print(f'Итого избавились от {round((isna_before - isna_after) / isna_before *100, 1)}% пропущенных значений.')\n",
    "print()\n",
    "na_structure(df)"
   ]
  },
  {
   "cell_type": "markdown",
   "id": "82181dd3",
   "metadata": {},
   "source": [
    "Удалив столбец `is_apartment` и поработав над заменой пропусков в столбцах `ceiling_height`, `living_area`, `kitchen_area`, `locality_name` и `balcony` смогли исправить проблему с *44.5%* пропущенных значений."
   ]
  },
  {
   "cell_type": "markdown",
   "id": "50be9007",
   "metadata": {},
   "source": [
    "### Изменение типа данных"
   ]
  },
  {
   "cell_type": "code",
   "execution_count": 27,
   "id": "19e6f231",
   "metadata": {},
   "outputs": [],
   "source": [
    "def mem_usage(pandas_obj):\n",
    "    if isinstance(pandas_obj, pd.DataFrame):\n",
    "        usage_b = pandas_obj.memory_usage(deep=True).sum()\n",
    "    else: \n",
    "        usage_b = pandas_obj.memory_usage(deep=True)\n",
    "    usage_mb = usage_b / 1024 ** 2\n",
    "    return usage_mb"
   ]
  },
  {
   "cell_type": "code",
   "execution_count": 28,
   "id": "be186aeb",
   "metadata": {},
   "outputs": [],
   "source": [
    "mem_usage_before = mem_usage(df)"
   ]
  },
  {
   "cell_type": "code",
   "execution_count": 29,
   "id": "86559327",
   "metadata": {},
   "outputs": [],
   "source": [
    "columns = ['last_price', 'floors_total', 'balcony', 'airports_nearest', 'city_center_nearest', 'parks_around3000', \n",
    "           'parks_nearest', 'ponds_around3000', 'ponds_nearest', 'days_exposition']\n",
    "for column in columns:\n",
    "    df[column] = df[df[column].notnull()][column].astype('int')"
   ]
  },
  {
   "cell_type": "code",
   "execution_count": 30,
   "id": "67892337",
   "metadata": {},
   "outputs": [],
   "source": [
    "converted_unsigned = df.select_dtypes(include=['int64', 'int32']).apply(pd.to_numeric, downcast='unsigned')\n",
    "for column in converted_unsigned.columns:\n",
    "    df[column] = converted_unsigned[column]\n",
    "\n",
    "converted_float = df.select_dtypes(include=['float64']).apply(pd.to_numeric, downcast='float')\n",
    "for column in converted_float.columns:\n",
    "    df[column] = converted_float[column]\n",
    "    \n",
    "if len(df['locality_name'].unique()) / len(df['locality_name']) < 0.5:\n",
    "    df['locality_name'] = df['locality_name'].astype('category')"
   ]
  },
  {
   "cell_type": "code",
   "execution_count": 31,
   "id": "e45f8a90",
   "metadata": {},
   "outputs": [
    {
     "name": "stdout",
     "output_type": "stream",
     "text": [
      "<class 'pandas.core.frame.DataFrame'>\n",
      "RangeIndex: 23699 entries, 0 to 23698\n",
      "Data columns (total 21 columns):\n",
      " #   Column                Non-Null Count  Dtype   \n",
      "---  ------                --------------  -----   \n",
      " 0   total_images          23699 non-null  uint8   \n",
      " 1   last_price            23699 non-null  uint32  \n",
      " 2   total_area            23699 non-null  float32 \n",
      " 3   first_day_exposition  23699 non-null  object  \n",
      " 4   rooms                 23699 non-null  uint8   \n",
      " 5   ceiling_height        23613 non-null  float32 \n",
      " 6   floors_total          23613 non-null  float32 \n",
      " 7   living_area           23486 non-null  float32 \n",
      " 8   floor                 23699 non-null  uint8   \n",
      " 9   studio                23699 non-null  bool    \n",
      " 10  open_plan             23699 non-null  bool    \n",
      " 11  kitchen_area          23271 non-null  float32 \n",
      " 12  balcony               23699 non-null  uint8   \n",
      " 13  locality_name         23676 non-null  category\n",
      " 14  airports_nearest      18157 non-null  float32 \n",
      " 15  city_center_nearest   18180 non-null  float32 \n",
      " 16  parks_around3000      18181 non-null  float32 \n",
      " 17  parks_nearest         8079 non-null   float32 \n",
      " 18  ponds_around3000      18181 non-null  float32 \n",
      " 19  ponds_nearest         9110 non-null   float32 \n",
      " 20  days_exposition       20518 non-null  float32 \n",
      "dtypes: bool(2), category(1), float32(12), object(1), uint32(1), uint8(4)\n",
      "memory usage: 3.1 MB\n"
     ]
    }
   ],
   "source": [
    "df.info(memory_usage='deep')"
   ]
  },
  {
   "cell_type": "code",
   "execution_count": 32,
   "id": "9e011627",
   "metadata": {},
   "outputs": [
    {
     "name": "stdout",
     "output_type": "stream",
     "text": [
      "Сэкономили 57.4% памяти\n"
     ]
    }
   ],
   "source": [
    "print(f'Сэкономили {round((mem_usage_before - mem_usage(df)) / mem_usage_before * 100, 1)}% памяти')"
   ]
  },
  {
   "cell_type": "code",
   "execution_count": 33,
   "id": "ae6cf11f",
   "metadata": {},
   "outputs": [],
   "source": [
    "df['first_day_exposition'] = pd.to_datetime(df['first_day_exposition'], format='%Y-%m-%d')"
   ]
  },
  {
   "cell_type": "code",
   "execution_count": 34,
   "id": "539b457c",
   "metadata": {},
   "outputs": [
    {
     "name": "stdout",
     "output_type": "stream",
     "text": [
      "<class 'pandas.core.frame.DataFrame'>\n",
      "RangeIndex: 23699 entries, 0 to 23698\n",
      "Data columns (total 21 columns):\n",
      " #   Column                Non-Null Count  Dtype         \n",
      "---  ------                --------------  -----         \n",
      " 0   total_images          23699 non-null  uint8         \n",
      " 1   last_price            23699 non-null  uint32        \n",
      " 2   total_area            23699 non-null  float32       \n",
      " 3   first_day_exposition  23699 non-null  datetime64[ns]\n",
      " 4   rooms                 23699 non-null  uint8         \n",
      " 5   ceiling_height        23613 non-null  float32       \n",
      " 6   floors_total          23613 non-null  float32       \n",
      " 7   living_area           23486 non-null  float32       \n",
      " 8   floor                 23699 non-null  uint8         \n",
      " 9   studio                23699 non-null  bool          \n",
      " 10  open_plan             23699 non-null  bool          \n",
      " 11  kitchen_area          23271 non-null  float32       \n",
      " 12  balcony               23699 non-null  uint8         \n",
      " 13  locality_name         23676 non-null  category      \n",
      " 14  airports_nearest      18157 non-null  float32       \n",
      " 15  city_center_nearest   18180 non-null  float32       \n",
      " 16  parks_around3000      18181 non-null  float32       \n",
      " 17  parks_nearest         8079 non-null   float32       \n",
      " 18  ponds_around3000      18181 non-null  float32       \n",
      " 19  ponds_nearest         9110 non-null   float32       \n",
      " 20  days_exposition       20518 non-null  float32       \n",
      "dtypes: bool(2), category(1), datetime64[ns](1), float32(12), uint32(1), uint8(4)\n",
      "memory usage: 1.5 MB\n"
     ]
    }
   ],
   "source": [
    "df.info()"
   ]
  },
  {
   "cell_type": "code",
   "execution_count": 35,
   "id": "e3e50825",
   "metadata": {},
   "outputs": [
    {
     "data": {
      "text/html": [
       "<div>\n",
       "<style scoped>\n",
       "    .dataframe tbody tr th:only-of-type {\n",
       "        vertical-align: middle;\n",
       "    }\n",
       "\n",
       "    .dataframe tbody tr th {\n",
       "        vertical-align: top;\n",
       "    }\n",
       "\n",
       "    .dataframe thead th {\n",
       "        text-align: right;\n",
       "    }\n",
       "</style>\n",
       "<table border=\"1\" class=\"dataframe\">\n",
       "  <thead>\n",
       "    <tr style=\"text-align: right;\">\n",
       "      <th></th>\n",
       "      <th>total_images</th>\n",
       "      <th>last_price</th>\n",
       "      <th>total_area</th>\n",
       "      <th>first_day_exposition</th>\n",
       "      <th>rooms</th>\n",
       "      <th>ceiling_height</th>\n",
       "      <th>floors_total</th>\n",
       "      <th>living_area</th>\n",
       "      <th>floor</th>\n",
       "      <th>studio</th>\n",
       "      <th>...</th>\n",
       "      <th>kitchen_area</th>\n",
       "      <th>balcony</th>\n",
       "      <th>locality_name</th>\n",
       "      <th>airports_nearest</th>\n",
       "      <th>city_center_nearest</th>\n",
       "      <th>parks_around3000</th>\n",
       "      <th>parks_nearest</th>\n",
       "      <th>ponds_around3000</th>\n",
       "      <th>ponds_nearest</th>\n",
       "      <th>days_exposition</th>\n",
       "    </tr>\n",
       "  </thead>\n",
       "  <tbody>\n",
       "    <tr>\n",
       "      <th>0</th>\n",
       "      <td>20</td>\n",
       "      <td>13000000</td>\n",
       "      <td>108.00</td>\n",
       "      <td>2019-03-07</td>\n",
       "      <td>3</td>\n",
       "      <td>2.70</td>\n",
       "      <td>16.00</td>\n",
       "      <td>51.00</td>\n",
       "      <td>8</td>\n",
       "      <td>False</td>\n",
       "      <td>...</td>\n",
       "      <td>25.00</td>\n",
       "      <td>0</td>\n",
       "      <td>Санкт-Петербург</td>\n",
       "      <td>18863.00</td>\n",
       "      <td>16028.00</td>\n",
       "      <td>1.00</td>\n",
       "      <td>482.00</td>\n",
       "      <td>2.00</td>\n",
       "      <td>755.00</td>\n",
       "      <td>NaN</td>\n",
       "    </tr>\n",
       "    <tr>\n",
       "      <th>1</th>\n",
       "      <td>7</td>\n",
       "      <td>3350000</td>\n",
       "      <td>40.40</td>\n",
       "      <td>2018-12-04</td>\n",
       "      <td>1</td>\n",
       "      <td>2.75</td>\n",
       "      <td>11.00</td>\n",
       "      <td>18.60</td>\n",
       "      <td>1</td>\n",
       "      <td>False</td>\n",
       "      <td>...</td>\n",
       "      <td>11.00</td>\n",
       "      <td>2</td>\n",
       "      <td>посёлок Шушары</td>\n",
       "      <td>12817.00</td>\n",
       "      <td>18603.00</td>\n",
       "      <td>0.00</td>\n",
       "      <td>NaN</td>\n",
       "      <td>0.00</td>\n",
       "      <td>NaN</td>\n",
       "      <td>81.00</td>\n",
       "    </tr>\n",
       "    <tr>\n",
       "      <th>2</th>\n",
       "      <td>10</td>\n",
       "      <td>5196000</td>\n",
       "      <td>56.00</td>\n",
       "      <td>2015-08-20</td>\n",
       "      <td>2</td>\n",
       "      <td>2.55</td>\n",
       "      <td>5.00</td>\n",
       "      <td>34.30</td>\n",
       "      <td>4</td>\n",
       "      <td>False</td>\n",
       "      <td>...</td>\n",
       "      <td>8.30</td>\n",
       "      <td>0</td>\n",
       "      <td>Санкт-Петербург</td>\n",
       "      <td>21741.00</td>\n",
       "      <td>13933.00</td>\n",
       "      <td>1.00</td>\n",
       "      <td>90.00</td>\n",
       "      <td>2.00</td>\n",
       "      <td>574.00</td>\n",
       "      <td>558.00</td>\n",
       "    </tr>\n",
       "    <tr>\n",
       "      <th>3</th>\n",
       "      <td>0</td>\n",
       "      <td>64900000</td>\n",
       "      <td>159.00</td>\n",
       "      <td>2015-07-24</td>\n",
       "      <td>3</td>\n",
       "      <td>2.60</td>\n",
       "      <td>14.00</td>\n",
       "      <td>54.00</td>\n",
       "      <td>9</td>\n",
       "      <td>False</td>\n",
       "      <td>...</td>\n",
       "      <td>15.00</td>\n",
       "      <td>0</td>\n",
       "      <td>Санкт-Петербург</td>\n",
       "      <td>28098.00</td>\n",
       "      <td>6800.00</td>\n",
       "      <td>2.00</td>\n",
       "      <td>84.00</td>\n",
       "      <td>3.00</td>\n",
       "      <td>234.00</td>\n",
       "      <td>424.00</td>\n",
       "    </tr>\n",
       "    <tr>\n",
       "      <th>4</th>\n",
       "      <td>2</td>\n",
       "      <td>10000000</td>\n",
       "      <td>100.00</td>\n",
       "      <td>2018-06-19</td>\n",
       "      <td>2</td>\n",
       "      <td>3.03</td>\n",
       "      <td>14.00</td>\n",
       "      <td>32.00</td>\n",
       "      <td>13</td>\n",
       "      <td>False</td>\n",
       "      <td>...</td>\n",
       "      <td>41.00</td>\n",
       "      <td>0</td>\n",
       "      <td>Санкт-Петербург</td>\n",
       "      <td>31856.00</td>\n",
       "      <td>8098.00</td>\n",
       "      <td>2.00</td>\n",
       "      <td>112.00</td>\n",
       "      <td>1.00</td>\n",
       "      <td>48.00</td>\n",
       "      <td>121.00</td>\n",
       "    </tr>\n",
       "  </tbody>\n",
       "</table>\n",
       "<p>5 rows × 21 columns</p>\n",
       "</div>"
      ],
      "text/plain": [
       "   total_images  last_price  total_area first_day_exposition  rooms  \\\n",
       "0            20    13000000      108.00           2019-03-07      3   \n",
       "1             7     3350000       40.40           2018-12-04      1   \n",
       "2            10     5196000       56.00           2015-08-20      2   \n",
       "3             0    64900000      159.00           2015-07-24      3   \n",
       "4             2    10000000      100.00           2018-06-19      2   \n",
       "\n",
       "   ceiling_height  floors_total  living_area  floor  studio  ...  \\\n",
       "0            2.70         16.00        51.00      8   False  ...   \n",
       "1            2.75         11.00        18.60      1   False  ...   \n",
       "2            2.55          5.00        34.30      4   False  ...   \n",
       "3            2.60         14.00        54.00      9   False  ...   \n",
       "4            3.03         14.00        32.00     13   False  ...   \n",
       "\n",
       "   kitchen_area  balcony    locality_name airports_nearest  \\\n",
       "0         25.00        0  Санкт-Петербург         18863.00   \n",
       "1         11.00        2   посёлок Шушары         12817.00   \n",
       "2          8.30        0  Санкт-Петербург         21741.00   \n",
       "3         15.00        0  Санкт-Петербург         28098.00   \n",
       "4         41.00        0  Санкт-Петербург         31856.00   \n",
       "\n",
       "   city_center_nearest  parks_around3000  parks_nearest  ponds_around3000  \\\n",
       "0             16028.00              1.00         482.00              2.00   \n",
       "1             18603.00              0.00            NaN              0.00   \n",
       "2             13933.00              1.00          90.00              2.00   \n",
       "3              6800.00              2.00          84.00              3.00   \n",
       "4              8098.00              2.00         112.00              1.00   \n",
       "\n",
       "   ponds_nearest  days_exposition  \n",
       "0         755.00              NaN  \n",
       "1            NaN            81.00  \n",
       "2         574.00           558.00  \n",
       "3         234.00           424.00  \n",
       "4          48.00           121.00  \n",
       "\n",
       "[5 rows x 21 columns]"
      ]
     },
     "execution_count": 35,
     "metadata": {},
     "output_type": "execute_result"
    }
   ],
   "source": [
    "df.head()"
   ]
  },
  {
   "cell_type": "markdown",
   "id": "ce07dab7",
   "metadata": {},
   "source": [
    "### Добавление новых признаков и категоризация данных"
   ]
  },
  {
   "cell_type": "markdown",
   "id": "d951c505",
   "metadata": {},
   "source": [
    "**Необходимо посчитать и добавить в таблицу:**\n",
    "- цену квадратного метра;\n",
    "- день недели, месяц и год публикации объявления;\n",
    "- этаж квартиры; варианты — первый, последний, другой;\n",
    "- соотношение жилой и общей площади, а также отношение площади кухни к общей."
   ]
  },
  {
   "cell_type": "code",
   "execution_count": 36,
   "id": "8f6c82cb",
   "metadata": {},
   "outputs": [],
   "source": [
    "df['square_meter_price'] = df['last_price'] / df['total_area']\n",
    "df['square_meter_price'] = df['square_meter_price'].astype('float32')"
   ]
  },
  {
   "cell_type": "code",
   "execution_count": 37,
   "id": "ae9bec92",
   "metadata": {},
   "outputs": [],
   "source": [
    "df['year_exposition'] = df['first_day_exposition'].dt.year\n",
    "\n",
    "df['month_exposition'] = df['first_day_exposition'].dt.month\n",
    "\n",
    "days = {0: 'понедельник', 1: 'вторник', 2: 'среда', 3: 'четверг', \n",
    "        4: 'пятница', 5: 'суббота', 6: 'воскресенье'}\n",
    "\n",
    "df['day_exposition'] = df['first_day_exposition'].dt.weekday\n",
    "df['day_exposition'] = df['day_exposition'].map(days)\n",
    "df['day_exposition'] = df['day_exposition'].astype('category')"
   ]
  },
  {
   "cell_type": "code",
   "execution_count": 38,
   "id": "0f48cd75",
   "metadata": {},
   "outputs": [],
   "source": [
    "def floor_category(row):\n",
    "    floors_total = row['floors_total']\n",
    "    floor = row['floor']\n",
    "    if floors_total != floor:\n",
    "        return 'первый' if floor == 1 else 'другой'\n",
    "    return 'последний'\n",
    "\n",
    "\n",
    "df['floor_category'] = df.apply(floor_category, axis=1)\n",
    "df['floor_category'] = df['floor_category'].astype('category')"
   ]
  },
  {
   "cell_type": "code",
   "execution_count": 39,
   "id": "341db7fd",
   "metadata": {},
   "outputs": [],
   "source": [
    "df['living_area_ratio'] = df['living_area'] / df['total_area']\n",
    "\n",
    "df['kitchen_area_ratio'] = df['kitchen_area'] / df['total_area']"
   ]
  },
  {
   "cell_type": "code",
   "execution_count": 40,
   "id": "7c2430fd",
   "metadata": {},
   "outputs": [
    {
     "data": {
      "text/html": [
       "<div>\n",
       "<style scoped>\n",
       "    .dataframe tbody tr th:only-of-type {\n",
       "        vertical-align: middle;\n",
       "    }\n",
       "\n",
       "    .dataframe tbody tr th {\n",
       "        vertical-align: top;\n",
       "    }\n",
       "\n",
       "    .dataframe thead th {\n",
       "        text-align: right;\n",
       "    }\n",
       "</style>\n",
       "<table border=\"1\" class=\"dataframe\">\n",
       "  <thead>\n",
       "    <tr style=\"text-align: right;\">\n",
       "      <th></th>\n",
       "      <th>total_images</th>\n",
       "      <th>last_price</th>\n",
       "      <th>total_area</th>\n",
       "      <th>first_day_exposition</th>\n",
       "      <th>rooms</th>\n",
       "      <th>ceiling_height</th>\n",
       "      <th>floors_total</th>\n",
       "      <th>living_area</th>\n",
       "      <th>floor</th>\n",
       "      <th>studio</th>\n",
       "      <th>...</th>\n",
       "      <th>ponds_around3000</th>\n",
       "      <th>ponds_nearest</th>\n",
       "      <th>days_exposition</th>\n",
       "      <th>square_meter_price</th>\n",
       "      <th>year_exposition</th>\n",
       "      <th>month_exposition</th>\n",
       "      <th>day_exposition</th>\n",
       "      <th>floor_category</th>\n",
       "      <th>living_area_ratio</th>\n",
       "      <th>kitchen_area_ratio</th>\n",
       "    </tr>\n",
       "  </thead>\n",
       "  <tbody>\n",
       "    <tr>\n",
       "      <th>0</th>\n",
       "      <td>20</td>\n",
       "      <td>13000000</td>\n",
       "      <td>108.00</td>\n",
       "      <td>2019-03-07</td>\n",
       "      <td>3</td>\n",
       "      <td>2.70</td>\n",
       "      <td>16.00</td>\n",
       "      <td>51.00</td>\n",
       "      <td>8</td>\n",
       "      <td>False</td>\n",
       "      <td>...</td>\n",
       "      <td>2.00</td>\n",
       "      <td>755.00</td>\n",
       "      <td>NaN</td>\n",
       "      <td>120370.37</td>\n",
       "      <td>2019</td>\n",
       "      <td>3</td>\n",
       "      <td>четверг</td>\n",
       "      <td>другой</td>\n",
       "      <td>0.47</td>\n",
       "      <td>0.23</td>\n",
       "    </tr>\n",
       "    <tr>\n",
       "      <th>1</th>\n",
       "      <td>7</td>\n",
       "      <td>3350000</td>\n",
       "      <td>40.40</td>\n",
       "      <td>2018-12-04</td>\n",
       "      <td>1</td>\n",
       "      <td>2.75</td>\n",
       "      <td>11.00</td>\n",
       "      <td>18.60</td>\n",
       "      <td>1</td>\n",
       "      <td>False</td>\n",
       "      <td>...</td>\n",
       "      <td>0.00</td>\n",
       "      <td>NaN</td>\n",
       "      <td>81.00</td>\n",
       "      <td>82920.79</td>\n",
       "      <td>2018</td>\n",
       "      <td>12</td>\n",
       "      <td>вторник</td>\n",
       "      <td>первый</td>\n",
       "      <td>0.46</td>\n",
       "      <td>0.27</td>\n",
       "    </tr>\n",
       "    <tr>\n",
       "      <th>2</th>\n",
       "      <td>10</td>\n",
       "      <td>5196000</td>\n",
       "      <td>56.00</td>\n",
       "      <td>2015-08-20</td>\n",
       "      <td>2</td>\n",
       "      <td>2.55</td>\n",
       "      <td>5.00</td>\n",
       "      <td>34.30</td>\n",
       "      <td>4</td>\n",
       "      <td>False</td>\n",
       "      <td>...</td>\n",
       "      <td>2.00</td>\n",
       "      <td>574.00</td>\n",
       "      <td>558.00</td>\n",
       "      <td>92785.71</td>\n",
       "      <td>2015</td>\n",
       "      <td>8</td>\n",
       "      <td>четверг</td>\n",
       "      <td>другой</td>\n",
       "      <td>0.61</td>\n",
       "      <td>0.15</td>\n",
       "    </tr>\n",
       "    <tr>\n",
       "      <th>3</th>\n",
       "      <td>0</td>\n",
       "      <td>64900000</td>\n",
       "      <td>159.00</td>\n",
       "      <td>2015-07-24</td>\n",
       "      <td>3</td>\n",
       "      <td>2.60</td>\n",
       "      <td>14.00</td>\n",
       "      <td>54.00</td>\n",
       "      <td>9</td>\n",
       "      <td>False</td>\n",
       "      <td>...</td>\n",
       "      <td>3.00</td>\n",
       "      <td>234.00</td>\n",
       "      <td>424.00</td>\n",
       "      <td>408176.09</td>\n",
       "      <td>2015</td>\n",
       "      <td>7</td>\n",
       "      <td>пятница</td>\n",
       "      <td>другой</td>\n",
       "      <td>0.34</td>\n",
       "      <td>0.09</td>\n",
       "    </tr>\n",
       "    <tr>\n",
       "      <th>4</th>\n",
       "      <td>2</td>\n",
       "      <td>10000000</td>\n",
       "      <td>100.00</td>\n",
       "      <td>2018-06-19</td>\n",
       "      <td>2</td>\n",
       "      <td>3.03</td>\n",
       "      <td>14.00</td>\n",
       "      <td>32.00</td>\n",
       "      <td>13</td>\n",
       "      <td>False</td>\n",
       "      <td>...</td>\n",
       "      <td>1.00</td>\n",
       "      <td>48.00</td>\n",
       "      <td>121.00</td>\n",
       "      <td>100000.00</td>\n",
       "      <td>2018</td>\n",
       "      <td>6</td>\n",
       "      <td>вторник</td>\n",
       "      <td>другой</td>\n",
       "      <td>0.32</td>\n",
       "      <td>0.41</td>\n",
       "    </tr>\n",
       "    <tr>\n",
       "      <th>5</th>\n",
       "      <td>10</td>\n",
       "      <td>2890000</td>\n",
       "      <td>30.40</td>\n",
       "      <td>2018-09-10</td>\n",
       "      <td>1</td>\n",
       "      <td>2.65</td>\n",
       "      <td>12.00</td>\n",
       "      <td>14.40</td>\n",
       "      <td>5</td>\n",
       "      <td>False</td>\n",
       "      <td>...</td>\n",
       "      <td>NaN</td>\n",
       "      <td>NaN</td>\n",
       "      <td>55.00</td>\n",
       "      <td>95065.79</td>\n",
       "      <td>2018</td>\n",
       "      <td>9</td>\n",
       "      <td>понедельник</td>\n",
       "      <td>другой</td>\n",
       "      <td>0.47</td>\n",
       "      <td>0.30</td>\n",
       "    </tr>\n",
       "    <tr>\n",
       "      <th>6</th>\n",
       "      <td>6</td>\n",
       "      <td>3700000</td>\n",
       "      <td>37.30</td>\n",
       "      <td>2017-11-02</td>\n",
       "      <td>1</td>\n",
       "      <td>2.66</td>\n",
       "      <td>26.00</td>\n",
       "      <td>10.60</td>\n",
       "      <td>6</td>\n",
       "      <td>False</td>\n",
       "      <td>...</td>\n",
       "      <td>0.00</td>\n",
       "      <td>NaN</td>\n",
       "      <td>155.00</td>\n",
       "      <td>99195.71</td>\n",
       "      <td>2017</td>\n",
       "      <td>11</td>\n",
       "      <td>четверг</td>\n",
       "      <td>другой</td>\n",
       "      <td>0.28</td>\n",
       "      <td>0.39</td>\n",
       "    </tr>\n",
       "    <tr>\n",
       "      <th>7</th>\n",
       "      <td>5</td>\n",
       "      <td>7915000</td>\n",
       "      <td>71.60</td>\n",
       "      <td>2019-04-18</td>\n",
       "      <td>2</td>\n",
       "      <td>2.75</td>\n",
       "      <td>24.00</td>\n",
       "      <td>34.65</td>\n",
       "      <td>22</td>\n",
       "      <td>False</td>\n",
       "      <td>...</td>\n",
       "      <td>0.00</td>\n",
       "      <td>NaN</td>\n",
       "      <td>NaN</td>\n",
       "      <td>110544.70</td>\n",
       "      <td>2019</td>\n",
       "      <td>4</td>\n",
       "      <td>четверг</td>\n",
       "      <td>другой</td>\n",
       "      <td>0.48</td>\n",
       "      <td>0.26</td>\n",
       "    </tr>\n",
       "    <tr>\n",
       "      <th>8</th>\n",
       "      <td>20</td>\n",
       "      <td>2900000</td>\n",
       "      <td>33.16</td>\n",
       "      <td>2018-05-23</td>\n",
       "      <td>1</td>\n",
       "      <td>2.70</td>\n",
       "      <td>27.00</td>\n",
       "      <td>15.43</td>\n",
       "      <td>26</td>\n",
       "      <td>False</td>\n",
       "      <td>...</td>\n",
       "      <td>NaN</td>\n",
       "      <td>NaN</td>\n",
       "      <td>189.00</td>\n",
       "      <td>87454.77</td>\n",
       "      <td>2018</td>\n",
       "      <td>5</td>\n",
       "      <td>среда</td>\n",
       "      <td>другой</td>\n",
       "      <td>0.47</td>\n",
       "      <td>0.27</td>\n",
       "    </tr>\n",
       "    <tr>\n",
       "      <th>9</th>\n",
       "      <td>18</td>\n",
       "      <td>5400000</td>\n",
       "      <td>61.00</td>\n",
       "      <td>2017-02-26</td>\n",
       "      <td>3</td>\n",
       "      <td>2.50</td>\n",
       "      <td>9.00</td>\n",
       "      <td>43.60</td>\n",
       "      <td>7</td>\n",
       "      <td>False</td>\n",
       "      <td>...</td>\n",
       "      <td>0.00</td>\n",
       "      <td>NaN</td>\n",
       "      <td>289.00</td>\n",
       "      <td>88524.59</td>\n",
       "      <td>2017</td>\n",
       "      <td>2</td>\n",
       "      <td>воскресенье</td>\n",
       "      <td>другой</td>\n",
       "      <td>0.71</td>\n",
       "      <td>0.11</td>\n",
       "    </tr>\n",
       "  </tbody>\n",
       "</table>\n",
       "<p>10 rows × 28 columns</p>\n",
       "</div>"
      ],
      "text/plain": [
       "   total_images  last_price  total_area first_day_exposition  rooms  \\\n",
       "0            20    13000000      108.00           2019-03-07      3   \n",
       "1             7     3350000       40.40           2018-12-04      1   \n",
       "2            10     5196000       56.00           2015-08-20      2   \n",
       "3             0    64900000      159.00           2015-07-24      3   \n",
       "4             2    10000000      100.00           2018-06-19      2   \n",
       "5            10     2890000       30.40           2018-09-10      1   \n",
       "6             6     3700000       37.30           2017-11-02      1   \n",
       "7             5     7915000       71.60           2019-04-18      2   \n",
       "8            20     2900000       33.16           2018-05-23      1   \n",
       "9            18     5400000       61.00           2017-02-26      3   \n",
       "\n",
       "   ceiling_height  floors_total  living_area  floor  studio  ...  \\\n",
       "0            2.70         16.00        51.00      8   False  ...   \n",
       "1            2.75         11.00        18.60      1   False  ...   \n",
       "2            2.55          5.00        34.30      4   False  ...   \n",
       "3            2.60         14.00        54.00      9   False  ...   \n",
       "4            3.03         14.00        32.00     13   False  ...   \n",
       "5            2.65         12.00        14.40      5   False  ...   \n",
       "6            2.66         26.00        10.60      6   False  ...   \n",
       "7            2.75         24.00        34.65     22   False  ...   \n",
       "8            2.70         27.00        15.43     26   False  ...   \n",
       "9            2.50          9.00        43.60      7   False  ...   \n",
       "\n",
       "   ponds_around3000  ponds_nearest  days_exposition square_meter_price  \\\n",
       "0              2.00         755.00              NaN          120370.37   \n",
       "1              0.00            NaN            81.00           82920.79   \n",
       "2              2.00         574.00           558.00           92785.71   \n",
       "3              3.00         234.00           424.00          408176.09   \n",
       "4              1.00          48.00           121.00          100000.00   \n",
       "5               NaN            NaN            55.00           95065.79   \n",
       "6              0.00            NaN           155.00           99195.71   \n",
       "7              0.00            NaN              NaN          110544.70   \n",
       "8               NaN            NaN           189.00           87454.77   \n",
       "9              0.00            NaN           289.00           88524.59   \n",
       "\n",
       "   year_exposition  month_exposition  day_exposition  floor_category  \\\n",
       "0             2019                 3         четверг          другой   \n",
       "1             2018                12         вторник          первый   \n",
       "2             2015                 8         четверг          другой   \n",
       "3             2015                 7         пятница          другой   \n",
       "4             2018                 6         вторник          другой   \n",
       "5             2018                 9     понедельник          другой   \n",
       "6             2017                11         четверг          другой   \n",
       "7             2019                 4         четверг          другой   \n",
       "8             2018                 5           среда          другой   \n",
       "9             2017                 2     воскресенье          другой   \n",
       "\n",
       "   living_area_ratio  kitchen_area_ratio  \n",
       "0               0.47                0.23  \n",
       "1               0.46                0.27  \n",
       "2               0.61                0.15  \n",
       "3               0.34                0.09  \n",
       "4               0.32                0.41  \n",
       "5               0.47                0.30  \n",
       "6               0.28                0.39  \n",
       "7               0.48                0.26  \n",
       "8               0.47                0.27  \n",
       "9               0.71                0.11  \n",
       "\n",
       "[10 rows x 28 columns]"
      ]
     },
     "execution_count": 40,
     "metadata": {},
     "output_type": "execute_result"
    }
   ],
   "source": [
    "df.head(10)"
   ]
  },
  {
   "cell_type": "markdown",
   "id": "f56402fe",
   "metadata": {},
   "source": [
    "**Вывод:** с целью повышения эффективности дальнейшего исследования данных о продажах квартир были проведены категоризация данных и добавление новых признаков на основе существующих."
   ]
  },
  {
   "cell_type": "markdown",
   "id": "f2b89b52",
   "metadata": {},
   "source": [
    "## Исследовательский анализ данных"
   ]
  },
  {
   "cell_type": "markdown",
   "id": "782787f9",
   "metadata": {},
   "source": [
    "### Изучение параметров: площадь, цена, число комнат, высота потолков"
   ]
  },
  {
   "cell_type": "code",
   "execution_count": 41,
   "id": "3a7545ce",
   "metadata": {},
   "outputs": [
    {
     "data": {
      "text/html": [
       "<div>\n",
       "<style scoped>\n",
       "    .dataframe tbody tr th:only-of-type {\n",
       "        vertical-align: middle;\n",
       "    }\n",
       "\n",
       "    .dataframe tbody tr th {\n",
       "        vertical-align: top;\n",
       "    }\n",
       "\n",
       "    .dataframe thead th {\n",
       "        text-align: right;\n",
       "    }\n",
       "</style>\n",
       "<table border=\"1\" class=\"dataframe\">\n",
       "  <thead>\n",
       "    <tr style=\"text-align: right;\">\n",
       "      <th></th>\n",
       "      <th>total_area</th>\n",
       "      <th>last_price</th>\n",
       "      <th>rooms</th>\n",
       "      <th>ceiling_height</th>\n",
       "    </tr>\n",
       "  </thead>\n",
       "  <tbody>\n",
       "    <tr>\n",
       "      <th>count</th>\n",
       "      <td>23699.00</td>\n",
       "      <td>23699.00</td>\n",
       "      <td>23699.00</td>\n",
       "      <td>23613.00</td>\n",
       "    </tr>\n",
       "    <tr>\n",
       "      <th>mean</th>\n",
       "      <td>60.35</td>\n",
       "      <td>6541548.77</td>\n",
       "      <td>2.07</td>\n",
       "      <td>2.73</td>\n",
       "    </tr>\n",
       "    <tr>\n",
       "      <th>std</th>\n",
       "      <td>35.65</td>\n",
       "      <td>10887013.27</td>\n",
       "      <td>1.08</td>\n",
       "      <td>0.98</td>\n",
       "    </tr>\n",
       "    <tr>\n",
       "      <th>min</th>\n",
       "      <td>12.00</td>\n",
       "      <td>12190.00</td>\n",
       "      <td>0.00</td>\n",
       "      <td>1.00</td>\n",
       "    </tr>\n",
       "    <tr>\n",
       "      <th>25%</th>\n",
       "      <td>40.00</td>\n",
       "      <td>3400000.00</td>\n",
       "      <td>1.00</td>\n",
       "      <td>2.55</td>\n",
       "    </tr>\n",
       "    <tr>\n",
       "      <th>50%</th>\n",
       "      <td>52.00</td>\n",
       "      <td>4650000.00</td>\n",
       "      <td>2.00</td>\n",
       "      <td>2.65</td>\n",
       "    </tr>\n",
       "    <tr>\n",
       "      <th>75%</th>\n",
       "      <td>69.90</td>\n",
       "      <td>6800000.00</td>\n",
       "      <td>3.00</td>\n",
       "      <td>2.75</td>\n",
       "    </tr>\n",
       "    <tr>\n",
       "      <th>max</th>\n",
       "      <td>900.00</td>\n",
       "      <td>763000000.00</td>\n",
       "      <td>19.00</td>\n",
       "      <td>100.00</td>\n",
       "    </tr>\n",
       "  </tbody>\n",
       "</table>\n",
       "</div>"
      ],
      "text/plain": [
       "       total_area   last_price    rooms  ceiling_height\n",
       "count    23699.00     23699.00 23699.00        23613.00\n",
       "mean        60.35   6541548.77     2.07            2.73\n",
       "std         35.65  10887013.27     1.08            0.98\n",
       "min         12.00     12190.00     0.00            1.00\n",
       "25%         40.00   3400000.00     1.00            2.55\n",
       "50%         52.00   4650000.00     2.00            2.65\n",
       "75%         69.90   6800000.00     3.00            2.75\n",
       "max        900.00 763000000.00    19.00          100.00"
      ]
     },
     "execution_count": 41,
     "metadata": {},
     "output_type": "execute_result"
    }
   ],
   "source": [
    "columns_list = ['total_area', 'last_price', 'rooms', 'ceiling_height']\n",
    "df[columns_list].describe()"
   ]
  },
  {
   "cell_type": "code",
   "execution_count": 42,
   "id": "7060c608",
   "metadata": {},
   "outputs": [
    {
     "data": {
      "image/png": "[encoded data removed]",
      "text/plain": [
       "<Figure size 1080x648 with 4 Axes>"
      ]
     },
     "metadata": {},
     "output_type": "display_data"
    }
   ],
   "source": [
    "fig, axes = plt.subplots(nrows=2, ncols=2, figsize=(200, 100))\n",
    "ax = df.plot(\n",
    "    y='total_area', kind='hist', bins=30, range=(0, df['total_area'].quantile(0.99)), \n",
    "    ax=axes[0, 0], figsize=(15, 9), ec='black', \n",
    "    legend=False, title='Гистограмма распределения общей площади'\n",
    ")\n",
    "ax.set_xlabel('Общая площадь, м2')\n",
    "ax.set_ylabel('Количество квартир, шт')\n",
    "\n",
    "ax = df.plot(\n",
    "    y='last_price', kind='hist', bins=30, range=(0, df['last_price'].quantile(0.99)), \n",
    "    ax=axes[0, 1], figsize=(15, 9), ec='black', \n",
    "    legend=False, title='Гистограмма распределения стоимости'\n",
    ")\n",
    "ax.set_xlabel('Стоимость, руб')\n",
    "ax.set_ylabel('Количество квартир, шт')\n",
    "\n",
    "ax = df.plot(\n",
    "    y='rooms', kind='hist', bins=30, range=(1, 10), \n",
    "    ax=axes[1, 0], figsize=(15, 9), ec='black', xticks=range(0, 10, 1), \n",
    "    legend=False, title='Гистограмма распределения этажа'\n",
    ")\n",
    "ax.set_xlabel('Этаж расположения')\n",
    "ax.set_ylabel('Количество квартир, шт')\n",
    "\n",
    "ax = df.plot(\n",
    "    y='ceiling_height', kind='hist', bins=30, range=(2, 4), \n",
    "    ax=axes[1, 1], figsize=(15, 9), ec='black', \n",
    "    legend=False, title='Гистограмма распределения высоты потолка'\n",
    ")\n",
    "ax.set_xlabel('Высота потолка, м')\n",
    "ax.set_ylabel('Количество квартир, шт');"
   ]
  },
  {
   "cell_type": "markdown",
   "id": "6a141c9b",
   "metadata": {},
   "source": [
    "**Выводы:**\n",
    "1. Среднее и медианное значения площади жилья составляют *60.4 м2* и *52 м2*, соответственно. Основная масса квартир сосредоточена в диапазоне *30-70 м2*, что соответствует 1-2 комнатным квартирам, которых, как можно видеть на гистограмме распределения, большинство. На рынке также присутствует небольшое количество квартир свыше *100 м2*, максимальная площадь соответствует *900 м2*.\n",
    "2. Среднее и медианное значения цены составляют *6.5 млн. руб* и *4.7 млн. руб*, соответственно. Опираясь на гистограммы распределения значений, можно заметить значительную закономерность между площадью и стоимостью квартиры. \n",
    "3. Основная масса квартир для продажи, *1-2-комнатные*, однако также присутствует значительное количество *3-комнатных*. \n",
    "4. Основная масса квартир с высотой потолка *2.65 м*, что в своем большинстве соответствует типовым панельным многоэтажным домам."
   ]
  },
  {
   "cell_type": "markdown",
   "id": "9f4cd09e",
   "metadata": {},
   "source": [
    "### Изучение времени продажи квартиры"
   ]
  },
  {
   "cell_type": "code",
   "execution_count": 43,
   "id": "cfe72225",
   "metadata": {},
   "outputs": [
    {
     "data": {
      "text/plain": [
       "count   20518.00\n",
       "mean      180.89\n",
       "std       219.73\n",
       "min         1.00\n",
       "25%        45.00\n",
       "50%        95.00\n",
       "75%       232.00\n",
       "max      1580.00\n",
       "Name: days_exposition, dtype: float64"
      ]
     },
     "execution_count": 43,
     "metadata": {},
     "output_type": "execute_result"
    }
   ],
   "source": [
    "df['days_exposition'].describe()"
   ]
  },
  {
   "cell_type": "code",
   "execution_count": 44,
   "id": "80e8e9ad",
   "metadata": {},
   "outputs": [
    {
     "data": {
      "image/png": "[encoded data removed]",
      "text/plain": [
       "<Figure size 720x360 with 1 Axes>"
      ]
     },
     "metadata": {},
     "output_type": "display_data"
    }
   ],
   "source": [
    "ax = df.plot(y='days_exposition', kind='hist', bins=50, figsize=(10, 5), \n",
    "             ec='black', legend=False, title='Гистограмма распределения времени продажи')\n",
    "ax.set_xlabel('Время продажи, дни')\n",
    "ax.set_ylabel('Количество квартир, шт');"
   ]
  },
  {
   "cell_type": "code",
   "execution_count": 69,
   "id": "0685470d",
   "metadata": {},
   "outputs": [
    {
     "data": {
      "image/png": "[encoded data removed]",
      "text/plain": [
       "<Figure size 432x288 with 1 Axes>"
      ]
     },
     "metadata": {},
     "output_type": "display_data"
    }
   ],
   "source": [
    "ax = df.boxplot(column='days_exposition')\n",
    "ax.set_ylabel('Время продажи, дни');"
   ]
  },
  {
   "cell_type": "code",
   "execution_count": 46,
   "id": "c9dc164f",
   "metadata": {},
   "outputs": [
    {
     "data": {
      "image/png": "[encoded data removed]",
      "text/plain": [
       "<Figure size 720x360 with 1 Axes>"
      ]
     },
     "metadata": {},
     "output_type": "display_data"
    }
   ],
   "source": [
    "ax=df.query('days_exposition < 365').plot(\n",
    "    y='days_exposition', kind='hist', bins=50, \n",
    "    figsize=(10, 5), ec='black', \n",
    "    legend=False, title='Гистограмму распределения времени продажи в течение 1 года'\n",
    ")\n",
    "ax.set_xlabel('Время продажи, дни')\n",
    "ax.set_ylabel('Количество квартир, шт');"
   ]
  },
  {
   "cell_type": "code",
   "execution_count": 47,
   "id": "de0250fb",
   "metadata": {},
   "outputs": [
    {
     "data": {
      "text/plain": [
       "45.00    880\n",
       "60.00    538\n",
       "7.00     234\n",
       "30.00    208\n",
       "90.00    204\n",
       "4.00     176\n",
       "3.00     158\n",
       "5.00     152\n",
       "14.00    148\n",
       "9.00     143\n",
       "Name: days_exposition, dtype: int64"
      ]
     },
     "execution_count": 47,
     "metadata": {},
     "output_type": "execute_result"
    }
   ],
   "source": [
    "df['days_exposition'].value_counts().head(10)"
   ]
  },
  {
   "cell_type": "markdown",
   "id": "d5967517",
   "metadata": {},
   "source": [
    "**Выводы:**\n",
    "1. Среднее время продажи составляет *181 день*, однако с учетом стандартного отклонения в *220 дней*, оно не является информативным.\n",
    "2. Медианное время продажи составляет *95 дней*, межквартильный размах от *45* до *232 дней*. У данного показателя есть неоспоримое преимущество: он является робастным, т.е. не зависит от аномальных значений.\n",
    "3. Наиболее частые дни закрытия объявления: *7*, *30*, *45*, *60*, *90*. Скорее всего это связанно с автоматическим закрытием объявления при окончании срока публикации и его не продлении."
   ]
  },
  {
   "cell_type": "markdown",
   "id": "2636c7b2",
   "metadata": {},
   "source": [
    "### Очистка данных от редких и выбивающихся значений"
   ]
  },
  {
   "cell_type": "markdown",
   "id": "62028d4a",
   "metadata": {},
   "source": [
    "Определим выбросы как: все значения, лежащие на 1,5 межквартильных размаха ниже и выше, первого и третьего квартиля, соответственно."
   ]
  },
  {
   "cell_type": "code",
   "execution_count": 48,
   "id": "fe6e8be0",
   "metadata": {},
   "outputs": [],
   "source": [
    "columns_ls = ['last_price', 'total_area', 'rooms', 'ceiling_height', 'living_area', \n",
    "                                'kitchen_area', 'square_meter_price', 'living_area_ratio', 'kitchen_area_ratio']\n",
    "for column in columns_ls:\n",
    "    minimum = df[column].quantile(0.25) - 1.5 * (df[column].quantile(0.75) - df[column].quantile(0.25))\n",
    "    maximum = df[column].quantile(0.75) + 1.5 * (df[column].quantile(0.75) - df[column].quantile(0.25))\n",
    "    if minimum < df[column].min():\n",
    "        minimum == df[column].min()\n",
    "    if maximum > df[column].max():\n",
    "        maximum == df[column].max()\n",
    "    df[column] = df.loc[(df[column]>= minimum) & (df[column] <= maximum), column]"
   ]
  },
  {
   "cell_type": "code",
   "execution_count": 49,
   "id": "6f8962e9",
   "metadata": {},
   "outputs": [
    {
     "data": {
      "text/html": [
       "<div>\n",
       "<style scoped>\n",
       "    .dataframe tbody tr th:only-of-type {\n",
       "        vertical-align: middle;\n",
       "    }\n",
       "\n",
       "    .dataframe tbody tr th {\n",
       "        vertical-align: top;\n",
       "    }\n",
       "\n",
       "    .dataframe thead th {\n",
       "        text-align: right;\n",
       "    }\n",
       "</style>\n",
       "<table border=\"1\" class=\"dataframe\">\n",
       "  <thead>\n",
       "    <tr style=\"text-align: right;\">\n",
       "      <th></th>\n",
       "      <th>total_images</th>\n",
       "      <th>last_price</th>\n",
       "      <th>total_area</th>\n",
       "      <th>rooms</th>\n",
       "      <th>ceiling_height</th>\n",
       "      <th>floors_total</th>\n",
       "      <th>living_area</th>\n",
       "      <th>floor</th>\n",
       "      <th>kitchen_area</th>\n",
       "      <th>balcony</th>\n",
       "      <th>...</th>\n",
       "      <th>parks_around3000</th>\n",
       "      <th>parks_nearest</th>\n",
       "      <th>ponds_around3000</th>\n",
       "      <th>ponds_nearest</th>\n",
       "      <th>days_exposition</th>\n",
       "      <th>square_meter_price</th>\n",
       "      <th>year_exposition</th>\n",
       "      <th>month_exposition</th>\n",
       "      <th>living_area_ratio</th>\n",
       "      <th>kitchen_area_ratio</th>\n",
       "    </tr>\n",
       "  </thead>\n",
       "  <tbody>\n",
       "    <tr>\n",
       "      <th>count</th>\n",
       "      <td>23699.00</td>\n",
       "      <td>21665.00</td>\n",
       "      <td>22459.00</td>\n",
       "      <td>23609.00</td>\n",
       "      <td>22141.00</td>\n",
       "      <td>23613.00</td>\n",
       "      <td>22675.00</td>\n",
       "      <td>23699.00</td>\n",
       "      <td>22033.00</td>\n",
       "      <td>23699.00</td>\n",
       "      <td>...</td>\n",
       "      <td>18181.00</td>\n",
       "      <td>8079.00</td>\n",
       "      <td>18181.00</td>\n",
       "      <td>9110.00</td>\n",
       "      <td>20518.00</td>\n",
       "      <td>22606.00</td>\n",
       "      <td>23699.00</td>\n",
       "      <td>23699.00</td>\n",
       "      <td>23274.00</td>\n",
       "      <td>22897.00</td>\n",
       "    </tr>\n",
       "    <tr>\n",
       "      <th>mean</th>\n",
       "      <td>9.86</td>\n",
       "      <td>4848768.31</td>\n",
       "      <td>54.36</td>\n",
       "      <td>2.05</td>\n",
       "      <td>2.67</td>\n",
       "      <td>10.67</td>\n",
       "      <td>31.53</td>\n",
       "      <td>5.89</td>\n",
       "      <td>9.51</td>\n",
       "      <td>0.59</td>\n",
       "      <td>...</td>\n",
       "      <td>0.61</td>\n",
       "      <td>490.80</td>\n",
       "      <td>0.77</td>\n",
       "      <td>517.98</td>\n",
       "      <td>180.89</td>\n",
       "      <td>93765.52</td>\n",
       "      <td>2017.37</td>\n",
       "      <td>6.40</td>\n",
       "      <td>0.57</td>\n",
       "      <td>0.18</td>\n",
       "    </tr>\n",
       "    <tr>\n",
       "      <th>std</th>\n",
       "      <td>5.68</td>\n",
       "      <td>2229914.14</td>\n",
       "      <td>19.39</td>\n",
       "      <td>1.01</td>\n",
       "      <td>0.15</td>\n",
       "      <td>6.60</td>\n",
       "      <td>13.89</td>\n",
       "      <td>4.89</td>\n",
       "      <td>3.12</td>\n",
       "      <td>0.96</td>\n",
       "      <td>...</td>\n",
       "      <td>0.80</td>\n",
       "      <td>342.32</td>\n",
       "      <td>0.94</td>\n",
       "      <td>277.72</td>\n",
       "      <td>219.73</td>\n",
       "      <td>28624.76</td>\n",
       "      <td>1.04</td>\n",
       "      <td>3.49</td>\n",
       "      <td>0.10</td>\n",
       "      <td>0.06</td>\n",
       "    </tr>\n",
       "    <tr>\n",
       "      <th>min</th>\n",
       "      <td>0.00</td>\n",
       "      <td>12190.00</td>\n",
       "      <td>12.00</td>\n",
       "      <td>0.00</td>\n",
       "      <td>2.25</td>\n",
       "      <td>1.00</td>\n",
       "      <td>2.00</td>\n",
       "      <td>1.00</td>\n",
       "      <td>1.30</td>\n",
       "      <td>0.00</td>\n",
       "      <td>...</td>\n",
       "      <td>0.00</td>\n",
       "      <td>1.00</td>\n",
       "      <td>0.00</td>\n",
       "      <td>13.00</td>\n",
       "      <td>1.00</td>\n",
       "      <td>20140.11</td>\n",
       "      <td>2014.00</td>\n",
       "      <td>1.00</td>\n",
       "      <td>0.28</td>\n",
       "      <td>0.03</td>\n",
       "    </tr>\n",
       "    <tr>\n",
       "      <th>25%</th>\n",
       "      <td>6.00</td>\n",
       "      <td>3300000.00</td>\n",
       "      <td>39.40</td>\n",
       "      <td>1.00</td>\n",
       "      <td>2.55</td>\n",
       "      <td>5.00</td>\n",
       "      <td>18.37</td>\n",
       "      <td>2.00</td>\n",
       "      <td>7.00</td>\n",
       "      <td>0.00</td>\n",
       "      <td>...</td>\n",
       "      <td>0.00</td>\n",
       "      <td>288.00</td>\n",
       "      <td>0.00</td>\n",
       "      <td>294.00</td>\n",
       "      <td>45.00</td>\n",
       "      <td>76102.46</td>\n",
       "      <td>2017.00</td>\n",
       "      <td>3.00</td>\n",
       "      <td>0.50</td>\n",
       "      <td>0.13</td>\n",
       "    </tr>\n",
       "    <tr>\n",
       "      <th>50%</th>\n",
       "      <td>9.00</td>\n",
       "      <td>4400000.00</td>\n",
       "      <td>50.10</td>\n",
       "      <td>2.00</td>\n",
       "      <td>2.65</td>\n",
       "      <td>9.00</td>\n",
       "      <td>30.00</td>\n",
       "      <td>4.00</td>\n",
       "      <td>9.00</td>\n",
       "      <td>0.00</td>\n",
       "      <td>...</td>\n",
       "      <td>0.00</td>\n",
       "      <td>455.00</td>\n",
       "      <td>1.00</td>\n",
       "      <td>502.00</td>\n",
       "      <td>95.00</td>\n",
       "      <td>93905.77</td>\n",
       "      <td>2017.00</td>\n",
       "      <td>6.00</td>\n",
       "      <td>0.57</td>\n",
       "      <td>0.17</td>\n",
       "    </tr>\n",
       "    <tr>\n",
       "      <th>75%</th>\n",
       "      <td>14.00</td>\n",
       "      <td>6000000.00</td>\n",
       "      <td>65.60</td>\n",
       "      <td>3.00</td>\n",
       "      <td>2.75</td>\n",
       "      <td>16.00</td>\n",
       "      <td>41.00</td>\n",
       "      <td>8.00</td>\n",
       "      <td>11.11</td>\n",
       "      <td>1.00</td>\n",
       "      <td>...</td>\n",
       "      <td>1.00</td>\n",
       "      <td>612.00</td>\n",
       "      <td>1.00</td>\n",
       "      <td>729.00</td>\n",
       "      <td>232.00</td>\n",
       "      <td>111414.91</td>\n",
       "      <td>2018.00</td>\n",
       "      <td>10.00</td>\n",
       "      <td>0.64</td>\n",
       "      <td>0.23</td>\n",
       "    </tr>\n",
       "    <tr>\n",
       "      <th>max</th>\n",
       "      <td>50.00</td>\n",
       "      <td>11900000.00</td>\n",
       "      <td>114.60</td>\n",
       "      <td>6.00</td>\n",
       "      <td>3.05</td>\n",
       "      <td>60.00</td>\n",
       "      <td>77.60</td>\n",
       "      <td>33.00</td>\n",
       "      <td>19.50</td>\n",
       "      <td>5.00</td>\n",
       "      <td>...</td>\n",
       "      <td>3.00</td>\n",
       "      <td>3190.00</td>\n",
       "      <td>3.00</td>\n",
       "      <td>1344.00</td>\n",
       "      <td>1580.00</td>\n",
       "      <td>170731.70</td>\n",
       "      <td>2019.00</td>\n",
       "      <td>12.00</td>\n",
       "      <td>0.85</td>\n",
       "      <td>0.38</td>\n",
       "    </tr>\n",
       "  </tbody>\n",
       "</table>\n",
       "<p>8 rows × 22 columns</p>\n",
       "</div>"
      ],
      "text/plain": [
       "       total_images  last_price  total_area    rooms  ceiling_height  \\\n",
       "count      23699.00    21665.00    22459.00 23609.00        22141.00   \n",
       "mean           9.86  4848768.31       54.36     2.05            2.67   \n",
       "std            5.68  2229914.14       19.39     1.01            0.15   \n",
       "min            0.00    12190.00       12.00     0.00            2.25   \n",
       "25%            6.00  3300000.00       39.40     1.00            2.55   \n",
       "50%            9.00  4400000.00       50.10     2.00            2.65   \n",
       "75%           14.00  6000000.00       65.60     3.00            2.75   \n",
       "max           50.00 11900000.00      114.60     6.00            3.05   \n",
       "\n",
       "       floors_total  living_area    floor  kitchen_area  balcony  ...  \\\n",
       "count      23613.00     22675.00 23699.00      22033.00 23699.00  ...   \n",
       "mean          10.67        31.53     5.89          9.51     0.59  ...   \n",
       "std            6.60        13.89     4.89          3.12     0.96  ...   \n",
       "min            1.00         2.00     1.00          1.30     0.00  ...   \n",
       "25%            5.00        18.37     2.00          7.00     0.00  ...   \n",
       "50%            9.00        30.00     4.00          9.00     0.00  ...   \n",
       "75%           16.00        41.00     8.00         11.11     1.00  ...   \n",
       "max           60.00        77.60    33.00         19.50     5.00  ...   \n",
       "\n",
       "       parks_around3000  parks_nearest  ponds_around3000  ponds_nearest  \\\n",
       "count          18181.00        8079.00          18181.00        9110.00   \n",
       "mean               0.61         490.80              0.77         517.98   \n",
       "std                0.80         342.32              0.94         277.72   \n",
       "min                0.00           1.00              0.00          13.00   \n",
       "25%                0.00         288.00              0.00         294.00   \n",
       "50%                0.00         455.00              1.00         502.00   \n",
       "75%                1.00         612.00              1.00         729.00   \n",
       "max                3.00        3190.00              3.00        1344.00   \n",
       "\n",
       "       days_exposition  square_meter_price  year_exposition  month_exposition  \\\n",
       "count         20518.00            22606.00         23699.00          23699.00   \n",
       "mean            180.89            93765.52          2017.37              6.40   \n",
       "std             219.73            28624.76             1.04              3.49   \n",
       "min               1.00            20140.11          2014.00              1.00   \n",
       "25%              45.00            76102.46          2017.00              3.00   \n",
       "50%              95.00            93905.77          2017.00              6.00   \n",
       "75%             232.00           111414.91          2018.00             10.00   \n",
       "max            1580.00           170731.70          2019.00             12.00   \n",
       "\n",
       "       living_area_ratio  kitchen_area_ratio  \n",
       "count           23274.00            22897.00  \n",
       "mean                0.57                0.18  \n",
       "std                 0.10                0.06  \n",
       "min                 0.28                0.03  \n",
       "25%                 0.50                0.13  \n",
       "50%                 0.57                0.17  \n",
       "75%                 0.64                0.23  \n",
       "max                 0.85                0.38  \n",
       "\n",
       "[8 rows x 22 columns]"
      ]
     },
     "execution_count": 49,
     "metadata": {},
     "output_type": "execute_result"
    }
   ],
   "source": [
    "df.describe()"
   ]
  },
  {
   "cell_type": "markdown",
   "id": "559b7536",
   "metadata": {},
   "source": [
    "Используя метод `describe()` можно заметить, что средние значения исследуемых признакам приблизились к медианным. Этот факт подтверждает успешность очистки данных от выбросов."
   ]
  },
  {
   "cell_type": "markdown",
   "id": "c4a505ad",
   "metadata": {},
   "source": [
    "### Определение факторов больше всего влияющих на стоимость квартиры"
   ]
  },
  {
   "cell_type": "markdown",
   "id": "7bc664e8",
   "metadata": {},
   "source": [
    "**Необходимо изучить зависимость цены от:**\n",
    "- площади; \n",
    "- числа комнат; \n",
    "- удалённости от центра;\n",
    "- этажа расположения; \n",
    "- даты размещения: дня недели, месяца и года."
   ]
  },
  {
   "cell_type": "code",
   "execution_count": 50,
   "id": "344b8af9",
   "metadata": {},
   "outputs": [
    {
     "data": {
      "image/png": "[encoded data removed]",
      "text/plain": [
       "<Figure size 720x720 with 2 Axes>"
      ]
     },
     "metadata": {},
     "output_type": "display_data"
    }
   ],
   "source": [
    "plt.figure(figsize=(10, 10))\n",
    "sns.heatmap(\n",
    "    df[['last_price', 'total_area', 'rooms', 'city_center_nearest', \n",
    "        'living_area', 'kitchen_area', 'floor', 'year_exposition', 'month_exposition',\n",
    "       'day_exposition']].corr(), cmap='coolwarm', annot=True, fmt='.2f', annot_kws={'size':12}\n",
    ");"
   ]
  },
  {
   "cell_type": "code",
   "execution_count": 51,
   "id": "b15fcc38",
   "metadata": {},
   "outputs": [
    {
     "data": {
      "image/png": "[encoded data removed]",
      "text/plain": [
       "<Figure size 72x576 with 2 Axes>"
      ]
     },
     "metadata": {},
     "output_type": "display_data"
    }
   ],
   "source": [
    "plt.figure(figsize=(1,8))\n",
    "sns.heatmap(\n",
    "    df.corr()[['last_price']].\n",
    "    sort_values(by='last_price', ascending=False), \n",
    "    cmap='coolwarm', annot=True, fmt='.2f', annot_kws={'size':12}\n",
    ");"
   ]
  },
  {
   "cell_type": "code",
   "execution_count": 52,
   "id": "64b42dff",
   "metadata": {},
   "outputs": [
    {
     "data": {
      "image/png": "[encoded data removed]",
      "text/plain": [
       "<Figure size 1080x648 with 4 Axes>"
      ]
     },
     "metadata": {},
     "output_type": "display_data"
    }
   ],
   "source": [
    "fig, axes = plt.subplots(nrows=2, ncols=2, figsize=(250, 150))\n",
    "ax = df.pivot_table(\n",
    "    index='month_exposition', values='square_meter_price', aggfunc='median').sort_values(\n",
    "    'square_meter_price').plot(\n",
    "    kind='bar', figsize=(15, 9), ec='black', ax=axes[0, 0], legend=False, rot='0', \n",
    "    title='Зависимость цены квадратного метра от месяца'\n",
    ")\n",
    "ax.set_xlabel('Месяц')\n",
    "ax.set_ylabel('Цена квадратного метра, руб')\n",
    "\n",
    "ax = df.pivot_table(\n",
    "    index='year_exposition', values='square_meter_price', aggfunc='median').sort_values(\n",
    "    'square_meter_price').plot(\n",
    "    kind='bar', figsize=(15, 9), ec='black', ax=axes[0, 1], legend=False, rot='0',\n",
    "    title='Зависимость цены квадратного метра от года'\n",
    ")\n",
    "ax.set_xlabel('Год')\n",
    "ax.set_ylabel('Цена квадратного метра, руб')\n",
    "\n",
    "ax = df.pivot_table(\n",
    "    index='day_exposition', values='square_meter_price', aggfunc='median').sort_values(\n",
    "    'square_meter_price').plot(\n",
    "    kind='bar', figsize=(15, 9), ec='black', ax=axes[1, 0], legend=False, rot='0',\n",
    "    title='Зависимость цены квадратного метра от дня недели'\n",
    ")\n",
    "ax.set_xlabel('День недели')\n",
    "ax.set_ylabel('Цена квадратного метра, руб')\n",
    "\n",
    "ax = df.pivot_table(\n",
    "    index='floor_category', values='square_meter_price', aggfunc='median').sort_values(\n",
    "    'square_meter_price').plot(\n",
    "    kind='bar', figsize=(15, 9), ec='black', ax=axes[1, 1], legend=False, rot='0',\n",
    "    title='Зависимость цены квадратного метра от этажа расположения'\n",
    ")\n",
    "ax.set_xlabel('Этаж расположения')\n",
    "ax.set_ylabel('Цена квадратного метра, руб');"
   ]
  },
  {
   "cell_type": "markdown",
   "id": "4d76fd6f",
   "metadata": {},
   "source": [
    "**Выводы:**\n",
    "1. Цена имеет высокую положительную корреляцию с общей площадью, среднюю положительную с жилой площадью и площадью кухни, а также числом комнат. Так как три последние переменные являются зависимыми от первой, можно сказать, что в большей своей части цена взаимосвязана с площадью жилой недвижимости.\n",
    "2. Цена имеет слабую отрицательную корреляцию с удаленностью от центра, что также может влиять на конечную стоимость.\n",
    "3. Опираясь на имеющиеся данные можно заметить, что после *2014 года* произошел спад цен на жилую недвижимость. Три года рынок находился в стагнации, вышел из которой в *2018 году*.\n",
    "4. Как таковая зависимость цены квадратного метра от месяца и дня недели подачи объявления не прослеживается. Однако стоимость в *мае-июне* немного ниже, чем в остальные месяцы.\n",
    "5. Из графика зависимости цены квадратного метра от этажа расположения можно заметить, что *первый* и *последний* этаж негативно сказываются на конечной стоимости."
   ]
  },
  {
   "cell_type": "markdown",
   "id": "f7385e0b",
   "metadata": {},
   "source": [
    "### Определение населённых пунктов с наибольшим количеством предложений"
   ]
  },
  {
   "cell_type": "markdown",
   "id": "4aa08a95",
   "metadata": {},
   "source": [
    "**Необходимо:** \n",
    "- определить 10 населённых пунктов с наибольшим числом объявлений; \n",
    "- посчитать среднюю цену квадратного метра в этих населённых пунктах; \n",
    "- выделить среди них населённые пункты с самой высокой и низкой стоимостью жилья."
   ]
  },
  {
   "cell_type": "code",
   "execution_count": 53,
   "id": "0f099749",
   "metadata": {},
   "outputs": [],
   "source": [
    "df_top = df.pivot_table(index='locality_name', values='square_meter_price', aggfunc=['mean', 'count'])\n",
    "df_top.columns = ['Средняя цена', 'Количество объявлений']\n",
    "df_top = df_top.sort_values(by='Количество объявлений', ascending=False).head(10)"
   ]
  },
  {
   "cell_type": "code",
   "execution_count": 54,
   "id": "a913998f",
   "metadata": {},
   "outputs": [
    {
     "data": {
      "image/png": "[encoded data removed]",
      "text/plain": [
       "<Figure size 720x504 with 1 Axes>"
      ]
     },
     "metadata": {},
     "output_type": "display_data"
    }
   ],
   "source": [
    "ax = df_top.sort_values(\n",
    "    by='Средняя цена', ascending=False).plot(\n",
    "    y='Средняя цена', kind='bar', figsize=(10, 7), ec='black', rot='45', \n",
    "    legend=False, title = 'Зависимость цены квадратного метра от населенного пункта'\n",
    ")\n",
    "ax.set_xlabel('')\n",
    "ax.set_ylabel('Средня цена квадратного метра, руб');"
   ]
  },
  {
   "cell_type": "code",
   "execution_count": 55,
   "id": "086daa3f",
   "metadata": {},
   "outputs": [
    {
     "data": {
      "text/html": [
       "<div>\n",
       "<style scoped>\n",
       "    .dataframe tbody tr th:only-of-type {\n",
       "        vertical-align: middle;\n",
       "    }\n",
       "\n",
       "    .dataframe tbody tr th {\n",
       "        vertical-align: top;\n",
       "    }\n",
       "\n",
       "    .dataframe thead th {\n",
       "        text-align: right;\n",
       "    }\n",
       "</style>\n",
       "<table border=\"1\" class=\"dataframe\">\n",
       "  <thead>\n",
       "    <tr style=\"text-align: right;\">\n",
       "      <th></th>\n",
       "      <th>Средняя цена</th>\n",
       "      <th>Количество объявлений</th>\n",
       "    </tr>\n",
       "    <tr>\n",
       "      <th>locality_name</th>\n",
       "      <th></th>\n",
       "      <th></th>\n",
       "    </tr>\n",
       "  </thead>\n",
       "  <tbody>\n",
       "    <tr>\n",
       "      <th>Санкт-Петербург</th>\n",
       "      <td>106345.41</td>\n",
       "      <td>14832</td>\n",
       "    </tr>\n",
       "    <tr>\n",
       "      <th>посёлок Мурино</th>\n",
       "      <td>85752.19</td>\n",
       "      <td>522</td>\n",
       "    </tr>\n",
       "    <tr>\n",
       "      <th>посёлок Шушары</th>\n",
       "      <td>78677.37</td>\n",
       "      <td>440</td>\n",
       "    </tr>\n",
       "    <tr>\n",
       "      <th>Всеволожск</th>\n",
       "      <td>67214.25</td>\n",
       "      <td>397</td>\n",
       "    </tr>\n",
       "    <tr>\n",
       "      <th>Пушкин</th>\n",
       "      <td>102148.20</td>\n",
       "      <td>366</td>\n",
       "    </tr>\n",
       "    <tr>\n",
       "      <th>Колпино</th>\n",
       "      <td>75424.58</td>\n",
       "      <td>338</td>\n",
       "    </tr>\n",
       "    <tr>\n",
       "      <th>посёлок Парголово</th>\n",
       "      <td>90175.91</td>\n",
       "      <td>327</td>\n",
       "    </tr>\n",
       "    <tr>\n",
       "      <th>Гатчина</th>\n",
       "      <td>69294.60</td>\n",
       "      <td>304</td>\n",
       "    </tr>\n",
       "    <tr>\n",
       "      <th>деревня Кудрово</th>\n",
       "      <td>92473.55</td>\n",
       "      <td>299</td>\n",
       "    </tr>\n",
       "    <tr>\n",
       "      <th>Выборг</th>\n",
       "      <td>58308.82</td>\n",
       "      <td>236</td>\n",
       "    </tr>\n",
       "  </tbody>\n",
       "</table>\n",
       "</div>"
      ],
      "text/plain": [
       "                   Средняя цена  Количество объявлений\n",
       "locality_name                                         \n",
       "Санкт-Петербург       106345.41                  14832\n",
       "посёлок Мурино         85752.19                    522\n",
       "посёлок Шушары         78677.37                    440\n",
       "Всеволожск             67214.25                    397\n",
       "Пушкин                102148.20                    366\n",
       "Колпино                75424.58                    338\n",
       "посёлок Парголово      90175.91                    327\n",
       "Гатчина                69294.60                    304\n",
       "деревня Кудрово        92473.55                    299\n",
       "Выборг                 58308.82                    236"
      ]
     },
     "execution_count": 55,
     "metadata": {},
     "output_type": "execute_result"
    }
   ],
   "source": [
    "df_top"
   ]
  },
  {
   "cell_type": "markdown",
   "id": "959014fb",
   "metadata": {},
   "source": [
    "**Вывод:**\n",
    "- Квартиры с наиболее высокой стимостью выставлены на продажу в городах Санкт-Петербург и Пушкин.\n",
    "- Квартиры с наименьшей стоимость выставлены на продажу в городе Выборг.\n",
    "- Цена за квадратный метр в Выборге почти в два раза ниже, чем в городах Пушкин и Санкт-Петербург."
   ]
  },
  {
   "cell_type": "markdown",
   "id": "2019221f",
   "metadata": {},
   "source": [
    "### Определение зависимости цены от удаленности от центра в городе Санкт-Петербург"
   ]
  },
  {
   "cell_type": "markdown",
   "id": "eb28a1a2",
   "metadata": {},
   "source": [
    "**Необходимо:**\n",
    "- изучить квартиры в Санкт-Петербурге и выяснить, какая область входит в центр города; \n",
    "- определить, как цена зависит от удалённости от центра."
   ]
  },
  {
   "cell_type": "code",
   "execution_count": 56,
   "id": "a3ef6ca9",
   "metadata": {},
   "outputs": [],
   "source": [
    "df_sp = df.loc[df['locality_name'] == 'Санкт-Петербург'].copy()\n",
    "df_sp['city_center_nearest_km'] = (df_sp['city_center_nearest'] / 1000).round(0)"
   ]
  },
  {
   "cell_type": "code",
   "execution_count": 57,
   "id": "0caf84a0",
   "metadata": {},
   "outputs": [
    {
     "data": {
      "image/png": "[encoded data removed]",
      "text/plain": [
       "<Figure size 720x504 with 1 Axes>"
      ]
     },
     "metadata": {},
     "output_type": "display_data"
    }
   ],
   "source": [
    "ax = df_sp.pivot_table(\n",
    "    index = 'city_center_nearest_km', values = 'square_meter_price', aggfunc = 'mean').plot(\n",
    "    style='o-', figsize=(10, 7), xticks=range(0, 30, 1), legend=False,\n",
    "    title = 'График зависимости цены от удаленности от центра')\n",
    "ax.set_xlabel('Удаленность от центра, км')\n",
    "ax.set_ylabel('Цена квадратного метра, руб');"
   ]
  },
  {
   "cell_type": "markdown",
   "id": "25948c42",
   "metadata": {},
   "source": [
    "**Вывод:**\n",
    "1. Построив и проанализировав график зависимости цены квадратного метра от удаленности от центра можно заметить два перепада в *3 км* и *8 км*. Судя по максимальному значению в *29 км*, можно предполагать, что центр города ограничен радиусом в *8 км*, а перепад в *3 км* опосредован неизвестным третьим фактором.\n",
    "2. В своей основной массе, в городе Санкт-Петербург удаленность от центра города негативно сказывается на цене квадратного метра."
   ]
  },
  {
   "cell_type": "markdown",
   "id": "c2e5e200",
   "metadata": {},
   "source": [
    "### Исследовательский анализ данных по квартирам в центре Санкт-Петербурга"
   ]
  },
  {
   "cell_type": "markdown",
   "id": "01daab93",
   "metadata": {},
   "source": [
    "**Необходимо:**\n",
    "- выделить сегмент квартир в центре города; \n",
    "- проанализировать данную территорию и изучить следующие параметры: площадь, цена, число комнат, высота потолков; \n",
    "- определить факторы, которые влияют на стоимость квартиры; \n",
    "- определить отличаются ли выводы по данному сегменту квартир от общих выводов по всему городу."
   ]
  },
  {
   "cell_type": "code",
   "execution_count": 58,
   "id": "c38a9f55",
   "metadata": {},
   "outputs": [
    {
     "name": "stdout",
     "output_type": "stream",
     "text": [
      "В центре Санкт-Петербурга выставлено на продажу 4140 квартир\n"
     ]
    }
   ],
   "source": [
    "df_sp_center = df_sp.query('city_center_nearest_km <= 8')\n",
    "print(f'В центре Санкт-Петербурга выставлено на продажу {df_sp_center.shape[0]} квартир')"
   ]
  },
  {
   "cell_type": "code",
   "execution_count": 59,
   "id": "776b51b2",
   "metadata": {},
   "outputs": [
    {
     "data": {
      "text/html": [
       "<div>\n",
       "<style scoped>\n",
       "    .dataframe tbody tr th:only-of-type {\n",
       "        vertical-align: middle;\n",
       "    }\n",
       "\n",
       "    .dataframe tbody tr th {\n",
       "        vertical-align: top;\n",
       "    }\n",
       "\n",
       "    .dataframe thead th {\n",
       "        text-align: right;\n",
       "    }\n",
       "</style>\n",
       "<table border=\"1\" class=\"dataframe\">\n",
       "  <thead>\n",
       "    <tr style=\"text-align: right;\">\n",
       "      <th></th>\n",
       "      <th>total_area</th>\n",
       "      <th>last_price</th>\n",
       "      <th>rooms</th>\n",
       "      <th>ceiling_height</th>\n",
       "    </tr>\n",
       "  </thead>\n",
       "  <tbody>\n",
       "    <tr>\n",
       "      <th>count</th>\n",
       "      <td>3283.00</td>\n",
       "      <td>2787.00</td>\n",
       "      <td>4062.00</td>\n",
       "      <td>2970.00</td>\n",
       "    </tr>\n",
       "    <tr>\n",
       "      <th>mean</th>\n",
       "      <td>68.30</td>\n",
       "      <td>7312085.21</td>\n",
       "      <td>2.66</td>\n",
       "      <td>2.78</td>\n",
       "    </tr>\n",
       "    <tr>\n",
       "      <th>std</th>\n",
       "      <td>22.61</td>\n",
       "      <td>2227539.35</td>\n",
       "      <td>1.19</td>\n",
       "      <td>0.18</td>\n",
       "    </tr>\n",
       "    <tr>\n",
       "      <th>min</th>\n",
       "      <td>12.00</td>\n",
       "      <td>1600000.00</td>\n",
       "      <td>0.00</td>\n",
       "      <td>2.40</td>\n",
       "    </tr>\n",
       "    <tr>\n",
       "      <th>25%</th>\n",
       "      <td>50.00</td>\n",
       "      <td>5660000.00</td>\n",
       "      <td>2.00</td>\n",
       "      <td>2.60</td>\n",
       "    </tr>\n",
       "    <tr>\n",
       "      <th>50%</th>\n",
       "      <td>67.60</td>\n",
       "      <td>7200000.00</td>\n",
       "      <td>3.00</td>\n",
       "      <td>2.75</td>\n",
       "    </tr>\n",
       "    <tr>\n",
       "      <th>75%</th>\n",
       "      <td>85.40</td>\n",
       "      <td>8990000.00</td>\n",
       "      <td>3.00</td>\n",
       "      <td>3.00</td>\n",
       "    </tr>\n",
       "    <tr>\n",
       "      <th>max</th>\n",
       "      <td>114.60</td>\n",
       "      <td>11900000.00</td>\n",
       "      <td>6.00</td>\n",
       "      <td>3.05</td>\n",
       "    </tr>\n",
       "  </tbody>\n",
       "</table>\n",
       "</div>"
      ],
      "text/plain": [
       "       total_area  last_price   rooms  ceiling_height\n",
       "count     3283.00     2787.00 4062.00         2970.00\n",
       "mean        68.30  7312085.21    2.66            2.78\n",
       "std         22.61  2227539.35    1.19            0.18\n",
       "min         12.00  1600000.00    0.00            2.40\n",
       "25%         50.00  5660000.00    2.00            2.60\n",
       "50%         67.60  7200000.00    3.00            2.75\n",
       "75%         85.40  8990000.00    3.00            3.00\n",
       "max        114.60 11900000.00    6.00            3.05"
      ]
     },
     "execution_count": 59,
     "metadata": {},
     "output_type": "execute_result"
    }
   ],
   "source": [
    "columns_list = ['total_area', 'last_price', 'rooms', 'ceiling_height']\n",
    "df_sp_center[columns_list].describe()"
   ]
  },
  {
   "cell_type": "code",
   "execution_count": 60,
   "id": "a6b5b0ea",
   "metadata": {},
   "outputs": [
    {
     "data": {
      "image/png": "[encoded data removed]",
      "text/plain": [
       "<Figure size 1080x648 with 4 Axes>"
      ]
     },
     "metadata": {},
     "output_type": "display_data"
    }
   ],
   "source": [
    "fig, axes = plt.subplots(nrows=2, ncols=2, figsize=(200, 100))\n",
    "ax = df_sp_center.plot(\n",
    "    y='total_area', kind='hist', bins=30, \n",
    "    ax=axes[0, 0], figsize=(15, 9), ec='black', \n",
    "    legend=False, title='Гистограмма распределения общей площади в центре Санкт-Петербурга'\n",
    ")\n",
    "ax.set_xlabel('Общая площадь, м2')\n",
    "ax.set_ylabel('Количество квартир, шт')\n",
    "\n",
    "ax = df_sp_center.plot(\n",
    "    y='last_price', kind='hist', bins=30, \n",
    "    ax=axes[0, 1], figsize=(15, 9), ec='black', \n",
    "    legend=False, title='Гистограмма распределения стоимости в центре Санкт-Петербурга'\n",
    ")\n",
    "ax.set_xlabel('Стоимость, руб')\n",
    "ax.set_ylabel('Количество квартир, шт')\n",
    "\n",
    "ax = df_sp_center.plot(\n",
    "    y='rooms', kind='hist', bins=30, range=(1, 10), \n",
    "    ax=axes[1, 0], figsize=(15, 9), ec='black', xticks=range(0, 10, 1), \n",
    "    legend=False, title='Гистограмма распределения этажа в центре Санкт-Петербурга'\n",
    ")\n",
    "ax.set_xlabel('Этаж расположения')\n",
    "ax.set_ylabel('Количество квартир, шт')\n",
    "\n",
    "ax = df_sp_center.plot(\n",
    "    y='ceiling_height', kind='hist', bins=30, range=(2, 4), \n",
    "    ax=axes[1, 1], figsize=(15, 9), ec='black', \n",
    "    legend=False, title='Гистограмма распределения высоты потолка в центре Санкт-Петербурга'\n",
    ")\n",
    "ax.set_xlabel('Высота потолка, м')\n",
    "ax.set_ylabel('Количество квартир, шт');"
   ]
  },
  {
   "cell_type": "markdown",
   "id": "e196b0fc",
   "metadata": {},
   "source": [
    "**Выводы:**\n",
    "1. Среднее и медианное значения площади жилья в центре Санкт-Петербурга составляют *68.3 м2* и *67.6 м2*, соответственно. Основная масса квартир сосредоточена в диапазоне *40-100 м2*, что соответствует 2-4-комнатным квартирам.\n",
    "2. Среднее и медианное значения цены составляют *7.3 млн. руб* и *7.2 млн. руб*, соответственно. Опираясь на гистограммы распределения значений, можно заметить значительную закономерность между площадью и стоимостью квартиры. \n",
    "3. Основная масса квартир для продажи, *2-3-комнатные*, однако также присутствует значительное количество *1- и 4-комнатных*. \n",
    "4. Основная масса квартир с высотой потолка *2.75 м*, что в своем большинстве соответствует типовым панельным многоэтажным домам. Однако также много квартир с высотой потолка *3 м*, что является характеристикой домов построенных в \"сталинские\" времена."
   ]
  },
  {
   "cell_type": "markdown",
   "id": "34f2cb69",
   "metadata": {},
   "source": [
    "#### Определение факторов больше всего влияющих на стоимость квартиры"
   ]
  },
  {
   "cell_type": "code",
   "execution_count": 61,
   "id": "6f7e4073",
   "metadata": {},
   "outputs": [
    {
     "data": {
      "image/png": "[encoded data removed]",
      "text/plain": [
       "<Figure size 720x720 with 2 Axes>"
      ]
     },
     "metadata": {},
     "output_type": "display_data"
    }
   ],
   "source": [
    "plt.figure(figsize=(10, 10))\n",
    "sns.heatmap(\n",
    "    df_sp_center[['last_price', 'total_area', 'rooms', 'city_center_nearest', \n",
    "        'living_area', 'kitchen_area', 'floor', 'year_exposition', 'month_exposition',\n",
    "       'day_exposition']].corr(), cmap='coolwarm', annot=True, fmt='.2f', annot_kws={'size':12}\n",
    ");"
   ]
  },
  {
   "cell_type": "code",
   "execution_count": 62,
   "id": "b86d8529",
   "metadata": {},
   "outputs": [
    {
     "data": {
      "image/png": "[encoded data removed]",
      "text/plain": [
       "<Figure size 72x576 with 2 Axes>"
      ]
     },
     "metadata": {},
     "output_type": "display_data"
    }
   ],
   "source": [
    "plt.figure(figsize=(1,8))\n",
    "sns.heatmap(\n",
    "    df_sp_center.corr()[['last_price']].\n",
    "    sort_values(by='last_price', ascending=False), \n",
    "    cmap='coolwarm', annot=True, fmt='.2f', annot_kws={'size':12}\n",
    ");"
   ]
  },
  {
   "cell_type": "code",
   "execution_count": 63,
   "id": "0ba900cf",
   "metadata": {},
   "outputs": [
    {
     "data": {
      "image/png": "[encoded data removed]",
      "text/plain": [
       "<Figure size 1080x648 with 4 Axes>"
      ]
     },
     "metadata": {},
     "output_type": "display_data"
    }
   ],
   "source": [
    "fig, axes = plt.subplots(nrows=2, ncols=2, figsize=(250, 150))\n",
    "ax = df_sp_center.pivot_table(\n",
    "    index='month_exposition', values='square_meter_price', aggfunc='median').sort_values(\n",
    "    'square_meter_price').plot(\n",
    "    kind='bar', figsize=(15, 9), ec='black', ax=axes[0, 0], legend=False, rot='0', \n",
    "    title='Зависимость цены квадратного метра от месяца'\n",
    ")\n",
    "ax.set_xlabel('Месяц')\n",
    "ax.set_ylabel('Цена квадратного метра, руб')\n",
    "\n",
    "ax = df_sp_center.pivot_table(\n",
    "    index='year_exposition', values='square_meter_price', aggfunc='median').sort_values(\n",
    "    'square_meter_price').plot(\n",
    "    kind='bar', figsize=(15, 9), ec='black', ax=axes[0, 1], legend=False, rot='0',\n",
    "    title='Зависимость цены квадратного метра от года'\n",
    ")\n",
    "ax.set_xlabel('Год')\n",
    "ax.set_ylabel('Цена квадратного метра, руб')\n",
    "\n",
    "ax = df_sp_center.pivot_table(\n",
    "    index='day_exposition', values='square_meter_price', aggfunc='median').sort_values(\n",
    "    'square_meter_price').plot(\n",
    "    kind='bar', figsize=(15, 9), ec='black', ax=axes[1, 0], legend=False, rot='0',\n",
    "    title='Зависимость цены квадратного метра от дня недели'\n",
    ")\n",
    "ax.set_xlabel('День недели')\n",
    "ax.set_ylabel('Цена квадратного метра, руб')\n",
    "\n",
    "ax = df_sp_center.pivot_table(\n",
    "    index='floor_category', values='square_meter_price', aggfunc='median').sort_values(\n",
    "    'square_meter_price').plot(\n",
    "    kind='bar', figsize=(15, 9), ec='black', ax=axes[1, 1], legend=False, rot='0',\n",
    "    title='Зависимость цены квадратного метра от этажа расположения'\n",
    ")\n",
    "ax.set_xlabel('Этаж расположения')\n",
    "ax.set_ylabel('Цена квадратного метра, руб');"
   ]
  },
  {
   "cell_type": "markdown",
   "id": "018bb931",
   "metadata": {},
   "source": [
    "**Выводы:**\n",
    "1. Цена имеет высокую положительную корреляцию с общей площадью, среднюю положительную с жилой площадью и площадью кухни, а также числом комнат. Так как три последние переменные являются зависимыми от первой, можно сказать, что в большей своей части цена взаимосвязана с площадью жилой недвижимости.\n",
    "2. Цена имеет слабую отрицательную корреляцию с удаленностью от центра.\n",
    "3. Опираясь на имеющиеся данные можно заметить, что после *2014 года* произошел спад цен на жилую недвижимость. Три года рынок находился в стагнации, вышел из которой в *2018 году*.\n",
    "4. Можно заметить, что стоимость квартир выставленных на сервис по продаже в *субботу* и *воскресенье* немного выше. Также есть зависимость стоимости относительно месяца: в начале зимы и лета стоимость падает. Пик же приходится на *март*.\n",
    "5. Из графика зависимости цены квадратного метра от этажа расположения можно заметить, что *первый* и *последний* этаж негативно сказываются на конечной стоимости."
   ]
  },
  {
   "cell_type": "markdown",
   "id": "aca1d942",
   "metadata": {},
   "source": [
    "#### Результаты"
   ]
  },
  {
   "cell_type": "markdown",
   "id": "f3fee0a8",
   "metadata": {},
   "source": [
    "Сравнивая полученные результаты по всем данным и в разрезе центра города Санкт-Петербург можно заметить следующее:\n",
    "1. Цена жилой недвижимости в центре Санкт-Петербурга выше, чем в общем по городу и соседним населенным пунктам. Это связано как с, непосредственно, расположение квартир, так и с их площадью. В центре города они, в основной своей массе, больше, с большим количеством комнат.\n",
    "2. В отличие от остальной части, в центре Санкт-Петербурга сохранилось немалое количество домов \"сталинской\" эпохи, для которых характерны высокие потолки.\n",
    "3. Цены в центре города также подчиняются веяниям рынка, как и по всему городу и соседним населенным пунктам. Спад цен после 2014 года, стагнация и последующий рост.\n"
   ]
  },
  {
   "cell_type": "markdown",
   "id": "d1d35230",
   "metadata": {},
   "source": [
    "## Общий вывод"
   ]
  },
  {
   "cell_type": "markdown",
   "id": "0144107a",
   "metadata": {},
   "source": [
    "Во время проведения исследования было обнаружено, что многим авторам объявлений о продаже жилой недвижимости свойственно пропускать ввод данных в некоторые поля, которые они считают незначительными, либо не обладают достаточной информацией для их заполнения. Также было обнаружено отсутствие многих значений признаков полученых автоматически на основе картографических данных, что скорее всего связанно с алгоритмом поиска (определенное значение константы — радиус поиска, за пределами которого поиск не происходит).\n",
    "\n",
    "С целью исключения факторов снижающих качество данных, была проведена обработка противоречивых значений, восстановление и заполнение пропусков, удаление аномальных значений, что в итоге позволило подойти к анализу и получению ответов на целевые вопросы.\n",
    "\n",
    "Опираясь на имеющиеся данные можно проанализировать рынок недвижимости в ретроспективе. Так, заметно, что после *2014* года произошел спад цен на квартиры. Три года рынок находился в стагнации, вышел из которой в *2018* году и на период *2019* года, рост цен неуклонно продолжается.\n",
    "\n",
    "Подходя к целевым вопросам, можно сказать, что существует отрицательная взаимосвязь между ценой жилой недвижимости и удаленностью от центра, коэффициент корреляции Пирсона состаляет *-0,35*. Однако основным фактором, определяющим конечную стоимость, является общая площадь, которая значимо влияет на цену квадратного метра, как в центре Санкт-Петербурга с коэффициентом корреляции *0,71*, так и за его пределами — *0,70*. Также исследование показало, что расположение квартиры на первом и последнем этаже негативно сказываются на конечной стоимости."
   ]
  }
 ],
 "metadata": {
  "ExecuteTimeLog": [
   {
    "duration": 1502,
    "start_time": "2021-10-06T17:03:10.539Z"
   },
   {
    "duration": 267,
    "start_time": "2021-10-06T17:03:12.043Z"
   },
   {
    "duration": 8,
    "start_time": "2021-10-06T17:03:12.313Z"
   },
   {
    "duration": 8,
    "start_time": "2021-10-06T17:03:12.324Z"
   },
   {
    "duration": 16,
    "start_time": "2021-10-06T17:03:12.334Z"
   },
   {
    "duration": 14,
    "start_time": "2021-10-06T17:03:12.352Z"
   },
   {
    "duration": 14,
    "start_time": "2021-10-06T17:03:12.369Z"
   },
   {
    "duration": 57,
    "start_time": "2021-10-06T17:03:12.387Z"
   },
   {
    "duration": 39,
    "start_time": "2021-10-06T17:03:12.447Z"
   },
   {
    "duration": 62,
    "start_time": "2021-10-06T17:03:12.489Z"
   },
   {
    "duration": 418,
    "start_time": "2021-10-06T17:03:12.554Z"
   },
   {
    "duration": 670,
    "start_time": "2021-10-06T17:03:12.307Z"
   },
   {
    "duration": 662,
    "start_time": "2021-10-06T17:03:12.317Z"
   },
   {
    "duration": 651,
    "start_time": "2021-10-06T17:03:12.329Z"
   },
   {
    "duration": 645,
    "start_time": "2021-10-06T17:03:12.336Z"
   },
   {
    "duration": 638,
    "start_time": "2021-10-06T17:03:12.345Z"
   },
   {
    "duration": 634,
    "start_time": "2021-10-06T17:03:12.350Z"
   },
   {
    "duration": 629,
    "start_time": "2021-10-06T17:03:12.357Z"
   },
   {
    "duration": 622,
    "start_time": "2021-10-06T17:03:12.365Z"
   },
   {
    "duration": 603,
    "start_time": "2021-10-06T17:03:12.386Z"
   },
   {
    "duration": 596,
    "start_time": "2021-10-06T17:03:12.394Z"
   },
   {
    "duration": 590,
    "start_time": "2021-10-06T17:03:12.401Z"
   },
   {
    "duration": 585,
    "start_time": "2021-10-06T17:03:12.408Z"
   },
   {
    "duration": 579,
    "start_time": "2021-10-06T17:03:12.415Z"
   },
   {
    "duration": 572,
    "start_time": "2021-10-06T17:03:12.424Z"
   },
   {
    "duration": 564,
    "start_time": "2021-10-06T17:03:12.433Z"
   },
   {
    "duration": 562,
    "start_time": "2021-10-06T17:03:12.437Z"
   },
   {
    "duration": 558,
    "start_time": "2021-10-06T17:03:12.442Z"
   },
   {
    "duration": 553,
    "start_time": "2021-10-06T17:03:12.448Z"
   },
   {
    "duration": 550,
    "start_time": "2021-10-06T17:03:12.452Z"
   },
   {
    "duration": 548,
    "start_time": "2021-10-06T17:03:12.456Z"
   },
   {
    "duration": 544,
    "start_time": "2021-10-06T17:03:12.462Z"
   },
   {
    "duration": 538,
    "start_time": "2021-10-06T17:03:12.469Z"
   },
   {
    "duration": 473,
    "start_time": "2021-10-06T17:03:12.535Z"
   },
   {
    "duration": 468,
    "start_time": "2021-10-06T17:03:12.541Z"
   },
   {
    "duration": 465,
    "start_time": "2021-10-06T17:03:12.546Z"
   },
   {
    "duration": 473,
    "start_time": "2021-10-06T17:03:12.549Z"
   },
   {
    "duration": 469,
    "start_time": "2021-10-06T17:03:12.554Z"
   },
   {
    "duration": 466,
    "start_time": "2021-10-06T17:03:12.559Z"
   },
   {
    "duration": 460,
    "start_time": "2021-10-06T17:03:12.566Z"
   },
   {
    "duration": 457,
    "start_time": "2021-10-06T17:03:12.570Z"
   },
   {
    "duration": 438,
    "start_time": "2021-10-06T17:03:12.591Z"
   },
   {
    "duration": 436,
    "start_time": "2021-10-06T17:03:12.594Z"
   },
   {
    "duration": 430,
    "start_time": "2021-10-06T17:03:12.602Z"
   },
   {
    "duration": 426,
    "start_time": "2021-10-06T17:03:12.607Z"
   },
   {
    "duration": 422,
    "start_time": "2021-10-06T17:03:12.613Z"
   },
   {
    "duration": 418,
    "start_time": "2021-10-06T17:03:12.618Z"
   },
   {
    "duration": 372,
    "start_time": "2021-10-06T17:03:12.665Z"
   },
   {
    "duration": 325,
    "start_time": "2021-10-06T17:03:12.714Z"
   },
   {
    "duration": 318,
    "start_time": "2021-10-06T17:03:12.722Z"
   },
   {
    "duration": 315,
    "start_time": "2021-10-06T17:03:12.726Z"
   },
   {
    "duration": 313,
    "start_time": "2021-10-06T17:03:12.730Z"
   },
   {
    "duration": 310,
    "start_time": "2021-10-06T17:03:12.734Z"
   },
   {
    "duration": 308,
    "start_time": "2021-10-06T17:03:12.737Z"
   },
   {
    "duration": 302,
    "start_time": "2021-10-06T17:03:12.745Z"
   },
   {
    "duration": 1098,
    "start_time": "2021-10-07T09:57:29.901Z"
   },
   {
    "duration": 302,
    "start_time": "2021-10-07T09:57:31.001Z"
   },
   {
    "duration": 6,
    "start_time": "2021-10-07T09:57:31.306Z"
   },
   {
    "duration": 24,
    "start_time": "2021-10-07T09:57:31.315Z"
   },
   {
    "duration": 12,
    "start_time": "2021-10-07T09:57:31.341Z"
   },
   {
    "duration": 13,
    "start_time": "2021-10-07T09:57:31.355Z"
   },
   {
    "duration": 14,
    "start_time": "2021-10-07T09:57:31.370Z"
   },
   {
    "duration": 23,
    "start_time": "2021-10-07T09:57:31.388Z"
   },
   {
    "duration": 47,
    "start_time": "2021-10-07T09:57:31.413Z"
   },
   {
    "duration": 26,
    "start_time": "2021-10-07T09:57:31.462Z"
   },
   {
    "duration": 319,
    "start_time": "2021-10-07T09:57:31.490Z"
   },
   {
    "duration": 421,
    "start_time": "2021-10-07T09:57:31.391Z"
   },
   {
    "duration": 418,
    "start_time": "2021-10-07T09:57:31.395Z"
   },
   {
    "duration": 379,
    "start_time": "2021-10-07T09:57:31.435Z"
   },
   {
    "duration": 376,
    "start_time": "2021-10-07T09:57:31.439Z"
   },
   {
    "duration": 374,
    "start_time": "2021-10-07T09:57:31.442Z"
   },
   {
    "duration": 367,
    "start_time": "2021-10-07T09:57:31.450Z"
   },
   {
    "duration": 359,
    "start_time": "2021-10-07T09:57:31.460Z"
   },
   {
    "duration": 356,
    "start_time": "2021-10-07T09:57:31.463Z"
   },
   {
    "duration": 352,
    "start_time": "2021-10-07T09:57:31.468Z"
   },
   {
    "duration": 343,
    "start_time": "2021-10-07T09:57:31.478Z"
   },
   {
    "duration": 340,
    "start_time": "2021-10-07T09:57:31.482Z"
   },
   {
    "duration": 330,
    "start_time": "2021-10-07T09:57:31.493Z"
   },
   {
    "duration": 328,
    "start_time": "2021-10-07T09:57:31.496Z"
   },
   {
    "duration": 324,
    "start_time": "2021-10-07T09:57:31.501Z"
   },
   {
    "duration": 314,
    "start_time": "2021-10-07T09:57:31.512Z"
   },
   {
    "duration": 309,
    "start_time": "2021-10-07T09:57:31.518Z"
   },
   {
    "duration": 300,
    "start_time": "2021-10-07T09:57:31.528Z"
   },
   {
    "duration": 298,
    "start_time": "2021-10-07T09:57:31.531Z"
   },
   {
    "duration": 288,
    "start_time": "2021-10-07T09:57:31.542Z"
   },
   {
    "duration": 285,
    "start_time": "2021-10-07T09:57:31.546Z"
   },
   {
    "duration": 283,
    "start_time": "2021-10-07T09:57:31.549Z"
   },
   {
    "duration": 275,
    "start_time": "2021-10-07T09:57:31.558Z"
   },
   {
    "duration": 272,
    "start_time": "2021-10-07T09:57:31.562Z"
   },
   {
    "duration": 268,
    "start_time": "2021-10-07T09:57:31.567Z"
   },
   {
    "duration": 252,
    "start_time": "2021-10-07T09:57:31.585Z"
   },
   {
    "duration": 238,
    "start_time": "2021-10-07T09:57:31.600Z"
   },
   {
    "duration": 226,
    "start_time": "2021-10-07T09:57:31.613Z"
   },
   {
    "duration": 222,
    "start_time": "2021-10-07T09:57:31.618Z"
   },
   {
    "duration": 212,
    "start_time": "2021-10-07T09:57:31.629Z"
   },
   {
    "duration": 207,
    "start_time": "2021-10-07T09:57:31.634Z"
   },
   {
    "duration": 203,
    "start_time": "2021-10-07T09:57:31.639Z"
   },
   {
    "duration": 200,
    "start_time": "2021-10-07T09:57:31.643Z"
   },
   {
    "duration": 197,
    "start_time": "2021-10-07T09:57:31.647Z"
   },
   {
    "duration": 193,
    "start_time": "2021-10-07T09:57:31.652Z"
   },
   {
    "duration": 190,
    "start_time": "2021-10-07T09:57:31.656Z"
   },
   {
    "duration": 187,
    "start_time": "2021-10-07T09:57:31.660Z"
   },
   {
    "duration": 184,
    "start_time": "2021-10-07T09:57:31.664Z"
   },
   {
    "duration": 182,
    "start_time": "2021-10-07T09:57:31.667Z"
   },
   {
    "duration": 178,
    "start_time": "2021-10-07T09:57:31.671Z"
   },
   {
    "duration": 175,
    "start_time": "2021-10-07T09:57:31.675Z"
   },
   {
    "duration": 171,
    "start_time": "2021-10-07T09:57:31.680Z"
   },
   {
    "duration": 168,
    "start_time": "2021-10-07T09:57:31.684Z"
   },
   {
    "duration": 164,
    "start_time": "2021-10-07T09:57:31.688Z"
   },
   {
    "duration": 161,
    "start_time": "2021-10-07T09:57:31.692Z"
   },
   {
    "duration": 228,
    "start_time": "2021-10-07T09:57:41.985Z"
   },
   {
    "duration": 373,
    "start_time": "2021-10-07T09:57:41.843Z"
   },
   {
    "duration": 371,
    "start_time": "2021-10-07T09:57:41.846Z"
   },
   {
    "duration": 368,
    "start_time": "2021-10-07T09:57:41.850Z"
   },
   {
    "duration": 367,
    "start_time": "2021-10-07T09:57:41.852Z"
   },
   {
    "duration": 364,
    "start_time": "2021-10-07T09:57:41.856Z"
   },
   {
    "duration": 362,
    "start_time": "2021-10-07T09:57:41.859Z"
   },
   {
    "duration": 359,
    "start_time": "2021-10-07T09:57:41.863Z"
   },
   {
    "duration": 357,
    "start_time": "2021-10-07T09:57:41.866Z"
   },
   {
    "duration": 354,
    "start_time": "2021-10-07T09:57:41.870Z"
   },
   {
    "duration": 352,
    "start_time": "2021-10-07T09:57:41.873Z"
   },
   {
    "duration": 350,
    "start_time": "2021-10-07T09:57:41.876Z"
   },
   {
    "duration": 348,
    "start_time": "2021-10-07T09:57:41.879Z"
   },
   {
    "duration": 344,
    "start_time": "2021-10-07T09:57:41.883Z"
   },
   {
    "duration": 342,
    "start_time": "2021-10-07T09:57:41.886Z"
   },
   {
    "duration": 340,
    "start_time": "2021-10-07T09:57:41.889Z"
   },
   {
    "duration": 338,
    "start_time": "2021-10-07T09:57:41.892Z"
   },
   {
    "duration": 335,
    "start_time": "2021-10-07T09:57:41.896Z"
   },
   {
    "duration": 332,
    "start_time": "2021-10-07T09:57:41.900Z"
   },
   {
    "duration": 329,
    "start_time": "2021-10-07T09:57:41.904Z"
   },
   {
    "duration": 327,
    "start_time": "2021-10-07T09:57:41.907Z"
   },
   {
    "duration": 318,
    "start_time": "2021-10-07T09:57:41.917Z"
   },
   {
    "duration": 316,
    "start_time": "2021-10-07T09:57:41.920Z"
   },
   {
    "duration": 314,
    "start_time": "2021-10-07T09:57:41.923Z"
   },
   {
    "duration": 311,
    "start_time": "2021-10-07T09:57:41.927Z"
   },
   {
    "duration": 307,
    "start_time": "2021-10-07T09:57:41.932Z"
   },
   {
    "duration": 304,
    "start_time": "2021-10-07T09:57:41.936Z"
   },
   {
    "duration": 302,
    "start_time": "2021-10-07T09:57:41.939Z"
   },
   {
    "duration": 300,
    "start_time": "2021-10-07T09:57:41.942Z"
   },
   {
    "duration": 298,
    "start_time": "2021-10-07T09:57:41.945Z"
   },
   {
    "duration": 296,
    "start_time": "2021-10-07T09:57:41.948Z"
   },
   {
    "duration": 293,
    "start_time": "2021-10-07T09:57:41.952Z"
   },
   {
    "duration": 291,
    "start_time": "2021-10-07T09:57:41.954Z"
   },
   {
    "duration": 288,
    "start_time": "2021-10-07T09:57:41.958Z"
   },
   {
    "duration": 286,
    "start_time": "2021-10-07T09:57:41.961Z"
   },
   {
    "duration": 284,
    "start_time": "2021-10-07T09:57:41.964Z"
   },
   {
    "duration": 281,
    "start_time": "2021-10-07T09:57:41.968Z"
   },
   {
    "duration": 279,
    "start_time": "2021-10-07T09:57:41.971Z"
   },
   {
    "duration": 277,
    "start_time": "2021-10-07T09:57:41.974Z"
   },
   {
    "duration": 275,
    "start_time": "2021-10-07T09:57:41.977Z"
   },
   {
    "duration": 271,
    "start_time": "2021-10-07T09:57:41.982Z"
   },
   {
    "duration": 269,
    "start_time": "2021-10-07T09:57:41.985Z"
   },
   {
    "duration": 267,
    "start_time": "2021-10-07T09:57:41.988Z"
   },
   {
    "duration": 264,
    "start_time": "2021-10-07T09:57:41.992Z"
   },
   {
    "duration": 69,
    "start_time": "2021-10-07T09:58:42.149Z"
   },
   {
    "duration": 4,
    "start_time": "2021-10-07T09:58:42.529Z"
   },
   {
    "duration": 7,
    "start_time": "2021-10-07T09:58:43.981Z"
   },
   {
    "duration": 19,
    "start_time": "2021-10-07T09:58:44.510Z"
   },
   {
    "duration": 10,
    "start_time": "2021-10-07T09:58:47.753Z"
   },
   {
    "duration": 26,
    "start_time": "2021-10-07T09:58:47.765Z"
   },
   {
    "duration": 25,
    "start_time": "2021-10-07T09:58:47.792Z"
   },
   {
    "duration": 87,
    "start_time": "2021-10-07T09:58:47.819Z"
   },
   {
    "duration": 53,
    "start_time": "2021-10-07T09:58:47.907Z"
   },
   {
    "duration": 5,
    "start_time": "2021-10-07T09:58:47.961Z"
   },
   {
    "duration": 13,
    "start_time": "2021-10-07T09:58:47.967Z"
   },
   {
    "duration": 41,
    "start_time": "2021-10-07T09:58:47.982Z"
   },
   {
    "duration": 10,
    "start_time": "2021-10-07T09:58:48.025Z"
   },
   {
    "duration": 10,
    "start_time": "2021-10-07T09:58:48.037Z"
   },
   {
    "duration": 22,
    "start_time": "2021-10-07T09:58:48.048Z"
   },
   {
    "duration": 9,
    "start_time": "2021-10-07T09:58:48.072Z"
   },
   {
    "duration": 2148,
    "start_time": "2021-10-07T09:58:48.083Z"
   },
   {
    "duration": 4,
    "start_time": "2021-10-07T09:58:50.233Z"
   },
   {
    "duration": 13,
    "start_time": "2021-10-07T09:58:50.244Z"
   },
   {
    "duration": 14,
    "start_time": "2021-10-07T09:58:50.258Z"
   },
   {
    "duration": 11,
    "start_time": "2021-10-07T09:58:50.274Z"
   },
   {
    "duration": 4,
    "start_time": "2021-10-07T09:58:50.287Z"
   },
   {
    "duration": 52,
    "start_time": "2021-10-07T09:58:50.293Z"
   },
   {
    "duration": 34,
    "start_time": "2021-10-07T09:58:50.347Z"
   },
   {
    "duration": 7,
    "start_time": "2021-10-07T09:58:50.383Z"
   },
   {
    "duration": 11,
    "start_time": "2021-10-07T09:58:50.392Z"
   },
   {
    "duration": 43,
    "start_time": "2021-10-07T09:58:50.406Z"
   },
   {
    "duration": 8,
    "start_time": "2021-10-07T09:58:50.451Z"
   },
   {
    "duration": 16,
    "start_time": "2021-10-07T09:58:50.460Z"
   },
   {
    "duration": 478,
    "start_time": "2021-10-07T09:58:50.477Z"
   },
   {
    "duration": 5,
    "start_time": "2021-10-07T09:58:50.956Z"
   },
   {
    "duration": 21,
    "start_time": "2021-10-07T09:58:50.963Z"
   },
   {
    "duration": 23,
    "start_time": "2021-10-07T09:58:50.986Z"
   },
   {
    "duration": 1650,
    "start_time": "2021-10-07T09:58:51.011Z"
   },
   {
    "duration": 9,
    "start_time": "2021-10-07T09:58:52.663Z"
   },
   {
    "duration": 459,
    "start_time": "2021-10-07T09:58:52.674Z"
   },
   {
    "duration": 188,
    "start_time": "2021-10-07T09:58:53.135Z"
   },
   {
    "duration": 432,
    "start_time": "2021-10-07T09:58:53.324Z"
   },
   {
    "duration": 6,
    "start_time": "2021-10-07T09:58:53.757Z"
   },
   {
    "duration": 90,
    "start_time": "2021-10-07T09:58:53.765Z"
   },
   {
    "duration": 76,
    "start_time": "2021-10-07T09:58:53.857Z"
   },
   {
    "duration": 3298,
    "start_time": "2021-10-07T09:58:53.935Z"
   },
   {
    "duration": 596,
    "start_time": "2021-10-07T09:58:57.234Z"
   },
   {
    "duration": 766,
    "start_time": "2021-10-07T09:58:57.832Z"
   },
   {
    "duration": 21,
    "start_time": "2021-10-07T09:58:58.600Z"
   },
   {
    "duration": 332,
    "start_time": "2021-10-07T09:58:58.623Z"
   },
   {
    "duration": 10,
    "start_time": "2021-10-07T09:58:58.958Z"
   },
   {
    "duration": 448,
    "start_time": "2021-10-07T09:58:58.970Z"
   },
   {
    "duration": 8,
    "start_time": "2021-10-07T09:58:59.420Z"
   },
   {
    "duration": 34,
    "start_time": "2021-10-07T09:58:59.430Z"
   },
   {
    "duration": 1410,
    "start_time": "2021-10-07T09:58:59.466Z"
   },
   {
    "duration": 3207,
    "start_time": "2021-10-07T09:59:00.879Z"
   },
   {
    "duration": 654,
    "start_time": "2021-10-07T09:59:04.087Z"
   },
   {
    "duration": 800,
    "start_time": "2021-10-07T09:59:04.744Z"
   }
  ],
  "kernelspec": {
   "display_name": "Python 3",
   "language": "python",
   "name": "python3"
  },
  "language_info": {
   "codemirror_mode": {
    "name": "ipython",
    "version": 3
   },
   "file_extension": ".py",
   "mimetype": "text/x-python",
   "name": "python",
   "nbconvert_exporter": "python",
   "pygments_lexer": "ipython3",
   "version": "3.8.8"
  },
  "toc": {
   "base_numbering": 1,
   "nav_menu": {},
   "number_sections": true,
   "sideBar": true,
   "skip_h1_title": true,
   "title_cell": "Содержание",
   "title_sidebar": "Contents",
   "toc_cell": true,
   "toc_position": {},
   "toc_section_display": true,
   "toc_window_display": false
  }
 },
 "nbformat": 4,
 "nbformat_minor": 5
}
